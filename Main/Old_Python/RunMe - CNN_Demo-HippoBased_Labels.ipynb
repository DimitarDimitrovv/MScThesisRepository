{
 "cells": [
  {
   "cell_type": "markdown",
   "metadata": {
    "heading_collapsed": true
   },
   "source": [
    "# StackOverflowData"
   ]
  },
  {
   "cell_type": "code",
   "execution_count": null,
   "metadata": {
    "ExecuteTime": {
     "end_time": "2019-06-03T14:00:23.754565Z",
     "start_time": "2019-06-03T14:00:23.739081Z"
    },
    "code_folding": [
     6
    ],
    "hidden": true
   },
   "outputs": [],
   "source": [
    "import numpy as np\n",
    "from collections import Counter\n",
    "from operator import itemgetter\n",
    "from sklearn import metrics\n",
    "\n",
    "\n",
    "\n",
    "# if you have labels\n",
    "\n",
    "\n",
    "'''\n",
    "    The idea of the function below (map_label) is a simplified approach to what they did in the initial paper. \n",
    "    They used the so called Hungarian method in order to optimize the labeling. The optimization is based on the\n",
    "    ground truth and the labels from the k clustering. Using the example dataset:\n",
    "    We have 20 000 items split in 20 categories, which means that a certain category has multiple items. \n",
    "    The idea of best mapping is to take all tuples from ground truth and prediction per item and count their \n",
    "    occurancies. For example (6, 18), 88), 6 being the ground truth and 18 the prediction truth. This \n",
    "    combination has occured 88 times but ((6, 3), 116) has occured 116 times, so at the end the function \n",
    "    will return 6,3 as best map.\n",
    "'''\n",
    "\n",
    "\n",
    "import munkres\n",
    "from sklearn.metrics.cluster import contingency_matrix\n",
    "def translateLabels(masterList, listToConvert):    \n",
    "    contMatrix = contingency_matrix(masterList, listToConvert)\n",
    "    labelMatcher = munkres.Munkres()\n",
    "    labelTranlater = labelMatcher.compute(contMatrix.max() - contMatrix)\n",
    "\n",
    "    uniqueLabels1 = list(set(masterList))\n",
    "    uniqueLabels2 = list(set(listToConvert))\n",
    "\n",
    "    tranlatorDict = {}\n",
    "    for thisPair in labelTranlater:\n",
    "        tranlatorDict[uniqueLabels2[thisPair[1]]] = uniqueLabels1[thisPair[0]]\n",
    "\n",
    "    return [tranlatorDict[label] for label in listToConvert]\n",
    "\n",
    "\n",
    "from munkres import Munkres\n",
    "def best_map(L1,L2):\n",
    "    #L1 should be the groundtruth labels and L2 should be the clustering labels we got\n",
    "    Label1 = np.unique(L1)\n",
    "    nClass1 = len(Label1)\n",
    "    Label2 = np.unique(L2)\n",
    "    nClass2 = len(Label2)\n",
    "    nClass = np.maximum(nClass1,nClass2)\n",
    "    G = np.zeros((nClass,nClass))\n",
    "    for i in range(nClass1):\n",
    "        ind_cla1 = L1 == Label1[i]\n",
    "        ind_cla1 = ind_cla1.astype(float)\n",
    "        for j in range(nClass2):\n",
    "            ind_cla2 = L2 == Label2[j]\n",
    "            ind_cla2 = ind_cla2.astype(float)\n",
    "            G[i,j] = np.sum(ind_cla2 * ind_cla1)\n",
    "    m = Munkres()\n",
    "    index = m.compute(-G.T)\n",
    "    index = np.array(index)\n",
    "    c = index[:,1]\n",
    "    newL2 = np.zeros(L2.shape)\n",
    "    for i in range(nClass2):\n",
    "        newL2[L2 == Label2[i]] = Label1[c[i]]\n",
    "    return newL2 \n",
    "\n",
    "\n",
    "\n",
    "def map_label(true_labels, pred_labels):\n",
    "    label_pair = list(zip(pred_labels, true_labels))\n",
    "    count = tuple(Counter(label_pair).items())  #count the appearance of each pair dict principle\n",
    "    mapping = dict()\n",
    "    n_label = len(np.unique(true_labels))\n",
    "\n",
    "    # map most likely labels from prediction to ground truth\n",
    "\n",
    "    for label in range(n_label):\n",
    "        tuples = [tup for tup in count if tup[0][0] == label]\n",
    "        likely_tuple = max(tuples, key=itemgetter(1))[0] # tuple as input and take the one which appears the most from the list\n",
    "        mapping[likely_tuple[0]] = likely_tuple[1]\n",
    "\n",
    "    pred_labels_mapped = [mapping[x] for x in pred_labels]\n",
    "    return pred_labels_mapped\n",
    "\n",
    "# if you have labels\n",
    "def cluster_quality(true_labels, pred_labels, show=True):\n",
    "    h, c, v = metrics.homogeneity_completeness_v_measure(true_labels, pred_labels)\n",
    "    nmi = metrics.normalized_mutual_info_score(true_labels, pred_labels)\n",
    "    rand = metrics.adjusted_rand_score(true_labels, pred_labels)\n",
    "    pred_labels_mapped = map_label(true_labels, pred_labels) # initial version\n",
    "    #pred_labels_mapped = best_map(true_labels, pred_labels) # 1st test - around 52,5%\n",
    "    #pred_labels_mapped = translateLabels(true_labels, pred_labels) # good results but around 49% with big deviation up to 55,8\n",
    "    acc = metrics.accuracy_score(true_labels, pred_labels_mapped)\n",
    "    '''\n",
    "    if show:\n",
    "        print(\"Homogeneity: %0.3f\" % h)\n",
    "        print(\"Completeness: %0.3f\" % c)\n",
    "        print(\"V-measure: %0.3f\" % v)\n",
    "        print(\"NMI: %0.3f\" % nmi)\n",
    "        print(\"Rand score: %0.3f\" % rand)\n",
    "        print(\"Accuracy: %0.3f\" % acc)\n",
    "        '''\n",
    "    return dict(\n",
    "        homogeneity=round(h,3),\n",
    "        completeness=round(c,3),\n",
    "        vmeasure=round(v,3),\n",
    "        nmi=round(nmi,3),\n",
    "        rand=round(rand,3),\n",
    "        accuracy=round(acc,3),\n",
    "    )\n"
   ]
  },
  {
   "cell_type": "code",
   "execution_count": null,
   "metadata": {
    "ExecuteTime": {
     "end_time": "2019-06-03T13:40:45.121607Z",
     "start_time": "2019-06-03T13:40:43.262481Z"
    },
    "hidden": true
   },
   "outputs": [],
   "source": [
    "import os\n",
    "\n",
    "from gensim.models.keyedvectors import KeyedVectors\n",
    "from keras.callbacks import ModelCheckpoint\n",
    "from keras.optimizers import Adam\n",
    "\n",
    "############################\n",
    "# Loading Data\n",
    "############################\n",
    "\n",
    "EMBEDDING_FILE = 'data/GoogleNews-vectors-negative300.bin' # word vectors\n",
    "text_path = 'data/StackOverflow.txt'# data without labels\n",
    "#text_path = 'data/blq.txt'# data without labels - Own Data\n",
    "label_path = 'data/StackOverflow_gnd.txt' # labels per row in the data file\n",
    "\n",
    "with open(text_path) as f:\n",
    "    data = [text.strip() for text in f]\n",
    "\n",
    "with open(label_path) as f:\n",
    "    target = f.readlines()\n",
    "    \n",
    "target = [int(label.rstrip('\\n')) for label in target] # the data has /n at the end of each row\n",
    "\n",
    "print(\"Total: %s short texts\" % format(len(data), \",\"))"
   ]
  },
  {
   "cell_type": "code",
   "execution_count": null,
   "metadata": {
    "ExecuteTime": {
     "end_time": "2019-06-03T13:40:47.078858Z",
     "start_time": "2019-06-03T13:40:46.419116Z"
    },
    "hidden": true
   },
   "outputs": [],
   "source": [
    "############################\n",
    "# Preprocessing\n",
    "############################\n",
    "\n",
    "from keras.preprocessing.text import Tokenizer\n",
    "from keras.preprocessing.sequence import pad_sequences\n",
    "import numpy as np\n",
    "\n",
    "tokenizer = Tokenizer(char_level=False)\n",
    "tokenizer.fit_on_texts(data)\n",
    "sequences_full = tokenizer.texts_to_sequences(data) # replace words/tokens with numbers\n",
    "\n",
    "word_index = tokenizer.word_index # get the coresponing word:number dict format\n",
    "print('Found %s unique tokens.' % len(word_index))\n",
    "MAX_NB_WORDS = len(word_index) # all words - len\n",
    "\n",
    "seq_lens = [len(s) for s in sequences_full] # get the count of words/symbols in the sequence from above\n",
    "print(\"Minumum length: %d\" % min(seq_lens))\n",
    "print(\"Average length: %d\" % np.mean(seq_lens))\n",
    "print(\"Max length: %d\" % max(seq_lens))\n",
    "MAX_SEQUENCE_LENGTH = max(seq_lens)\n",
    "\n",
    "X = pad_sequences(sequences_full, maxlen=MAX_SEQUENCE_LENGTH) # uses the len of the list and max len\n",
    "y = target # we take the target values\n",
    "\n",
    "'''\n",
    "    pad_sequences is used to ensure that all sequences in a list have the same length. By default this \n",
    "    is done by padding 0 in the beginning of each sequence until each sequence has the same \n",
    "    length as the longest sequence.\n",
    "'''"
   ]
  },
  {
   "cell_type": "code",
   "execution_count": null,
   "metadata": {
    "ExecuteTime": {
     "end_time": "2019-06-03T13:41:46.275336Z",
     "start_time": "2019-06-03T13:40:47.988284Z"
    },
    "hidden": true
   },
   "outputs": [],
   "source": [
    "############################\n",
    "# Preparing embedding matrix\n",
    "############################\n",
    "\n",
    "\n",
    "print('Preparing embedding matrix')\n",
    "word2vec = KeyedVectors.load_word2vec_format(EMBEDDING_FILE, binary=True)\n",
    "\n",
    "EMBEDDING_DIM = 300\n",
    "nb_words = min(MAX_NB_WORDS, len(word_index)) + 1\n",
    "embedding_matrix = np.zeros((nb_words, EMBEDDING_DIM)) # Init as 0's and updated if in word2vec\n",
    "for word, i in word_index.items():\n",
    "    if word in word2vec.vocab:\n",
    "        embedding_matrix[i] = word2vec.word_vec(word)\n",
    "    #else:\n",
    "        #print(word)\n",
    "print('Null word embeddings: %d' % np.sum(np.sum(embedding_matrix, axis=1) == 0))"
   ]
  },
  {
   "cell_type": "code",
   "execution_count": null,
   "metadata": {
    "ExecuteTime": {
     "end_time": "2019-06-03T13:41:54.830922Z",
     "start_time": "2019-06-03T13:41:46.324020Z"
    },
    "hidden": true
   },
   "outputs": [],
   "source": [
    "#################################################\n",
    "# Preparing target using Average embeddings (AE)\n",
    "#################################################\n",
    "Y = {}\n",
    "tfidf = tokenizer.sequences_to_matrix(sequences_full, mode='tfidf') # converting List of sequences (a sequence is a list of integer word indices).\n",
    "# TF-IDF Acc: 0,329\n",
    "binary_seq = tokenizer.sequences_to_matrix(sequences_full, mode='binary') # Acc: 0,458\n",
    "count_seq = tokenizer.sequences_to_matrix(sequences_full, mode='count') # Acc: 0,467\n",
    "frequency_seq = tokenizer.sequences_to_matrix(sequences_full, mode='freq') # Acc: 0452\n",
    "from sklearn.preprocessing import Normalizer\n",
    "normed = Normalizer().fit_transform(count_seq)\n",
    "average_embeddings = np.dot(normed, embedding_matrix)\n",
    "Y[\"ae\"] = average_embeddings\n",
    "print(\"Shape of average embedding: \", Y['ae'].shape)\n",
    "\n",
    "\n",
    "# binary Y\n",
    "from sklearn import preprocessing\n",
    "reduction_name = \"ae\"\n",
    "B = preprocessing.Binarizer().fit_transform(Y[reduction_name]) # binarizing the whole value list for ae key (which is the only key)\n",
    "\n",
    "# Last dimension in the CNN\n",
    "TARGET_DIM = B.shape[1]\n",
    "\n",
    "# Example of binarized target vector\n",
    "print(B.shape)\n",
    "print(B[1])"
   ]
  },
  {
   "cell_type": "code",
   "execution_count": null,
   "metadata": {
    "ExecuteTime": {
     "end_time": "2019-05-26T19:05:24.907100Z",
     "start_time": "2019-05-26T19:05:24.903570Z"
    },
    "hidden": true
   },
   "outputs": [],
   "source": [
    "data[1]"
   ]
  },
  {
   "cell_type": "code",
   "execution_count": null,
   "metadata": {
    "ExecuteTime": {
     "end_time": "2019-05-26T21:52:51.381367Z",
     "start_time": "2019-05-26T21:52:51.279893Z"
    },
    "hidden": true
   },
   "outputs": [],
   "source": [
    "import sys\n",
    "import numpy\n",
    "# https://docs.scipy.org/doc/numpy-1.14.0/reference/generated/numpy.set_printoptions.html\n",
    "numpy.set_printoptions(threshold=sys.maxsize)\n",
    "print(tfidf[1])"
   ]
  },
  {
   "cell_type": "code",
   "execution_count": null,
   "metadata": {
    "ExecuteTime": {
     "end_time": "2019-05-26T21:52:57.505703Z",
     "start_time": "2019-05-26T21:52:57.430125Z"
    },
    "hidden": true
   },
   "outputs": [],
   "source": [
    "print(binary_seq[1])"
   ]
  },
  {
   "cell_type": "code",
   "execution_count": null,
   "metadata": {
    "ExecuteTime": {
     "end_time": "2019-05-26T21:53:01.858512Z",
     "start_time": "2019-05-26T21:53:01.749873Z"
    },
    "hidden": true
   },
   "outputs": [],
   "source": [
    "print(count_seq[1])"
   ]
  },
  {
   "cell_type": "code",
   "execution_count": null,
   "metadata": {
    "ExecuteTime": {
     "end_time": "2019-05-26T21:53:05.465426Z",
     "start_time": "2019-05-26T21:53:05.382384Z"
    },
    "hidden": true
   },
   "outputs": [],
   "source": [
    "print(frequency_seq[1])"
   ]
  },
  {
   "cell_type": "code",
   "execution_count": null,
   "metadata": {
    "ExecuteTime": {
     "end_time": "2019-06-03T13:41:54.925847Z",
     "start_time": "2019-06-03T13:41:54.912386Z"
    },
    "code_folding": [],
    "hidden": true
   },
   "outputs": [],
   "source": [
    "###############PLAYING-GridSearch#################################\n",
    "# Playing train model\n",
    "################################################\n",
    "\n",
    "# Best accuracy for now\n",
    "\n",
    "import keras\n",
    "from keras.datasets import imdb\n",
    "from keras.preprocessing.sequence import pad_sequences\n",
    "from keras.models import Sequential, Model\n",
    "from keras.layers import Dense, Flatten, Dropout, Activation, concatenate, Input\n",
    "from keras.layers import Embedding, Conv1D, SpatialDropout1D, GlobalMaxPooling1D\n",
    "from keras.callbacks import ModelCheckpoint\n",
    "\n",
    "#https://stats.stackexchange.com/questions/240305/where-should-i-place-dropout-layers-in-a-neural-network\n",
    "# the above link has to do with dropout positioning\n",
    "\n",
    "# https://github.com/keras-team/keras/issues/7290\n",
    "# has to do with spatial dropout after embedding layer\n",
    "\n",
    "# https://towardsdatascience.com/review-tompson-cvpr15-spatial-dropout-human-pose-estimation-c7d6a5cecd8c\n",
    "# SpatialDropout again\n",
    "\n",
    "def get_model():\n",
    "    embedding_matrix_copy = embedding_matrix.copy()\n",
    "    trainable_embedding = False\n",
    "    #filters = [2,3,4]\n",
    "    filters = [3,4,5]\n",
    "    # Embedding layer\n",
    "    pretrained_embedding_layer = Embedding(\n",
    "        input_dim=nb_words,\n",
    "        output_dim=EMBEDDING_DIM,\n",
    "        weights=[embedding_matrix],\n",
    "        input_length=MAX_SEQUENCE_LENGTH,\n",
    "    )\n",
    "\n",
    "    # Input\n",
    "    sequence_input = Input(shape=(MAX_SEQUENCE_LENGTH,), dtype='int32')\n",
    "    embedded_sequences = pretrained_embedding_layer(sequence_input)\n",
    "    \n",
    "    # DropOut\n",
    "    #x = Dropout(0.2)(embedded_sequences)\n",
    "    spatial_x = SpatialDropout1D(0.1)(embedded_sequences)\n",
    "    \n",
    "    # 1st Layer\n",
    "    conv_layers = []\n",
    "    for i in filters:\n",
    "        x = Conv1D(125, i, activation='tanh', padding='same')(spatial_x)\n",
    "        x = GlobalMaxPooling1D()(x)\n",
    "        #x = Dropout(0.2)(x)\n",
    "        conv_layers.append(x)\n",
    "    merged = concatenate(conv_layers)\n",
    "    # Dense\n",
    "    x = Dense(256,activation = 'tanh')(merged)\n",
    "    \n",
    "    # DropOut\n",
    "    x = Dropout(0.1)(x)\n",
    "    \n",
    "    # Output\n",
    "    predictions = Dense(TARGET_DIM, activation='sigmoid')(x) \n",
    "    # sigmoid because we want 0,1 for one of the categories\n",
    "    \n",
    "    model = Model(sequence_input, predictions)\n",
    "\n",
    "    model.layers[1].trainable=trainable_embedding #embedding layer\n",
    "\n",
    "    #adam = Adam(lr=1e-3, beta_1=0.9, beta_2=0.999, epsilon=1e-08)\n",
    "    adam = Adam(lr=0.001, beta_1=0.9, beta_2=0.999, epsilon=1e-08, decay=0.0) #standard for keras\n",
    "    #optimizer = Adam(lr=learn_rate)\n",
    "    \n",
    "    # Loss and Optimizer\n",
    "    model.compile(loss='binary_crossentropy',\n",
    "                  optimizer=adam,\n",
    "                  metrics=['accuracy','mae'])\n",
    "    \n",
    "    # Fine-tune embeddings or not\n",
    "    model.summary()\n",
    "    \n",
    "    return model"
   ]
  },
  {
   "cell_type": "code",
   "execution_count": null,
   "metadata": {
    "ExecuteTime": {
     "end_time": "2019-05-26T19:03:37.078522Z",
     "start_time": "2019-05-26T19:03:31.893479Z"
    },
    "code_folding": [
     0
    ],
    "hidden": true
   },
   "outputs": [],
   "source": [
    "# Grid Search with best model\n",
    "# Use scikit-learn to grid search the number of neurons\n",
    "import numpy\n",
    "from sklearn.model_selection import GridSearchCV\n",
    "from keras.models import Sequential\n",
    "from keras.layers import Dense\n",
    "from keras.layers import Dropout\n",
    "from keras.wrappers.scikit_learn import KerasClassifier\n",
    "from keras.constraints import maxnorm\n",
    "# fix random seed for reproducibility\n",
    "seed = 7\n",
    "numpy.random.seed(seed)\n",
    "# create model\n",
    "model = KerasClassifier(build_fn=get_model, epochs=50, batch_size=100,verbose=0)\n",
    "\n",
    "# define the grid search parameters\n",
    "\n",
    "#activ = ['relu', 'tanh', 'sigmoid']\n",
    "#optimizers = ['Nadam','Adam']\n",
    "droupou = [0.1,0.2,0.4,0.5,0.6]\n",
    "#init_mode = ['uniform', 'lecun_uniform']\n",
    "#filters =[100,120]\n",
    "#size = [100,120,125]\n",
    "#filterme = [[3,4,5], [2,3,4]]\n",
    "#batch_size = [200]\n",
    "#epochs = [120]\n",
    "#learn_rate = [0.001, 0.01, 0.02, 0.1]\n",
    "#momentum = [0.0, 0.2, 0.4, 0.6, 0.8, 0.9]\n",
    "\n",
    "param_grid = dict(droupout = droupou)\n",
    "grid = GridSearchCV(estimator=model, param_grid=param_grid, n_jobs= -1)\n",
    "grid_result = grid.fit(X, B)\n",
    "\n",
    "# summarize results\n",
    "print(\"Best: %f using %s\" % (grid_result.best_score_, grid_result.best_params_))\n",
    "means = grid_result.cv_results_['mean_test_score']\n",
    "stds = grid_result.cv_results_['std_test_score']\n",
    "params = grid_result.cv_results_['params']\n",
    "for mean, stdev, param in zip(means, stds, params):\n",
    "    print(\"%f (%f) with: %r\" % (mean, stdev, param))"
   ]
  },
  {
   "cell_type": "code",
   "execution_count": null,
   "metadata": {
    "ExecuteTime": {
     "end_time": "2019-06-03T13:56:47.452766Z",
     "start_time": "2019-06-03T13:41:54.978265Z"
    },
    "hidden": true
   },
   "outputs": [],
   "source": [
    "# 25 epoch and 80 batch = 50.3 accuracy\n",
    "nb_epoch = 50\n",
    "checkpoint = ModelCheckpoint('models/weights.{epoch:03d}-{val_acc:.4f}.hdf5', monitor='val_acc', verbose=1, save_best_only=True, mode='auto')\n",
    "model = get_model()\n",
    "history = model.fit(X, B, validation_split=0.2,\n",
    "              epochs=nb_epoch, batch_size=100, verbose=1, shuffle=True)\n",
    "\n",
    "# create model that gives penultimate layer (предпоследно)\n",
    "input1 = model.layers[0].input\n",
    "output = model.layers[-2].output\n",
    "\n",
    "model_penultimate = Model(input1, output)\n",
    "\n",
    "# inference of penultimate layer\n",
    "H = model_penultimate.predict(X)\n",
    "print(\"Sample shape: {}\".format(H.shape))"
   ]
  },
  {
   "cell_type": "code",
   "execution_count": null,
   "metadata": {
    "ExecuteTime": {
     "end_time": "2019-06-03T13:56:47.879656Z",
     "start_time": "2019-06-03T13:56:47.536958Z"
    },
    "hidden": true
   },
   "outputs": [],
   "source": [
    "import matplotlib.pyplot as plt\n",
    "plt.title('Loss')\n",
    "plt.plot(history.history['loss'], label='train')\n",
    "plt.plot(history.history['val_loss'], label='test')\n",
    "plt.legend()\n",
    "plt.show();"
   ]
  },
  {
   "cell_type": "code",
   "execution_count": null,
   "metadata": {
    "ExecuteTime": {
     "end_time": "2019-06-03T13:56:48.228501Z",
     "start_time": "2019-06-03T13:56:47.966651Z"
    },
    "hidden": true
   },
   "outputs": [],
   "source": [
    "# summarize history for accuracy\n",
    "plt.plot(history.history['acc'])\n",
    "plt.plot(history.history['val_acc'])\n",
    "plt.title('model accuracy')\n",
    "plt.ylabel('accuracy')\n",
    "plt.xlabel('epoch')\n",
    "plt.legend(['train', 'test'], loc='upper left')\n",
    "plt.show()"
   ]
  },
  {
   "cell_type": "code",
   "execution_count": null,
   "metadata": {
    "ExecuteTime": {
     "end_time": "2019-06-03T14:00:34.354568Z",
     "start_time": "2019-06-03T14:00:31.015495Z"
    },
    "hidden": true
   },
   "outputs": [],
   "source": [
    "from sklearn.preprocessing import normalize\n",
    "from sklearn.cluster import KMeans\n",
    "\n",
    "true_labels = y\n",
    "n_clusters = len(np.unique(y))\n",
    "#n_clusters = 27 # for own data\n",
    "print(\"Number of classes: %d\" % n_clusters)\n",
    "km = KMeans(n_clusters=n_clusters, n_jobs=10)\n",
    "result = dict()\n",
    "V = normalize(H, norm='l2')\n",
    "km.fit(V)\n",
    "pred = km.labels_\n",
    "pred1 = km.cluster_centers_\n",
    "print(pred)\n",
    "a = cluster_quality(true_labels, pred)\n",
    "#np.save(\"pred.npy\", pred)\n",
    "print(a)\n"
   ]
  },
  {
   "cell_type": "markdown",
   "metadata": {
    "heading_collapsed": true
   },
   "source": [
    "# Running clusterS"
   ]
  },
  {
   "cell_type": "code",
   "execution_count": null,
   "metadata": {
    "ExecuteTime": {
     "end_time": "2019-05-26T21:49:14.314360Z",
     "start_time": "2019-05-26T21:45:21.772346Z"
    },
    "hidden": true
   },
   "outputs": [],
   "source": [
    "import warnings\n",
    "warnings.filterwarnings(\"ignore\")\n",
    "\n",
    "# clustering loop\n",
    "true_labels = y\n",
    "n_clusters = len(np.unique(y))\n",
    "#n_clusters = 27 # for own data\n",
    "#print(\"Number of classes: %d\" % n_clusters)\n",
    "km = KMeans(n_clusters=n_clusters, n_jobs=10)\n",
    "result = dict()\n",
    "V = normalize(H, norm='l2')\n",
    "df = pd.DataFrame()\n",
    "for i in range(50):\n",
    "    km.fit(V)\n",
    "    pred = km.labels_\n",
    "    pred1 = km.cluster_centers_\n",
    "    #print(pred)\n",
    "    a = cluster_quality(true_labels, pred)\n",
    "    df = df.append([a],ignore_index=True)\n",
    "   "
   ]
  },
  {
   "cell_type": "code",
   "execution_count": null,
   "metadata": {
    "ExecuteTime": {
     "end_time": "2019-05-26T21:49:15.491147Z",
     "start_time": "2019-05-26T21:49:15.480939Z"
    },
    "hidden": true
   },
   "outputs": [],
   "source": [
    "# round up this and the ones below in function to end up with a table for the paper\n",
    "dfToList = df['accuracy'].tolist()\n",
    "lenList = len(dfToList)\n",
    "sumMe = 0\n",
    "for i in dfToList:\n",
    "    sumMe += i\n",
    "df['average_acc'] = round(sumMe/lenList,3)\n",
    "df['diff_acc'] = df.apply(lambda x: (x['accuracy'] - x['average_acc']), axis=1)\n"
   ]
  },
  {
   "cell_type": "code",
   "execution_count": null,
   "metadata": {
    "ExecuteTime": {
     "end_time": "2019-05-26T20:52:06.620773Z",
     "start_time": "2019-05-26T20:52:06.595644Z"
    },
    "hidden": true
   },
   "outputs": [],
   "source": [
    "# using tfidf\n",
    "df_tfidf = df\n",
    "max_acc = df_tfidf['accuracy'].max() # 0,581\n",
    "print('Max accuracy is: {}'.format(max_acc))\n",
    "min_acc = df_tfidf['accuracy'].min() # 0.463\n",
    "print('Min accuracy is: {}'.format(min_acc))\n",
    "average_acc = df_tfidf['average_acc'].max() # 0.514\n",
    "print('Average accuracy is: {}'.format(average_acc))\n",
    "df_tfidf"
   ]
  },
  {
   "cell_type": "code",
   "execution_count": null,
   "metadata": {
    "ExecuteTime": {
     "end_time": "2019-05-26T21:12:49.039736Z",
     "start_time": "2019-05-26T21:12:49.009654Z"
    },
    "hidden": true
   },
   "outputs": [],
   "source": [
    "# using count\n",
    "df_count = df\n",
    "max_acc = df_count['accuracy'].max() # 0,581\n",
    "print('Max accuracy is: {}'.format(max_acc))\n",
    "min_acc = df_count['accuracy'].min() # 0.463\n",
    "print('Min accuracy is: {}'.format(min_acc))\n",
    "average_acc = df_count['average_acc'].max() # 0.514\n",
    "print('Average accuracy is: {}'.format(average_acc))\n",
    "df_count"
   ]
  },
  {
   "cell_type": "code",
   "execution_count": null,
   "metadata": {
    "ExecuteTime": {
     "end_time": "2019-05-26T21:30:54.962992Z",
     "start_time": "2019-05-26T21:30:54.927466Z"
    },
    "hidden": true
   },
   "outputs": [],
   "source": [
    "# using frequency\n",
    "df_freq = df\n",
    "max_acc = df_freq['accuracy'].max() # 0,581\n",
    "print('Max accuracy is: {}'.format(max_acc))\n",
    "min_acc = df_freq['accuracy'].min() # 0.463\n",
    "print('Min accuracy is: {}'.format(min_acc))\n",
    "average_acc = df_freq['average_acc'].max() # 0.514\n",
    "print('Average accuracy is: {}'.format(average_acc))\n",
    "df_freq"
   ]
  },
  {
   "cell_type": "code",
   "execution_count": null,
   "metadata": {
    "ExecuteTime": {
     "end_time": "2019-05-26T21:49:16.655310Z",
     "start_time": "2019-05-26T21:49:16.620997Z"
    },
    "hidden": true
   },
   "outputs": [],
   "source": [
    "# using binary\n",
    "df_binary = df\n",
    "max_acc = df_binary['accuracy'].max() # 0,581\n",
    "print('Max accuracy is: {}'.format(max_acc))\n",
    "min_acc = df_binary['accuracy'].min() # 0.463\n",
    "print('Min accuracy is: {}'.format(min_acc))\n",
    "average_acc = df_binary['average_acc'].max() # 0.514\n",
    "print('Average accuracy is: {}'.format(average_acc))\n",
    "df_binary"
   ]
  },
  {
   "cell_type": "markdown",
   "metadata": {
    "heading_collapsed": true
   },
   "source": [
    "# Save/Load Model "
   ]
  },
  {
   "cell_type": "code",
   "execution_count": null,
   "metadata": {
    "ExecuteTime": {
     "end_time": "2019-06-07T10:54:50.827159Z",
     "start_time": "2019-06-07T10:54:50.043204Z"
    },
    "hidden": true
   },
   "outputs": [],
   "source": [
    "from keras.models import model_from_json\n",
    "# Saving Model and weiths\n",
    "# serialize model to JSON\n",
    "model_json = model.to_json()\n",
    "with open(\"hippo_model.json\", \"w\") as json_file:\n",
    "    json_file.write(model_json)\n",
    "# serialize weights to HDF5\n",
    "model.save_weights(\"hippo_model.h5\")\n",
    "print(\"Saved model to disk\")\n",
    " \n",
    "# load json and create model\n",
    "json_file = open('hippo_model.json', 'r')\n",
    "loaded_model_json = json_file.read()\n",
    "json_file.close()\n",
    "loaded_model = model_from_json(loaded_model_json)\n",
    "# load weights into new model\n",
    "loaded_model.load_weights(\"hippo_model.h5\")\n",
    "print(\"Loaded model from disk\")\n",
    "\n",
    "# Evaluate\n",
    "\n",
    "loaded_model.compile(loss='binary_crossentropy', optimizer='rmsprop', metrics=['accuracy'])\n",
    "score = loaded_model.evaluate(X, Y, verbose=0)\n",
    "print(\"%s: %.2f%%\" % (loaded_model.metrics_names[1], score[1]*100))\n",
    "\n"
   ]
  },
  {
   "cell_type": "markdown",
   "metadata": {},
   "source": [
    "# HippoData"
   ]
  },
  {
   "cell_type": "code",
   "execution_count": 1,
   "metadata": {
    "ExecuteTime": {
     "end_time": "2019-06-16T17:16:28.509635Z",
     "start_time": "2019-06-16T17:16:27.663724Z"
    }
   },
   "outputs": [],
   "source": [
    "import numpy as np\n",
    "from collections import Counter\n",
    "from operator import itemgetter\n",
    "from sklearn import metrics\n",
    "\n",
    "\n",
    "\n",
    "# if you have labels\n",
    "\n",
    "\n",
    "'''\n",
    "    The idea of the function below (map_label) is a simplified approach to what they did in the initial paper. \n",
    "    They used the so called Hungarian method in order to optimize the labeling. The optimization is based on the\n",
    "    ground truth and the labels from the k clustering. Using the example dataset:\n",
    "    We have 20 000 items split in 20 categories, which means that a certain category has multiple items. \n",
    "    The idea of best mapping is to take all tuples from ground truth and prediction per item and count their \n",
    "    occurancies. For example (6, 18), 88), 6 being the ground truth and 18 the prediction truth. This \n",
    "    combination has occured 88 times but ((6, 3), 116) has occured 116 times, so at the end the function \n",
    "    will return 6,3 as best map.\n",
    "'''\n",
    "\n",
    "def map_label(true_labels, pred_labels):\n",
    "    label_pair = list(zip(pred_labels, true_labels))\n",
    "    count = tuple(Counter(label_pair).items())  #count the appearance of each pair dict principle\n",
    "    mapping = dict()\n",
    "    n_label = len(np.unique(true_labels))\n",
    "\n",
    "    # map most likely labels from prediction to ground truth\n",
    "\n",
    "    for label in range(n_label):\n",
    "        tuples = [tup for tup in count if tup[0][0] == label]\n",
    "        likely_tuple = max(tuples, key=itemgetter(1))[0] # tuple as input and take the one which appears the most from the list\n",
    "        mapping[likely_tuple[0]] = likely_tuple[1]\n",
    "\n",
    "    pred_labels_mapped = [mapping[x] for x in pred_labels]\n",
    "    return pred_labels_mapped\n",
    "\n",
    "# if you have labels\n",
    "def cluster_quality(true_labels, pred_labels, show=True):\n",
    "    h, c, v = metrics.homogeneity_completeness_v_measure(true_labels, pred_labels)\n",
    "    nmi = metrics.normalized_mutual_info_score(true_labels, pred_labels)\n",
    "    rand = metrics.adjusted_rand_score(true_labels, pred_labels)\n",
    "    pred_labels_mapped = map_label(true_labels, pred_labels)\n",
    "    acc = metrics.accuracy_score(true_labels, pred_labels_mapped)\n",
    "    '''\n",
    "    # Prints the scores\n",
    "    if show:\n",
    "        print(\"Homogeneity: %0.3f\" % h)\n",
    "        print(\"Completeness: %0.3f\" % c)\n",
    "        print(\"V-measure: %0.3f\" % v)\n",
    "        print(\"NMI: %0.3f\" % nmi)\n",
    "        print(\"Rand score: %0.3f\" % rand)\n",
    "        print(\"Accuracy: %0.3f\" % acc)\n",
    "        '''\n",
    "    return dict(\n",
    "        homogeneity=round(h,3),\n",
    "        completeness=round(c,3),\n",
    "        vmeasure=round(v,3),\n",
    "        nmi=round(nmi,3),\n",
    "        rand=round(rand,3),\n",
    "        accuracy=round(acc,3),\n",
    "    )\n"
   ]
  },
  {
   "cell_type": "code",
   "execution_count": 2,
   "metadata": {
    "ExecuteTime": {
     "end_time": "2019-06-16T17:16:30.628008Z",
     "start_time": "2019-06-16T17:16:28.516057Z"
    }
   },
   "outputs": [
    {
     "name": "stderr",
     "output_type": "stream",
     "text": [
      "Using TensorFlow backend.\n"
     ]
    },
    {
     "name": "stdout",
     "output_type": "stream",
     "text": [
      "Total: 20,000 short texts\n"
     ]
    }
   ],
   "source": [
    "import os\n",
    "\n",
    "from gensim.models.keyedvectors import KeyedVectors\n",
    "from keras.callbacks import ModelCheckpoint\n",
    "from keras.optimizers import Adam\n",
    "\n",
    "############################\n",
    "# Loading Data\n",
    "############################\n",
    "\n",
    "EMBEDDING_FILE = 'data/GoogleNews-vectors-negative300.bin' # word vectors\n",
    "text_path = 'data/StackOverflow.txt'# data without labels\n",
    "#text_path = 'data/data_NN.txt'# data without labels - Own Data\n",
    "#text_path = 'data/data_NN_Scrapped.txt'# data without labels - Own Data based on scrapping\n",
    "label_path = 'data/StackOverflow_gnd.txt' # labels per row in the data file\n",
    "\n",
    "with open(text_path) as f:\n",
    "    data = [text.strip() for text in f]\n",
    "\n",
    "with open(label_path) as f:\n",
    "    target = f.readlines()\n",
    "    \n",
    "target = [int(label.rstrip('\\n')) for label in target] # the data has /n at the end of each row\n",
    "\n",
    "print(\"Total: %s short texts\" % format(len(data), \",\"))"
   ]
  },
  {
   "cell_type": "code",
   "execution_count": 3,
   "metadata": {
    "ExecuteTime": {
     "end_time": "2019-06-16T17:16:31.288694Z",
     "start_time": "2019-06-16T17:16:30.643668Z"
    }
   },
   "outputs": [
    {
     "name": "stdout",
     "output_type": "stream",
     "text": [
      "Found 11365 unique tokens.\n",
      "Minumum length: 1\n",
      "Average length: 8\n",
      "Max length: 34\n"
     ]
    },
    {
     "data": {
      "text/plain": [
       "'\\n    pad_sequences is used to ensure that all sequences in a list have the same length. By default this \\n    is done by padding 0 in the beginning of each sequence until each sequence has the same \\n    length as the longest sequence.\\n'"
      ]
     },
     "execution_count": 3,
     "metadata": {},
     "output_type": "execute_result"
    }
   ],
   "source": [
    "############################\n",
    "# Preprocessing\n",
    "############################\n",
    "\n",
    "from keras.preprocessing.text import Tokenizer\n",
    "from keras.preprocessing.sequence import pad_sequences\n",
    "import numpy as np\n",
    "\n",
    "tokenizer = Tokenizer(char_level=False)\n",
    "tokenizer.fit_on_texts(data)\n",
    "sequences_full = tokenizer.texts_to_sequences(data) # replace words/tokens with numbers\n",
    "\n",
    "word_index = tokenizer.word_index # get the coresponing word:number dict format\n",
    "print('Found %s unique tokens.' % len(word_index))\n",
    "MAX_NB_WORDS = len(word_index) # all words - len\n",
    "\n",
    "seq_lens = [len(s) for s in sequences_full] # get the count of words/symbols in the sequence from above\n",
    "print(\"Minumum length: %d\" % min(seq_lens))\n",
    "print(\"Average length: %d\" % np.mean(seq_lens))\n",
    "print(\"Max length: %d\" % max(seq_lens))\n",
    "MAX_SEQUENCE_LENGTH = max(seq_lens)\n",
    "\n",
    "X = pad_sequences(sequences_full, maxlen=MAX_SEQUENCE_LENGTH) # uses the len of the list and max len\n",
    "y = target # we take the target values\n",
    "\n",
    "'''\n",
    "    pad_sequences is used to ensure that all sequences in a list have the same length. By default this \n",
    "    is done by padding 0 in the beginning of each sequence until each sequence has the same \n",
    "    length as the longest sequence.\n",
    "'''"
   ]
  },
  {
   "cell_type": "code",
   "execution_count": 4,
   "metadata": {
    "ExecuteTime": {
     "end_time": "2019-06-16T17:17:23.017232Z",
     "start_time": "2019-06-16T17:16:31.333898Z"
    }
   },
   "outputs": [
    {
     "name": "stdout",
     "output_type": "stream",
     "text": [
      "Preparing embedding matrix\n",
      "Null word embeddings: 4269\n"
     ]
    }
   ],
   "source": [
    "############################\n",
    "# Preparing embedding matrix\n",
    "############################\n",
    "\n",
    "\n",
    "print('Preparing embedding matrix')\n",
    "word2vec = KeyedVectors.load_word2vec_format(EMBEDDING_FILE, binary=True)\n",
    "\n",
    "EMBEDDING_DIM = 300\n",
    "nb_words = min(MAX_NB_WORDS, len(word_index)) + 1\n",
    "embedding_matrix = np.zeros((nb_words, EMBEDDING_DIM)) # Init as 0's and updated if in word2vec\n",
    "for word, i in word_index.items():\n",
    "    if word in word2vec.vocab:\n",
    "        embedding_matrix[i] = word2vec.word_vec(word)\n",
    "    #else:\n",
    "        #print(word)\n",
    "print('Null word embeddings: %d' % np.sum(np.sum(embedding_matrix, axis=1) == 0))"
   ]
  },
  {
   "cell_type": "code",
   "execution_count": 5,
   "metadata": {
    "ExecuteTime": {
     "end_time": "2019-06-16T17:17:30.954770Z",
     "start_time": "2019-06-16T17:17:23.077588Z"
    }
   },
   "outputs": [
    {
     "name": "stdout",
     "output_type": "stream",
     "text": [
      "Shape of average embedding:  (20000, 300)\n",
      "(20000, 300)\n",
      "[1. 1. 1. 1. 0. 1. 1. 0. 1. 0. 0. 0. 0. 0. 0. 1. 1. 1. 1. 0. 1. 1. 1. 1.\n",
      " 1. 1. 0. 1. 1. 0. 0. 1. 0. 1. 0. 1. 1. 1. 1. 1. 1. 1. 1. 1. 1. 0. 1. 0.\n",
      " 1. 0. 1. 0. 0. 0. 1. 1. 0. 0. 1. 1. 1. 0. 0. 0. 0. 0. 0. 1. 0. 1. 1. 1.\n",
      " 1. 0. 0. 0. 1. 1. 1. 1. 1. 0. 1. 0. 1. 0. 0. 1. 0. 1. 1. 1. 0. 0. 0. 0.\n",
      " 1. 0. 1. 1. 0. 0. 0. 1. 0. 0. 0. 1. 1. 0. 0. 0. 0. 0. 1. 1. 0. 0. 1. 1.\n",
      " 0. 0. 0. 1. 1. 1. 0. 1. 0. 0. 0. 0. 0. 1. 1. 0. 0. 0. 1. 0. 1. 0. 0. 0.\n",
      " 1. 0. 0. 0. 0. 1. 1. 1. 0. 1. 1. 0. 0. 0. 0. 1. 1. 1. 0. 1. 1. 0. 1. 0.\n",
      " 0. 1. 0. 1. 0. 0. 0. 1. 1. 0. 0. 0. 0. 1. 1. 0. 0. 1. 0. 1. 1. 1. 1. 0.\n",
      " 0. 0. 0. 0. 0. 0. 0. 0. 0. 1. 0. 1. 1. 1. 0. 0. 0. 1. 0. 1. 0. 1. 0. 1.\n",
      " 1. 1. 0. 1. 0. 1. 0. 0. 1. 0. 1. 0. 0. 0. 1. 0. 0. 0. 0. 0. 1. 1. 1. 0.\n",
      " 0. 0. 1. 0. 0. 0. 1. 1. 0. 1. 1. 1. 1. 1. 1. 0. 1. 0. 0. 0. 1. 0. 0. 0.\n",
      " 0. 1. 1. 1. 0. 1. 1. 1. 1. 1. 1. 0. 1. 0. 0. 1. 0. 1. 1. 1. 1. 0. 0. 0.\n",
      " 1. 1. 0. 1. 0. 1. 0. 0. 1. 0. 0. 0.]\n"
     ]
    }
   ],
   "source": [
    "#################################################\n",
    "# Preparing target using Average embeddings (AE)\n",
    "#################################################\n",
    "Y = {}\n",
    "tfidf_seq = tokenizer.sequences_to_matrix(sequences_full, mode='tfidf') # converting List of sequences (a sequence is a list of integer word indices).\n",
    "# TF-IDF Acc: 0,329\n",
    "binary_seq = tokenizer.sequences_to_matrix(sequences_full, mode='binary') # Acc: 0,458\n",
    "count_seq = tokenizer.sequences_to_matrix(sequences_full, mode='count') # Acc: 0,467\n",
    "frequency_seq = tokenizer.sequences_to_matrix(sequences_full, mode='freq') # Acc: 0452\n",
    "from sklearn.preprocessing import Normalizer\n",
    "normed_value = Normalizer().fit_transform(count_seq)\n",
    "average_embeddings = np.dot(normed_value, embedding_matrix)\n",
    "Y[\"ae\"] = average_embeddings\n",
    "print(\"Shape of average embedding: \", Y['ae'].shape)\n",
    "\n",
    "\n",
    "# binary Y\n",
    "from sklearn import preprocessing\n",
    "reduction_name = \"ae\"\n",
    "B = preprocessing.Binarizer().fit_transform(Y[reduction_name]) # binarizing the whole value list for ae key (which is the only key)\n",
    "\n",
    "# Shape of last dimension in the CNN\n",
    "TARGET_DIM = B.shape[1]\n",
    "\n",
    "# Example of binarized target vector\n",
    "print(B.shape)\n",
    "print(B[1])"
   ]
  },
  {
   "cell_type": "code",
   "execution_count": 39,
   "metadata": {
    "ExecuteTime": {
     "end_time": "2019-06-16T17:54:49.794912Z",
     "start_time": "2019-06-16T17:54:49.784625Z"
    }
   },
   "outputs": [],
   "source": [
    "###############PLAYING-GridSearch#################################\n",
    "# Playing train model\n",
    "################################################\n",
    "\n",
    "# Best accuracy for now\n",
    "\n",
    "import keras\n",
    "from keras.datasets import imdb\n",
    "from keras.preprocessing.sequence import pad_sequences\n",
    "from keras.models import Sequential, Model\n",
    "from keras.layers import Dense, Flatten, Dropout, Activation, concatenate, Input\n",
    "from keras.layers import Embedding, Conv1D, SpatialDropout1D, GlobalMaxPooling1D\n",
    "from keras.callbacks import ModelCheckpoint\n",
    "from keras.utils.vis_utils import plot_model\n",
    "\n",
    "#https://stats.stackexchange.com/questions/240305/where-should-i-place-dropout-layers-in-a-neural-network\n",
    "# the above link has to do with dropout positioning\n",
    "\n",
    "# https://github.com/keras-team/keras/issues/7290\n",
    "# has to do with spatial dropout after embedding layer\n",
    "\n",
    "# https://towardsdatascience.com/review-tompson-cvpr15-spatial-dropout-human-pose-estimation-c7d6a5cecd8c\n",
    "# SpatialDropout again\n",
    "\n",
    "def get_model():\n",
    "    embedding_matrix_copy = embedding_matrix.copy()\n",
    "    trainable_embedding = False\n",
    "    #filters = [2,3,4]\n",
    "    filters = [3,4,5]\n",
    "    \n",
    "    # Embedding layer\n",
    "    pretrained_embedding_layer = Embedding(\n",
    "        input_dim=nb_words,\n",
    "        output_dim=EMBEDDING_DIM,\n",
    "        weights=[embedding_matrix],\n",
    "        input_length=MAX_SEQUENCE_LENGTH,\n",
    "    )\n",
    "\n",
    "    # Input\n",
    "    sequence_input = Input(shape=(MAX_SEQUENCE_LENGTH,), dtype='int32')\n",
    "    embedded_sequences = pretrained_embedding_layer(sequence_input)\n",
    "    \n",
    "    # DropOut\n",
    "    #x = Dropout(0.2)(embedded_sequences)\n",
    "    spatial_x = SpatialDropout1D(0.1)(embedded_sequences)\n",
    "    \n",
    "    # 1st Layer\n",
    "    conv_layers = []\n",
    "    for i in filters:\n",
    "        x = Conv1D(125, i, activation='tanh', padding='same')(spatial_x)\n",
    "        x = GlobalMaxPooling1D()(x)\n",
    "        #x = Dropout(0.2)(x)\n",
    "        conv_layers.append(x)\n",
    "    merged = concatenate(conv_layers)\n",
    "    \n",
    "    # Dense\n",
    "    #x = Dense(TARGET_DIM,activation = 'tanh')(merged)\n",
    "    x = Dense(256,activation = 'tanh')(merged) # best performing\n",
    "    \n",
    "    # DropOut\n",
    "    x = Dropout(0.1)(x)\n",
    "    #x = Dropout(0.1)(merged) # best performing\n",
    "    \n",
    "    # Output\n",
    "    predictions = Dense(TARGET_DIM, activation='sigmoid')(x) \n",
    "    # sigmoid because we want 0,1 for one of the categories\n",
    "    \n",
    "    model = Model(sequence_input, predictions)\n",
    "\n",
    "    model.layers[1].trainable=trainable_embedding #embedding layer\n",
    "\n",
    "    #adam = Adam(lr=1e-3, beta_1=0.9, beta_2=0.999, epsilon=1e-08)\n",
    "    adam = Adam(lr=0.001, beta_1=0.9, beta_2=0.999, epsilon=1e-08, decay=0.0) #standard for keras\n",
    "    #optimizer = Adam(lr=learn_rate)\n",
    "    \n",
    "    # Loss and Optimizer\n",
    "    model.compile(loss='binary_crossentropy',\n",
    "                  optimizer=adam,\n",
    "                  metrics=['accuracy','mae'])\n",
    "    \n",
    "    # Fine-tune embeddings or not\n",
    "    model.summary()\n",
    "    plot_model(model, to_file='model_plot_no_shapes.png', show_shapes=False, show_layer_names=True)\n",
    "\n",
    "    \n",
    "    return model"
   ]
  },
  {
   "cell_type": "code",
   "execution_count": 40,
   "metadata": {
    "ExecuteTime": {
     "end_time": "2019-06-16T18:07:32.827898Z",
     "start_time": "2019-06-16T17:54:51.679600Z"
    },
    "scrolled": false
   },
   "outputs": [
    {
     "name": "stdout",
     "output_type": "stream",
     "text": [
      "__________________________________________________________________________________________________\n",
      "Layer (type)                    Output Shape         Param #     Connected to                     \n",
      "==================================================================================================\n",
      "input_4 (InputLayer)            (None, 34)           0                                            \n",
      "__________________________________________________________________________________________________\n",
      "embedding_4 (Embedding)         (None, 34, 300)      3409800     input_4[0][0]                    \n",
      "__________________________________________________________________________________________________\n",
      "spatial_dropout1d_4 (SpatialDro (None, 34, 300)      0           embedding_4[0][0]                \n",
      "__________________________________________________________________________________________________\n",
      "conv1d_10 (Conv1D)              (None, 34, 125)      112625      spatial_dropout1d_4[0][0]        \n",
      "__________________________________________________________________________________________________\n",
      "conv1d_11 (Conv1D)              (None, 34, 125)      150125      spatial_dropout1d_4[0][0]        \n",
      "__________________________________________________________________________________________________\n",
      "conv1d_12 (Conv1D)              (None, 34, 125)      187625      spatial_dropout1d_4[0][0]        \n",
      "__________________________________________________________________________________________________\n",
      "global_max_pooling1d_10 (Global (None, 125)          0           conv1d_10[0][0]                  \n",
      "__________________________________________________________________________________________________\n",
      "global_max_pooling1d_11 (Global (None, 125)          0           conv1d_11[0][0]                  \n",
      "__________________________________________________________________________________________________\n",
      "global_max_pooling1d_12 (Global (None, 125)          0           conv1d_12[0][0]                  \n",
      "__________________________________________________________________________________________________\n",
      "concatenate_4 (Concatenate)     (None, 375)          0           global_max_pooling1d_10[0][0]    \n",
      "                                                                 global_max_pooling1d_11[0][0]    \n",
      "                                                                 global_max_pooling1d_12[0][0]    \n",
      "__________________________________________________________________________________________________\n",
      "dense_6 (Dense)                 (None, 256)          96256       concatenate_4[0][0]              \n",
      "__________________________________________________________________________________________________\n",
      "dropout_4 (Dropout)             (None, 256)          0           dense_6[0][0]                    \n",
      "__________________________________________________________________________________________________\n",
      "dense_7 (Dense)                 (None, 300)          77100       dropout_4[0][0]                  \n",
      "==================================================================================================\n",
      "Total params: 4,033,531\n",
      "Trainable params: 623,731\n",
      "Non-trainable params: 3,409,800\n",
      "__________________________________________________________________________________________________\n",
      "Train on 16000 samples, validate on 4000 samples\n",
      "Epoch 1/50\n",
      "16000/16000 [==============================] - 13s 811us/step - loss: 0.4948 - acc: 0.7554 - mean_absolute_error: 0.3361 - val_loss: 0.4472 - val_acc: 0.7886 - val_mean_absolute_error: 0.3062\n",
      "Epoch 2/50\n",
      "16000/16000 [==============================] - 13s 801us/step - loss: 0.4129 - acc: 0.8078 - mean_absolute_error: 0.2799 - val_loss: 0.4022 - val_acc: 0.8145 - val_mean_absolute_error: 0.2731\n",
      "Epoch 3/50\n",
      "16000/16000 [==============================] - 14s 846us/step - loss: 0.3768 - acc: 0.8280 - mean_absolute_error: 0.2545 - val_loss: 0.3757 - val_acc: 0.8284 - val_mean_absolute_error: 0.2523\n",
      "Epoch 4/50\n",
      "16000/16000 [==============================] - 14s 851us/step - loss: 0.3540 - acc: 0.8401 - mean_absolute_error: 0.2381 - val_loss: 0.3580 - val_acc: 0.8375 - val_mean_absolute_error: 0.2404\n",
      "Epoch 5/50\n",
      "16000/16000 [==============================] - 14s 857us/step - loss: 0.3376 - acc: 0.8485 - mean_absolute_error: 0.2262 - val_loss: 0.3460 - val_acc: 0.8431 - val_mean_absolute_error: 0.2294\n",
      "Epoch 6/50\n",
      "16000/16000 [==============================] - 14s 860us/step - loss: 0.3250 - acc: 0.8550 - mean_absolute_error: 0.2170 - val_loss: 0.3373 - val_acc: 0.8475 - val_mean_absolute_error: 0.2219\n",
      "Epoch 7/50\n",
      "16000/16000 [==============================] - 14s 881us/step - loss: 0.3153 - acc: 0.8597 - mean_absolute_error: 0.2098 - val_loss: 0.3299 - val_acc: 0.8515 - val_mean_absolute_error: 0.2181\n",
      "Epoch 8/50\n",
      "16000/16000 [==============================] - 14s 872us/step - loss: 0.3071 - acc: 0.8639 - mean_absolute_error: 0.2035 - val_loss: 0.3240 - val_acc: 0.8541 - val_mean_absolute_error: 0.2128\n",
      "Epoch 9/50\n",
      "16000/16000 [==============================] - 14s 880us/step - loss: 0.3003 - acc: 0.8670 - mean_absolute_error: 0.1985 - val_loss: 0.3193 - val_acc: 0.8563 - val_mean_absolute_error: 0.2079\n",
      "Epoch 10/50\n",
      "16000/16000 [==============================] - 14s 887us/step - loss: 0.2948 - acc: 0.8698 - mean_absolute_error: 0.1942 - val_loss: 0.3159 - val_acc: 0.8578 - val_mean_absolute_error: 0.2058\n",
      "Epoch 11/50\n",
      "16000/16000 [==============================] - 14s 890us/step - loss: 0.2896 - acc: 0.8725 - mean_absolute_error: 0.1903 - val_loss: 0.3124 - val_acc: 0.8596 - val_mean_absolute_error: 0.2013\n",
      "Epoch 12/50\n",
      "16000/16000 [==============================] - 15s 921us/step - loss: 0.2855 - acc: 0.8742 - mean_absolute_error: 0.1871 - val_loss: 0.3100 - val_acc: 0.8606 - val_mean_absolute_error: 0.1996\n",
      "Epoch 13/50\n",
      "16000/16000 [==============================] - 16s 989us/step - loss: 0.2817 - acc: 0.8762 - mean_absolute_error: 0.1842 - val_loss: 0.3075 - val_acc: 0.8619 - val_mean_absolute_error: 0.1967\n",
      "Epoch 14/50\n",
      "16000/16000 [==============================] - 17s 1ms/step - loss: 0.2779 - acc: 0.8778 - mean_absolute_error: 0.1815 - val_loss: 0.3053 - val_acc: 0.8630 - val_mean_absolute_error: 0.1931\n",
      "Epoch 15/50\n",
      "16000/16000 [==============================] - 17s 1ms/step - loss: 0.2750 - acc: 0.8793 - mean_absolute_error: 0.1792 - val_loss: 0.3035 - val_acc: 0.8640 - val_mean_absolute_error: 0.1926\n",
      "Epoch 16/50\n",
      "16000/16000 [==============================] - 17s 1ms/step - loss: 0.2720 - acc: 0.8808 - mean_absolute_error: 0.1769 - val_loss: 0.3022 - val_acc: 0.8647 - val_mean_absolute_error: 0.1908\n",
      "Epoch 17/50\n",
      "16000/16000 [==============================] - 17s 1ms/step - loss: 0.2695 - acc: 0.8820 - mean_absolute_error: 0.1749 - val_loss: 0.3009 - val_acc: 0.8654 - val_mean_absolute_error: 0.1876\n",
      "Epoch 18/50\n",
      "16000/16000 [==============================] - 16s 1ms/step - loss: 0.2671 - acc: 0.8830 - mean_absolute_error: 0.1731 - val_loss: 0.2989 - val_acc: 0.8661 - val_mean_absolute_error: 0.1872\n",
      "Epoch 19/50\n",
      "16000/16000 [==============================] - 18s 1ms/step - loss: 0.2652 - acc: 0.8841 - mean_absolute_error: 0.1715 - val_loss: 0.2981 - val_acc: 0.8665 - val_mean_absolute_error: 0.1856\n",
      "Epoch 20/50\n",
      "16000/16000 [==============================] - 18s 1ms/step - loss: 0.2631 - acc: 0.8850 - mean_absolute_error: 0.1700 - val_loss: 0.2970 - val_acc: 0.8669 - val_mean_absolute_error: 0.1850\n",
      "Epoch 21/50\n",
      "16000/16000 [==============================] - 16s 1ms/step - loss: 0.2614 - acc: 0.8855 - mean_absolute_error: 0.1686 - val_loss: 0.2960 - val_acc: 0.8674 - val_mean_absolute_error: 0.1845\n",
      "Epoch 22/50\n",
      "16000/16000 [==============================] - 15s 930us/step - loss: 0.2592 - acc: 0.8866 - mean_absolute_error: 0.1671 - val_loss: 0.2955 - val_acc: 0.8678 - val_mean_absolute_error: 0.1846\n",
      "Epoch 23/50\n",
      "16000/16000 [==============================] - 15s 910us/step - loss: 0.2577 - acc: 0.8874 - mean_absolute_error: 0.1659 - val_loss: 0.2943 - val_acc: 0.8684 - val_mean_absolute_error: 0.1834\n",
      "Epoch 24/50\n",
      "16000/16000 [==============================] - 15s 921us/step - loss: 0.2561 - acc: 0.8882 - mean_absolute_error: 0.1646 - val_loss: 0.2936 - val_acc: 0.8688 - val_mean_absolute_error: 0.1812\n",
      "Epoch 25/50\n"
     ]
    },
    {
     "name": "stdout",
     "output_type": "stream",
     "text": [
      "16000/16000 [==============================] - 15s 919us/step - loss: 0.2547 - acc: 0.8887 - mean_absolute_error: 0.1636 - val_loss: 0.2924 - val_acc: 0.8692 - val_mean_absolute_error: 0.1807\n",
      "Epoch 26/50\n",
      "16000/16000 [==============================] - 14s 887us/step - loss: 0.2535 - acc: 0.8894 - mean_absolute_error: 0.1626 - val_loss: 0.2918 - val_acc: 0.8695 - val_mean_absolute_error: 0.1798\n",
      "Epoch 27/50\n",
      "16000/16000 [==============================] - 14s 904us/step - loss: 0.2522 - acc: 0.8901 - mean_absolute_error: 0.1615 - val_loss: 0.2909 - val_acc: 0.8698 - val_mean_absolute_error: 0.1796\n",
      "Epoch 28/50\n",
      "16000/16000 [==============================] - 14s 902us/step - loss: 0.2508 - acc: 0.8906 - mean_absolute_error: 0.1605 - val_loss: 0.2906 - val_acc: 0.8703 - val_mean_absolute_error: 0.1782\n",
      "Epoch 29/50\n",
      "16000/16000 [==============================] - 15s 919us/step - loss: 0.2500 - acc: 0.8908 - mean_absolute_error: 0.1598 - val_loss: 0.2898 - val_acc: 0.8708 - val_mean_absolute_error: 0.1774\n",
      "Epoch 30/50\n",
      "16000/16000 [==============================] - 15s 907us/step - loss: 0.2486 - acc: 0.8917 - mean_absolute_error: 0.1589 - val_loss: 0.2892 - val_acc: 0.8708 - val_mean_absolute_error: 0.1774\n",
      "Epoch 31/50\n",
      "16000/16000 [==============================] - 15s 916us/step - loss: 0.2476 - acc: 0.8922 - mean_absolute_error: 0.1581 - val_loss: 0.2886 - val_acc: 0.8711 - val_mean_absolute_error: 0.1765\n",
      "Epoch 32/50\n",
      "16000/16000 [==============================] - 15s 929us/step - loss: 0.2466 - acc: 0.8926 - mean_absolute_error: 0.1573 - val_loss: 0.2884 - val_acc: 0.8718 - val_mean_absolute_error: 0.1743\n",
      "Epoch 33/50\n",
      "16000/16000 [==============================] - 15s 946us/step - loss: 0.2456 - acc: 0.8930 - mean_absolute_error: 0.1566 - val_loss: 0.2875 - val_acc: 0.8720 - val_mean_absolute_error: 0.1746\n",
      "Epoch 34/50\n",
      "16000/16000 [==============================] - 15s 914us/step - loss: 0.2449 - acc: 0.8934 - mean_absolute_error: 0.1560 - val_loss: 0.2870 - val_acc: 0.8721 - val_mean_absolute_error: 0.1743\n",
      "Epoch 35/50\n",
      "16000/16000 [==============================] - 15s 946us/step - loss: 0.2440 - acc: 0.8939 - mean_absolute_error: 0.1553 - val_loss: 0.2865 - val_acc: 0.8722 - val_mean_absolute_error: 0.1738\n",
      "Epoch 36/50\n",
      "16000/16000 [==============================] - 15s 914us/step - loss: 0.2429 - acc: 0.8943 - mean_absolute_error: 0.1546 - val_loss: 0.2860 - val_acc: 0.8724 - val_mean_absolute_error: 0.1733\n",
      "Epoch 37/50\n",
      "16000/16000 [==============================] - 15s 928us/step - loss: 0.2421 - acc: 0.8947 - mean_absolute_error: 0.1539 - val_loss: 0.2858 - val_acc: 0.8727 - val_mean_absolute_error: 0.1720\n",
      "Epoch 38/50\n",
      "16000/16000 [==============================] - 15s 917us/step - loss: 0.2411 - acc: 0.8951 - mean_absolute_error: 0.1533 - val_loss: 0.2853 - val_acc: 0.8729 - val_mean_absolute_error: 0.1715\n",
      "Epoch 39/50\n",
      "16000/16000 [==============================] - 15s 931us/step - loss: 0.2406 - acc: 0.8954 - mean_absolute_error: 0.1528 - val_loss: 0.2847 - val_acc: 0.8732 - val_mean_absolute_error: 0.1725\n",
      "Epoch 40/50\n",
      "16000/16000 [==============================] - 15s 958us/step - loss: 0.2397 - acc: 0.8957 - mean_absolute_error: 0.1522 - val_loss: 0.2848 - val_acc: 0.8731 - val_mean_absolute_error: 0.1716\n",
      "Epoch 41/50\n",
      "16000/16000 [==============================] - 17s 1ms/step - loss: 0.2392 - acc: 0.8960 - mean_absolute_error: 0.1517 - val_loss: 0.2839 - val_acc: 0.8738 - val_mean_absolute_error: 0.1704\n",
      "Epoch 42/50\n",
      "16000/16000 [==============================] - 19s 1ms/step - loss: 0.2383 - acc: 0.8963 - mean_absolute_error: 0.1511 - val_loss: 0.2835 - val_acc: 0.8740 - val_mean_absolute_error: 0.1706\n",
      "Epoch 43/50\n",
      "16000/16000 [==============================] - 16s 977us/step - loss: 0.2377 - acc: 0.8966 - mean_absolute_error: 0.1507 - val_loss: 0.2833 - val_acc: 0.8740 - val_mean_absolute_error: 0.1698\n",
      "Epoch 44/50\n",
      "16000/16000 [==============================] - 16s 992us/step - loss: 0.2373 - acc: 0.8968 - mean_absolute_error: 0.1503 - val_loss: 0.2837 - val_acc: 0.8742 - val_mean_absolute_error: 0.1686\n",
      "Epoch 45/50\n",
      "16000/16000 [==============================] - 16s 994us/step - loss: 0.2364 - acc: 0.8973 - mean_absolute_error: 0.1497 - val_loss: 0.2823 - val_acc: 0.8743 - val_mean_absolute_error: 0.1701\n",
      "Epoch 46/50\n",
      "16000/16000 [==============================] - 15s 967us/step - loss: 0.2359 - acc: 0.8975 - mean_absolute_error: 0.1493 - val_loss: 0.2821 - val_acc: 0.8746 - val_mean_absolute_error: 0.1691\n",
      "Epoch 47/50\n",
      "16000/16000 [==============================] - 16s 983us/step - loss: 0.2354 - acc: 0.8978 - mean_absolute_error: 0.1489 - val_loss: 0.2819 - val_acc: 0.8747 - val_mean_absolute_error: 0.1686\n",
      "Epoch 48/50\n",
      "16000/16000 [==============================] - 16s 996us/step - loss: 0.2346 - acc: 0.8981 - mean_absolute_error: 0.1483 - val_loss: 0.2813 - val_acc: 0.8750 - val_mean_absolute_error: 0.1687\n",
      "Epoch 49/50\n",
      "16000/16000 [==============================] - 16s 977us/step - loss: 0.2341 - acc: 0.8983 - mean_absolute_error: 0.1480 - val_loss: 0.2811 - val_acc: 0.8751 - val_mean_absolute_error: 0.1679\n",
      "Epoch 50/50\n",
      "16000/16000 [==============================] - 16s 995us/step - loss: 0.2338 - acc: 0.8985 - mean_absolute_error: 0.1476 - val_loss: 0.2812 - val_acc: 0.8753 - val_mean_absolute_error: 0.1680\n"
     ]
    }
   ],
   "source": [
    "from sklearn.preprocessing import normalize\n",
    "# 25 epoch and 80 batch = 50.3 accuracy\n",
    "nb_epoch = 50 #changed from 50 cause of time limitations\n",
    "\n",
    "# 5 epochs take 1 hour and 14 mins to load\n",
    "\n",
    "checkpoint = ModelCheckpoint('models/weights.{epoch:03d}-{val_acc:.4f}.hdf5', monitor='val_acc', verbose=1, save_best_only=True, mode='auto')\n",
    "model = get_model()\n",
    "history = model.fit(X, B, validation_split=0.2,\n",
    "              epochs=nb_epoch, batch_size=100, verbose=1, shuffle=True)\n",
    "\n",
    "# create model that gives penultimate layer (предпоследно)\n",
    "input1 = model.layers[0].input\n",
    "output = model.layers[-2].output\n",
    "\n",
    "model_penultimate = Model(input1, output)\n",
    "\n",
    "\n",
    "# inference of penultimate layer\n",
    "#H_penul = model_penultimate.predict(X)\n",
    "#print(\"Sample shape: {}\".format(H_penul.shape))\n",
    "#V_penul = normalize(H_penul, norm='l2') # nomr\n",
    "# standard model prediction\n",
    "#H_standard = model.predict(X)\n",
    "#print(\"Sample shape for standard: {}\".format(H_standard.shape))\n",
    "#V_standard = normalize(H_standard, norm='l2') # norm\n"
   ]
  },
  {
   "cell_type": "code",
   "execution_count": 41,
   "metadata": {
    "ExecuteTime": {
     "end_time": "2019-06-16T18:07:39.466712Z",
     "start_time": "2019-06-16T18:07:32.910707Z"
    }
   },
   "outputs": [
    {
     "name": "stdout",
     "output_type": "stream",
     "text": [
      "Sample shape: (20000, 256)\n"
     ]
    }
   ],
   "source": [
    "# inference of penultimate layer\n",
    "H_penul = model_penultimate.predict(X)\n",
    "print(\"Sample shape: {}\".format(H_penul.shape))"
   ]
  },
  {
   "cell_type": "code",
   "execution_count": 31,
   "metadata": {
    "ExecuteTime": {
     "end_time": "2019-06-16T17:53:56.255305Z",
     "start_time": "2019-06-16T17:53:56.111008Z"
    }
   },
   "outputs": [
    {
     "data": {
      "image/png": "[encoded data removed]",
      "text/plain": [
       "<Figure size 432x288 with 1 Axes>"
      ]
     },
     "metadata": {
      "needs_background": "light"
     },
     "output_type": "display_data"
    }
   ],
   "source": [
    "import matplotlib.pyplot as plt\n",
    "plt.title('Loss')\n",
    "plt.plot(history.history['loss'], label='train')\n",
    "plt.plot(history.history['val_loss'], label='test')\n",
    "plt.legend()\n",
    "plt.show();"
   ]
  },
  {
   "cell_type": "code",
   "execution_count": 32,
   "metadata": {
    "ExecuteTime": {
     "end_time": "2019-06-16T17:54:05.222966Z",
     "start_time": "2019-06-16T17:54:05.088896Z"
    }
   },
   "outputs": [
    {
     "data": {
      "image/png": "[encoded data removed]",
      "text/plain": [
       "<Figure size 432x288 with 1 Axes>"
      ]
     },
     "metadata": {
      "needs_background": "light"
     },
     "output_type": "display_data"
    }
   ],
   "source": [
    "# summarize history for accuracy\n",
    "plt.plot(history.history['acc'])\n",
    "plt.plot(history.history['val_acc'])\n",
    "plt.title('Model accuracy')\n",
    "plt.ylabel('accuracy')\n",
    "plt.xlabel('epoch')\n",
    "plt.legend(['train', 'test'], loc='upper left')\n",
    "plt.show()"
   ]
  },
  {
   "cell_type": "code",
   "execution_count": null,
   "metadata": {
    "ExecuteTime": {
     "end_time": "2019-06-07T09:16:13.942288Z",
     "start_time": "2019-06-07T09:15:24.268373Z"
    }
   },
   "outputs": [],
   "source": [
    "# Amount of Clusters based on Penul data\n",
    "# Wherever it makes the curve switch - around 6-7 for this data\n",
    "\n",
    "import numpy as np\n",
    "from scipy import cluster\n",
    "from matplotlib import pyplot\n",
    "\n",
    "#V = normalize(H, norm='l2') # https://machinelearningmastery.com/vector-norms-machine-learning/\n",
    "#plot variance for each value for 'k' between 1,10\n",
    "initial = [cluster.vq.kmeans(V_penul,i) for i in range(1,40)]\n",
    "pyplot.plot([var for (cent,var) in initial])\n",
    "pyplot.show()"
   ]
  },
  {
   "cell_type": "code",
   "execution_count": null,
   "metadata": {
    "ExecuteTime": {
     "end_time": "2019-06-07T09:17:07.966555Z",
     "start_time": "2019-06-07T09:16:14.447265Z"
    },
    "scrolled": false
   },
   "outputs": [],
   "source": [
    "# Amount of Clusters based on standard prediction\n",
    "# Wherever it makes the curve switch - around 6-7 for this data\n",
    "\n",
    "import numpy as np\n",
    "from scipy import cluster\n",
    "from matplotlib import pyplot\n",
    "\n",
    "#V = normalize(H, norm='l2') # https://machinelearningmastery.com/vector-norms-machine-learning/\n",
    "#plot variance for each value for 'k' between 1,10\n",
    "initial = [cluster.vq.kmeans(V_standard,i) for i in range(1,40)]\n",
    "pyplot.plot([var for (cent,var) in initial])\n",
    "pyplot.show()"
   ]
  },
  {
   "cell_type": "code",
   "execution_count": 43,
   "metadata": {
    "ExecuteTime": {
     "end_time": "2019-06-16T18:08:14.138108Z",
     "start_time": "2019-06-16T18:08:11.029314Z"
    }
   },
   "outputs": [
    {
     "name": "stdout",
     "output_type": "stream",
     "text": [
      "Number of classes: 20\n",
      "[14 14  8 ...  9  9  0]\n",
      "{'homogeneity': 0.507, 'completeness': 0.535, 'vmeasure': 0.521, 'nmi': 0.521, 'rand': 0.318, 'accuracy': 0.569}\n"
     ]
    },
    {
     "name": "stderr",
     "output_type": "stream",
     "text": [
      "/Users/Dimitar/anaconda3/lib/python3.7/site-packages/sklearn/metrics/cluster/supervised.py:844: FutureWarning: The behavior of NMI will change in version 0.22. To match the behavior of 'v_measure_score', NMI will use average_method='arithmetic' by default.\n",
      "  FutureWarning)\n"
     ]
    }
   ],
   "source": [
    "# First run\n",
    "\n",
    "from sklearn.preprocessing import normalize\n",
    "from sklearn.cluster import KMeans\n",
    "\n",
    "true_labels = y\n",
    "n_clusters = len(np.unique(y))\n",
    "#n_clusters = 7 # for own data\n",
    "print(\"Number of classes: %d\" % n_clusters)\n",
    "km = KMeans(n_clusters=n_clusters, n_jobs=10)\n",
    "result_penul = dict()\n",
    "V_penul = normalize(H_penul, norm='l2') # https://machinelearningmastery.com/vector-norms-machine-learning/\n",
    "km.fit(V_penul)\n",
    "pred_penul = km.labels_\n",
    "pred1_penul = km.cluster_centers_\n",
    "print(pred_penul)\n",
    "a = cluster_quality(true_labels, pred_penul) #needs labels\n",
    "#np.save(\"pred.npy\", pred)\n",
    "print(a)"
   ]
  },
  {
   "cell_type": "code",
   "execution_count": null,
   "metadata": {
    "ExecuteTime": {
     "end_time": "2019-06-07T09:17:36.718294Z",
     "start_time": "2019-06-07T09:17:36.286655Z"
    }
   },
   "outputs": [],
   "source": [
    "from sklearn.preprocessing import normalize\n",
    "from sklearn.cluster import KMeans\n",
    "\n",
    "#true_labels = y\n",
    "#n_clusters = len(np.unique(y))\n",
    "n_clusters = 7 # for own data\n",
    "print(\"Number of classes: %d\" % n_clusters)\n",
    "km = KMeans(n_clusters=n_clusters, n_jobs=10)\n",
    "result_standard = dict()\n",
    "#V = normalize(H_penul, norm='l2') # https://machinelearningmastery.com/vector-norms-machine-learning/\n",
    "km.fit(V_standard)\n",
    "pred_standard = km.labels_\n",
    "pred1_standard = km.cluster_centers_\n",
    "print(pred_standard)\n",
    "#a = cluster_quality(true_labels, pred) #needs labels\n",
    "#np.save(\"pred.npy\", pred)\n"
   ]
  },
  {
   "cell_type": "markdown",
   "metadata": {
    "heading_collapsed": true
   },
   "source": [
    "# Visualization - Evaluation"
   ]
  },
  {
   "cell_type": "code",
   "execution_count": null,
   "metadata": {
    "hidden": true
   },
   "outputs": [],
   "source": [
    "#################################################\n",
    "################Visualization####################\n",
    "#################################################"
   ]
  },
  {
   "cell_type": "code",
   "execution_count": null,
   "metadata": {
    "ExecuteTime": {
     "end_time": "2019-05-28T10:57:30.498376Z",
     "start_time": "2019-05-28T10:57:30.127993Z"
    },
    "hidden": true
   },
   "outputs": [],
   "source": [
    "\n",
    "y_kmeans = km.predict(V)\n",
    "\n",
    "plt.scatter(V[:, 0], V[:, 1], c=y_kmeans, s=50, cmap='viridis')\n",
    "\n",
    "centers = km.cluster_centers_\n",
    "plt.scatter(centers[:, 0], centers[:, 1], c='red', s=13, alpha=0.5);"
   ]
  },
  {
   "cell_type": "code",
   "execution_count": null,
   "metadata": {
    "ExecuteTime": {
     "end_time": "2019-06-03T09:48:49.494745Z",
     "start_time": "2019-06-03T09:48:49.461097Z"
    },
    "hidden": true
   },
   "outputs": [],
   "source": [
    "from sklearn.metrics import pairwise_distances_argmin\n",
    "\n",
    "def find_clusters(X, n_clusters, rseed=2):\n",
    "    # 1. Randomly choose clusters\n",
    "    rng = np.random.RandomState(rseed)\n",
    "    i = rng.permutation(X.shape[0])[:n_clusters]\n",
    "    centers = X[i]\n",
    "    \n",
    "    while True:\n",
    "        # 2a. Assign labels based on closest center\n",
    "        labels = pairwise_distances_argmin(X, centers)\n",
    "        \n",
    "        # 2b. Find new centers from means of points\n",
    "        new_centers = np.array([X[labels == i].mean(0)\n",
    "                                for i in range(n_clusters)])\n",
    "        \n",
    "        # 2c. Check for convergence\n",
    "        if np.all(centers == new_centers):\n",
    "            break\n",
    "        centers = new_centers\n",
    "    \n",
    "    return centers, labels\n",
    "\n",
    "centers, labels = find_clusters(a, 13) #gives error for some reason\n",
    "plt.scatter(a[:, 0], a[:, 1], c=labels,\n",
    "            s=50, cmap='viridis');"
   ]
  },
  {
   "cell_type": "code",
   "execution_count": null,
   "metadata": {
    "ExecuteTime": {
     "end_time": "2019-06-07T09:18:41.689095Z",
     "start_time": "2019-06-07T09:18:18.474414Z"
    },
    "hidden": true
   },
   "outputs": [],
   "source": [
    "\n",
    "# DBSCAN for penul layer based on scrapped keywords\n",
    "\n",
    "import numpy as np\n",
    "from sklearn.cluster import DBSCAN\n",
    "from sklearn import metrics\n",
    "from sklearn.datasets.samples_generator import make_blobs\n",
    "from sklearn.preprocessing import StandardScaler\n",
    "\n",
    "\n",
    "# #############################################################################\n",
    "\n",
    "\n",
    "X = StandardScaler().fit_transform(V_penul)\n",
    "\n",
    "# #############################################################################\n",
    "# Compute DBSCAN\n",
    "db = DBSCAN(eps=0.3, min_samples= 10).fit(V_penul)\n",
    "core_samples_mask = np.zeros_like(db.labels_, dtype=bool)\n",
    "core_samples_mask[db.core_sample_indices_] = True\n",
    "labels = db.labels_\n",
    "\n",
    "# Number of clusters in labels, ignoring noise if present.\n",
    "n_clusters_ = len(set(labels)) - (1 if -1 in labels else 0)\n",
    "n_noise_ = list(labels).count(-1)\n",
    "\n",
    "print('Estimated number of clusters: %d' % n_clusters_)\n",
    "print('Estimated number of noise points: %d' % n_noise_)\n",
    "print(\"Homogeneity: %0.3f\" % metrics.homogeneity_score(pred_penul, labels))\n",
    "print(\"Completeness: %0.3f\" % metrics.completeness_score(pred_penul, labels))\n",
    "print(\"V-measure: %0.3f\" % metrics.v_measure_score(pred_penul, labels))\n",
    "print(\"Adjusted Rand Index: %0.3f\"\n",
    "      % metrics.adjusted_rand_score(pred_penul, labels))\n",
    "print(\"Adjusted Mutual Information: %0.3f\"\n",
    "      % metrics.adjusted_mutual_info_score(pred_penul, labels,\n",
    "                                           average_method='arithmetic'))\n",
    "print(\"Silhouette Coefficient: %0.3f\"\n",
    "      % metrics.silhouette_score(X, labels))\n",
    "\n",
    "# #############################################################################\n",
    "# Plot result - DBSCAN\n",
    "import matplotlib.pyplot as plt\n",
    "\n",
    "# Black removed and is used for noise instead.\n",
    "unique_labels = set(labels)\n",
    "colors = [plt.cm.Spectral(each)\n",
    "          for each in np.linspace(0, 1, len(unique_labels))]\n",
    "for k, col in zip(unique_labels, colors):\n",
    "    if k == -1:\n",
    "        # Black used for noise.\n",
    "        col = [0, 0, 0, 1]\n",
    "\n",
    "    class_member_mask = (labels == k)\n",
    "\n",
    "    xy = X[class_member_mask & core_samples_mask]\n",
    "    plt.plot(xy[:, 0], xy[:, 1], 'o',\n",
    "             markeredgecolor='k', markersize=14)\n",
    "\n",
    "    xy = X[class_member_mask & ~core_samples_mask]\n",
    "    #plt.plot(xy[:, 0], xy[:, 1], 'o',\n",
    "     #        markeredgecolor='k', markersize=6)\n",
    "\n",
    "plt.title('Estimated number of clusters: %d' % n_clusters_)\n",
    "plt.show()"
   ]
  },
  {
   "cell_type": "code",
   "execution_count": null,
   "metadata": {
    "ExecuteTime": {
     "end_time": "2019-06-07T09:19:10.263407Z",
     "start_time": "2019-06-07T09:18:41.936896Z"
    },
    "hidden": true
   },
   "outputs": [],
   "source": [
    "\n",
    "# DBSCAN for standard prediction based on scrapped keywords\n",
    "\n",
    "import numpy as np\n",
    "\n",
    "from sklearn.cluster import DBSCAN\n",
    "from sklearn import metrics\n",
    "from sklearn.datasets.samples_generator import make_blobs\n",
    "from sklearn.preprocessing import StandardScaler\n",
    "\n",
    "\n",
    "# #############################################################################\n",
    "\n",
    "\n",
    "X = StandardScaler().fit_transform(V_standard)\n",
    "\n",
    "# #############################################################################\n",
    "# Compute DBSCAN\n",
    "db = DBSCAN(eps=0.3, min_samples= 10).fit(V_standard)\n",
    "core_samples_mask = np.zeros_like(db.labels_, dtype=bool)\n",
    "core_samples_mask[db.core_sample_indices_] = True\n",
    "labels = db.labels_\n",
    "\n",
    "# Number of clusters in labels, ignoring noise if present.\n",
    "n_clusters_ = len(set(labels)) - (1 if -1 in labels else 0)\n",
    "n_noise_ = list(labels).count(-1)\n",
    "\n",
    "print('Estimated number of clusters: %d' % n_clusters_)\n",
    "print('Estimated number of noise points: %d' % n_noise_)\n",
    "print(\"Homogeneity: %0.3f\" % metrics.homogeneity_score(pred_standard, labels))\n",
    "print(\"Completeness: %0.3f\" % metrics.completeness_score(pred_standard, labels))\n",
    "print(\"V-measure: %0.3f\" % metrics.v_measure_score(pred_standard, labels))\n",
    "print(\"Adjusted Rand Index: %0.3f\"\n",
    "      % metrics.adjusted_rand_score(pred_standard, labels))\n",
    "print(\"Adjusted Mutual Information: %0.3f\"\n",
    "      % metrics.adjusted_mutual_info_score(pred_standard, labels,\n",
    "                                           average_method='arithmetic'))\n",
    "print(\"Silhouette Coefficient: %0.3f\"\n",
    "      % metrics.silhouette_score(X, labels))\n",
    "\n",
    "# #############################################################################\n",
    "# Plot result\n",
    "import matplotlib.pyplot as plt\n",
    "\n",
    "# Black removed and is used for noise instead.\n",
    "unique_labels = set(labels)\n",
    "colors = [plt.cm.Spectral(each)\n",
    "          for each in np.linspace(0, 1, len(unique_labels))]\n",
    "for k, col in zip(unique_labels, colors):\n",
    "    if k == -1:\n",
    "        # Black used for noise.\n",
    "        col = [0, 0, 0, 1]\n",
    "\n",
    "    class_member_mask = (labels == k)\n",
    "\n",
    "    xy = X[class_member_mask & core_samples_mask]\n",
    "    plt.plot(xy[:, 0], xy[:, 1], 'o',\n",
    "             markeredgecolor='k', markersize=14)\n",
    "\n",
    "    xy = X[class_member_mask & ~core_samples_mask]\n",
    "    #plt.plot(xy[:, 0], xy[:, 1], 'o',\n",
    "     #        markeredgecolor='k', markersize=6)\n",
    "\n",
    "plt.title('Estimated number of clusters: %d' % n_clusters_)\n",
    "plt.show()"
   ]
  },
  {
   "cell_type": "markdown",
   "metadata": {
    "heading_collapsed": true
   },
   "source": [
    "# Evaluation"
   ]
  },
  {
   "cell_type": "code",
   "execution_count": null,
   "metadata": {
    "hidden": true
   },
   "outputs": [],
   "source": [
    "#################################################\n",
    "################Evaluation####################\n",
    "#################################################"
   ]
  },
  {
   "cell_type": "code",
   "execution_count": null,
   "metadata": {
    "ExecuteTime": {
     "end_time": "2019-06-07T09:54:56.679780Z",
     "start_time": "2019-06-07T09:21:39.271033Z"
    },
    "hidden": true
   },
   "outputs": [],
   "source": [
    "\n",
    "# Running the results from standard prediction based on Scrapped Keywords\n",
    "\n",
    "from sklearn.datasets import make_blobs\n",
    "from sklearn.cluster import KMeans\n",
    "from sklearn.metrics import silhouette_samples, silhouette_score\n",
    "\n",
    "import matplotlib.pyplot as plt\n",
    "import matplotlib.cm as cm\n",
    "import numpy as np\n",
    "\n",
    "#print(__doc__)\n",
    "from matplotlib.backends.backend_pdf import PdfPages\n",
    "# Generating the sample data from make_blobs\n",
    "# This particular setting has one distinct cluster and 3 clusters placed close\n",
    "# together.\n",
    "\n",
    "pp = PdfPages('ScrappedKeywords_StandardPrediction200.pdf')\n",
    "\n",
    "\n",
    "range_n_clusters = []\n",
    "for i in range(2,201): # make a list from 1 till 31\n",
    "    range_n_clusters.append(i)\n",
    "\n",
    "for n_clusters in range_n_clusters:\n",
    "    # Create a subplot with 1 row and 2 columns\n",
    "    fig, (ax1, ax2) = plt.subplots(1, 2)\n",
    "    fig.set_size_inches(18, 7)\n",
    "\n",
    "    # The 1st subplot is the silhouette plot\n",
    "    # The silhouette coefficient can range from -1, 1 but in this example all\n",
    "    # lie within [-0.1, 1]\n",
    "    ax1.set_xlim([-1, 1])\n",
    "    # The (n_clusters+1)*10 is for inserting blank space between silhouette\n",
    "    # plots of individual clusters, to demarcate them clearly.\n",
    "    ax1.set_ylim([0, len(V_standard) + (n_clusters + 1) * 10])\n",
    "\n",
    "    # Initialize the clusterer with n_clusters value and a random generator\n",
    "    # seed of 10 for reproducibility.\n",
    "    clusterer = KMeans(n_clusters=n_clusters, random_state=10)\n",
    "    cluster_labels = clusterer.fit_predict(V_standard)\n",
    "\n",
    "    # The silhouette_score gives the average value for all the samples.\n",
    "    # This gives a perspective into the density and separation of the formed\n",
    "    # clusters\n",
    "    silhouette_avg = silhouette_score(V_standard, cluster_labels)\n",
    "    print(\"For n_clusters =\", n_clusters,\n",
    "          \"The average silhouette_score is :\", silhouette_avg)\n",
    "\n",
    "    # Compute the silhouette scores for each sample\n",
    "    sample_silhouette_values = silhouette_samples(V_standard, cluster_labels)\n",
    "\n",
    "    y_lower = 10\n",
    "    for i in range(n_clusters):\n",
    "        # Aggregate the silhouette scores for samples belonging to\n",
    "        # cluster i, and sort them\n",
    "        ith_cluster_silhouette_values = \\\n",
    "            sample_silhouette_values[cluster_labels == i]\n",
    "\n",
    "        ith_cluster_silhouette_values.sort()\n",
    "\n",
    "        size_cluster_i = ith_cluster_silhouette_values.shape[0]\n",
    "        y_upper = y_lower + size_cluster_i\n",
    "\n",
    "        color = cm.nipy_spectral(float(i) / n_clusters)\n",
    "        ax1.fill_betweenx(np.arange(y_lower, y_upper),\n",
    "                          0, ith_cluster_silhouette_values,\n",
    "                          facecolor=color, edgecolor=color, alpha=0.7)\n",
    "\n",
    "        # Label the silhouette plots with their cluster numbers at the middle\n",
    "        ax1.text(-0.05, y_lower + 0.5 * size_cluster_i, str(i))\n",
    "\n",
    "        # Compute the new y_lower for next plot\n",
    "        y_lower = y_upper + 10  # 10 for the 0 samples\n",
    "\n",
    "    ax1.set_title(\"The silhouette plot for the various clusters.\")\n",
    "    ax1.set_xlabel(\"The silhouette coefficient values\")\n",
    "    ax1.set_ylabel(\"Cluster label\")\n",
    "\n",
    "    # The vertical line for average silhouette score of all the values\n",
    "    ax1.axvline(x=silhouette_avg, color=\"red\", linestyle=\"--\")\n",
    "\n",
    "    ax1.set_yticks([])  # Clear the yaxis labels / ticks\n",
    "    ax1.set_xticks([-0.1, 0, 0.2, 0.4, 0.6, 0.8, 1])\n",
    "\n",
    "    # 2nd Plot showing the actual clusters formed\n",
    "    colors = cm.nipy_spectral(cluster_labels.astype(float) / n_clusters)\n",
    "    ax2.scatter(V_standard[:, 0], V_standard[:, 1], marker='.', s=30, lw=0, alpha=0.7,\n",
    "                c=colors, edgecolor='k')\n",
    "\n",
    "    # Labeling the clusters\n",
    "    centers = clusterer.cluster_centers_\n",
    "    # Draw white circles at cluster centers\n",
    "    ax2.scatter(centers[:, 0], centers[:, 1], marker='o',\n",
    "                c=\"white\", alpha=1, s=200, edgecolor='k')\n",
    "\n",
    "    for i, c in enumerate(centers):\n",
    "        ax2.scatter(c[0], c[1], marker='$%d$' % i, alpha=1,\n",
    "                    s=50, edgecolor='k')\n",
    "\n",
    "    ax2.set_title(\"The visualization of the clustered data.\")\n",
    "    ax2.set_xlabel(\"Feature space for the 1st feature\")\n",
    "    ax2.set_ylabel(\"Feature space for the 2nd feature\")\n",
    "\n",
    "    plt.suptitle((\"Silhouette analysis for KMeans clustering on sample data \"\n",
    "                  \"with n_clusters = {} with Average Silhouette of: {}\".format(n_clusters,silhouette_avg)),\n",
    "                 fontsize=14, fontweight='bold')\n",
    "    pp.savefig(fig)\n",
    "\n",
    "plt.show()\n",
    "pp.close()"
   ]
  },
  {
   "cell_type": "code",
   "execution_count": null,
   "metadata": {
    "ExecuteTime": {
     "end_time": "2019-06-07T10:26:08.339840Z",
     "start_time": "2019-06-07T09:54:56.956984Z"
    },
    "hidden": true
   },
   "outputs": [],
   "source": [
    "\n",
    "# Running the results from penul layer from Scrappe Keywords\n",
    "\n",
    "from sklearn.datasets import make_blobs\n",
    "from sklearn.cluster import KMeans\n",
    "from sklearn.metrics import silhouette_samples, silhouette_score\n",
    "\n",
    "import matplotlib.pyplot as plt\n",
    "import matplotlib.cm as cm\n",
    "import numpy as np\n",
    "\n",
    "#print(__doc__)\n",
    "from matplotlib.backends.backend_pdf import PdfPages\n",
    "# Generating the sample data from make_blobs\n",
    "# This particular setting has one distinct cluster and 3 clusters placed close\n",
    "# together.\n",
    "\n",
    "pp = PdfPages('ScrappedKeywords_PenulLayer200.pdf')\n",
    "\n",
    "\n",
    "range_n_clusters = []\n",
    "for i in range(2,201): # make a list from 1 till 31\n",
    "    range_n_clusters.append(i)\n",
    "\n",
    "for n_clusters in range_n_clusters:\n",
    "    # Create a subplot with 1 row and 2 columns\n",
    "    fig, (ax1, ax2) = plt.subplots(1, 2)\n",
    "    fig.set_size_inches(18, 7)\n",
    "\n",
    "    # The 1st subplot is the silhouette plot\n",
    "    # The silhouette coefficient can range from -1, 1 but in this example all\n",
    "    # lie within [-0.1, 1]\n",
    "    ax1.set_xlim([-1, 1])\n",
    "    # The (n_clusters+1)*10 is for inserting blank space between silhouette\n",
    "    # plots of individual clusters, to demarcate them clearly.\n",
    "    ax1.set_ylim([0, len(V_penul) + (n_clusters + 1) * 10])\n",
    "\n",
    "    # Initialize the clusterer with n_clusters value and a random generator\n",
    "    # seed of 10 for reproducibility.\n",
    "    clusterer = KMeans(n_clusters=n_clusters, random_state=10)\n",
    "    cluster_labels = clusterer.fit_predict(V_penul)\n",
    "\n",
    "    # The silhouette_score gives the average value for all the samples.\n",
    "    # This gives a perspective into the density and separation of the formed\n",
    "    # clusters\n",
    "    silhouette_avg = silhouette_score(V_penul, cluster_labels)\n",
    "    print(\"For n_clusters =\", n_clusters,\n",
    "          \"The average silhouette_score is :\", silhouette_avg)\n",
    "\n",
    "    # Compute the silhouette scores for each sample\n",
    "    sample_silhouette_values = silhouette_samples(V_penul, cluster_labels)\n",
    "\n",
    "    y_lower = 10\n",
    "    for i in range(n_clusters):\n",
    "        # Aggregate the silhouette scores for samples belonging to\n",
    "        # cluster i, and sort them\n",
    "        ith_cluster_silhouette_values = \\\n",
    "            sample_silhouette_values[cluster_labels == i]\n",
    "\n",
    "        ith_cluster_silhouette_values.sort()\n",
    "\n",
    "        size_cluster_i = ith_cluster_silhouette_values.shape[0]\n",
    "        y_upper = y_lower + size_cluster_i\n",
    "\n",
    "        color = cm.nipy_spectral(float(i) / n_clusters)\n",
    "        ax1.fill_betweenx(np.arange(y_lower, y_upper),\n",
    "                          0, ith_cluster_silhouette_values,\n",
    "                          facecolor=color, edgecolor=color, alpha=0.7)\n",
    "\n",
    "        # Label the silhouette plots with their cluster numbers at the middle\n",
    "        ax1.text(-0.05, y_lower + 0.5 * size_cluster_i, str(i))\n",
    "\n",
    "        # Compute the new y_lower for next plot\n",
    "        y_lower = y_upper + 10  # 10 for the 0 samples\n",
    "\n",
    "    ax1.set_title(\"The silhouette plot for the various clusters.\")\n",
    "    ax1.set_xlabel(\"The silhouette coefficient values\")\n",
    "    ax1.set_ylabel(\"Cluster label\")\n",
    "\n",
    "    # The vertical line for average silhouette score of all the values\n",
    "    ax1.axvline(x=silhouette_avg, color=\"red\", linestyle=\"--\")\n",
    "\n",
    "    ax1.set_yticks([])  # Clear the yaxis labels / ticks\n",
    "    ax1.set_xticks([-0.1, 0, 0.2, 0.4, 0.6, 0.8, 1])\n",
    "\n",
    "    # 2nd Plot showing the actual clusters formed\n",
    "    colors = cm.nipy_spectral(cluster_labels.astype(float) / n_clusters)\n",
    "    ax2.scatter(V_penul[:, 0], V_penul[:, 1], marker='.', s=30, lw=0, alpha=0.7,\n",
    "                c=colors, edgecolor='k')\n",
    "\n",
    "    # Labeling the clusters\n",
    "    centers = clusterer.cluster_centers_\n",
    "    # Draw white circles at cluster centers\n",
    "    ax2.scatter(centers[:, 0], centers[:, 1], marker='o',\n",
    "                c=\"white\", alpha=1, s=200, edgecolor='k')\n",
    "\n",
    "    for i, c in enumerate(centers):\n",
    "        ax2.scatter(c[0], c[1], marker='$%d$' % i, alpha=1,\n",
    "                    s=50, edgecolor='k')\n",
    "\n",
    "    ax2.set_title(\"The visualization of the clustered data.\")\n",
    "    ax2.set_xlabel(\"Feature space for the 1st feature\")\n",
    "    ax2.set_ylabel(\"Feature space for the 2nd feature\")\n",
    "\n",
    "    plt.suptitle((\"Silhouette analysis for KMeans clustering on sample data \"\n",
    "                  \"with n_clusters = {} with Average Silhouette of: {}\".format(n_clusters,silhouette_avg)),\n",
    "                 fontsize=14, fontweight='bold')\n",
    "    pp.savefig(fig)\n",
    "\n",
    "plt.show()\n",
    "pp.close()"
   ]
  },
  {
   "cell_type": "code",
   "execution_count": null,
   "metadata": {
    "ExecuteTime": {
     "end_time": "2019-06-03T10:40:41.489903Z",
     "start_time": "2019-06-03T10:24:44.761460Z"
    },
    "hidden": true,
    "scrolled": true
   },
   "outputs": [],
   "source": [
    "from sklearn.datasets import make_blobs\n",
    "from sklearn.cluster import KMeans\n",
    "from sklearn.metrics import silhouette_samples, silhouette_score\n",
    "\n",
    "import matplotlib.pyplot as plt\n",
    "import matplotlib.cm as cm\n",
    "import numpy as np\n",
    "\n",
    "#print(__doc__)\n",
    "from matplotlib.backends.backend_pdf import PdfPages\n",
    "# Generating the sample data from make_blobs\n",
    "# This particular setting has one distinct cluster and 3 clusters placed close\n",
    "# together.\n",
    "\n",
    "pp = PdfPages('TempMapping.pdf')\n",
    "\n",
    "\n",
    "range_n_clusters = []\n",
    "for i in range(2,101): # make a list from 1 till 31\n",
    "    range_n_clusters.append(i)\n",
    "\n",
    "for n_clusters in range_n_clusters:\n",
    "    # Create a subplot with 1 row and 2 columns\n",
    "    fig, (ax1, ax2) = plt.subplots(1, 2)\n",
    "    fig.set_size_inches(18, 7)\n",
    "\n",
    "    # The 1st subplot is the silhouette plot\n",
    "    # The silhouette coefficient can range from -1, 1 but in this example all\n",
    "    # lie within [-0.1, 1]\n",
    "    ax1.set_xlim([-1, 1])\n",
    "    # The (n_clusters+1)*10 is for inserting blank space between silhouette\n",
    "    # plots of individual clusters, to demarcate them clearly.\n",
    "    ax1.set_ylim([0, len(a) + (n_clusters + 1) * 10])\n",
    "\n",
    "    # Initialize the clusterer with n_clusters value and a random generator\n",
    "    # seed of 10 for reproducibility.\n",
    "    clusterer = KMeans(n_clusters=n_clusters, random_state=10)\n",
    "    cluster_labels = clusterer.fit_predict(V_penul)\n",
    "\n",
    "    # The silhouette_score gives the average value for all the samples.\n",
    "    # This gives a perspective into the density and separation of the formed\n",
    "    # clusters\n",
    "    silhouette_avg = silhouette_score(V_penul, cluster_labels)\n",
    "    print(\"For n_clusters =\", n_clusters,\n",
    "          \"The average silhouette_score is :\", silhouette_avg)\n",
    "\n",
    "    # Compute the silhouette scores for each sample\n",
    "    sample_silhouette_values = silhouette_samples(V_penul, cluster_labels)\n",
    "\n",
    "    y_lower = 10\n",
    "    for i in range(n_clusters):\n",
    "        # Aggregate the silhouette scores for samples belonging to\n",
    "        # cluster i, and sort them\n",
    "        ith_cluster_silhouette_values = \\\n",
    "            sample_silhouette_values[cluster_labels == i]\n",
    "\n",
    "        ith_cluster_silhouette_values.sort()\n",
    "\n",
    "        size_cluster_i = ith_cluster_silhouette_values.shape[0]\n",
    "        y_upper = y_lower + size_cluster_i\n",
    "\n",
    "        color = cm.nipy_spectral(float(i) / n_clusters)\n",
    "        ax1.fill_betweenx(np.arange(y_lower, y_upper),\n",
    "                          0, ith_cluster_silhouette_values,\n",
    "                          facecolor=color, edgecolor=color, alpha=0.7)\n",
    "\n",
    "        # Label the silhouette plots with their cluster numbers at the middle\n",
    "        ax1.text(-0.05, y_lower + 0.5 * size_cluster_i, str(i))\n",
    "\n",
    "        # Compute the new y_lower for next plot\n",
    "        y_lower = y_upper + 10  # 10 for the 0 samples\n",
    "\n",
    "    ax1.set_title(\"The silhouette plot for the various clusters.\")\n",
    "    ax1.set_xlabel(\"The silhouette coefficient values\")\n",
    "    ax1.set_ylabel(\"Cluster label\")\n",
    "\n",
    "    # The vertical line for average silhouette score of all the values\n",
    "    ax1.axvline(x=silhouette_avg, color=\"red\", linestyle=\"--\")\n",
    "\n",
    "    ax1.set_yticks([])  # Clear the yaxis labels / ticks\n",
    "    ax1.set_xticks([-0.1, 0, 0.2, 0.4, 0.6, 0.8, 1])\n",
    "\n",
    "    # 2nd Plot showing the actual clusters formed\n",
    "    colors = cm.nipy_spectral(cluster_labels.astype(float) / n_clusters)\n",
    "    ax2.scatter(V_penul[:, 0], V_penul[:, 1], marker='.', s=30, lw=0, alpha=0.7,\n",
    "                c=colors, edgecolor='k')\n",
    "\n",
    "    # Labeling the clusters\n",
    "    centers = clusterer.cluster_centers_\n",
    "    # Draw white circles at cluster centers\n",
    "    ax2.scatter(centers[:, 0], centers[:, 1], marker='o',\n",
    "                c=\"white\", alpha=1, s=200, edgecolor='k')\n",
    "\n",
    "    for i, c in enumerate(centers):\n",
    "        ax2.scatter(c[0], c[1], marker='$%d$' % i, alpha=1,\n",
    "                    s=50, edgecolor='k')\n",
    "\n",
    "    ax2.set_title(\"The visualization of the clustered data.\")\n",
    "    ax2.set_xlabel(\"Feature space for the 1st feature\")\n",
    "    ax2.set_ylabel(\"Feature space for the 2nd feature\")\n",
    "\n",
    "    plt.suptitle((\"Silhouette analysis for KMeans clustering on sample data \"\n",
    "                  \"with n_clusters = {} with Average Silhouette of: {}\".format(n_clusters,silhouette_avg)),\n",
    "                 fontsize=14, fontweight='bold')\n",
    "    pp.savefig(fig)\n",
    "\n",
    "plt.show()\n",
    "pp.close()"
   ]
  },
  {
   "cell_type": "code",
   "execution_count": null,
   "metadata": {
    "ExecuteTime": {
     "end_time": "2019-05-30T12:32:54.340909Z",
     "start_time": "2019-05-30T12:20:02.172213Z"
    },
    "hidden": true,
    "scrolled": true
   },
   "outputs": [],
   "source": [
    "from sklearn.datasets import make_blobs\n",
    "from sklearn.cluster import KMeans\n",
    "from sklearn.metrics import silhouette_samples, silhouette_score\n",
    "\n",
    "import matplotlib.pyplot as plt\n",
    "import matplotlib.cm as cm\n",
    "import numpy as np\n",
    "\n",
    "#print(__doc__)\n",
    "from matplotlib.backends.backend_pdf import PdfPages\n",
    "# Generating the sample data from make_blobs\n",
    "# This particular setting has one distinct cluster and 3 clusters placed close\n",
    "# together.\n",
    "\n",
    "pp = PdfPages('Test_V_standard.pdf')\n",
    "\n",
    "\n",
    "range_n_clusters = []\n",
    "for i in range(2,101): # make a list from 1 till 31\n",
    "    range_n_clusters.append(i)\n",
    "\n",
    "for n_clusters in range_n_clusters:\n",
    "    # Create a subplot with 1 row and 2 columns\n",
    "    fig, (ax1, ax2) = plt.subplots(1, 2)\n",
    "    fig.set_size_inches(18, 7)\n",
    "\n",
    "    # The 1st subplot is the silhouette plot\n",
    "    # The silhouette coefficient can range from -1, 1 but in this example all\n",
    "    # lie within [-0.1, 1]\n",
    "    ax1.set_xlim([-1, 1])\n",
    "    # The (n_clusters+1)*10 is for inserting blank space between silhouette\n",
    "    # plots of individual clusters, to demarcate them clearly.\n",
    "    ax1.set_ylim([0, len(V_standard) + (n_clusters + 1) * 10])\n",
    "\n",
    "    # Initialize the clusterer with n_clusters value and a random generator\n",
    "    # seed of 10 for reproducibility.\n",
    "    clusterer = KMeans(n_clusters=n_clusters, random_state=10)\n",
    "    cluster_labels = clusterer.fit_predict(V_standard)\n",
    "\n",
    "    # The silhouette_score gives the average value for all the samples.\n",
    "    # This gives a perspective into the density and separation of the formed\n",
    "    # clusters\n",
    "    silhouette_avg = silhouette_score(V_standard, cluster_labels)\n",
    "    print(\"For n_clusters =\", n_clusters,\n",
    "          \"The average silhouette_score is :\", silhouette_avg)\n",
    "\n",
    "    # Compute the silhouette scores for each sample\n",
    "    sample_silhouette_values = silhouette_samples(V_standard, cluster_labels)\n",
    "\n",
    "    y_lower = 10\n",
    "    for i in range(n_clusters):\n",
    "        # Aggregate the silhouette scores for samples belonging to\n",
    "        # cluster i, and sort them\n",
    "        ith_cluster_silhouette_values = \\\n",
    "            sample_silhouette_values[cluster_labels == i]\n",
    "\n",
    "        ith_cluster_silhouette_values.sort()\n",
    "\n",
    "        size_cluster_i = ith_cluster_silhouette_values.shape[0]\n",
    "        y_upper = y_lower + size_cluster_i\n",
    "\n",
    "        color = cm.nipy_spectral(float(i) / n_clusters)\n",
    "        ax1.fill_betweenx(np.arange(y_lower, y_upper),\n",
    "                          0, ith_cluster_silhouette_values,\n",
    "                          facecolor=color, edgecolor=color, alpha=0.7)\n",
    "\n",
    "        # Label the silhouette plots with their cluster numbers at the middle\n",
    "        ax1.text(-0.05, y_lower + 0.5 * size_cluster_i, str(i))\n",
    "\n",
    "        # Compute the new y_lower for next plot\n",
    "        y_lower = y_upper + 10  # 10 for the 0 samples\n",
    "\n",
    "    ax1.set_title(\"The silhouette plot for the various clusters.\")\n",
    "    ax1.set_xlabel(\"The silhouette coefficient values\")\n",
    "    ax1.set_ylabel(\"Cluster label\")\n",
    "\n",
    "    # The vertical line for average silhouette score of all the values\n",
    "    ax1.axvline(x=silhouette_avg, color=\"red\", linestyle=\"--\")\n",
    "\n",
    "    ax1.set_yticks([])  # Clear the yaxis labels / ticks\n",
    "    ax1.set_xticks([-0.1, 0, 0.2, 0.4, 0.6, 0.8, 1])\n",
    "\n",
    "    # 2nd Plot showing the actual clusters formed\n",
    "    colors = cm.nipy_spectral(cluster_labels.astype(float) / n_clusters)\n",
    "    ax2.scatter(V_standard[:, 0], V_standard[:, 1], marker='.', s=30, lw=0, alpha=0.7,\n",
    "                c=colors, edgecolor='k')\n",
    "\n",
    "    # Labeling the clusters\n",
    "    centers = clusterer.cluster_centers_\n",
    "    # Draw white circles at cluster centers\n",
    "    ax2.scatter(centers[:, 0], centers[:, 1], marker='o',\n",
    "                c=\"white\", alpha=1, s=200, edgecolor='k')\n",
    "\n",
    "    for i, c in enumerate(centers):\n",
    "        ax2.scatter(c[0], c[1], marker='$%d$' % i, alpha=1,\n",
    "                    s=50, edgecolor='k')\n",
    "\n",
    "    ax2.set_title(\"The visualization of the clustered data.\")\n",
    "    ax2.set_xlabel(\"Feature space for the 1st feature\")\n",
    "    ax2.set_ylabel(\"Feature space for the 2nd feature\")\n",
    "\n",
    "    plt.suptitle((\"Silhouette analysis for KMeans clustering on sample data \"\n",
    "                  \"with n_clusters = {} with Average Silhouette of: {}\".format(n_clusters,silhouette_avg)),\n",
    "                 fontsize=14, fontweight='bold')\n",
    "    pp.savefig(fig)\n",
    "\n",
    "plt.show()\n",
    "pp.close()"
   ]
  },
  {
   "cell_type": "markdown",
   "metadata": {},
   "source": [
    "# Storing Locally"
   ]
  },
  {
   "cell_type": "code",
   "execution_count": null,
   "metadata": {
    "ExecuteTime": {
     "end_time": "2019-06-07T11:00:06.168681Z",
     "start_time": "2019-06-07T11:00:06.161494Z"
    }
   },
   "outputs": [],
   "source": [
    "data[1]"
   ]
  },
  {
   "cell_type": "code",
   "execution_count": null,
   "metadata": {
    "ExecuteTime": {
     "end_time": "2019-06-07T11:00:07.451572Z",
     "start_time": "2019-06-07T11:00:07.447371Z"
    }
   },
   "outputs": [],
   "source": [
    "sequences_full[1]"
   ]
  },
  {
   "cell_type": "code",
   "execution_count": null,
   "metadata": {
    "ExecuteTime": {
     "end_time": "2019-06-07T11:00:08.070094Z",
     "start_time": "2019-06-07T11:00:08.063456Z"
    }
   },
   "outputs": [],
   "source": [
    "X[1]"
   ]
  },
  {
   "cell_type": "code",
   "execution_count": null,
   "metadata": {
    "ExecuteTime": {
     "end_time": "2019-06-07T11:00:15.711873Z",
     "start_time": "2019-06-07T11:00:15.705478Z"
    }
   },
   "outputs": [],
   "source": [
    "H_standard[1]"
   ]
  },
  {
   "cell_type": "code",
   "execution_count": null,
   "metadata": {
    "ExecuteTime": {
     "end_time": "2019-06-07T11:00:21.029903Z",
     "start_time": "2019-06-07T11:00:21.023322Z"
    }
   },
   "outputs": [],
   "source": [
    "V_standard[1]"
   ]
  },
  {
   "cell_type": "code",
   "execution_count": null,
   "metadata": {
    "ExecuteTime": {
     "end_time": "2019-06-07T11:01:44.126090Z",
     "start_time": "2019-06-07T11:01:44.122233Z"
    }
   },
   "outputs": [],
   "source": [
    "pred_standard[1]"
   ]
  },
  {
   "cell_type": "code",
   "execution_count": null,
   "metadata": {
    "ExecuteTime": {
     "end_time": "2019-06-07T11:01:45.105544Z",
     "start_time": "2019-06-07T11:01:45.099237Z"
    }
   },
   "outputs": [],
   "source": [
    "pred1_standard[1]"
   ]
  },
  {
   "cell_type": "code",
   "execution_count": null,
   "metadata": {
    "ExecuteTime": {
     "end_time": "2019-06-07T11:18:56.004157Z",
     "start_time": "2019-06-07T11:18:55.865773Z"
    }
   },
   "outputs": [],
   "source": [
    "import pandas as pd\n",
    "d = []\n",
    "for i in range(len(data)):\n",
    "    d.append({'Keywords': data[i], 'Sequence_Full': sequences_full[i], 'Prediction':pred_standard[i]})\n",
    "d = pd.DataFrame(d)\n",
    "#d.sort_values('Prediction')\n",
    "d.to_csv('CNN_Demo-HippoBased_Labels.csv')"
   ]
  },
  {
   "cell_type": "code",
   "execution_count": null,
   "metadata": {
    "ExecuteTime": {
     "end_time": "2019-06-07T11:02:33.415577Z",
     "start_time": "2019-06-07T11:02:33.164029Z"
    }
   },
   "outputs": [],
   "source": [
    "d.reset_index().plot.scatter(x='index', y='Prediction')"
   ]
  },
  {
   "cell_type": "code",
   "execution_count": null,
   "metadata": {
    "ExecuteTime": {
     "end_time": "2019-06-07T11:02:34.489997Z",
     "start_time": "2019-06-07T11:02:34.347985Z"
    }
   },
   "outputs": [],
   "source": [
    "d[\"Prediction\"].value_counts().plot.bar()"
   ]
  },
  {
   "cell_type": "code",
   "execution_count": null,
   "metadata": {
    "ExecuteTime": {
     "end_time": "2019-06-07T11:02:35.184936Z",
     "start_time": "2019-06-07T11:02:35.156193Z"
    }
   },
   "outputs": [],
   "source": [
    "d.sort_values('Prediction')"
   ]
  }
 ],
 "metadata": {
  "kernelspec": {
   "display_name": "Python 3",
   "language": "python",
   "name": "python3"
  },
  "language_info": {
   "codemirror_mode": {
    "name": "ipython",
    "version": 3
   },
   "file_extension": ".py",
   "mimetype": "text/x-python",
   "name": "python",
   "nbconvert_exporter": "python",
   "pygments_lexer": "ipython3",
   "version": "3.7.3"
  },
  "toc": {
   "base_numbering": 1,
   "nav_menu": {},
   "number_sections": true,
   "sideBar": true,
   "skip_h1_title": false,
   "title_cell": "Table of Contents",
   "title_sidebar": "Contents",
   "toc_cell": false,
   "toc_position": {},
   "toc_section_display": true,
   "toc_window_display": false
  },
  "varInspector": {
   "cols": {
    "lenName": 16,
    "lenType": 16,
    "lenVar": 40
   },
   "kernels_config": {
    "python": {
     "delete_cmd_postfix": "",
     "delete_cmd_prefix": "del ",
     "library": "var_list.py",
     "varRefreshCmd": "print(var_dic_list())"
    },
    "r": {
     "delete_cmd_postfix": ") ",
     "delete_cmd_prefix": "rm(",
     "library": "var_list.r",
     "varRefreshCmd": "cat(var_dic_list()) "
    }
   },
   "position": {
    "height": "144px",
    "left": "1069px",
    "right": "20px",
    "top": "120px",
    "width": "350px"
   },
   "types_to_exclude": [
    "module",
    "function",
    "builtin_function_or_method",
    "instance",
    "_Feature"
   ],
   "window_display": false
  }
 },
 "nbformat": 4,
 "nbformat_minor": 2
}
