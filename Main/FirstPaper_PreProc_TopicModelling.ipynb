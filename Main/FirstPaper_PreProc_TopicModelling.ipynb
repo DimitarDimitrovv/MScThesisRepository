{
 "cells": [
  {
   "cell_type": "markdown",
   "metadata": {},
   "source": [
    "# Importing Packages"
   ]
  },
  {
   "cell_type": "code",
   "execution_count": 1,
   "metadata": {
    "ExecuteTime": {
     "end_time": "2019-06-13T12:46:52.028949Z",
     "start_time": "2019-06-13T12:46:49.468606Z"
    }
   },
   "outputs": [],
   "source": [
    "# Basic\n",
    "import pandas as pd\n",
    "import json\n",
    "import collections\n",
    "from collections import defaultdict\n",
    "import itertools\n",
    "from itertools import chain\n",
    "import urllib\n",
    "from urllib.parse import urlparse\n",
    "import re\n",
    "import numpy as np\n",
    "import datetime\n",
    "import mysql.connector\n",
    "\n",
    "# Advanced\n",
    "from pandas.io.json import json_normalize\n",
    "import operator\n",
    "from operator import itemgetter\n",
    "\n",
    "# Language processing\n",
    "import nltk\n",
    "#nltk.download('punkt')\n",
    "#nltk.download('stopwords')\n",
    "#nltk.download('wordnet')\n",
    "from nltk import word_tokenize\n",
    "from nltk.corpus import stopwords\n",
    "from nltk.stem import PorterStemmer\n",
    "from nltk.stem import WordNetLemmatizer \n",
    "lemmatizer = WordNetLemmatizer()\n",
    "from nltk.corpus import wordnet as wn\n",
    "from gensim.models import word2vec\n",
    "from gensim import corpora\n",
    "from gensim.models import CoherenceModel\n",
    "from gensim.models.keyedvectors import KeyedVectors\n",
    "from wordsegment import load, segment\n",
    "load() # for spell checking\n",
    "SpellCheck = segment\n",
    "\n",
    "# Visualizations\n",
    "from sklearn.manifold import TSNE\n",
    "import matplotlib.pyplot as plt\n",
    "%matplotlib inline"
   ]
  },
  {
   "cell_type": "markdown",
   "metadata": {},
   "source": [
    "# Establishing Connection"
   ]
  },
  {
   "cell_type": "code",
   "execution_count": 2,
   "metadata": {
    "ExecuteTime": {
     "end_time": "2019-06-13T12:46:53.798663Z",
     "start_time": "2019-06-13T12:46:53.582920Z"
    }
   },
   "outputs": [
    {
     "ename": "DatabaseError",
     "evalue": "2003 (HY000): Can't connect to MySQL server on '127.0.0.1' (61)",
     "output_type": "error",
     "traceback": [
      "\u001b[0;31m---------------------------------------------------------------------------\u001b[0m",
      "\u001b[0;31mMySQLInterfaceError\u001b[0m                       Traceback (most recent call last)",
      "\u001b[0;32m~/anaconda3/lib/python3.7/site-packages/mysql/connector/connection_cext.py\u001b[0m in \u001b[0;36m_open_connection\u001b[0;34m(self)\u001b[0m\n\u001b[1;32m    175\u001b[0m         \u001b[0;32mtry\u001b[0m\u001b[0;34m:\u001b[0m\u001b[0;34m\u001b[0m\u001b[0;34m\u001b[0m\u001b[0m\n\u001b[0;32m--> 176\u001b[0;31m             \u001b[0mself\u001b[0m\u001b[0;34m.\u001b[0m\u001b[0m_cmysql\u001b[0m\u001b[0;34m.\u001b[0m\u001b[0mconnect\u001b[0m\u001b[0;34m(\u001b[0m\u001b[0;34m**\u001b[0m\u001b[0mcnx_kwargs\u001b[0m\u001b[0;34m)\u001b[0m\u001b[0;34m\u001b[0m\u001b[0;34m\u001b[0m\u001b[0m\n\u001b[0m\u001b[1;32m    177\u001b[0m         \u001b[0;32mexcept\u001b[0m \u001b[0mMySQLInterfaceError\u001b[0m \u001b[0;32mas\u001b[0m \u001b[0mexc\u001b[0m\u001b[0;34m:\u001b[0m\u001b[0;34m\u001b[0m\u001b[0;34m\u001b[0m\u001b[0m\n",
      "\u001b[0;31mMySQLInterfaceError\u001b[0m: Can't connect to MySQL server on '127.0.0.1' (61)",
      "\nDuring handling of the above exception, another exception occurred:\n",
      "\u001b[0;31mDatabaseError\u001b[0m                             Traceback (most recent call last)",
      "\u001b[0;32m<ipython-input-2-5e9a923415b9>\u001b[0m in \u001b[0;36m<module>\u001b[0;34m\u001b[0m\n\u001b[1;32m      6\u001b[0m         \u001b[0;34m'ssl_disabled'\u001b[0m \u001b[0;34m:\u001b[0m \u001b[0;34m'True'\u001b[0m\u001b[0;34m\u001b[0m\u001b[0;34m\u001b[0m\u001b[0m\n\u001b[1;32m      7\u001b[0m     }\n\u001b[0;32m----> 8\u001b[0;31m \u001b[0mcon_own\u001b[0m \u001b[0;34m=\u001b[0m \u001b[0mmysql\u001b[0m\u001b[0;34m.\u001b[0m\u001b[0mconnector\u001b[0m\u001b[0;34m.\u001b[0m\u001b[0mconnect\u001b[0m\u001b[0;34m(\u001b[0m\u001b[0;34m**\u001b[0m\u001b[0mconfig_own\u001b[0m\u001b[0;34m)\u001b[0m\u001b[0;34m\u001b[0m\u001b[0;34m\u001b[0m\u001b[0m\n\u001b[0m",
      "\u001b[0;32m~/anaconda3/lib/python3.7/site-packages/mysql/connector/__init__.py\u001b[0m in \u001b[0;36mconnect\u001b[0;34m(*args, **kwargs)\u001b[0m\n\u001b[1;32m    170\u001b[0m \u001b[0;34m\u001b[0m\u001b[0m\n\u001b[1;32m    171\u001b[0m     \u001b[0;32mif\u001b[0m \u001b[0mHAVE_CEXT\u001b[0m \u001b[0;32mand\u001b[0m \u001b[0;32mnot\u001b[0m \u001b[0muse_pure\u001b[0m\u001b[0;34m:\u001b[0m\u001b[0;34m\u001b[0m\u001b[0;34m\u001b[0m\u001b[0m\n\u001b[0;32m--> 172\u001b[0;31m         \u001b[0;32mreturn\u001b[0m \u001b[0mCMySQLConnection\u001b[0m\u001b[0;34m(\u001b[0m\u001b[0;34m*\u001b[0m\u001b[0margs\u001b[0m\u001b[0;34m,\u001b[0m \u001b[0;34m**\u001b[0m\u001b[0mkwargs\u001b[0m\u001b[0;34m)\u001b[0m\u001b[0;34m\u001b[0m\u001b[0;34m\u001b[0m\u001b[0m\n\u001b[0m\u001b[1;32m    173\u001b[0m     \u001b[0;32mreturn\u001b[0m \u001b[0mMySQLConnection\u001b[0m\u001b[0;34m(\u001b[0m\u001b[0;34m*\u001b[0m\u001b[0margs\u001b[0m\u001b[0;34m,\u001b[0m \u001b[0;34m**\u001b[0m\u001b[0mkwargs\u001b[0m\u001b[0;34m)\u001b[0m\u001b[0;34m\u001b[0m\u001b[0;34m\u001b[0m\u001b[0m\n\u001b[1;32m    174\u001b[0m \u001b[0mConnect\u001b[0m \u001b[0;34m=\u001b[0m \u001b[0mconnect\u001b[0m  \u001b[0;31m# pylint: disable=C0103\u001b[0m\u001b[0;34m\u001b[0m\u001b[0;34m\u001b[0m\u001b[0m\n",
      "\u001b[0;32m~/anaconda3/lib/python3.7/site-packages/mysql/connector/connection_cext.py\u001b[0m in \u001b[0;36m__init__\u001b[0;34m(self, **kwargs)\u001b[0m\n\u001b[1;32m     76\u001b[0m \u001b[0;34m\u001b[0m\u001b[0m\n\u001b[1;32m     77\u001b[0m         \u001b[0;32mif\u001b[0m \u001b[0mkwargs\u001b[0m\u001b[0;34m:\u001b[0m\u001b[0;34m\u001b[0m\u001b[0;34m\u001b[0m\u001b[0m\n\u001b[0;32m---> 78\u001b[0;31m             \u001b[0mself\u001b[0m\u001b[0;34m.\u001b[0m\u001b[0mconnect\u001b[0m\u001b[0;34m(\u001b[0m\u001b[0;34m**\u001b[0m\u001b[0mkwargs\u001b[0m\u001b[0;34m)\u001b[0m\u001b[0;34m\u001b[0m\u001b[0;34m\u001b[0m\u001b[0m\n\u001b[0m\u001b[1;32m     79\u001b[0m \u001b[0;34m\u001b[0m\u001b[0m\n\u001b[1;32m     80\u001b[0m     \u001b[0;32mdef\u001b[0m \u001b[0m_do_handshake\u001b[0m\u001b[0;34m(\u001b[0m\u001b[0mself\u001b[0m\u001b[0;34m)\u001b[0m\u001b[0;34m:\u001b[0m\u001b[0;34m\u001b[0m\u001b[0;34m\u001b[0m\u001b[0m\n",
      "\u001b[0;32m~/anaconda3/lib/python3.7/site-packages/mysql/connector/abstracts.py\u001b[0m in \u001b[0;36mconnect\u001b[0;34m(self, **kwargs)\u001b[0m\n\u001b[1;32m    729\u001b[0m \u001b[0;34m\u001b[0m\u001b[0m\n\u001b[1;32m    730\u001b[0m         \u001b[0mself\u001b[0m\u001b[0;34m.\u001b[0m\u001b[0mdisconnect\u001b[0m\u001b[0;34m(\u001b[0m\u001b[0;34m)\u001b[0m\u001b[0;34m\u001b[0m\u001b[0;34m\u001b[0m\u001b[0m\n\u001b[0;32m--> 731\u001b[0;31m         \u001b[0mself\u001b[0m\u001b[0;34m.\u001b[0m\u001b[0m_open_connection\u001b[0m\u001b[0;34m(\u001b[0m\u001b[0;34m)\u001b[0m\u001b[0;34m\u001b[0m\u001b[0;34m\u001b[0m\u001b[0m\n\u001b[0m\u001b[1;32m    732\u001b[0m         \u001b[0mself\u001b[0m\u001b[0;34m.\u001b[0m\u001b[0m_post_connection\u001b[0m\u001b[0;34m(\u001b[0m\u001b[0;34m)\u001b[0m\u001b[0;34m\u001b[0m\u001b[0;34m\u001b[0m\u001b[0m\n\u001b[1;32m    733\u001b[0m \u001b[0;34m\u001b[0m\u001b[0m\n",
      "\u001b[0;32m~/anaconda3/lib/python3.7/site-packages/mysql/connector/connection_cext.py\u001b[0m in \u001b[0;36m_open_connection\u001b[0;34m(self)\u001b[0m\n\u001b[1;32m    177\u001b[0m         \u001b[0;32mexcept\u001b[0m \u001b[0mMySQLInterfaceError\u001b[0m \u001b[0;32mas\u001b[0m \u001b[0mexc\u001b[0m\u001b[0;34m:\u001b[0m\u001b[0;34m\u001b[0m\u001b[0;34m\u001b[0m\u001b[0m\n\u001b[1;32m    178\u001b[0m             raise errors.get_mysql_exception(msg=exc.msg, errno=exc.errno,\n\u001b[0;32m--> 179\u001b[0;31m                                              sqlstate=exc.sqlstate)\n\u001b[0m\u001b[1;32m    180\u001b[0m         \u001b[0mself\u001b[0m\u001b[0;34m.\u001b[0m\u001b[0m_do_handshake\u001b[0m\u001b[0;34m(\u001b[0m\u001b[0;34m)\u001b[0m\u001b[0;34m\u001b[0m\u001b[0;34m\u001b[0m\u001b[0m\n\u001b[1;32m    181\u001b[0m \u001b[0;34m\u001b[0m\u001b[0m\n",
      "\u001b[0;31mDatabaseError\u001b[0m: 2003 (HY000): Can't connect to MySQL server on '127.0.0.1' (61)"
     ]
    }
   ],
   "source": [
    "config_own = {\n",
    "        'user' : 'root', \n",
    "        'password' :'MacBookAir1231', \n",
    "        'host' : '127.0.0.1',\n",
    "        'database' : 'TargetDB',\n",
    "        'ssl_disabled' : 'True'\n",
    "    }\n",
    "con_own = mysql.connector.connect(**config_own)"
   ]
  },
  {
   "cell_type": "markdown",
   "metadata": {},
   "source": [
    "# Query Loader"
   ]
  },
  {
   "cell_type": "code",
   "execution_count": null,
   "metadata": {
    "ExecuteTime": {
     "end_time": "2019-06-13T12:46:53.801778Z",
     "start_time": "2019-06-13T12:46:52.358Z"
    }
   },
   "outputs": [],
   "source": [
    "test_own = pd.read_sql_query('select entry from requestlog limit 20000', con_own)"
   ]
  },
  {
   "cell_type": "code",
   "execution_count": 4,
   "metadata": {
    "ExecuteTime": {
     "end_time": "2019-06-13T08:07:50.942921Z",
     "start_time": "2019-06-13T08:07:50.933269Z"
    }
   },
   "outputs": [
    {
     "data": {
      "text/html": [
       "<div>\n",
       "<style scoped>\n",
       "    .dataframe tbody tr th:only-of-type {\n",
       "        vertical-align: middle;\n",
       "    }\n",
       "\n",
       "    .dataframe tbody tr th {\n",
       "        vertical-align: top;\n",
       "    }\n",
       "\n",
       "    .dataframe thead th {\n",
       "        text-align: right;\n",
       "    }\n",
       "</style>\n",
       "<table border=\"1\" class=\"dataframe\">\n",
       "  <thead>\n",
       "    <tr style=\"text-align: right;\">\n",
       "      <th></th>\n",
       "      <th>entry</th>\n",
       "    </tr>\n",
       "  </thead>\n",
       "  <tbody>\n",
       "    <tr>\n",
       "      <th>0</th>\n",
       "      <td>{\"visitorId\":\"63077af1-c15d-40e8-9b2b-64c36d18...</td>\n",
       "    </tr>\n",
       "    <tr>\n",
       "      <th>1</th>\n",
       "      <td>{\"visitorId\":\"0f4c7121-f5ca-42ef-aad4-e6ed09af...</td>\n",
       "    </tr>\n",
       "    <tr>\n",
       "      <th>2</th>\n",
       "      <td>{\"visitorId\":\"7f0ac3e8-0a1e-4ae3-88c2-5daa045c...</td>\n",
       "    </tr>\n",
       "    <tr>\n",
       "      <th>3</th>\n",
       "      <td>{\"visitorId\":\"318666e5-b268-4bb7-87c3-04141445...</td>\n",
       "    </tr>\n",
       "    <tr>\n",
       "      <th>4</th>\n",
       "      <td>{\"visitorId\":\"a66172dc-85b7-4814-97c1-65ce52a0...</td>\n",
       "    </tr>\n",
       "    <tr>\n",
       "      <th>5</th>\n",
       "      <td>{\"visitorId\":\"2b00c776-8e5b-4d2c-b72d-84ac31e3...</td>\n",
       "    </tr>\n",
       "    <tr>\n",
       "      <th>6</th>\n",
       "      <td>{\"visitorId\":\"318666e5-b268-4bb7-87c3-04141445...</td>\n",
       "    </tr>\n",
       "    <tr>\n",
       "      <th>7</th>\n",
       "      <td>{\"visitorId\":\"318666e5-b268-4bb7-87c3-04141445...</td>\n",
       "    </tr>\n",
       "    <tr>\n",
       "      <th>8</th>\n",
       "      <td>{\"visitorId\":\"318666e5-b268-4bb7-87c3-04141445...</td>\n",
       "    </tr>\n",
       "    <tr>\n",
       "      <th>9</th>\n",
       "      <td>{\"visitorId\":\"318666e5-b268-4bb7-87c3-04141445...</td>\n",
       "    </tr>\n",
       "  </tbody>\n",
       "</table>\n",
       "</div>"
      ],
      "text/plain": [
       "                                               entry\n",
       "0  {\"visitorId\":\"63077af1-c15d-40e8-9b2b-64c36d18...\n",
       "1  {\"visitorId\":\"0f4c7121-f5ca-42ef-aad4-e6ed09af...\n",
       "2  {\"visitorId\":\"7f0ac3e8-0a1e-4ae3-88c2-5daa045c...\n",
       "3  {\"visitorId\":\"318666e5-b268-4bb7-87c3-04141445...\n",
       "4  {\"visitorId\":\"a66172dc-85b7-4814-97c1-65ce52a0...\n",
       "5  {\"visitorId\":\"2b00c776-8e5b-4d2c-b72d-84ac31e3...\n",
       "6  {\"visitorId\":\"318666e5-b268-4bb7-87c3-04141445...\n",
       "7  {\"visitorId\":\"318666e5-b268-4bb7-87c3-04141445...\n",
       "8  {\"visitorId\":\"318666e5-b268-4bb7-87c3-04141445...\n",
       "9  {\"visitorId\":\"318666e5-b268-4bb7-87c3-04141445..."
      ]
     },
     "execution_count": 4,
     "metadata": {},
     "output_type": "execute_result"
    }
   ],
   "source": [
    "test_own.head(10)"
   ]
  },
  {
   "cell_type": "markdown",
   "metadata": {},
   "source": [
    "# Making Data Dump"
   ]
  },
  {
   "cell_type": "code",
   "execution_count": 4,
   "metadata": {
    "ExecuteTime": {
     "end_time": "2019-06-13T12:47:04.852759Z",
     "start_time": "2019-06-13T12:47:04.850185Z"
    }
   },
   "outputs": [],
   "source": [
    "query = 'select entry from requestlog limit 1000'\n",
    "path = 'query_sample_paper'"
   ]
  },
  {
   "cell_type": "code",
   "execution_count": 6,
   "metadata": {
    "ExecuteTime": {
     "end_time": "2019-06-13T08:08:08.415584Z",
     "start_time": "2019-06-13T08:08:08.410469Z"
    }
   },
   "outputs": [],
   "source": [
    "def query_to_json_file(query, column, path_file):\n",
    "        index = 0\n",
    "        data_json = []\n",
    "\n",
    "        while (index < len(query)):\n",
    "            j = query.get_value(index, column)\n",
    "            #my_json = j.decode('utf8')\n",
    "            data = json.loads(j)\n",
    "            data_json.append(data)\n",
    "            index += 1\n",
    "\n",
    "        print(\"DONE 1\")\n",
    "\n",
    "        if path_file != \"\":\n",
    "            with open(path_file, 'w') as outfile:\n",
    "                json.dump(data_json, outfile, indent=0)\n",
    "\n",
    "            print(\"DONE 2\")\n",
    "\n",
    "        else:\n",
    "            return data_json"
   ]
  },
  {
   "cell_type": "code",
   "execution_count": 7,
   "metadata": {
    "ExecuteTime": {
     "end_time": "2019-06-13T08:08:12.276827Z",
     "start_time": "2019-06-13T08:08:09.484502Z"
    }
   },
   "outputs": [
    {
     "name": "stderr",
     "output_type": "stream",
     "text": [
      "/Users/Dimitar/anaconda3/lib/python3.7/site-packages/ipykernel_launcher.py:6: FutureWarning: get_value is deprecated and will be removed in a future release. Please use .at[] or .iat[] accessors instead\n",
      "  \n"
     ]
    },
    {
     "name": "stdout",
     "output_type": "stream",
     "text": [
      "DONE 1\n",
      "DONE 2\n"
     ]
    }
   ],
   "source": [
    "query_to_json_file(test_own,'entry',path)"
   ]
  },
  {
   "cell_type": "markdown",
   "metadata": {},
   "source": [
    "# Testing Json Dump"
   ]
  },
  {
   "cell_type": "code",
   "execution_count": 3,
   "metadata": {
    "ExecuteTime": {
     "end_time": "2019-06-13T12:46:58.924838Z",
     "start_time": "2019-06-13T12:46:58.921665Z"
    }
   },
   "outputs": [],
   "source": [
    "def json_read(filepath, multiline=False):\n",
    "        file = pd.read_json(filepath, lines=multiline, convert_dates=False)\n",
    "        print(\"Step 1/7 - Reading, done...\")\n",
    "        return file"
   ]
  },
  {
   "cell_type": "code",
   "execution_count": 5,
   "metadata": {
    "ExecuteTime": {
     "end_time": "2019-06-13T12:47:10.663635Z",
     "start_time": "2019-06-13T12:47:10.060004Z"
    }
   },
   "outputs": [
    {
     "name": "stdout",
     "output_type": "stream",
     "text": [
      "Step 1/7 - Reading, done...\n"
     ]
    }
   ],
   "source": [
    "path = 'query_sample'\n",
    "json_test = json_read(path)"
   ]
  },
  {
   "cell_type": "markdown",
   "metadata": {},
   "source": [
    "# Filtering"
   ]
  },
  {
   "cell_type": "code",
   "execution_count": 7,
   "metadata": {
    "ExecuteTime": {
     "end_time": "2019-06-13T12:47:18.618303Z",
     "start_time": "2019-06-13T12:47:18.614955Z"
    }
   },
   "outputs": [],
   "source": [
    "def filter_columns(data_frame):\n",
    "        collector_data = json_normalize(data_frame['collectorData'])\n",
    "        all_data = pd.concat([collector_data, data_frame], axis=1)\n",
    "        keep_list = ['visitorId', 'timestamp', 'pageUrl',\n",
    "                     'newVisit', 'pageId']\n",
    "        processed_data = all_data[keep_list]\n",
    "        print(\"Step 2/7 - Filtering, done...\")\n",
    "        return processed_data"
   ]
  },
  {
   "cell_type": "code",
   "execution_count": 8,
   "metadata": {
    "ExecuteTime": {
     "end_time": "2019-06-13T12:47:22.172351Z",
     "start_time": "2019-06-13T12:47:20.407414Z"
    }
   },
   "outputs": [
    {
     "name": "stdout",
     "output_type": "stream",
     "text": [
      "Step 2/7 - Filtering, done...\n"
     ]
    }
   ],
   "source": [
    "filter_test = filter_columns(json_test)"
   ]
  },
  {
   "cell_type": "code",
   "execution_count": 9,
   "metadata": {
    "ExecuteTime": {
     "end_time": "2019-06-13T12:47:22.293919Z",
     "start_time": "2019-06-13T12:47:22.290398Z"
    }
   },
   "outputs": [],
   "source": [
    "# fixing unix timestamp\n",
    "def formatTime(value):\n",
    "    timestamp, ms = divmod(value, 1000)\n",
    "    dt = datetime.datetime.fromtimestamp(timestamp) + datetime.timedelta(milliseconds=ms)\n",
    "    formatted_time = dt.strftime('%Y-%m-%d %H:%M:%S.%f')[:-3]\n",
    "    return formatted_time"
   ]
  },
  {
   "cell_type": "code",
   "execution_count": 13,
   "metadata": {
    "ExecuteTime": {
     "end_time": "2019-06-13T08:48:07.496821Z",
     "start_time": "2019-06-13T08:48:07.493050Z"
    }
   },
   "outputs": [
    {
     "data": {
      "text/plain": [
       "'2019-04-15 05:35:16.393'"
      ]
     },
     "execution_count": 13,
     "metadata": {},
     "output_type": "execute_result"
    }
   ],
   "source": [
    "formatTime(1555299316393)"
   ]
  },
  {
   "cell_type": "code",
   "execution_count": 15,
   "metadata": {
    "ExecuteTime": {
     "end_time": "2019-06-13T08:48:44.615615Z",
     "start_time": "2019-06-13T08:48:44.612193Z"
    }
   },
   "outputs": [
    {
     "data": {
      "text/plain": [
       "'2016-08-29 18:46:03.111'"
      ]
     },
     "execution_count": 15,
     "metadata": {},
     "output_type": "execute_result"
    }
   ],
   "source": [
    "formatTime(1472489163111)"
   ]
  },
  {
   "cell_type": "code",
   "execution_count": 10,
   "metadata": {
    "ExecuteTime": {
     "end_time": "2019-06-13T12:47:24.299964Z",
     "start_time": "2019-06-13T12:47:23.704562Z"
    }
   },
   "outputs": [],
   "source": [
    "filter_test['timestamp'] = filter_test.apply(lambda row: formatTime(row['timestamp']), axis=1)"
   ]
  },
  {
   "cell_type": "code",
   "execution_count": 11,
   "metadata": {
    "ExecuteTime": {
     "end_time": "2019-06-13T12:47:27.376919Z",
     "start_time": "2019-06-13T12:47:27.367846Z"
    }
   },
   "outputs": [
    {
     "data": {
      "text/html": [
       "<div>\n",
       "<style scoped>\n",
       "    .dataframe tbody tr th:only-of-type {\n",
       "        vertical-align: middle;\n",
       "    }\n",
       "\n",
       "    .dataframe tbody tr th {\n",
       "        vertical-align: top;\n",
       "    }\n",
       "\n",
       "    .dataframe thead th {\n",
       "        text-align: right;\n",
       "    }\n",
       "</style>\n",
       "<table border=\"1\" class=\"dataframe\">\n",
       "  <thead>\n",
       "    <tr style=\"text-align: right;\">\n",
       "      <th></th>\n",
       "      <th>visitorId</th>\n",
       "      <th>timestamp</th>\n",
       "      <th>pageUrl</th>\n",
       "      <th>newVisit</th>\n",
       "      <th>pageId</th>\n",
       "    </tr>\n",
       "  </thead>\n",
       "  <tbody>\n",
       "    <tr>\n",
       "      <th>0</th>\n",
       "      <td>63077af1-c15d-40e8-9b2b-64c36d188658</td>\n",
       "      <td>2016-08-29 18:46:05.809</td>\n",
       "      <td>https://www.onehippo.org/library/administratio...</td>\n",
       "      <td>True</td>\n",
       "      <td>hst:pages/documentation</td>\n",
       "    </tr>\n",
       "    <tr>\n",
       "      <th>1</th>\n",
       "      <td>0f4c7121-f5ca-42ef-aad4-e6ed09afcdde</td>\n",
       "      <td>2016-08-29 18:46:03.111</td>\n",
       "      <td>https://www.onehippo.com/en/digital-experience...</td>\n",
       "      <td>True</td>\n",
       "      <td>hst:pages/Digital-experience-platform</td>\n",
       "    </tr>\n",
       "    <tr>\n",
       "      <th>2</th>\n",
       "      <td>7f0ac3e8-0a1e-4ae3-88c2-5daa045c5500</td>\n",
       "      <td>2016-08-29 18:46:09.518</td>\n",
       "      <td>https://www.onehippo.org/</td>\n",
       "      <td>True</td>\n",
       "      <td>hst:pages/home</td>\n",
       "    </tr>\n",
       "    <tr>\n",
       "      <th>3</th>\n",
       "      <td>318666e5-b268-4bb7-87c3-04141445a061</td>\n",
       "      <td>2016-08-29 18:46:11.279</td>\n",
       "      <td>https://www.onehippo.org/</td>\n",
       "      <td>True</td>\n",
       "      <td>hst:pages/home</td>\n",
       "    </tr>\n",
       "    <tr>\n",
       "      <th>4</th>\n",
       "      <td>a66172dc-85b7-4814-97c1-65ce52a02b21</td>\n",
       "      <td>2016-08-29 18:46:14.663</td>\n",
       "      <td>http://www.onehippo.com/connect/boston</td>\n",
       "      <td>True</td>\n",
       "      <td>hst:pages/boston</td>\n",
       "    </tr>\n",
       "  </tbody>\n",
       "</table>\n",
       "</div>"
      ],
      "text/plain": [
       "                              visitorId                timestamp  \\\n",
       "0  63077af1-c15d-40e8-9b2b-64c36d188658  2016-08-29 18:46:05.809   \n",
       "1  0f4c7121-f5ca-42ef-aad4-e6ed09afcdde  2016-08-29 18:46:03.111   \n",
       "2  7f0ac3e8-0a1e-4ae3-88c2-5daa045c5500  2016-08-29 18:46:09.518   \n",
       "3  318666e5-b268-4bb7-87c3-04141445a061  2016-08-29 18:46:11.279   \n",
       "4  a66172dc-85b7-4814-97c1-65ce52a02b21  2016-08-29 18:46:14.663   \n",
       "\n",
       "                                             pageUrl  newVisit  \\\n",
       "0  https://www.onehippo.org/library/administratio...      True   \n",
       "1  https://www.onehippo.com/en/digital-experience...      True   \n",
       "2                          https://www.onehippo.org/      True   \n",
       "3                          https://www.onehippo.org/      True   \n",
       "4             http://www.onehippo.com/connect/boston      True   \n",
       "\n",
       "                                  pageId  \n",
       "0                hst:pages/documentation  \n",
       "1  hst:pages/Digital-experience-platform  \n",
       "2                         hst:pages/home  \n",
       "3                         hst:pages/home  \n",
       "4                       hst:pages/boston  "
      ]
     },
     "execution_count": 11,
     "metadata": {},
     "output_type": "execute_result"
    }
   ],
   "source": [
    "filter_test.head(5)"
   ]
  },
  {
   "cell_type": "markdown",
   "metadata": {},
   "source": [
    "# Sorting"
   ]
  },
  {
   "cell_type": "code",
   "execution_count": 12,
   "metadata": {
    "ExecuteTime": {
     "end_time": "2019-06-13T12:47:32.803244Z",
     "start_time": "2019-06-13T12:47:32.800045Z"
    }
   },
   "outputs": [],
   "source": [
    "def json_sort(file):\n",
    "        sort_by = [\"visitorId\", \"timestamp\"]\n",
    "        sorted_file = file.sort_values(by=sort_by)\n",
    "        print(\"Step 3/7 - Sorting, done...\")\n",
    "        return sorted_file"
   ]
  },
  {
   "cell_type": "code",
   "execution_count": 13,
   "metadata": {
    "ExecuteTime": {
     "end_time": "2019-06-13T12:47:33.515338Z",
     "start_time": "2019-06-13T12:47:33.463987Z"
    }
   },
   "outputs": [
    {
     "name": "stdout",
     "output_type": "stream",
     "text": [
      "Step 3/7 - Sorting, done...\n"
     ]
    }
   ],
   "source": [
    "sortedData=json_sort(filter_test)"
   ]
  },
  {
   "cell_type": "markdown",
   "metadata": {
    "heading_collapsed": true
   },
   "source": [
    "# Temporary - testing to go withthout transaction"
   ]
  },
  {
   "cell_type": "code",
   "execution_count": 15,
   "metadata": {
    "ExecuteTime": {
     "end_time": "2019-05-30T08:07:02.711083Z",
     "start_time": "2019-05-30T08:07:02.707026Z"
    },
    "hidden": true
   },
   "outputs": [],
   "source": [
    "def remove_homepage(data_frame):\n",
    "        data_frame = data_frame.drop(\n",
    "            data_frame[(\n",
    "                        (data_frame.pageId == 'hst:pages/home') |\n",
    "                        (data_frame.pageId == 'hst:pages/pagenotfound')\n",
    "                        | (data_frame.pageId == 'hst:pages/robotstxt'))\n",
    "                       ].index).reset_index(drop=True)\n",
    "        print(\"Step 6/7 - Remove visitors that only visited the homepage, done...\")\n",
    "        return data_frame"
   ]
  },
  {
   "cell_type": "code",
   "execution_count": 16,
   "metadata": {
    "ExecuteTime": {
     "end_time": "2019-05-30T08:07:03.352101Z",
     "start_time": "2019-05-30T08:07:03.330602Z"
    },
    "hidden": true
   },
   "outputs": [
    {
     "name": "stdout",
     "output_type": "stream",
     "text": [
      "Step 6/7 - Remove visitors that only visited the homepage, done...\n"
     ]
    }
   ],
   "source": [
    "sortedData = remove_homepage(sortedData)\n",
    "#sortedData = clean_homepage[clean_homepage.astype(str)['keywords'] != '[]']"
   ]
  },
  {
   "cell_type": "code",
   "execution_count": 21,
   "metadata": {
    "ExecuteTime": {
     "end_time": "2019-05-30T08:07:28.222304Z",
     "start_time": "2019-05-30T08:07:28.218961Z"
    },
    "hidden": true
   },
   "outputs": [],
   "source": [
    "def get_content_page_and_keywords(data_frame):\n",
    "        data_frame['keywords'] = data_frame['pageUrl'].map(lambda x: checkForList(x))\n",
    "        #data_frame['contentPage'] = data_frame.transactionPath.str[-1]\n",
    "        print(\"Step 5/7 - Keep content pages and get path keywords, done...\")\n",
    "        return data_frame"
   ]
  },
  {
   "cell_type": "code",
   "execution_count": 22,
   "metadata": {
    "ExecuteTime": {
     "end_time": "2019-05-30T08:07:33.138892Z",
     "start_time": "2019-05-30T08:07:29.113872Z"
    },
    "hidden": true
   },
   "outputs": [
    {
     "name": "stdout",
     "output_type": "stream",
     "text": [
      "Step 5/7 - Keep content pages and get path keywords, done...\n"
     ]
    }
   ],
   "source": [
    "sortedData = get_content_page_and_keywords(sortedData)"
   ]
  },
  {
   "cell_type": "code",
   "execution_count": 23,
   "metadata": {
    "ExecuteTime": {
     "end_time": "2019-05-30T08:07:33.421571Z",
     "start_time": "2019-05-30T08:07:33.416148Z"
    },
    "hidden": true
   },
   "outputs": [
    {
     "data": {
      "text/plain": [
       "15264"
      ]
     },
     "execution_count": 23,
     "metadata": {},
     "output_type": "execute_result"
    }
   ],
   "source": [
    "len(sortedData)"
   ]
  },
  {
   "cell_type": "code",
   "execution_count": 24,
   "metadata": {
    "ExecuteTime": {
     "end_time": "2019-05-30T08:07:36.127555Z",
     "start_time": "2019-05-30T08:07:33.697705Z"
    },
    "hidden": true
   },
   "outputs": [],
   "source": [
    "sortedData = sortedData.groupby('visitorId', as_index=False).agg(lambda x: x.tolist())"
   ]
  },
  {
   "cell_type": "code",
   "execution_count": 25,
   "metadata": {
    "ExecuteTime": {
     "end_time": "2019-05-30T08:07:37.831491Z",
     "start_time": "2019-05-30T08:07:37.813520Z"
    },
    "hidden": true
   },
   "outputs": [
    {
     "data": {
      "text/html": [
       "<div>\n",
       "<style scoped>\n",
       "    .dataframe tbody tr th:only-of-type {\n",
       "        vertical-align: middle;\n",
       "    }\n",
       "\n",
       "    .dataframe tbody tr th {\n",
       "        vertical-align: top;\n",
       "    }\n",
       "\n",
       "    .dataframe thead th {\n",
       "        text-align: right;\n",
       "    }\n",
       "</style>\n",
       "<table border=\"1\" class=\"dataframe\">\n",
       "  <thead>\n",
       "    <tr style=\"text-align: right;\">\n",
       "      <th></th>\n",
       "      <th>visitorId</th>\n",
       "      <th>timestamp</th>\n",
       "      <th>pageUrl</th>\n",
       "      <th>newVisit</th>\n",
       "      <th>pageId</th>\n",
       "      <th>keywords</th>\n",
       "    </tr>\n",
       "  </thead>\n",
       "  <tbody>\n",
       "    <tr>\n",
       "      <th>0</th>\n",
       "      <td>0017bf12-aece-4c5d-a0df-eb6e93e10030</td>\n",
       "      <td>[2016-08-30 14:11:50.959, 2016-08-31 12:05:13....</td>\n",
       "      <td>[https://www.onehippo.com/de/warum-hippo-cms, ...</td>\n",
       "      <td>[True, True]</td>\n",
       "      <td>[hst:pages/why-hippo-cms-default, hst:pages/bl...</td>\n",
       "      <td>[[cms, hippo, warum], [resource, versioning, b...</td>\n",
       "    </tr>\n",
       "    <tr>\n",
       "      <th>1</th>\n",
       "      <td>00220802-a7ff-4638-9fa0-05d872dd7474</td>\n",
       "      <td>[2016-08-31 06:23:58.689]</td>\n",
       "      <td>[https://www.onehippo.com/en/careers]</td>\n",
       "      <td>[True]</td>\n",
       "      <td>[hst:pages/careers]</td>\n",
       "      <td>[[career]]</td>\n",
       "    </tr>\n",
       "    <tr>\n",
       "      <th>2</th>\n",
       "      <td>00312144-f7b4-4eb4-9eef-038b353d7382</td>\n",
       "      <td>[2016-08-30 00:59:55.358, 2016-08-30 01:08:12....</td>\n",
       "      <td>[https://www.onehippo.com/en/customers/nationa...</td>\n",
       "      <td>[True, False, False]</td>\n",
       "      <td>[hst:pages/customerdetail, hst:pages/customerd...</td>\n",
       "      <td>[[police, national, customer], [police, nation...</td>\n",
       "    </tr>\n",
       "    <tr>\n",
       "      <th>3</th>\n",
       "      <td>00428e69-52e7-4759-a645-c14aac5f0bbe</td>\n",
       "      <td>[2016-08-31 16:55:16.461]</td>\n",
       "      <td>[http://onehippo-prod.global.ssl.fastly.net/si...</td>\n",
       "      <td>[True]</td>\n",
       "      <td>[hst:components/redirect]</td>\n",
       "      <td>[[dnt, policy, well, know, site]]</td>\n",
       "    </tr>\n",
       "    <tr>\n",
       "      <th>4</th>\n",
       "      <td>005c41f9-ab4e-410c-99b6-381b37f8209d</td>\n",
       "      <td>[2016-08-29 19:48:15.164]</td>\n",
       "      <td>[https://www.onehippo.org/library/concepts/plu...</td>\n",
       "      <td>[True]</td>\n",
       "      <td>[hst:pages/documentation]</td>\n",
       "      <td>[[plugins, concept, tag, library, configuration]]</td>\n",
       "    </tr>\n",
       "  </tbody>\n",
       "</table>\n",
       "</div>"
      ],
      "text/plain": [
       "                              visitorId  \\\n",
       "0  0017bf12-aece-4c5d-a0df-eb6e93e10030   \n",
       "1  00220802-a7ff-4638-9fa0-05d872dd7474   \n",
       "2  00312144-f7b4-4eb4-9eef-038b353d7382   \n",
       "3  00428e69-52e7-4759-a645-c14aac5f0bbe   \n",
       "4  005c41f9-ab4e-410c-99b6-381b37f8209d   \n",
       "\n",
       "                                           timestamp  \\\n",
       "0  [2016-08-30 14:11:50.959, 2016-08-31 12:05:13....   \n",
       "1                          [2016-08-31 06:23:58.689]   \n",
       "2  [2016-08-30 00:59:55.358, 2016-08-30 01:08:12....   \n",
       "3                          [2016-08-31 16:55:16.461]   \n",
       "4                          [2016-08-29 19:48:15.164]   \n",
       "\n",
       "                                             pageUrl              newVisit  \\\n",
       "0  [https://www.onehippo.com/de/warum-hippo-cms, ...          [True, True]   \n",
       "1              [https://www.onehippo.com/en/careers]                [True]   \n",
       "2  [https://www.onehippo.com/en/customers/nationa...  [True, False, False]   \n",
       "3  [http://onehippo-prod.global.ssl.fastly.net/si...                [True]   \n",
       "4  [https://www.onehippo.org/library/concepts/plu...                [True]   \n",
       "\n",
       "                                              pageId  \\\n",
       "0  [hst:pages/why-hippo-cms-default, hst:pages/bl...   \n",
       "1                                [hst:pages/careers]   \n",
       "2  [hst:pages/customerdetail, hst:pages/customerd...   \n",
       "3                          [hst:components/redirect]   \n",
       "4                          [hst:pages/documentation]   \n",
       "\n",
       "                                            keywords  \n",
       "0  [[cms, hippo, warum], [resource, versioning, b...  \n",
       "1                                         [[career]]  \n",
       "2  [[police, national, customer], [police, nation...  \n",
       "3                  [[dnt, policy, well, know, site]]  \n",
       "4  [[plugins, concept, tag, library, configuration]]  "
      ]
     },
     "execution_count": 25,
     "metadata": {},
     "output_type": "execute_result"
    }
   ],
   "source": [
    "sortedData.head(5)"
   ]
  },
  {
   "cell_type": "code",
   "execution_count": 26,
   "metadata": {
    "ExecuteTime": {
     "end_time": "2019-05-30T08:07:41.253945Z",
     "start_time": "2019-05-30T08:07:41.249836Z"
    },
    "hidden": true
   },
   "outputs": [],
   "source": [
    "sortedData=sortedData.drop(['timestamp', 'pageId','newVisit'], axis=1)"
   ]
  },
  {
   "cell_type": "code",
   "execution_count": 27,
   "metadata": {
    "ExecuteTime": {
     "end_time": "2019-05-30T08:07:42.743497Z",
     "start_time": "2019-05-30T08:07:42.739955Z"
    },
    "hidden": true
   },
   "outputs": [],
   "source": [
    "def unlistMeDF(listObject):\n",
    "    flat_list = []\n",
    "    for sublist in listObject:\n",
    "        for item in sublist:\n",
    "            flat_list.append(item)\n",
    "    return flat_list"
   ]
  },
  {
   "cell_type": "code",
   "execution_count": 28,
   "metadata": {
    "ExecuteTime": {
     "end_time": "2019-05-30T08:07:44.087730Z",
     "start_time": "2019-05-30T08:07:44.066448Z"
    },
    "hidden": true
   },
   "outputs": [],
   "source": [
    "sortedData['keywords'] = sortedData['keywords'].apply(lambda x: unlistMeDF(x))"
   ]
  },
  {
   "cell_type": "code",
   "execution_count": 29,
   "metadata": {
    "ExecuteTime": {
     "end_time": "2019-05-30T08:07:50.694924Z",
     "start_time": "2019-05-30T08:07:50.691230Z"
    },
    "hidden": true
   },
   "outputs": [
    {
     "data": {
      "text/plain": [
       "5498"
      ]
     },
     "execution_count": 29,
     "metadata": {},
     "output_type": "execute_result"
    }
   ],
   "source": [
    "len(sortedData)"
   ]
  },
  {
   "cell_type": "code",
   "execution_count": 30,
   "metadata": {
    "ExecuteTime": {
     "end_time": "2019-05-30T08:07:52.109110Z",
     "start_time": "2019-05-30T08:07:52.099626Z"
    },
    "hidden": true
   },
   "outputs": [
    {
     "data": {
      "text/html": [
       "<div>\n",
       "<style scoped>\n",
       "    .dataframe tbody tr th:only-of-type {\n",
       "        vertical-align: middle;\n",
       "    }\n",
       "\n",
       "    .dataframe tbody tr th {\n",
       "        vertical-align: top;\n",
       "    }\n",
       "\n",
       "    .dataframe thead th {\n",
       "        text-align: right;\n",
       "    }\n",
       "</style>\n",
       "<table border=\"1\" class=\"dataframe\">\n",
       "  <thead>\n",
       "    <tr style=\"text-align: right;\">\n",
       "      <th></th>\n",
       "      <th>visitorId</th>\n",
       "      <th>pageUrl</th>\n",
       "      <th>keywords</th>\n",
       "    </tr>\n",
       "  </thead>\n",
       "  <tbody>\n",
       "    <tr>\n",
       "      <th>0</th>\n",
       "      <td>0017bf12-aece-4c5d-a0df-eb6e93e10030</td>\n",
       "      <td>[https://www.onehippo.com/de/warum-hippo-cms, ...</td>\n",
       "      <td>[cms, hippo, warum, resource, versioning, blog...</td>\n",
       "    </tr>\n",
       "    <tr>\n",
       "      <th>1</th>\n",
       "      <td>00220802-a7ff-4638-9fa0-05d872dd7474</td>\n",
       "      <td>[https://www.onehippo.com/en/careers]</td>\n",
       "      <td>[career]</td>\n",
       "    </tr>\n",
       "    <tr>\n",
       "      <th>2</th>\n",
       "      <td>00312144-f7b4-4eb4-9eef-038b353d7382</td>\n",
       "      <td>[https://www.onehippo.com/en/customers/nationa...</td>\n",
       "      <td>[police, national, customer, police, national,...</td>\n",
       "    </tr>\n",
       "    <tr>\n",
       "      <th>3</th>\n",
       "      <td>00428e69-52e7-4759-a645-c14aac5f0bbe</td>\n",
       "      <td>[http://onehippo-prod.global.ssl.fastly.net/si...</td>\n",
       "      <td>[dnt, policy, well, know, site]</td>\n",
       "    </tr>\n",
       "    <tr>\n",
       "      <th>4</th>\n",
       "      <td>005c41f9-ab4e-410c-99b6-381b37f8209d</td>\n",
       "      <td>[https://www.onehippo.org/library/concepts/plu...</td>\n",
       "      <td>[plugins, concept, tag, library, configuration]</td>\n",
       "    </tr>\n",
       "  </tbody>\n",
       "</table>\n",
       "</div>"
      ],
      "text/plain": [
       "                              visitorId  \\\n",
       "0  0017bf12-aece-4c5d-a0df-eb6e93e10030   \n",
       "1  00220802-a7ff-4638-9fa0-05d872dd7474   \n",
       "2  00312144-f7b4-4eb4-9eef-038b353d7382   \n",
       "3  00428e69-52e7-4759-a645-c14aac5f0bbe   \n",
       "4  005c41f9-ab4e-410c-99b6-381b37f8209d   \n",
       "\n",
       "                                             pageUrl  \\\n",
       "0  [https://www.onehippo.com/de/warum-hippo-cms, ...   \n",
       "1              [https://www.onehippo.com/en/careers]   \n",
       "2  [https://www.onehippo.com/en/customers/nationa...   \n",
       "3  [http://onehippo-prod.global.ssl.fastly.net/si...   \n",
       "4  [https://www.onehippo.org/library/concepts/plu...   \n",
       "\n",
       "                                            keywords  \n",
       "0  [cms, hippo, warum, resource, versioning, blog...  \n",
       "1                                           [career]  \n",
       "2  [police, national, customer, police, national,...  \n",
       "3                    [dnt, policy, well, know, site]  \n",
       "4    [plugins, concept, tag, library, configuration]  "
      ]
     },
     "execution_count": 30,
     "metadata": {},
     "output_type": "execute_result"
    }
   ],
   "source": [
    "sortedData.head(5)"
   ]
  },
  {
   "cell_type": "code",
   "execution_count": 31,
   "metadata": {
    "ExecuteTime": {
     "end_time": "2019-05-30T08:07:53.590809Z",
     "start_time": "2019-05-30T08:07:53.578213Z"
    },
    "hidden": true
   },
   "outputs": [],
   "source": [
    "# Make for data Model\n",
    "keywords_list = sortedData[\"keywords\"].tolist()\n",
    "data_NN = []\n",
    "for i in keywords_list:\n",
    "    data_NN.append(' '.join(i))\n",
    "with open('data_NN.txt', 'w') as f:\n",
    "    for item in data_NN:\n",
    "        f.write(\"%s\\n\" % item)"
   ]
  },
  {
   "cell_type": "markdown",
   "metadata": {},
   "source": [
    "# Get Transaction"
   ]
  },
  {
   "cell_type": "code",
   "execution_count": 14,
   "metadata": {
    "ExecuteTime": {
     "end_time": "2019-06-13T12:47:35.356303Z",
     "start_time": "2019-06-13T12:47:35.344415Z"
    }
   },
   "outputs": [],
   "source": [
    "## Go over it\n",
    "class MFAlgorithm:\n",
    "\n",
    "    @staticmethod\n",
    "    def run_MF_algorithm(visitor, time, urls):\n",
    "        url_pairs = [('', urls[0], 0, 0)]\n",
    "        i = 0\n",
    "        number_of_urls = len(urls)\n",
    "        while (i + 1) < number_of_urls:\n",
    "            url_pairs.append((urls[i], urls[i + 1], i, i + 1))\n",
    "            i += 1\n",
    "\n",
    "        i = 0\n",
    "        end_transaction = False\n",
    "        all_transactions = []\n",
    "        current_transaction = []\n",
    "        timestamp = time[0]\n",
    "        number_of_pairs = len(url_pairs)\n",
    "\n",
    "        while i < number_of_pairs:\n",
    "            current_url, next_url, index_current, index_next = url_pairs[i]\n",
    "\n",
    "            # Initialize the transaction for the first URL\n",
    "            if current_url == '':\n",
    "                current_transaction.append(next_url)\n",
    "                timestamp = time[index_next]\n",
    "                i += 1\n",
    "                continue\n",
    "\n",
    "            # If the URL exists in the transaction, end transaction and add it to list.\n",
    "            # If not, we add the url to the transaction list and go on.\n",
    "            if next_url in current_transaction:\n",
    "                if not end_transaction:\n",
    "                    if current_transaction not in all_transactions:\n",
    "                        all_transactions.append((visitor, timestamp, current_transaction))\n",
    "                this_index = current_transaction.index(next_url)\n",
    "                current_transaction = current_transaction[0:this_index + 1]\n",
    "                end_transaction = True\n",
    "                i += 1\n",
    "                continue\n",
    "            else:\n",
    "                if end_transaction:\n",
    "                    end_transaction = False\n",
    "                    timestamp = time[index_current]\n",
    "                current_transaction.append(next_url)\n",
    "\n",
    "            i += 1\n",
    "\n",
    "        if current_transaction not in all_transactions:\n",
    "            all_transactions.append((visitor, timestamp, current_transaction))\n",
    "        return all_transactions\n",
    "\n",
    "    @staticmethod\n",
    "    def init_algorithm(sortedData):\n",
    "        result = []\n",
    "        grouped = sortedData.groupby('visitorId')\n",
    "        i = 0\n",
    "        visitor_length = len(grouped)\n",
    "        print(\"Initializing Transaction Extraction...\")\n",
    "        for visitorId, group in grouped:\n",
    "            time = grouped.get_group(visitorId).timestamp.tolist()\n",
    "            path = grouped.get_group(visitorId).pageUrl.tolist()\n",
    "            result_paths = MFAlgorithm.run_MF_algorithm(visitorId, time, path)\n",
    "            result.extend(result_paths)\n",
    "            i += 1\n",
    "            if i % 1000 == 0:\n",
    "                print(\"Progress:\", round((i / visitor_length) * 100, 2), \"%\")\n",
    "        return result"
   ]
  },
  {
   "cell_type": "code",
   "execution_count": 15,
   "metadata": {
    "ExecuteTime": {
     "end_time": "2019-06-13T12:47:36.267995Z",
     "start_time": "2019-06-13T12:47:36.263730Z"
    }
   },
   "outputs": [],
   "source": [
    "mfa = MFAlgorithm()\n",
    "def get_transactions(sorted_data):\n",
    "        transactions = mfa.init_algorithm(sorted_data)\n",
    "        data_frame = pd.DataFrame(transactions, columns=['visitorId', 'timestamp', 'transactionPath'])\n",
    "        data_frame = pd.merge(data_frame, sorted_data, on=['visitorId', 'timestamp'])\n",
    "        print(\"Step 4/7 - Extract transactions, done...\")\n",
    "        return data_frame.drop(['timestamp', 'pageUrl'], axis=1)"
   ]
  },
  {
   "cell_type": "code",
   "execution_count": 16,
   "metadata": {
    "ExecuteTime": {
     "end_time": "2019-06-13T12:47:44.413518Z",
     "start_time": "2019-06-13T12:47:36.856073Z"
    }
   },
   "outputs": [
    {
     "name": "stdout",
     "output_type": "stream",
     "text": [
      "Initializing Transaction Extraction...\n",
      "Progress: 12.44 %\n",
      "Progress: 24.88 %\n",
      "Progress: 37.31 %\n",
      "Progress: 49.75 %\n",
      "Progress: 62.19 %\n",
      "Progress: 74.63 %\n",
      "Progress: 87.06 %\n",
      "Progress: 99.5 %\n",
      "Step 4/7 - Extract transactions, done...\n"
     ]
    }
   ],
   "source": [
    "fixed_transaction = get_transactions(sortedData)"
   ]
  },
  {
   "cell_type": "markdown",
   "metadata": {},
   "source": [
    "# Get Keywords"
   ]
  },
  {
   "cell_type": "code",
   "execution_count": 17,
   "metadata": {
    "ExecuteTime": {
     "end_time": "2019-06-13T12:47:44.554912Z",
     "start_time": "2019-06-13T12:47:44.551883Z"
    }
   },
   "outputs": [],
   "source": [
    "def morphForms(word):\n",
    "    if word == 'cms':\n",
    "        return word\n",
    "    examined_word = wn.morphy(word)\n",
    "    if examined_word is None:\n",
    "        return word\n",
    "    else:\n",
    "        return examined_word\n",
    "    \n",
    "# Example: discouraged(word) discourage (returned function) or cats(word) returned cat"
   ]
  },
  {
   "cell_type": "code",
   "execution_count": 18,
   "metadata": {
    "ExecuteTime": {
     "end_time": "2019-06-13T12:47:44.694241Z",
     "start_time": "2019-06-13T12:47:44.688922Z"
    }
   },
   "outputs": [],
   "source": [
    "# Not using at the moment as spell checking might be tricky\n",
    "# Example: statististics (initial word), and is split into ['statist', 'istics']\n",
    "\n",
    "def fixConcatWords(listd):\n",
    "    checkSpelling = []\n",
    "    second = []\n",
    "    for a in listd:\n",
    "        second.append(a)\n",
    "        checkSpelling.append(SpellCheck(a))\n",
    "    value = [x for x in checkSpelling if x not in second]\n",
    "    unlisted = [item for sublist in value for item in sublist]\n",
    "    '''\n",
    "    # This part is adding the concatinated word to the list, but i do not need it, maybe use later\n",
    "    for item in itertools.chain(unlisted, second):\n",
    "        if item not in unlisted:\n",
    "            unlisted.append(item)\n",
    "            '''\n",
    "    return unlisted"
   ]
  },
  {
   "cell_type": "code",
   "execution_count": 44,
   "metadata": {
    "ExecuteTime": {
     "end_time": "2019-06-13T12:55:24.593555Z",
     "start_time": "2019-06-13T12:55:24.580482Z"
    }
   },
   "outputs": [],
   "source": [
    "def get_keywords(d):\n",
    "    lemmatizer = WordNetLemmatizer()\n",
    "    sw = set(stopwords.words('english'))\n",
    "    badlinks=['search.yahoo','yandex', 'google']\n",
    "    dashed = []\n",
    "    dups = []\n",
    "    split_one = urlparse(d)\n",
    "    split_two = split_one._asdict()\n",
    "    for k,v in split_two.items():\n",
    "        if k == 'path':\n",
    "            # Basic:\n",
    "            value = v.replace(\".html\", \"\")\n",
    "            value = value.replace(\".xml\", \"\")\n",
    "            value = value.replace(\".php\", \"\")\n",
    "            # Advanced: \n",
    "            value = re.sub(\"[\\d+ % &]\", \" \", value) # removes numbers and replaces with empty space\n",
    "            value = re.sub(\"(?<=[' '])[.,-]|[.,-](?=[' '])\", \" \", value) # remove dashes when there is empty space infront or behind\n",
    "            value = re.sub('(?<=\\D)[.,_]|[.,_](?=\\D)', ' ', value) # removes dashes, dots, commas if there is a digit before/after\n",
    "            #value = re.sub('[^A-Za-z0-9]+', '', value) # removes all dots,dashed etc\n",
    "            value = value.replace(' ','-')\n",
    "            value = re.sub('\\s\\s+', ' ',value) # remove double empty spaces\n",
    "            #value = re.sub('\\s+', '',value) # remove empty spaces\n",
    "            value = value.split('/')\n",
    "            value = list(filter(None, value))\n",
    "            sw.add('en')\n",
    "            sw.add('nl')\n",
    "            sw.add('de')\n",
    "            sw.add('txt')\n",
    "            sw.add('oh')\n",
    "            sw.add('net')\n",
    "            sw.add('com')\n",
    "            sw.add('1')\n",
    "            sw.add('login')\n",
    "            sw.remove('about')\n",
    "            sw.remove('why')\n",
    "            sw.remove('in')\n",
    "            \n",
    "            # manually splitting words with _ and -\n",
    "            for a in value:\n",
    "                if '_' in a:\n",
    "                    b = a.replace('_','-')\n",
    "                    dashed.append(b.split('-'))\n",
    "                    dups.append(a)\n",
    "                if '-' in a:\n",
    "                    dashed.append(a.split('-'))\n",
    "                    dups.append(a)\n",
    "    \n",
    "            value = [x for x in value if x not in dups]\n",
    "            resultList=set(value)\n",
    "            value_dash = set(list(chain.from_iterable(dashed))) # merge and keep unique ones\n",
    "            resultList.update(value_dash)\n",
    "            #resultList = fixConcatWords(resultList) # not used atm, check function for notes\n",
    "            resultList = [w for w in resultList if w not in sw]\n",
    "            resultList = [x.lower() for x in resultList]\n",
    "            resultList = [morphForms(word) for word in resultList]\n",
    "            resultList = list(filter(None, resultList)) # fastest\n",
    "            resultList = set(resultList)\n",
    "            # new\n",
    "            final_list = []\n",
    "            for i in resultList:\n",
    "                word_tokens = nltk.word_tokenize(i) ###Tokenization\n",
    "                stemmed_words = [lemmatizer.lemmatize(w.lower()) for w in word_tokens if w.isalpha()] ###Stemming., removes some git, example line 7\n",
    "                final_list.append(stemmed_words)\n",
    "            # new until here\n",
    "            #resultList = list(resultList)\n",
    "            final_list =[item for sublist in final_list for item in sublist]\n",
    "            \n",
    "    return final_list"
   ]
  },
  {
   "cell_type": "code",
   "execution_count": null,
   "metadata": {
    "ExecuteTime": {
     "end_time": "2019-05-27T12:19:13.333058Z",
     "start_time": "2019-05-27T12:19:11.993812Z"
    }
   },
   "outputs": [],
   "source": [
    "# Usefull for spelling correction, but doesnt make sense for me\n",
    "'''\n",
    "import os\n",
    "from symspellpy.symspellpy import SymSpell  # import the module\n",
    "# https://github.com/mammothb/symspellpy Source\n",
    "\n",
    "# maximum edit distance per dictionary precalculation\n",
    "max_edit_distance_dictionary = 0\n",
    "prefix_length = 7\n",
    "# create object\n",
    "sym_spell = SymSpell(max_edit_distance_dictionary, prefix_length)\n",
    "# load dictionary\n",
    "dictionary_path = os.path.join(\"frequency_dictionary_en_82_765.txt\")\n",
    "term_index = 0  # column of the term in the dictionary text file\n",
    "count_index = 1  # column of the term frequency in the dictionary text file\n",
    "if not sym_spell.load_dictionary(dictionary_path, term_index, count_index):\n",
    "    print(\"Dictionary file not found\")\n",
    "\n",
    "# a sentence without any spaces\n",
    "input_term = \"thequickbrownfoxjumpsoverthelazydog\"\n",
    "    \n",
    "result = sym_spell.word_segmentation(input_term)\n",
    "# display suggestion term, term frequency, and edit distance\n",
    "print(\"{}\".format(result.corrected_string))\n",
    "\n",
    "# Output: the quick brown fox jumps over the lazy dog\n",
    "'''"
   ]
  },
  {
   "cell_type": "code",
   "execution_count": 45,
   "metadata": {
    "ExecuteTime": {
     "end_time": "2019-06-13T12:55:25.886485Z",
     "start_time": "2019-06-13T12:55:25.882614Z"
    }
   },
   "outputs": [],
   "source": [
    "def checkForList(listd):\n",
    "    tempList = []\n",
    "    if isinstance(listd,(list,)):\n",
    "        for i in listd:\n",
    "            tempList.append(get_keywords(i))\n",
    "    else:\n",
    "        return get_keywords(listd)\n",
    "    \n",
    "    flat_list = [item for sublist in tempList for item in sublist]\n",
    "    return flat_list\n"
   ]
  },
  {
   "cell_type": "code",
   "execution_count": 46,
   "metadata": {
    "ExecuteTime": {
     "end_time": "2019-06-13T12:55:26.416365Z",
     "start_time": "2019-06-13T12:55:26.412622Z"
    }
   },
   "outputs": [],
   "source": [
    "def get_content_page_and_keywords(data_frame):\n",
    "        data_frame['keywords'] = data_frame['transactionPath'].map(lambda x: checkForList(x))\n",
    "        data_frame['contentPage'] = data_frame.transactionPath.str[-1]\n",
    "        print(\"Step 5/7 - Keep content pages and get path keywords, done...\")\n",
    "        return data_frame"
   ]
  },
  {
   "cell_type": "code",
   "execution_count": 47,
   "metadata": {
    "ExecuteTime": {
     "end_time": "2019-06-13T12:55:39.700137Z",
     "start_time": "2019-06-13T12:55:27.034567Z"
    }
   },
   "outputs": [
    {
     "name": "stdout",
     "output_type": "stream",
     "text": [
      "Step 5/7 - Keep content pages and get path keywords, done...\n"
     ]
    }
   ],
   "source": [
    "keywords_df = get_content_page_and_keywords(fixed_transaction)"
   ]
  },
  {
   "cell_type": "markdown",
   "metadata": {},
   "source": [
    "# Remove homepage"
   ]
  },
  {
   "cell_type": "code",
   "execution_count": 48,
   "metadata": {
    "ExecuteTime": {
     "end_time": "2019-06-13T12:55:39.957915Z",
     "start_time": "2019-06-13T12:55:39.953953Z"
    }
   },
   "outputs": [],
   "source": [
    "def remove_homepage(data_frame):\n",
    "        data_frame = data_frame.drop(\n",
    "            data_frame[(\n",
    "                        (data_frame.pageId == 'hst:pages/home') |\n",
    "                        (data_frame.pageId == 'hst:pages/pagenotfound')\n",
    "                       )\n",
    "                       &\n",
    "                       (data_frame.transactionPath.str.len() == 1)\n",
    "                       ].index).reset_index(drop=True)\n",
    "        print(\"Step 6/7 - Remove visitors that only visited the homepage, done...\")\n",
    "        return data_frame"
   ]
  },
  {
   "cell_type": "code",
   "execution_count": 49,
   "metadata": {
    "ExecuteTime": {
     "end_time": "2019-06-13T12:55:40.272107Z",
     "start_time": "2019-06-13T12:55:40.217153Z"
    }
   },
   "outputs": [
    {
     "name": "stdout",
     "output_type": "stream",
     "text": [
      "Step 6/7 - Remove visitors that only visited the homepage, done...\n"
     ]
    }
   ],
   "source": [
    "clean_homepage = remove_homepage(keywords_df)\n",
    "clean_homepage = clean_homepage[clean_homepage.astype(str)['keywords'] != '[]']"
   ]
  },
  {
   "cell_type": "code",
   "execution_count": 50,
   "metadata": {
    "ExecuteTime": {
     "end_time": "2019-06-13T12:55:40.474588Z",
     "start_time": "2019-06-13T12:55:40.459950Z"
    }
   },
   "outputs": [
    {
     "data": {
      "text/html": [
       "<div>\n",
       "<style scoped>\n",
       "    .dataframe tbody tr th:only-of-type {\n",
       "        vertical-align: middle;\n",
       "    }\n",
       "\n",
       "    .dataframe tbody tr th {\n",
       "        vertical-align: top;\n",
       "    }\n",
       "\n",
       "    .dataframe thead th {\n",
       "        text-align: right;\n",
       "    }\n",
       "</style>\n",
       "<table border=\"1\" class=\"dataframe\">\n",
       "  <thead>\n",
       "    <tr style=\"text-align: right;\">\n",
       "      <th></th>\n",
       "      <th>visitorId</th>\n",
       "      <th>transactionPath</th>\n",
       "      <th>newVisit</th>\n",
       "      <th>pageId</th>\n",
       "      <th>keywords</th>\n",
       "      <th>contentPage</th>\n",
       "    </tr>\n",
       "  </thead>\n",
       "  <tbody>\n",
       "    <tr>\n",
       "      <th>0</th>\n",
       "      <td>0017bf12-aece-4c5d-a0df-eb6e93e10030</td>\n",
       "      <td>[https://www.onehippo.com/de/warum-hippo-cms, ...</td>\n",
       "      <td>True</td>\n",
       "      <td>hst:pages/why-hippo-cms-default</td>\n",
       "      <td>[cm, warum, hippo, resource, semantic, version...</td>\n",
       "      <td>https://www.onehippo.com/en/resources/blogs/20...</td>\n",
       "    </tr>\n",
       "    <tr>\n",
       "      <th>1</th>\n",
       "      <td>00220802-a7ff-4638-9fa0-05d872dd7474</td>\n",
       "      <td>[https://www.onehippo.com/en/careers]</td>\n",
       "      <td>True</td>\n",
       "      <td>hst:pages/careers</td>\n",
       "      <td>[career]</td>\n",
       "      <td>https://www.onehippo.com/en/careers</td>\n",
       "    </tr>\n",
       "    <tr>\n",
       "      <th>2</th>\n",
       "      <td>00312144-f7b4-4eb4-9eef-038b353d7382</td>\n",
       "      <td>[https://www.onehippo.com/en/customers/nationa...</td>\n",
       "      <td>True</td>\n",
       "      <td>hst:pages/customerdetail</td>\n",
       "      <td>[police, national, customer]</td>\n",
       "      <td>https://www.onehippo.com/en/customers/national...</td>\n",
       "    </tr>\n",
       "    <tr>\n",
       "      <th>3</th>\n",
       "      <td>00312144-f7b4-4eb4-9eef-038b353d7382</td>\n",
       "      <td>[https://www.onehippo.com/en/customers/nationa...</td>\n",
       "      <td>False</td>\n",
       "      <td>hst:pages/customerdetail</td>\n",
       "      <td>[police, national, customer, partner, undefined]</td>\n",
       "      <td>https://www.onehippo.com/en/undefined</td>\n",
       "    </tr>\n",
       "    <tr>\n",
       "      <th>4</th>\n",
       "      <td>00428e69-52e7-4759-a645-c14aac5f0bbe</td>\n",
       "      <td>[http://onehippo-prod.global.ssl.fastly.net/si...</td>\n",
       "      <td>True</td>\n",
       "      <td>hst:components/redirect</td>\n",
       "      <td>[dnt, site, well, policy, know]</td>\n",
       "      <td>http://onehippo-prod.global.ssl.fastly.net/sit...</td>\n",
       "    </tr>\n",
       "    <tr>\n",
       "      <th>5</th>\n",
       "      <td>005c41f9-ab4e-410c-99b6-381b37f8209d</td>\n",
       "      <td>[https://www.onehippo.org/library/concepts/plu...</td>\n",
       "      <td>True</td>\n",
       "      <td>hst:pages/documentation</td>\n",
       "      <td>[plugins, tag, configuration, library, concept]</td>\n",
       "      <td>https://www.onehippo.org/library/concepts/plug...</td>\n",
       "    </tr>\n",
       "    <tr>\n",
       "      <th>6</th>\n",
       "      <td>005dbc0e-b0a6-461c-bdad-4d775bdcae30</td>\n",
       "      <td>[https://www.onehippo.com/robots.txt, http://w...</td>\n",
       "      <td>True</td>\n",
       "      <td>hst:pages/robotstxt</td>\n",
       "      <td>[robot, connect, boston]</td>\n",
       "      <td>http://www.onehippo.com/connect/boston</td>\n",
       "    </tr>\n",
       "    <tr>\n",
       "      <th>7</th>\n",
       "      <td>005dbc0e-b0a6-461c-bdad-4d775bdcae30</td>\n",
       "      <td>[https://www.onehippo.com/robots.txt, https://...</td>\n",
       "      <td>False</td>\n",
       "      <td>hst:pages/robotstxt</td>\n",
       "      <td>[robot, cloud, enterprise, financial, service,...</td>\n",
       "      <td>https://www.onehippo.com/en/open-source</td>\n",
       "    </tr>\n",
       "    <tr>\n",
       "      <th>8</th>\n",
       "      <td>005dbc0e-b0a6-461c-bdad-4d775bdcae30</td>\n",
       "      <td>[https://www.onehippo.com/robots.txt, https://...</td>\n",
       "      <td>False</td>\n",
       "      <td>hst:pages/pagenotfound</td>\n",
       "      <td>[robot, cloud, enterprise, financial, service,...</td>\n",
       "      <td>https://www.onehippo.com/en/why-hippo-cms</td>\n",
       "    </tr>\n",
       "    <tr>\n",
       "      <th>9</th>\n",
       "      <td>0061ed93-f80e-440e-b054-40f9cd4287c3</td>\n",
       "      <td>[http://www.onehippo.com/connect/amsterdam]</td>\n",
       "      <td>True</td>\n",
       "      <td>hst:pages/amsterdam</td>\n",
       "      <td>[connect, amsterdam]</td>\n",
       "      <td>http://www.onehippo.com/connect/amsterdam</td>\n",
       "    </tr>\n",
       "  </tbody>\n",
       "</table>\n",
       "</div>"
      ],
      "text/plain": [
       "                              visitorId  \\\n",
       "0  0017bf12-aece-4c5d-a0df-eb6e93e10030   \n",
       "1  00220802-a7ff-4638-9fa0-05d872dd7474   \n",
       "2  00312144-f7b4-4eb4-9eef-038b353d7382   \n",
       "3  00312144-f7b4-4eb4-9eef-038b353d7382   \n",
       "4  00428e69-52e7-4759-a645-c14aac5f0bbe   \n",
       "5  005c41f9-ab4e-410c-99b6-381b37f8209d   \n",
       "6  005dbc0e-b0a6-461c-bdad-4d775bdcae30   \n",
       "7  005dbc0e-b0a6-461c-bdad-4d775bdcae30   \n",
       "8  005dbc0e-b0a6-461c-bdad-4d775bdcae30   \n",
       "9  0061ed93-f80e-440e-b054-40f9cd4287c3   \n",
       "\n",
       "                                     transactionPath  newVisit  \\\n",
       "0  [https://www.onehippo.com/de/warum-hippo-cms, ...      True   \n",
       "1              [https://www.onehippo.com/en/careers]      True   \n",
       "2  [https://www.onehippo.com/en/customers/nationa...      True   \n",
       "3  [https://www.onehippo.com/en/customers/nationa...     False   \n",
       "4  [http://onehippo-prod.global.ssl.fastly.net/si...      True   \n",
       "5  [https://www.onehippo.org/library/concepts/plu...      True   \n",
       "6  [https://www.onehippo.com/robots.txt, http://w...      True   \n",
       "7  [https://www.onehippo.com/robots.txt, https://...     False   \n",
       "8  [https://www.onehippo.com/robots.txt, https://...     False   \n",
       "9        [http://www.onehippo.com/connect/amsterdam]      True   \n",
       "\n",
       "                            pageId  \\\n",
       "0  hst:pages/why-hippo-cms-default   \n",
       "1                hst:pages/careers   \n",
       "2         hst:pages/customerdetail   \n",
       "3         hst:pages/customerdetail   \n",
       "4          hst:components/redirect   \n",
       "5          hst:pages/documentation   \n",
       "6              hst:pages/robotstxt   \n",
       "7              hst:pages/robotstxt   \n",
       "8           hst:pages/pagenotfound   \n",
       "9              hst:pages/amsterdam   \n",
       "\n",
       "                                            keywords  \\\n",
       "0  [cm, warum, hippo, resource, semantic, version...   \n",
       "1                                           [career]   \n",
       "2                       [police, national, customer]   \n",
       "3   [police, national, customer, partner, undefined]   \n",
       "4                    [dnt, site, well, policy, know]   \n",
       "5    [plugins, tag, configuration, library, concept]   \n",
       "6                           [robot, connect, boston]   \n",
       "7  [robot, cloud, enterprise, financial, service,...   \n",
       "8  [robot, cloud, enterprise, financial, service,...   \n",
       "9                               [connect, amsterdam]   \n",
       "\n",
       "                                         contentPage  \n",
       "0  https://www.onehippo.com/en/resources/blogs/20...  \n",
       "1                https://www.onehippo.com/en/careers  \n",
       "2  https://www.onehippo.com/en/customers/national...  \n",
       "3              https://www.onehippo.com/en/undefined  \n",
       "4  http://onehippo-prod.global.ssl.fastly.net/sit...  \n",
       "5  https://www.onehippo.org/library/concepts/plug...  \n",
       "6             http://www.onehippo.com/connect/boston  \n",
       "7            https://www.onehippo.com/en/open-source  \n",
       "8          https://www.onehippo.com/en/why-hippo-cms  \n",
       "9          http://www.onehippo.com/connect/amsterdam  "
      ]
     },
     "execution_count": 50,
     "metadata": {},
     "output_type": "execute_result"
    }
   ],
   "source": [
    "clean_homepage.head(10)"
   ]
  },
  {
   "cell_type": "markdown",
   "metadata": {},
   "source": [
    "# Making Data For NeuralNetwork and Scrapping"
   ]
  },
  {
   "cell_type": "code",
   "execution_count": 27,
   "metadata": {
    "ExecuteTime": {
     "end_time": "2019-05-30T10:33:52.124180Z",
     "start_time": "2019-05-30T10:33:52.106378Z"
    }
   },
   "outputs": [],
   "source": [
    "# Make for data Model\n",
    "keywords_list = clean_homepage[\"keywords\"].tolist()\n",
    "data_NN = []\n",
    "for i in keywords_list:\n",
    "    data_NN.append(' '.join(i))\n",
    "with open('data_NN.txt', 'w') as f:\n",
    "    for item in data_NN:\n",
    "        f.write(\"%s\\n\" % item)"
   ]
  },
  {
   "cell_type": "code",
   "execution_count": null,
   "metadata": {
    "ExecuteTime": {
     "end_time": "2019-05-27T08:25:48.491544Z",
     "start_time": "2019-05-27T08:25:48.484036Z"
    }
   },
   "outputs": [],
   "source": [
    "# Prepare links for Scrapping\n",
    "url_list = clean_homepage[\"contentPage\"].tolist()\n",
    "url_file = []\n",
    "\n",
    "for i in url_list:\n",
    "    url_file.append(i)\n",
    "    \n",
    "url_file = set(url_file) # Cleaning duplicates\n",
    "url_file = list(url_file)\n",
    "\n",
    "with open('url_file.txt', 'w') as f:\n",
    "    for item in url_file:\n",
    "        f.write(\"%s\\n\" % item)"
   ]
  },
  {
   "cell_type": "markdown",
   "metadata": {
    "heading_collapsed": true
   },
   "source": [
    "# Testing - TopicModels"
   ]
  },
  {
   "cell_type": "code",
   "execution_count": null,
   "metadata": {
    "hidden": true
   },
   "outputs": [],
   "source": [
    "'''\n",
    "    The idea of this section is to make use of different Topic Modelling techniques in order to do basic and straighforward user\n",
    "    segmentation based on their keywords.\n",
    "    Using custom dictionary (data) and the distance function we can assign the most suitable category based on distance\n",
    "'''"
   ]
  },
  {
   "cell_type": "code",
   "execution_count": null,
   "metadata": {
    "ExecuteTime": {
     "end_time": "2019-05-27T07:23:12.584359Z",
     "start_time": "2019-05-27T07:23:12.579171Z"
    },
    "hidden": true
   },
   "outputs": [],
   "source": [
    "def build_corpus(data):\n",
    "    \"Creates a list of lists containing words from each sentence\"\n",
    "    corpus = []\n",
    "    temp = []\n",
    "    for sentence in data['keywords'].iteritems():\n",
    "        #print(sentence)\n",
    "            #print(blq1)\n",
    "            #word_list = sentence[1].split(\" \")\n",
    "        corpus.append(sentence[1])\n",
    "            \n",
    "    return corpus\n",
    "\n",
    "corpus = build_corpus(clean_homepage)        \n",
    "corpus[0:2]"
   ]
  },
  {
   "cell_type": "code",
   "execution_count": null,
   "metadata": {
    "ExecuteTime": {
     "end_time": "2019-05-27T07:23:14.889733Z",
     "start_time": "2019-05-27T07:23:14.877266Z"
    },
    "hidden": true
   },
   "outputs": [],
   "source": [
    "pd.options.mode.chained_assignment = None \n",
    "dictionary = corpora.Dictionary(corpus)\n",
    "corpus = [dictionary.doc2bow(text) for text in corpus]"
   ]
  },
  {
   "cell_type": "code",
   "execution_count": null,
   "metadata": {
    "ExecuteTime": {
     "end_time": "2019-05-27T07:23:16.065027Z",
     "start_time": "2019-05-27T07:23:16.061054Z"
    },
    "hidden": true
   },
   "outputs": [],
   "source": [
    "dictionary[100]"
   ]
  },
  {
   "cell_type": "code",
   "execution_count": null,
   "metadata": {
    "ExecuteTime": {
     "end_time": "2019-05-27T07:23:16.768871Z",
     "start_time": "2019-05-27T07:23:16.764931Z"
    },
    "hidden": true
   },
   "outputs": [],
   "source": [
    "corpus[100]"
   ]
  },
  {
   "cell_type": "code",
   "execution_count": null,
   "metadata": {
    "ExecuteTime": {
     "end_time": "2019-04-29T14:29:18.870809Z",
     "start_time": "2019-04-29T14:29:12.365Z"
    },
    "hidden": true
   },
   "outputs": [],
   "source": [
    "'''\n",
    "# Below is another approach for gathering topics \n",
    "\n",
    "# The Mallet LDA, it gives way tooo many topics\n",
    "\n",
    "# https://stackoverflow.com/questions/50340657/pyldavis-with-mallet-lda-implementation-ldamallet-object-has-no-attribute-inf\n",
    "# to use the the visualization bellow\n",
    "model = gensim.models.wrappers.LdaMallet(mallet_path, corpus=corpus, num_topics=8, id2word=dictionary)\n",
    "model = gensim.models.wrappers.ldamallet.malletmodel2ldamodel(model)\n",
    "\n",
    "topics_Mallet = model.print_topics(num_words=4)\n",
    "for topic in topics_Mallet:\n",
    "    print(topic)\n",
    "'''"
   ]
  },
  {
   "cell_type": "code",
   "execution_count": null,
   "metadata": {
    "ExecuteTime": {
     "end_time": "2019-05-27T07:23:59.652079Z",
     "start_time": "2019-05-27T07:23:21.682751Z"
    },
    "hidden": true
   },
   "outputs": [],
   "source": [
    "import gensim, warnings, logging\n",
    "warnings.filterwarnings(\"ignore\",category=DeprecationWarning)\n",
    "logging.basicConfig(format='%(asctime)s : %(levelname)s : %(message)s', level=logging.ERROR)\n",
    "\n",
    "NUM_TOPICS = 5      \n",
    "ldamodel = gensim.models.ldamodel.LdaModel(corpus, num_topics = NUM_TOPICS, id2word=dictionary, passes=250, \n",
    "                                           per_word_topics=True, alpha='auto')\n",
    "\n",
    "#ldamodel.save('model2604.gensim') # save model"
   ]
  },
  {
   "cell_type": "code",
   "execution_count": null,
   "metadata": {
    "ExecuteTime": {
     "end_time": "2019-05-27T07:24:00.057750Z",
     "start_time": "2019-05-27T07:24:00.053152Z"
    },
    "code_folding": [],
    "hidden": true
   },
   "outputs": [],
   "source": [
    "topics = ldamodel.print_topics(num_words=4)\n",
    "for topic in topics:\n",
    "    print(topic)"
   ]
  },
  {
   "cell_type": "code",
   "execution_count": null,
   "metadata": {
    "ExecuteTime": {
     "end_time": "2019-05-27T07:24:00.872901Z",
     "start_time": "2019-05-27T07:24:00.419905Z"
    },
    "hidden": true
   },
   "outputs": [],
   "source": [
    "# Compute Perplexity\n",
    "print ('Perplexity: ', ldamodel.log_perplexity(corpus))  # a measure of how good the model is. lower the better.\n",
    "lemmatized = build_corpus(clean_homepage) \n",
    "\n",
    "# Compute Coherence Score\n",
    "coherence_model_lda = CoherenceModel(model=ldamodel, texts=lemmatized, dictionary=dictionary, coherence='c_v')\n",
    "coherence_lda = coherence_model_lda.get_coherence()\n",
    "print ('Coherence Score: ', coherence_lda)"
   ]
  },
  {
   "cell_type": "code",
   "execution_count": null,
   "metadata": {
    "ExecuteTime": {
     "end_time": "2019-05-27T07:24:10.376881Z",
     "start_time": "2019-05-27T07:24:01.247790Z"
    },
    "hidden": true,
    "scrolled": false
   },
   "outputs": [],
   "source": [
    "import pyLDAvis.gensim, warnings, logging\n",
    "warnings.filterwarnings(\"ignore\",category=DeprecationWarning)\n",
    "logging.basicConfig(format='%(asctime)s : %(levelname)s : %(message)s', level=logging.ERROR)\n",
    "\n",
    "pyLDAvis.enable_notebook()\n",
    "vis = pyLDAvis.gensim.prepare(ldamodel, corpus, dictionary=dictionary)\n",
    "vis"
   ]
  },
  {
   "cell_type": "code",
   "execution_count": null,
   "metadata": {
    "ExecuteTime": {
     "end_time": "2019-05-27T07:24:43.009160Z",
     "start_time": "2019-05-27T07:24:14.708149Z"
    },
    "hidden": true
   },
   "outputs": [],
   "source": [
    "# the lenght of data lists should be equal because of the distance function\n",
    "# Category -> words\n",
    "data = {\n",
    "  'RFC/Support': ['application','component','concept','content','editor','handling','library','plugins','repository','request','support'], #0 # bubble 1\n",
    "\n",
    "  'Tool/Application': ['cms','developer','download','extensibility','getting','hippo','scalability','start','trail','user','why'], #1 # bubble 2\n",
    "\n",
    "  'Reporting/Consulting': ['career','consult','event','fundamentals','generate','operations','report','sales','training'],#2 #bubble 5\n",
    "\n",
    "  'Deployment': ['angular','boston','building','cloud','connect','deploy','deployment','linux','management','prepare','resource','running','system'], #3 # bubble 3\n",
    "\n",
    "  'Customer/Product Related': ['agile','customer','demo','digital','experience','industry','partner','platform','product','technology'] #4 #buble 4 \n",
    "}\n",
    "# Dict: Words -> Category\n",
    "categories = {word: key for key, words in data.items() for word in words}\n",
    "\n",
    "# Load the whole embedding matrix\n",
    "embeddings_index = {}\n",
    "with open('glove.6B.300d.txt') as f:\n",
    "    for line in f:\n",
    "        values = line.split()\n",
    "        word = values[0]\n",
    "        embed = np.array(values[1:], dtype=np.float32)\n",
    "        embeddings_index[word] = embed\n",
    "print('Loaded {} word vectors.'.format(len(embeddings_index))\n",
    "\n",
    "# Get embeddings\n",
    "data_embeddings = {key: value for key, value in embeddings_index.items() if key in categories.keys()}\n",
    "\n",
    "# Processing the query\n",
    "# Might take some time in case 'data' is bigger\n",
    "def process(query):\n",
    "    query_embed = embeddings_index[query] # get wordEmbedding of query\n",
    "    scores = {}\n",
    "    for word, embed in data_embeddings.items():\n",
    "        category = categories[word]\n",
    "        distance = query_embed.dot(embed)\n",
    "        distance /= len(data[category]) # divide by the len of the dict list\n",
    "        scores[category] = scores.get(category, 0) + distance # If category is there add to it if not add to 0\n",
    "    return scores\n"
   ]
  },
  {
   "cell_type": "code",
   "execution_count": null,
   "metadata": {
    "ExecuteTime": {
     "end_time": "2019-04-30T13:09:55.101295Z",
     "start_time": "2019-04-30T13:09:55.095068Z"
    },
    "hidden": true
   },
   "outputs": [],
   "source": [
    "b = process('process')\n",
    "def getMaxValue(d):\n",
    "    return max(d.items(), key = operator.itemgetter(1))[0]\n",
    "getMaxValue(b)\n",
    "\n",
    "# Test return of highest category\n",
    "a = ['library', 'concepts', 'workflow', 'workflow']\n",
    "topics = []\n",
    "for i in a:\n",
    "    temp = process(i)\n",
    "    topics.append(getMaxValue(temp))\n",
    "print(topics)"
   ]
  },
  {
   "cell_type": "code",
   "execution_count": null,
   "metadata": {
    "ExecuteTime": {
     "end_time": "2019-04-30T13:10:09.632333Z",
     "start_time": "2019-04-30T13:10:09.624105Z"
    },
    "hidden": true
   },
   "outputs": [],
   "source": [
    "def FillInCateg(d):\n",
    "    topics = []\n",
    "    for i in d:\n",
    "        try:\n",
    "            temp = process(i)\n",
    "            topics.append(getMaxValue(temp))\n",
    "        except:\n",
    "            continue\n",
    "    topics = set(topics)\n",
    "    topics = list(topics)\n",
    "    return topics"
   ]
  },
  {
   "cell_type": "code",
   "execution_count": null,
   "metadata": {
    "ExecuteTime": {
     "end_time": "2019-04-30T13:10:27.351420Z",
     "start_time": "2019-04-30T13:10:27.341557Z"
    },
    "code_folding": [],
    "hidden": true
   },
   "outputs": [],
   "source": [
    "def FillInCategMultiple(d):\n",
    "    '''\n",
    "        Logic is as follows:\n",
    "        - We create empty list topics, which will store and return the final results\n",
    "        - Two empty dictionries are created - tempComb, which will temporary store the first result and will then transfer it to combined\n",
    "        - then we check if the length of the input is exactly 1 (single item list), then we just return the highest value\n",
    "            - if this is not the case we go to the for loop:\n",
    "                - try to get the categ dictionary (maybe the word has no pretrained vector)\n",
    "                - have temp variable - check, which is initiated as 0, at first run it will help us copy the first dictionary to tempComb\n",
    "                - on the second run, the first dictionary is updated and then we go in the in else part and we basically update the tempComb\n",
    "                value per key\n",
    "                - once this is done, we create a new dict - final, which is sorted based on the values\n",
    "                    - we take first and second value and check their difference\n",
    "                        - if difference is bigger than 1, we just take first item\n",
    "                        - if diff is smaller we take the first two\n",
    "    '''\n",
    "    topics = []\n",
    "    tempComb = {}\n",
    "    check = 0\n",
    "    if len(d) == 1:\n",
    "        singleValue, = d\n",
    "        topics.append(getMaxValue(process(singleValue)))\n",
    "        topics = set(topics)\n",
    "        topics = list(topics)\n",
    "        return topics\n",
    "    for i in d:\n",
    "        try:\n",
    "            perwordCateg = process(i)\n",
    "            if check == 0:\n",
    "                tempComb = perwordCateg\n",
    "                check = 1\n",
    "            else:\n",
    "                for (k,v), (k2,v2) in zip(tempComb.items(), perwordCateg.items()):\n",
    "                    if k == k2:\n",
    "                        tempComb[k] += v2\n",
    "        except:\n",
    "            continue\n",
    "\n",
    "    final = sorted(tempComb.items(), key=itemgetter(1), reverse=True)\n",
    "    try:\n",
    "        first = final[0][1]\n",
    "        second = final[1][1]\n",
    "\n",
    "        if (first - second) > 1:\n",
    "            topics.append(final[0][0])\n",
    "        else:\n",
    "            topics.append(final[0][0])\n",
    "            topics.append(final[1][0])\n",
    "        \n",
    "        topics = set(topics)\n",
    "        topics = list(topics)\n",
    "    except Exception as e:\n",
    "        print('List {}, gave the following error: {}'.format(d,e))\n",
    "        issue = 'Issue ' + str(d)\n",
    "        return issue\n",
    "    return topics"
   ]
  },
  {
   "cell_type": "code",
   "execution_count": null,
   "metadata": {
    "ExecuteTime": {
     "end_time": "2019-04-30T13:10:45.910685Z",
     "start_time": "2019-04-30T13:10:45.110755Z"
    },
    "hidden": true
   },
   "outputs": [],
   "source": [
    "clean_homepage['category_perWord'] = clean_homepage['keywords'].map(lambda x: FillInCateg(x))"
   ]
  },
  {
   "cell_type": "code",
   "execution_count": null,
   "metadata": {
    "ExecuteTime": {
     "end_time": "2019-04-30T13:10:50.063759Z",
     "start_time": "2019-04-30T13:10:49.301620Z"
    },
    "hidden": true
   },
   "outputs": [],
   "source": [
    "clean_homepage['category_combined'] = clean_homepage['keywords'].map(lambda x: FillInCategMultiple(x))"
   ]
  },
  {
   "cell_type": "code",
   "execution_count": null,
   "metadata": {
    "ExecuteTime": {
     "end_time": "2019-04-29T14:29:18.888358Z",
     "start_time": "2019-04-29T14:29:12.404Z"
    },
    "hidden": true
   },
   "outputs": [],
   "source": [
    "clean_homepage"
   ]
  },
  {
   "cell_type": "code",
   "execution_count": null,
   "metadata": {
    "ExecuteTime": {
     "end_time": "2019-04-30T13:10:57.363266Z",
     "start_time": "2019-04-30T13:10:57.352040Z"
    },
    "hidden": true
   },
   "outputs": [],
   "source": [
    "# Testing\n",
    "print(process('programming'))\n",
    "print(process('how'))\n",
    "print(process('instructions'))\n",
    "print(process('customer'))\n",
    "print(process('present'))\n",
    "print(process('presentation'))\n",
    "print(process('design'))\n",
    "print(process('omni'))\n",
    "print(process('channel'))"
   ]
  },
  {
   "cell_type": "code",
   "execution_count": null,
   "metadata": {
    "ExecuteTime": {
     "end_time": "2019-04-30T13:14:21.622836Z",
     "start_time": "2019-04-30T13:12:29.490740Z"
    },
    "hidden": true
   },
   "outputs": [],
   "source": [
    "# Load word2vec gensim\n",
    "w2v = KeyedVectors.load_word2vec_format(\"gensim_glove_vectors.txt\", binary=False)"
   ]
  },
  {
   "cell_type": "code",
   "execution_count": null,
   "metadata": {
    "ExecuteTime": {
     "end_time": "2019-04-30T13:15:04.914187Z",
     "start_time": "2019-04-30T13:15:04.910807Z"
    },
    "hidden": true
   },
   "outputs": [],
   "source": [
    "def getFirstTuple(d):\n",
    "    result = []\n",
    "    temp = w2v.similar_by_vector(d,3)\n",
    "    for a in temp:\n",
    "        result.append(a[0])\n",
    "    return result"
   ]
  },
  {
   "cell_type": "code",
   "execution_count": null,
   "metadata": {
    "ExecuteTime": {
     "end_time": "2019-04-30T13:15:07.329882Z",
     "start_time": "2019-04-30T13:15:07.326116Z"
    },
    "hidden": true
   },
   "outputs": [],
   "source": [
    "def getMean(d):\n",
    "    values = np.zeros(300)\n",
    "    end = np.zeros(300)\n",
    "    for i in d:\n",
    "        k = 0 \n",
    "        if i in w2v:\n",
    "            values += w2v[i]\n",
    "            k += 1\n",
    "        end = values/k\n",
    "    return end"
   ]
  },
  {
   "cell_type": "code",
   "execution_count": null,
   "metadata": {
    "ExecuteTime": {
     "end_time": "2019-04-30T13:15:23.617950Z",
     "start_time": "2019-04-30T13:15:09.757073Z"
    },
    "hidden": true
   },
   "outputs": [],
   "source": [
    "clean_homepage['AvgVectorKeywords'] = clean_homepage['keywords'].map(lambda x: getFirstTuple(getMean(x)))"
   ]
  },
  {
   "cell_type": "code",
   "execution_count": null,
   "metadata": {
    "ExecuteTime": {
     "end_time": "2019-04-29T14:29:18.894818Z",
     "start_time": "2019-04-29T14:29:12.419Z"
    },
    "hidden": true
   },
   "outputs": [],
   "source": [
    "clean_homepage"
   ]
  },
  {
   "cell_type": "code",
   "execution_count": null,
   "metadata": {
    "ExecuteTime": {
     "end_time": "2019-04-30T13:15:26.415408Z",
     "start_time": "2019-04-30T13:15:26.397374Z"
    },
    "hidden": true
   },
   "outputs": [],
   "source": [
    "# Export\n",
    "file_name = 'TrainingDataCreation3004.csv'\n",
    "clean_homepage.to_csv(file_name, sep='\\t', encoding='utf-8')"
   ]
  },
  {
   "cell_type": "code",
   "execution_count": null,
   "metadata": {
    "ExecuteTime": {
     "end_time": "2019-04-29T14:29:18.896573Z",
     "start_time": "2019-04-29T14:29:12.424Z"
    },
    "hidden": true
   },
   "outputs": [],
   "source": [
    "def tsne_plot(model):\n",
    "    \"Creates and TSNE model and plots it\"\n",
    "    labels = []\n",
    "    tokens = []\n",
    "\n",
    "    for word in model.wv.vocab:\n",
    "        tokens.append(model[word])\n",
    "        labels.append(word)\n",
    "    \n",
    "    tsne_model = TSNE(perplexity=40, n_components=2, init='pca', n_iter=2500, random_state=23)\n",
    "    new_values = tsne_model.fit_transform(tokens)\n",
    "\n",
    "    x = []\n",
    "    y = []\n",
    "    for value in new_values:\n",
    "        x.append(value[0])\n",
    "        y.append(value[1])\n",
    "        \n",
    "    plt.figure(figsize=(16, 16)) \n",
    "    for i in range(len(x)):\n",
    "        plt.scatter(x[i],y[i])\n",
    "        plt.annotate(labels[i],\n",
    "                     xy=(x[i], y[i]),\n",
    "                     xytext=(5, 2),\n",
    "                     textcoords='offset points',\n",
    "                     ha='right',\n",
    "                     va='bottom')\n",
    "    plt.show()"
   ]
  },
  {
   "cell_type": "markdown",
   "metadata": {
    "heading_collapsed": true
   },
   "source": [
    "# Word2Vec with our own data - Test"
   ]
  },
  {
   "cell_type": "code",
   "execution_count": null,
   "metadata": {
    "ExecuteTime": {
     "end_time": "2019-04-29T14:29:18.898093Z",
     "start_time": "2019-04-29T14:29:12.427Z"
    },
    "hidden": true
   },
   "outputs": [],
   "source": [
    "# training Word2Vec with our data\n",
    "# Pretty bad as we do not have that much\n",
    "corpusWord2Vec = build_corpus(clean_homepage)  \n",
    "model = word2vec.Word2Vec(corpusWord2Vec, size=100, window=20, min_count=1, workers=4)\n",
    "for word in model.wv.vocab:\n",
    "    print(word)"
   ]
  },
  {
   "cell_type": "code",
   "execution_count": null,
   "metadata": {
    "ExecuteTime": {
     "end_time": "2019-04-29T14:29:18.900633Z",
     "start_time": "2019-04-29T14:29:12.429Z"
    },
    "hidden": true
   },
   "outputs": [],
   "source": [
    "tsne_plot(model)"
   ]
  },
  {
   "cell_type": "code",
   "execution_count": null,
   "metadata": {
    "ExecuteTime": {
     "end_time": "2019-04-29T14:29:18.902085Z",
     "start_time": "2019-04-29T14:29:12.431Z"
    },
    "hidden": true
   },
   "outputs": [],
   "source": [
    "import numpy as np\n",
    "import pandas as pd\n",
    "from sklearn.manifold import TSNE\n",
    "from bokeh.io import push_notebook, show, output_notebook\n",
    "from bokeh.plotting import figure\n",
    "from bokeh.models import ColumnDataSource, LabelSet\n",
    "output_notebook()\n",
    " \n",
    "X = []\n",
    "for word in model.wv.vocab:\n",
    "    X.append(model.wv[word])\n",
    "\n",
    "X = np.array(X)\n",
    "print(\"Computed X: \", X.shape)\n",
    "#X_embedded = TSNE(n_components=2,init='pca', n_iter=2500, random_state=23,verbose=2).fit_transform(X)\n",
    "X_embedded = TSNE(perplexity=40, n_components=2, init='pca', n_iter=2500, random_state=23).fit_transform(X)\n",
    "print(\"Computed t-SNE\", X_embedded.shape)\n",
    " \n",
    "df = pd.DataFrame(columns=['x', 'y', 'word'])\n",
    "df['x'], df['y'], df['word'] = X_embedded[:,0], X_embedded[:,1], model.wv.vocab\n",
    " \n",
    "source = ColumnDataSource(ColumnDataSource.from_df(df))\n",
    "labels = LabelSet(x=\"x\", y=\"y\", text=\"word\", y_offset=8,\n",
    "                  text_font_size=\"8pt\", text_color=\"#555555\",\n",
    "                  source=source, text_align='center')\n",
    " \n",
    "plot = figure(plot_width=600, plot_height=600)\n",
    "plot.circle(\"x\", \"y\", size=12, source=source, line_color=\"black\", fill_alpha=0.8)\n",
    "plot.add_layout(labels)\n",
    "show(plot, notebook_handle=True)"
   ]
  },
  {
   "cell_type": "code",
   "execution_count": null,
   "metadata": {
    "ExecuteTime": {
     "end_time": "2019-04-29T14:29:18.903495Z",
     "start_time": "2019-04-29T14:29:12.434Z"
    },
    "hidden": true
   },
   "outputs": [],
   "source": [
    "model.most_similar('project')"
   ]
  }
 ],
 "metadata": {
  "kernelspec": {
   "display_name": "Python 3",
   "language": "python",
   "name": "python3"
  },
  "language_info": {
   "codemirror_mode": {
    "name": "ipython",
    "version": 3
   },
   "file_extension": ".py",
   "mimetype": "text/x-python",
   "name": "python",
   "nbconvert_exporter": "python",
   "pygments_lexer": "ipython3",
   "version": "3.7.3"
  },
  "toc": {
   "base_numbering": 1,
   "nav_menu": {},
   "number_sections": true,
   "sideBar": true,
   "skip_h1_title": false,
   "title_cell": "Table of Contents",
   "title_sidebar": "Contents",
   "toc_cell": false,
   "toc_position": {},
   "toc_section_display": true,
   "toc_window_display": false
  },
  "varInspector": {
   "cols": {
    "lenName": 16,
    "lenType": 16,
    "lenVar": 40
   },
   "kernels_config": {
    "python": {
     "delete_cmd_postfix": "",
     "delete_cmd_prefix": "del ",
     "library": "var_list.py",
     "varRefreshCmd": "print(var_dic_list())"
    },
    "r": {
     "delete_cmd_postfix": ") ",
     "delete_cmd_prefix": "rm(",
     "library": "var_list.r",
     "varRefreshCmd": "cat(var_dic_list()) "
    }
   },
   "types_to_exclude": [
    "module",
    "function",
    "builtin_function_or_method",
    "instance",
    "_Feature"
   ],
   "window_display": false
  }
 },
 "nbformat": 4,
 "nbformat_minor": 2
}
