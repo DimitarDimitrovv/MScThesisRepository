{
 "cells": [
  {
   "cell_type": "markdown",
   "metadata": {},
   "source": [
    "# Importing Data"
   ]
  },
  {
   "cell_type": "code",
   "execution_count": 35,
   "metadata": {
    "ExecuteTime": {
     "end_time": "2019-06-07T08:38:54.704316Z",
     "start_time": "2019-06-07T08:38:54.699935Z"
    }
   },
   "outputs": [],
   "source": [
    "from gensim.summarization import keywords\n",
    "from gensim.summarization.summarizer import summarize\n",
    "import json\n",
    "from pprint import pprint\n",
    "import pandas as pd\n",
    "import numpy as np\n",
    "import nltk\n",
    "import re\n",
    "from nltk.corpus import stopwords \n",
    "from nltk.tokenize import word_tokenize \n",
    "from nltk.stem import PorterStemmer\n",
    "from nltk.stem import WordNetLemmatizer \n",
    "from collections import defaultdict\n",
    "from sklearn.feature_extraction.text import CountVectorizer,TfidfVectorizer\n",
    "from sklearn.feature_extraction import text"
   ]
  },
  {
   "cell_type": "markdown",
   "metadata": {},
   "source": [
    "# Functions"
   ]
  },
  {
   "cell_type": "code",
   "execution_count": 36,
   "metadata": {
    "ExecuteTime": {
     "end_time": "2019-06-07T08:38:55.493236Z",
     "start_time": "2019-06-07T08:38:55.486385Z"
    }
   },
   "outputs": [],
   "source": [
    "# Main Func\n",
    "\n",
    "def check_for_letter(d):\n",
    "    result = re.search('[a-zA-Z]', str(d))\n",
    "    if result == None:\n",
    "        result = 'False'\n",
    "        return result\n",
    "\n",
    "def check_content(data_frame):\n",
    "    data_frame['Check'] = data_frame['Data'].apply(lambda x: check_for_letter(x))\n",
    "    return data_frame\n",
    "    \n",
    "def remove_homepage(data_frame):\n",
    "        data_frame = data_frame.drop(\n",
    "            data_frame[((data_frame.Link == 'https://www.bloomreach.com/en')|\n",
    "                       (data_frame.Check == 'False')|\n",
    "                       (data_frame.Data == '[]'))].index).reset_index(drop=True)\n",
    "        del data_frame['Check']\n",
    "        return data_frame"
   ]
  },
  {
   "cell_type": "code",
   "execution_count": 37,
   "metadata": {
    "ExecuteTime": {
     "end_time": "2019-06-07T08:38:56.877302Z",
     "start_time": "2019-06-07T08:38:56.873272Z"
    }
   },
   "outputs": [],
   "source": [
    "def clean_text(dirty_text):\n",
    "    word_tokens = nltk.word_tokenize(dirty_text) ###Tokenization\n",
    "    stemmed_words = [lemmatizer.lemmatize(w.lower()) for w in word_tokens if w.isalpha()] ###Stemming\n",
    "    rights_words = [w for w in stemmed_words if not w in stop_words]  ###Stop woords\n",
    "    return rights_words"
   ]
  },
  {
   "cell_type": "code",
   "execution_count": null,
   "metadata": {},
   "outputs": [],
   "source": [
    "def keywords_func(content):\n",
    "    result = keywords(content,lemmatize = True)\n",
    "    return result.split('\\n')\n",
    "    \n",
    "def summary_func(content):\n",
    "    try:\n",
    "        result = summarize(content)\n",
    "    except Exception as E:\n",
    "        if 'input must have more than one sentence' in str(E):\n",
    "            result = ''\n",
    "            return result\n",
    "    return result"
   ]
  },
  {
   "cell_type": "markdown",
   "metadata": {},
   "source": [
    "# HippoScrape"
   ]
  },
  {
   "cell_type": "code",
   "execution_count": 38,
   "metadata": {
    "ExecuteTime": {
     "end_time": "2019-06-07T08:39:00.615230Z",
     "start_time": "2019-06-07T08:39:00.599432Z"
    }
   },
   "outputs": [],
   "source": [
    "# File Name\n",
    "final_scrape_fixed = 'data/Scrape_LastVersion.json' # Scraped Data\n",
    "with open(final_scrape_fixed) as f:\n",
    "    data = json.load(f)\n",
    "# data is list of dictionaries\n",
    "finalMap = {} \n",
    "for d in data:\n",
    "    finalMap.update(d)"
   ]
  },
  {
   "cell_type": "code",
   "execution_count": 40,
   "metadata": {
    "ExecuteTime": {
     "end_time": "2019-06-07T08:39:11.818486Z",
     "start_time": "2019-06-07T08:39:11.795174Z"
    }
   },
   "outputs": [
    {
     "data": {
      "text/html": [
       "<div>\n",
       "<style scoped>\n",
       "    .dataframe tbody tr th:only-of-type {\n",
       "        vertical-align: middle;\n",
       "    }\n",
       "\n",
       "    .dataframe tbody tr th {\n",
       "        vertical-align: top;\n",
       "    }\n",
       "\n",
       "    .dataframe thead th {\n",
       "        text-align: right;\n",
       "    }\n",
       "</style>\n",
       "<table border=\"1\" class=\"dataframe\">\n",
       "  <thead>\n",
       "    <tr style=\"text-align: right;\">\n",
       "      <th></th>\n",
       "      <th>Link</th>\n",
       "      <th>Data</th>\n",
       "    </tr>\n",
       "  </thead>\n",
       "  <tbody>\n",
       "    <tr>\n",
       "      <th>0</th>\n",
       "      <td>https://www.onehippo.org/library/end-user-manu...</td>\n",
       "      <td>[' The Content Perspective After logging in , ...</td>\n",
       "    </tr>\n",
       "    <tr>\n",
       "      <th>1</th>\n",
       "      <td>https://www.onehippo.org/trails/developer-trai...</td>\n",
       "      <td>[' Add the Secondary Navigation Menu to the Ab...</td>\n",
       "    </tr>\n",
       "    <tr>\n",
       "      <th>2</th>\n",
       "      <td>https://www.onehippo.org/about/community/hippo...</td>\n",
       "      <td>[' Videos of Hippo GetTogether On May we had t...</td>\n",
       "    </tr>\n",
       "    <tr>\n",
       "      <th>3</th>\n",
       "      <td>https://www.onehippo.org/10/labs/adding-a-work...</td>\n",
       "      <td>[' Minos Chatzidakis Apr , share this: Adding ...</td>\n",
       "    </tr>\n",
       "    <tr>\n",
       "      <th>4</th>\n",
       "      <td>https://www.onehippo.com/en/customers/nectar.html</td>\n",
       "      <td>[' Deliver Connected Experiences Learn more Sc...</td>\n",
       "    </tr>\n",
       "    <tr>\n",
       "      <th>5</th>\n",
       "      <td>https://www.onehippo.org/7_8/library/developme...</td>\n",
       "      <td>[' Archived Documentation for brXM versions pr...</td>\n",
       "    </tr>\n",
       "    <tr>\n",
       "      <th>6</th>\n",
       "      <td>https://www.onehippo.org/10/labs/ecommerce/bui...</td>\n",
       "      <td>[' Ivo Bronsveld Jan , share this: Building an...</td>\n",
       "    </tr>\n",
       "    <tr>\n",
       "      <th>7</th>\n",
       "      <td>https://www.onehippo.com/feed/blog.rss</td>\n",
       "      <td>[' Deliver Connected Experiences Learn more Sc...</td>\n",
       "    </tr>\n",
       "    <tr>\n",
       "      <th>8</th>\n",
       "      <td>https://www.onehippo.com/de/karriere</td>\n",
       "      <td>[' Deliver Connected Experiences Learn more Sc...</td>\n",
       "    </tr>\n",
       "    <tr>\n",
       "      <th>9</th>\n",
       "      <td>https://www.onehippo.org/10/library/about/syst...</td>\n",
       "      <td>[' System Requirements Hippo CMS Updated Octob...</td>\n",
       "    </tr>\n",
       "    <tr>\n",
       "      <th>10</th>\n",
       "      <td>https://www.onehippo.com/en/personalization</td>\n",
       "      <td>[' Deliver Connected Experiences Learn more Sc...</td>\n",
       "    </tr>\n",
       "    <tr>\n",
       "      <th>11</th>\n",
       "      <td>https://www.onehippo.com/en/financial-services</td>\n",
       "      <td>[' Deliver Connected Experiences Learn more Sc...</td>\n",
       "    </tr>\n",
       "    <tr>\n",
       "      <th>12</th>\n",
       "      <td>https://www.onehippo.com/en/contact-us</td>\n",
       "      <td>[' Have a Question? Get in Touch! Contact Us C...</td>\n",
       "    </tr>\n",
       "    <tr>\n",
       "      <th>13</th>\n",
       "      <td>https://www.onehippo.org/library/concepts/inte...</td>\n",
       "      <td>[' Integrate BloomReach Experience Manager Blo...</td>\n",
       "    </tr>\n",
       "    <tr>\n",
       "      <th>14</th>\n",
       "      <td>https://www.onehippo.org/7_9/library/about/sys...</td>\n",
       "      <td>[' Archived Documentation for brXM versions pr...</td>\n",
       "    </tr>\n",
       "    <tr>\n",
       "      <th>15</th>\n",
       "      <td>https://www.onehippo.org/library/concepts/sear...</td>\n",
       "      <td>[' HstQuery bootstrapping Getting hold of a Hs...</td>\n",
       "    </tr>\n",
       "    <tr>\n",
       "      <th>16</th>\n",
       "      <td>https://www.onehippo.org/library/concepts/secu...</td>\n",
       "      <td>[' CMS Web Application Security Overview Intro...</td>\n",
       "    </tr>\n",
       "    <tr>\n",
       "      <th>17</th>\n",
       "      <td>https://www.onehippo.com/sitemap.xml</td>\n",
       "      <td>[' Deliver Connected Experiences Learn more Sc...</td>\n",
       "    </tr>\n",
       "    <tr>\n",
       "      <th>18</th>\n",
       "      <td>https://www.onehippo.org/library/concepts/upda...</td>\n",
       "      <td>[' Updater Scripts Introduction Goal Perform b...</td>\n",
       "    </tr>\n",
       "    <tr>\n",
       "      <th>19</th>\n",
       "      <td>https://www.onehippo.org/library/about/license...</td>\n",
       "      <td>[' BloomReach Experience Manager Open Source L...</td>\n",
       "    </tr>\n",
       "    <tr>\n",
       "      <th>20</th>\n",
       "      <td>https://www.onehippo.com/de/industries-and-ser...</td>\n",
       "      <td>[' Deliver Connected Experiences Learn more Sc...</td>\n",
       "    </tr>\n",
       "    <tr>\n",
       "      <th>21</th>\n",
       "      <td>https://www.onehippo.com/nl/klanten/minbuza.html</td>\n",
       "      <td>[' Deliver Connected Experiences Learn more Sc...</td>\n",
       "    </tr>\n",
       "    <tr>\n",
       "      <th>22</th>\n",
       "      <td>https://www.onehippo.org/library/concepts/plug...</td>\n",
       "      <td>[' SEO Support Plugin Configuration Installati...</td>\n",
       "    </tr>\n",
       "    <tr>\n",
       "      <th>23</th>\n",
       "      <td>https://www.onehippo.org/library/enterprise/en...</td>\n",
       "      <td>[' Dynamic Field Addition in Enterprise Forms ...</td>\n",
       "    </tr>\n",
       "    <tr>\n",
       "      <th>24</th>\n",
       "      <td>https://www.onehippo.com/en/technology</td>\n",
       "      <td>[' Deliver Connected Experiences Learn more Sc...</td>\n",
       "    </tr>\n",
       "    <tr>\n",
       "      <th>25</th>\n",
       "      <td>https://www.onehippo.org/library/development/d...</td>\n",
       "      <td>[' Debug Wicket AJAX in the CMS To see what th...</td>\n",
       "    </tr>\n",
       "    <tr>\n",
       "      <th>26</th>\n",
       "      <td>https://www.onehippo.org/library/concepts/hst-...</td>\n",
       "      <td>[' HST Workspace Configuration On the HST conf...</td>\n",
       "    </tr>\n",
       "    <tr>\n",
       "      <th>27</th>\n",
       "      <td>https://www.onehippo.com/de-old/ressourcen/blo...</td>\n",
       "      <td>[' Deliver Connected Experiences Learn more Sc...</td>\n",
       "    </tr>\n",
       "    <tr>\n",
       "      <th>28</th>\n",
       "      <td>https://www.onehippo.org/about/community/commu...</td>\n",
       "      <td>[' Community Update May , Hello everyone, We a...</td>\n",
       "    </tr>\n",
       "    <tr>\n",
       "      <th>29</th>\n",
       "      <td>https://www.onehippo.com/en/resources/video/ma...</td>\n",
       "      <td>[' Deliver Connected Experiences Learn more Sc...</td>\n",
       "    </tr>\n",
       "    <tr>\n",
       "      <th>...</th>\n",
       "      <td>...</td>\n",
       "      <td>...</td>\n",
       "    </tr>\n",
       "    <tr>\n",
       "      <th>470</th>\n",
       "      <td>https://www.onehippo.org/10/labs/mobile/buildi...</td>\n",
       "      <td>[' Ivo Bronsveld Jan , share this: Building a ...</td>\n",
       "    </tr>\n",
       "    <tr>\n",
       "      <th>471</th>\n",
       "      <td>https://www.onehippo.org/library/concepts/docu...</td>\n",
       "      <td>[' HTML cleaning The contents of HTML fields c...</td>\n",
       "    </tr>\n",
       "    <tr>\n",
       "      <th>472</th>\n",
       "      <td>https://www.onehippo.com/en/partners/thefactor...</td>\n",
       "      <td>[' Deliver Connected Experiences Learn more Sc...</td>\n",
       "    </tr>\n",
       "    <tr>\n",
       "      <th>473</th>\n",
       "      <td>https://www.onehippo.org/library/end-user-manu...</td>\n",
       "      <td>[' Channels In the Channels perspective you ca...</td>\n",
       "    </tr>\n",
       "    <tr>\n",
       "      <th>474</th>\n",
       "      <td>https://www.onehippo.org/library/about/why-hip...</td>\n",
       "      <td>[' Scalability BloomReach Experience Manager i...</td>\n",
       "    </tr>\n",
       "    <tr>\n",
       "      <th>475</th>\n",
       "      <td>https://www.onehippo.org/library/concepts/mave...</td>\n",
       "      <td>[' Using the hippo-cms -release pom for BloomR...</td>\n",
       "    </tr>\n",
       "    <tr>\n",
       "      <th>476</th>\n",
       "      <td>https://www.onehippo.com/blog/feed</td>\n",
       "      <td>[' Deliver Connected Experiences Learn more Sc...</td>\n",
       "    </tr>\n",
       "    <tr>\n",
       "      <th>477</th>\n",
       "      <td>https://www.onehippo.org/7_8/about/release-not...</td>\n",
       "      <td>[' Archived Documentation for brXM versions pr...</td>\n",
       "    </tr>\n",
       "    <tr>\n",
       "      <th>478</th>\n",
       "      <td>https://www.onehippo.org/library/concepts/secu...</td>\n",
       "      <td>[' Limit Access to Certain Pages and Documents...</td>\n",
       "    </tr>\n",
       "    <tr>\n",
       "      <th>479</th>\n",
       "      <td>https://www.onehippo.org/7_8/library/enterpris...</td>\n",
       "      <td>[' Archived Documentation for brXM versions pr...</td>\n",
       "    </tr>\n",
       "    <tr>\n",
       "      <th>480</th>\n",
       "      <td>https://www.onehippo.org/library/concepts/erro...</td>\n",
       "      <td>[' . Simple exception handling Be Aware This i...</td>\n",
       "    </tr>\n",
       "    <tr>\n",
       "      <th>481</th>\n",
       "      <td>https://www.onehippo.com/path-not-found-onehip...</td>\n",
       "      <td>[' Deliver Connected Experiences Learn more Sc...</td>\n",
       "    </tr>\n",
       "    <tr>\n",
       "      <th>482</th>\n",
       "      <td>https://www.onehippo.org/library/concepts/hipp...</td>\n",
       "      <td>[' Event Bus Introduction Goal Understand how ...</td>\n",
       "    </tr>\n",
       "    <tr>\n",
       "      <th>483</th>\n",
       "      <td>https://www.onehippo.com/en/careers/consulting...</td>\n",
       "      <td>[' Deliver Connected Experiences Learn more Sc...</td>\n",
       "    </tr>\n",
       "    <tr>\n",
       "      <th>484</th>\n",
       "      <td>https://www.onehippo.org/7_8/library/deploymen...</td>\n",
       "      <td>[' Archived Documentation for brXM versions pr...</td>\n",
       "    </tr>\n",
       "    <tr>\n",
       "      <th>485</th>\n",
       "      <td>https://www.onehippo.org/library/concepts/web-...</td>\n",
       "      <td>[' Use Web Files Introduction Goal Refer to we...</td>\n",
       "    </tr>\n",
       "    <tr>\n",
       "      <th>486</th>\n",
       "      <td>https://www.onehippo.org/library/concepts/web-...</td>\n",
       "      <td>[' Enable Freemarker template support BloomRea...</td>\n",
       "    </tr>\n",
       "    <tr>\n",
       "      <th>487</th>\n",
       "      <td>https://www.onehippo.com/en/partners/tech-alli...</td>\n",
       "      <td>[' Tech Alliances Our global network of tech a...</td>\n",
       "    </tr>\n",
       "    <tr>\n",
       "      <th>488</th>\n",
       "      <td>https://www.onehippo.com/en/partners/siteworx....</td>\n",
       "      <td>[' Deliver Connected Experiences Learn more Sc...</td>\n",
       "    </tr>\n",
       "    <tr>\n",
       "      <th>489</th>\n",
       "      <td>https://www.onehippo.org/10/about/fcs-and-ga-r...</td>\n",
       "      <td>[' Beta and GA Releases When a new major versi...</td>\n",
       "    </tr>\n",
       "    <tr>\n",
       "      <th>490</th>\n",
       "      <td>https://www.onehippo.org/7_9/library/concepts/...</td>\n",
       "      <td>[' Archived Documentation for brXM versions pr...</td>\n",
       "    </tr>\n",
       "    <tr>\n",
       "      <th>491</th>\n",
       "      <td>https://www.onehippo.org/library/enterprise/in...</td>\n",
       "      <td>[' Configure the Application Server Introducti...</td>\n",
       "    </tr>\n",
       "    <tr>\n",
       "      <th>492</th>\n",
       "      <td>https://www.onehippo.com/en/customers/bugaboo....</td>\n",
       "      <td>[' Deliver Connected Experiences Learn more Sc...</td>\n",
       "    </tr>\n",
       "    <tr>\n",
       "      <th>493</th>\n",
       "      <td>https://www.onehippo.org/library/concepts/hst-...</td>\n",
       "      <td>[' Containers configuration The Workspace conf...</td>\n",
       "    </tr>\n",
       "    <tr>\n",
       "      <th>494</th>\n",
       "      <td>https://www.onehippo.com/blogs/blog.rss</td>\n",
       "      <td>[' Deliver Connected Experiences Learn more Sc...</td>\n",
       "    </tr>\n",
       "    <tr>\n",
       "      <th>495</th>\n",
       "      <td>https://www.onehippo.org/7_9/library/deploymen...</td>\n",
       "      <td>[' Archived Documentation for brXM versions pr...</td>\n",
       "    </tr>\n",
       "    <tr>\n",
       "      <th>496</th>\n",
       "      <td>https://www.onehippo.com/en/404page</td>\n",
       "      <td>[' Deliver Connected Experiences Learn more Sc...</td>\n",
       "    </tr>\n",
       "    <tr>\n",
       "      <th>497</th>\n",
       "      <td>https://www.onehippo.org/10/about/community/hi...</td>\n",
       "      <td>[' Videos of Hippo GetTogether . amp;amp;amp;a...</td>\n",
       "    </tr>\n",
       "    <tr>\n",
       "      <th>498</th>\n",
       "      <td>https://www.onehippo.com/wp-login.php</td>\n",
       "      <td>[' Deliver Connected Experiences Learn more Sc...</td>\n",
       "    </tr>\n",
       "    <tr>\n",
       "      <th>499</th>\n",
       "      <td>https://www.onehippo.org/10/labs/integrating-h...</td>\n",
       "      <td>[' Woonsan Ko Jan , share this: Integrating Hi...</td>\n",
       "    </tr>\n",
       "  </tbody>\n",
       "</table>\n",
       "<p>500 rows × 2 columns</p>\n",
       "</div>"
      ],
      "text/plain": [
       "                                                  Link  \\\n",
       "0    https://www.onehippo.org/library/end-user-manu...   \n",
       "1    https://www.onehippo.org/trails/developer-trai...   \n",
       "2    https://www.onehippo.org/about/community/hippo...   \n",
       "3    https://www.onehippo.org/10/labs/adding-a-work...   \n",
       "4    https://www.onehippo.com/en/customers/nectar.html   \n",
       "5    https://www.onehippo.org/7_8/library/developme...   \n",
       "6    https://www.onehippo.org/10/labs/ecommerce/bui...   \n",
       "7               https://www.onehippo.com/feed/blog.rss   \n",
       "8                 https://www.onehippo.com/de/karriere   \n",
       "9    https://www.onehippo.org/10/library/about/syst...   \n",
       "10         https://www.onehippo.com/en/personalization   \n",
       "11      https://www.onehippo.com/en/financial-services   \n",
       "12              https://www.onehippo.com/en/contact-us   \n",
       "13   https://www.onehippo.org/library/concepts/inte...   \n",
       "14   https://www.onehippo.org/7_9/library/about/sys...   \n",
       "15   https://www.onehippo.org/library/concepts/sear...   \n",
       "16   https://www.onehippo.org/library/concepts/secu...   \n",
       "17                https://www.onehippo.com/sitemap.xml   \n",
       "18   https://www.onehippo.org/library/concepts/upda...   \n",
       "19   https://www.onehippo.org/library/about/license...   \n",
       "20   https://www.onehippo.com/de/industries-and-ser...   \n",
       "21    https://www.onehippo.com/nl/klanten/minbuza.html   \n",
       "22   https://www.onehippo.org/library/concepts/plug...   \n",
       "23   https://www.onehippo.org/library/enterprise/en...   \n",
       "24              https://www.onehippo.com/en/technology   \n",
       "25   https://www.onehippo.org/library/development/d...   \n",
       "26   https://www.onehippo.org/library/concepts/hst-...   \n",
       "27   https://www.onehippo.com/de-old/ressourcen/blo...   \n",
       "28   https://www.onehippo.org/about/community/commu...   \n",
       "29   https://www.onehippo.com/en/resources/video/ma...   \n",
       "..                                                 ...   \n",
       "470  https://www.onehippo.org/10/labs/mobile/buildi...   \n",
       "471  https://www.onehippo.org/library/concepts/docu...   \n",
       "472  https://www.onehippo.com/en/partners/thefactor...   \n",
       "473  https://www.onehippo.org/library/end-user-manu...   \n",
       "474  https://www.onehippo.org/library/about/why-hip...   \n",
       "475  https://www.onehippo.org/library/concepts/mave...   \n",
       "476                 https://www.onehippo.com/blog/feed   \n",
       "477  https://www.onehippo.org/7_8/about/release-not...   \n",
       "478  https://www.onehippo.org/library/concepts/secu...   \n",
       "479  https://www.onehippo.org/7_8/library/enterpris...   \n",
       "480  https://www.onehippo.org/library/concepts/erro...   \n",
       "481  https://www.onehippo.com/path-not-found-onehip...   \n",
       "482  https://www.onehippo.org/library/concepts/hipp...   \n",
       "483  https://www.onehippo.com/en/careers/consulting...   \n",
       "484  https://www.onehippo.org/7_8/library/deploymen...   \n",
       "485  https://www.onehippo.org/library/concepts/web-...   \n",
       "486  https://www.onehippo.org/library/concepts/web-...   \n",
       "487  https://www.onehippo.com/en/partners/tech-alli...   \n",
       "488  https://www.onehippo.com/en/partners/siteworx....   \n",
       "489  https://www.onehippo.org/10/about/fcs-and-ga-r...   \n",
       "490  https://www.onehippo.org/7_9/library/concepts/...   \n",
       "491  https://www.onehippo.org/library/enterprise/in...   \n",
       "492  https://www.onehippo.com/en/customers/bugaboo....   \n",
       "493  https://www.onehippo.org/library/concepts/hst-...   \n",
       "494            https://www.onehippo.com/blogs/blog.rss   \n",
       "495  https://www.onehippo.org/7_9/library/deploymen...   \n",
       "496                https://www.onehippo.com/en/404page   \n",
       "497  https://www.onehippo.org/10/about/community/hi...   \n",
       "498              https://www.onehippo.com/wp-login.php   \n",
       "499  https://www.onehippo.org/10/labs/integrating-h...   \n",
       "\n",
       "                                                  Data  \n",
       "0    [' The Content Perspective After logging in , ...  \n",
       "1    [' Add the Secondary Navigation Menu to the Ab...  \n",
       "2    [' Videos of Hippo GetTogether On May we had t...  \n",
       "3    [' Minos Chatzidakis Apr , share this: Adding ...  \n",
       "4    [' Deliver Connected Experiences Learn more Sc...  \n",
       "5    [' Archived Documentation for brXM versions pr...  \n",
       "6    [' Ivo Bronsveld Jan , share this: Building an...  \n",
       "7    [' Deliver Connected Experiences Learn more Sc...  \n",
       "8    [' Deliver Connected Experiences Learn more Sc...  \n",
       "9    [' System Requirements Hippo CMS Updated Octob...  \n",
       "10   [' Deliver Connected Experiences Learn more Sc...  \n",
       "11   [' Deliver Connected Experiences Learn more Sc...  \n",
       "12   [' Have a Question? Get in Touch! Contact Us C...  \n",
       "13   [' Integrate BloomReach Experience Manager Blo...  \n",
       "14   [' Archived Documentation for brXM versions pr...  \n",
       "15   [' HstQuery bootstrapping Getting hold of a Hs...  \n",
       "16   [' CMS Web Application Security Overview Intro...  \n",
       "17   [' Deliver Connected Experiences Learn more Sc...  \n",
       "18   [' Updater Scripts Introduction Goal Perform b...  \n",
       "19   [' BloomReach Experience Manager Open Source L...  \n",
       "20   [' Deliver Connected Experiences Learn more Sc...  \n",
       "21   [' Deliver Connected Experiences Learn more Sc...  \n",
       "22   [' SEO Support Plugin Configuration Installati...  \n",
       "23   [' Dynamic Field Addition in Enterprise Forms ...  \n",
       "24   [' Deliver Connected Experiences Learn more Sc...  \n",
       "25   [' Debug Wicket AJAX in the CMS To see what th...  \n",
       "26   [' HST Workspace Configuration On the HST conf...  \n",
       "27   [' Deliver Connected Experiences Learn more Sc...  \n",
       "28   [' Community Update May , Hello everyone, We a...  \n",
       "29   [' Deliver Connected Experiences Learn more Sc...  \n",
       "..                                                 ...  \n",
       "470  [' Ivo Bronsveld Jan , share this: Building a ...  \n",
       "471  [' HTML cleaning The contents of HTML fields c...  \n",
       "472  [' Deliver Connected Experiences Learn more Sc...  \n",
       "473  [' Channels In the Channels perspective you ca...  \n",
       "474  [' Scalability BloomReach Experience Manager i...  \n",
       "475  [' Using the hippo-cms -release pom for BloomR...  \n",
       "476  [' Deliver Connected Experiences Learn more Sc...  \n",
       "477  [' Archived Documentation for brXM versions pr...  \n",
       "478  [' Limit Access to Certain Pages and Documents...  \n",
       "479  [' Archived Documentation for brXM versions pr...  \n",
       "480  [' . Simple exception handling Be Aware This i...  \n",
       "481  [' Deliver Connected Experiences Learn more Sc...  \n",
       "482  [' Event Bus Introduction Goal Understand how ...  \n",
       "483  [' Deliver Connected Experiences Learn more Sc...  \n",
       "484  [' Archived Documentation for brXM versions pr...  \n",
       "485  [' Use Web Files Introduction Goal Refer to we...  \n",
       "486  [' Enable Freemarker template support BloomRea...  \n",
       "487  [' Tech Alliances Our global network of tech a...  \n",
       "488  [' Deliver Connected Experiences Learn more Sc...  \n",
       "489  [' Beta and GA Releases When a new major versi...  \n",
       "490  [' Archived Documentation for brXM versions pr...  \n",
       "491  [' Configure the Application Server Introducti...  \n",
       "492  [' Deliver Connected Experiences Learn more Sc...  \n",
       "493  [' Containers configuration The Workspace conf...  \n",
       "494  [' Deliver Connected Experiences Learn more Sc...  \n",
       "495  [' Archived Documentation for brXM versions pr...  \n",
       "496  [' Deliver Connected Experiences Learn more Sc...  \n",
       "497  [' Videos of Hippo GetTogether . amp;amp;amp;a...  \n",
       "498  [' Deliver Connected Experiences Learn more Sc...  \n",
       "499  [' Woonsan Ko Jan , share this: Integrating Hi...  \n",
       "\n",
       "[500 rows x 2 columns]"
      ]
     },
     "execution_count": 40,
     "metadata": {},
     "output_type": "execute_result"
    }
   ],
   "source": [
    "df = pd.DataFrame(finalMap.items(), columns=['Link', 'Data'])\n",
    "df = check_content(df)\n",
    "df = remove_homepage(df)\n",
    "df['Data'] = df['Data'].apply(lambda x: x.replace(\"_\",\" \")) #maybe change to regex if there is letter before and after\n",
    "df.head(5)"
   ]
  },
  {
   "cell_type": "code",
   "execution_count": 43,
   "metadata": {
    "ExecuteTime": {
     "end_time": "2019-06-07T08:39:48.534166Z",
     "start_time": "2019-06-07T08:39:48.455854Z"
    }
   },
   "outputs": [],
   "source": [
    "data_column = []\n",
    "for index, row in df.iterrows():\n",
    "    data_column.append(row['Data'])"
   ]
  },
  {
   "cell_type": "code",
   "execution_count": 44,
   "metadata": {
    "ExecuteTime": {
     "end_time": "2019-06-07T08:39:48.980402Z",
     "start_time": "2019-06-07T08:39:48.976744Z"
    }
   },
   "outputs": [
    {
     "data": {
      "text/plain": [
       "'[\\' Add the Secondary Navigation Menu to the About Page Previous Step Add a Two Columns Page Configuration Now that you have created a two columns page configuration and made the News Overview, News Detail and Content page configurations extend it, you will now add a secondary navigation menu to the right column of the Content page configuration used by the About page. Create a Freemarker Template for the Right Column Menu Open the file found in the web design. Locate the element in . This is the HTML markup for the menu in the right column. Select the element and everything inside it and copy the selection to the clipboard. Create a file in your project. This will be the template for the menu in the right column. Add the following line to the top of the template: Below it paste the contents of the clipboard. Now the template contains static HTML for the template. In the Console browse to the node . Add a new child node of type . Add a new property to the node and set its value to . Add the Right Column to the About Page and Content Page Configurations In the Console, browse to the node . Add a new child node of type . Add a new property to the node and set its value to . Load the web site in your browser and browse to the About page. The static menu is now visible in the right column. In the Console, browse to the node . Copy the right node to : Create Content In the CMS open the Content tab and browse to GoGreen > content . Create two more content documents \"Quick Facts\" and \"Terms Conditions\" (copy paste the content from the coresponding pages in the web design). Publish the documents. Make the Menu Dynamic In the Console browse to the node . Add a new child node of type . Add a new property to the node and set its value to . Add a new child node of type . Add a new property to the node and set its value to . You are making use of the sitemap item that was added by the Simple Content feature you added in Sprint . Browse to the node . Add a new property to the node and set its value to . This is the out-of-the-box Menu component and retrieves a menu from the content repository. Add a new property and set its value to . Add a new property and set its value to . You have now configured the component to retrieve the menu. Add the same properties to : In the template use Freemarker syntax to make the HTML dynamically display the items in the menu. Some hints: The Menu component makes the menu it retrieves from the repository available in a variable called which is of type . The menu items can be accessed through the attribute of the object. The child menu items of each menu item can be accessed through the attribute of the coresponding object. Each menu item has an attribute containing the resolved link for that item. You should end up with something like this: Point your browser to the About page in your web site. In the right column it now displays the menu items you added, and when you click on them they will link to the pages with the coresponding content. Next Step Develop the Products Feature Full Source Code twocolumns-right-menu.ftl Did you find this page helpful? How could this documentation serve you better? Cheers! \\']'"
      ]
     },
     "execution_count": 44,
     "metadata": {},
     "output_type": "execute_result"
    }
   ],
   "source": [
    "data_column[1]"
   ]
  },
  {
   "cell_type": "code",
   "execution_count": 45,
   "metadata": {
    "ExecuteTime": {
     "end_time": "2019-06-07T08:39:49.676845Z",
     "start_time": "2019-06-07T08:39:49.655920Z"
    }
   },
   "outputs": [
    {
     "name": "stdout",
     "output_type": "stream",
     "text": [
      "document\n",
      "documents\n",
      "documentation\n",
      "areas\n",
      "area\n",
      "available\n",
      "content\n",
      "tab\n",
      "activities\n",
      "create\n",
      "folders\n",
      "folder curently\n",
      "date\n",
      "publication\n",
      "modification\n"
     ]
    }
   ],
   "source": [
    "print (keywords(df[\"Data\"][0]))"
   ]
  },
  {
   "cell_type": "code",
   "execution_count": 46,
   "metadata": {
    "ExecuteTime": {
     "end_time": "2019-06-07T08:39:50.218918Z",
     "start_time": "2019-06-07T08:39:50.215274Z"
    }
   },
   "outputs": [
    {
     "name": "stdout",
     "output_type": "stream",
     "text": [
      "[' Add the Secondary Navigation Menu to the About Page Previous Step Add a Two Columns Page Configuration Now that you have created a two columns page configuration and made the News Overview, News Detail and Content page configurations extend it, you will now add a secondary navigation menu to the right column of the Content page configuration used by the About page. Create a Freemarker Template for the Right Column Menu Open the file found in the web design. Locate the element in . This is the HTML markup for the menu in the right column. Select the element and everything inside it and copy the selection to the clipboard. Create a file in your project. This will be the template for the menu in the right column. Add the following line to the top of the template: Below it paste the contents of the clipboard. Now the template contains static HTML for the template. In the Console browse to the node . Add a new child node of type . Add a new property to the node and set its value to . Add the Right Column to the About Page and Content Page Configurations In the Console, browse to the node . Add a new child node of type . Add a new property to the node and set its value to . Load the web site in your browser and browse to the About page. The static menu is now visible in the right column. In the Console, browse to the node . Copy the right node to : Create Content In the CMS open the Content tab and browse to GoGreen > content . Create two more content documents \"Quick Facts\" and \"Terms Conditions\" (copy paste the content from the coresponding pages in the web design). Publish the documents. Make the Menu Dynamic In the Console browse to the node . Add a new child node of type . Add a new property to the node and set its value to . Add a new child node of type . Add a new property to the node and set its value to . You are making use of the sitemap item that was added by the Simple Content feature you added in Sprint . Browse to the node . Add a new property to the node and set its value to . This is the out-of-the-box Menu component and retrieves a menu from the content repository. Add a new property and set its value to . Add a new property and set its value to . You have now configured the component to retrieve the menu. Add the same properties to : In the template use Freemarker syntax to make the HTML dynamically display the items in the menu. Some hints: The Menu component makes the menu it retrieves from the repository available in a variable called which is of type . The menu items can be accessed through the attribute of the object. The child menu items of each menu item can be accessed through the attribute of the coresponding object. Each menu item has an attribute containing the resolved link for that item. You should end up with something like this: Point your browser to the About page in your web site. In the right column it now displays the menu items you added, and when you click on them they will link to the pages with the coresponding content. Next Step Develop the Products Feature Full Source Code twocolumns-right-menu.ftl Did you find this page helpful? How could this documentation serve you better? Cheers! ']\n"
     ]
    }
   ],
   "source": [
    "print(df['Data'][1])"
   ]
  },
  {
   "cell_type": "code",
   "execution_count": 47,
   "metadata": {
    "ExecuteTime": {
     "end_time": "2019-06-07T08:39:50.816158Z",
     "start_time": "2019-06-07T08:39:50.799201Z"
    }
   },
   "outputs": [
    {
     "name": "stdout",
     "output_type": "stream",
     "text": [
      "Server Stacks Hippo CMS Community Edition Supported Stack The Hippo CMS Community Edition stack is based upon: JVM: Oracle JVM Operating System: Ubuntu Server .\n",
      "Hippo CMS Enterprise Edition Supported Stack Hippo Enterprise supports several different stacks, i.e. combinations of Java virtual machine, operating system, database and application server.\n",
      "Prefered Enterprise Stack: JVM: Oracle JVM Operating System: Ubuntu Server .\n",
      "or Oracle Relevance Module Requirement Couchbase Server Enterprise Edition version .\n",
      "Enterprise Stack Options: Supported Platform(s) Supported Version(s) Notes Java Platform Oracle or OpenJDK JVM Java Java Servlet Specification .\n",
      "PostgreSQL Relevance Module Requirement Couchbase Server Enterprise Edition .\n",
      "LDAP Directories OpenLDAP Novell Directory Server Microsoft Active Directory ApacheDS Client Software Supported Stack The Hippo CMS User Interface is fully web based and requires no prerequisites to be installed.\n"
     ]
    }
   ],
   "source": [
    "print(summarize(df['Data'][9]))"
   ]
  },
  {
   "cell_type": "code",
   "execution_count": 48,
   "metadata": {
    "ExecuteTime": {
     "end_time": "2019-06-07T08:39:51.523421Z",
     "start_time": "2019-06-07T08:39:51.519247Z"
    }
   },
   "outputs": [
    {
     "data": {
      "text/plain": [
       "\"[' System Requirements Hippo CMS Updated October rd, : version . . adds support for OpenJDK , Tomcat , and MySQL . This page describes the generic system requirements for Hippo CMS to provide a guideline for infrastructure decisions. System requirements for older versions can be found here: . and . . Any third party product or service that is in extended support mode is not supported by Hippo unless explicitly stated differently. Server Stacks Hippo CMS Community Edition Supported Stack The Hippo CMS Community Edition stack is based upon: JVM: Oracle JVM Operating System: Ubuntu Server . (prefered) Application Server: Tomcat . Database Server: MySQL . Hippo CMS Enterprise Edition Supported Stack Hippo Enterprise supports several different stacks, i.e. combinations of Java virtual machine, operating system, database and application server. Hippo has a prefered stack as mentioned below. In case your environment differs from the prefered stack look at options mentioned in the Enterprise Stack options. Please contact Hippo Sales for information on platforms not listed below. Please also contact Hippo for final sign-off to ensure that the combination of software versions employed is both eligible for Hippo support and also facilitates best possible performance and stability. Prefered Enterprise Stack: JVM: Oracle JVM Operating System: Ubuntu Server . (prefered) Application Server: Tomcat . Database Servers: MySQL . or Oracle Relevance Module Requirement Couchbase Server Enterprise Edition version . , Elasticsearch . Enterprise Stack Options: Supported Platform(s) Supported Version(s) Notes Java Platform Oracle or OpenJDK JVM Java Java Servlet Specification . (JSR- ) Operating Systems Ubuntu Serveru b . . RedHat Enterprise Linux (RHEL) . Debian Squeeze Wheezy Windows Server R R Application Servers Apache Tomcat . . . Oracle WebLogic c release Database Servers MySQL . . MySQL . supported until EOL Feb Amazon RDS Using MySQL or Oracle RDS Oracle MS SQL Server Note that mainstream support for SQL Server and SQL Server R has ended on July , . PostgreSQL Relevance Module Requirement Couchbase Server Enterprise Edition . Elasticsearch . LDAP Directories OpenLDAP Novell Directory Server Microsoft Active Directory ApacheDS Client Software Supported Stack The Hippo CMS User Interface is fully web based and requires no prerequisites to be installed. As such Hippo is expected to run in any standard browser environment. Hippo cannot guarantee browser plug-ins, tools or any kind of modifications to the browser to work with Hippo CMS. The CMS User Interface requires cookies to be activated for the domain it runs in. Supported Platform(s) Supported Version(s) Notes Operating Systems Microsoft Windows Mac OS X Ubuntu and higher Browsers Google Chrome latest stable version Mozilla Firefox latest stable version Microsoft Internet Explorer and higher (Windows desktop mode) For future MSIE versions, delay (auto-)updating until Hippo has tested and confirmed compatibility. Apple Safari and higher Mac OS X only Browser support for the website is determined by the website implementation. Hippo's delivery tier (HST) supports all major browsers and versions. Did you find this page helpful? How could this documentation serve you better? Cheers! ']\""
      ]
     },
     "execution_count": 48,
     "metadata": {},
     "output_type": "execute_result"
    }
   ],
   "source": [
    "df['Data'][9]"
   ]
  },
  {
   "cell_type": "code",
   "execution_count": 49,
   "metadata": {
    "ExecuteTime": {
     "end_time": "2019-06-07T08:39:53.107204Z",
     "start_time": "2019-06-07T08:39:53.085229Z"
    }
   },
   "outputs": [
    {
     "name": "stdout",
     "output_type": "stream",
     "text": [
      "['documentation', 'area', 'available', 'content', 'tab', 'activities', 'create', 'folder curently', 'date', 'publication', 'modification']\n"
     ]
    }
   ],
   "source": [
    "result = keywords(df['Data'][0],lemmatize = True)\n",
    "print(result.split('\\n'))"
   ]
  },
  {
   "cell_type": "code",
   "execution_count": 51,
   "metadata": {
    "ExecuteTime": {
     "end_time": "2019-06-07T08:39:55.814161Z",
     "start_time": "2019-06-07T08:39:55.804706Z"
    }
   },
   "outputs": [
    {
     "data": {
      "text/plain": [
       "\"The editor area is only shown once you've selected (opened) a document.\\nContent Area The content area shows the content of the folder curently selected (or searched for) in the Browser Area.\\nMultiple documents can be open in the document viewer, and each document is represented by a tab, shown at the bottom of the viewer area.\""
      ]
     },
     "execution_count": 51,
     "metadata": {},
     "output_type": "execute_result"
    }
   ],
   "source": [
    "summarize(df['Data'][0])"
   ]
  },
  {
   "cell_type": "code",
   "execution_count": 52,
   "metadata": {
    "ExecuteTime": {
     "end_time": "2019-06-07T08:40:29.984848Z",
     "start_time": "2019-06-07T08:39:56.399039Z"
    }
   },
   "outputs": [],
   "source": [
    "df['Keywords'] = df['Data'].apply(lambda x: keywords_func(x))\n",
    "df['Summary'] = df['Data'].apply(lambda x: summary_func(x))"
   ]
  },
  {
   "cell_type": "code",
   "execution_count": 53,
   "metadata": {
    "ExecuteTime": {
     "end_time": "2019-06-07T08:40:30.185173Z",
     "start_time": "2019-06-07T08:40:30.176184Z"
    }
   },
   "outputs": [
    {
     "data": {
      "text/html": [
       "<div>\n",
       "<style scoped>\n",
       "    .dataframe tbody tr th:only-of-type {\n",
       "        vertical-align: middle;\n",
       "    }\n",
       "\n",
       "    .dataframe tbody tr th {\n",
       "        vertical-align: top;\n",
       "    }\n",
       "\n",
       "    .dataframe thead th {\n",
       "        text-align: right;\n",
       "    }\n",
       "</style>\n",
       "<table border=\"1\" class=\"dataframe\">\n",
       "  <thead>\n",
       "    <tr style=\"text-align: right;\">\n",
       "      <th></th>\n",
       "      <th>Link</th>\n",
       "      <th>Data</th>\n",
       "      <th>Keywords</th>\n",
       "      <th>Summary</th>\n",
       "    </tr>\n",
       "  </thead>\n",
       "  <tbody>\n",
       "    <tr>\n",
       "      <th>0</th>\n",
       "      <td>https://www.onehippo.org/library/end-user-manu...</td>\n",
       "      <td>[' The Content Perspective After logging in , ...</td>\n",
       "      <td>[documentation, area, available, content, tab,...</td>\n",
       "      <td>The editor area is only shown once you've sele...</td>\n",
       "    </tr>\n",
       "    <tr>\n",
       "      <th>1</th>\n",
       "      <td>https://www.onehippo.org/trails/developer-trai...</td>\n",
       "      <td>[' Add the Secondary Navigation Menu to the Ab...</td>\n",
       "      <td>[menu, contents, pages, add, design, right col...</td>\n",
       "      <td>Create a Freemarker Template for the Right Col...</td>\n",
       "    </tr>\n",
       "    <tr>\n",
       "      <th>2</th>\n",
       "      <td>https://www.onehippo.org/about/community/hippo...</td>\n",
       "      <td>[' Videos of Hippo GetTogether On May we had t...</td>\n",
       "      <td>[hippo]</td>\n",
       "      <td>How could this documentation serve you better?</td>\n",
       "    </tr>\n",
       "    <tr>\n",
       "      <th>3</th>\n",
       "      <td>https://www.onehippo.org/10/labs/adding-a-work...</td>\n",
       "      <td>[' Minos Chatzidakis Apr , share this: Adding ...</td>\n",
       "      <td>[workflows, cms, documentation, dialog, java, ...</td>\n",
       "      <td>In this blog entry I’d like to focus on the do...</td>\n",
       "    </tr>\n",
       "    <tr>\n",
       "      <th>4</th>\n",
       "      <td>https://www.onehippo.com/en/customers/nectar.html</td>\n",
       "      <td>[' Deliver Connected Experiences Learn more Sc...</td>\n",
       "      <td>[bloomreach, experience, develop, content, con...</td>\n",
       "      <td>[' Deliver Connected Experiences Learn more Sc...</td>\n",
       "    </tr>\n",
       "  </tbody>\n",
       "</table>\n",
       "</div>"
      ],
      "text/plain": [
       "                                                Link  \\\n",
       "0  https://www.onehippo.org/library/end-user-manu...   \n",
       "1  https://www.onehippo.org/trails/developer-trai...   \n",
       "2  https://www.onehippo.org/about/community/hippo...   \n",
       "3  https://www.onehippo.org/10/labs/adding-a-work...   \n",
       "4  https://www.onehippo.com/en/customers/nectar.html   \n",
       "\n",
       "                                                Data  \\\n",
       "0  [' The Content Perspective After logging in , ...   \n",
       "1  [' Add the Secondary Navigation Menu to the Ab...   \n",
       "2  [' Videos of Hippo GetTogether On May we had t...   \n",
       "3  [' Minos Chatzidakis Apr , share this: Adding ...   \n",
       "4  [' Deliver Connected Experiences Learn more Sc...   \n",
       "\n",
       "                                            Keywords  \\\n",
       "0  [documentation, area, available, content, tab,...   \n",
       "1  [menu, contents, pages, add, design, right col...   \n",
       "2                                            [hippo]   \n",
       "3  [workflows, cms, documentation, dialog, java, ...   \n",
       "4  [bloomreach, experience, develop, content, con...   \n",
       "\n",
       "                                             Summary  \n",
       "0  The editor area is only shown once you've sele...  \n",
       "1  Create a Freemarker Template for the Right Col...  \n",
       "2     How could this documentation serve you better?  \n",
       "3  In this blog entry I’d like to focus on the do...  \n",
       "4  [' Deliver Connected Experiences Learn more Sc...  "
      ]
     },
     "execution_count": 53,
     "metadata": {},
     "output_type": "execute_result"
    }
   ],
   "source": [
    "df.head(5)"
   ]
  },
  {
   "cell_type": "code",
   "execution_count": 55,
   "metadata": {
    "ExecuteTime": {
     "end_time": "2019-06-07T08:41:45.772905Z",
     "start_time": "2019-06-07T08:41:45.751033Z"
    }
   },
   "outputs": [],
   "source": [
    "df.to_json(\"scrapped_df_to_json.json\")"
   ]
  },
  {
   "cell_type": "code",
   "execution_count": null,
   "metadata": {
    "ExecuteTime": {
     "end_time": "2019-06-05T10:44:03.476937Z",
     "start_time": "2019-06-05T10:44:03.428571Z"
    }
   },
   "outputs": [],
   "source": [
    "# Not used\n",
    "# Dataframe to json\n",
    "df_to_json= dict(df.set_index('Link').groupby(level=0).apply(lambda  x : x.to_json(orient = 'records')))\n",
    "\n",
    "# Saving the json\n",
    "with open('scrapped_df_to_json.json', 'w') as outfile:  \n",
    "    json.dump(df_to_json, outfile)"
   ]
  },
  {
   "cell_type": "code",
   "execution_count": null,
   "metadata": {
    "ExecuteTime": {
     "end_time": "2019-06-05T10:39:45.186372Z",
     "start_time": "2019-06-05T10:39:45.165863Z"
    }
   },
   "outputs": [],
   "source": [
    "# Not used\n",
    "out = df.to_json(orient='records')\n",
    "# Saving the json\n",
    "with open('scrapped_df_to_json.json', 'w') as outfile:  \n",
    "    json.dump(out, outfile)"
   ]
  },
  {
   "cell_type": "markdown",
   "metadata": {
    "heading_collapsed": true
   },
   "source": [
    "# Building Index & TF-IDF Keywords"
   ]
  },
  {
   "cell_type": "code",
   "execution_count": null,
   "metadata": {
    "ExecuteTime": {
     "end_time": "2019-06-04T11:09:21.491767Z",
     "start_time": "2019-06-04T11:09:21.487834Z"
    },
    "hidden": true
   },
   "outputs": [],
   "source": [
    "dfcontent = [crawled_content for crawled_content in df[\"Data\"]]\n",
    "print(dfcontent[1])"
   ]
  },
  {
   "cell_type": "code",
   "execution_count": null,
   "metadata": {
    "ExecuteTime": {
     "end_time": "2019-06-04T11:11:54.665384Z",
     "start_time": "2019-06-04T11:11:54.650689Z"
    },
    "hidden": true
   },
   "outputs": [],
   "source": [
    "lemmatizer = WordNetLemmatizer()\n",
    "  \n",
    "stop_words = set(stopwords.words('english'))\n",
    "\n",
    "filtered_text = []\n",
    "for each_text in blq:\n",
    "    word_tokens = nltk.word_tokenize(each_text) ###Tokenization\n",
    "    stemmed_words = [lemmatizer.lemmatize(w.lower()) for w in word_tokens if w.isalpha()] ###Stemming\n",
    "    rights_words = [w for w in stemmed_words if not w in stop_words]  ###Stop woords\n",
    "    filtered_text.append(rights_words)\n"
   ]
  },
  {
   "cell_type": "code",
   "execution_count": null,
   "metadata": {
    "ExecuteTime": {
     "end_time": "2019-06-04T11:11:58.656826Z",
     "start_time": "2019-06-04T11:11:58.651790Z"
    },
    "hidden": true
   },
   "outputs": [],
   "source": [
    "filtered_text[1]"
   ]
  },
  {
   "cell_type": "code",
   "execution_count": null,
   "metadata": {
    "ExecuteTime": {
     "end_time": "2019-06-04T11:09:28.446122Z",
     "start_time": "2019-06-04T11:09:28.406433Z"
    },
    "hidden": true
   },
   "outputs": [],
   "source": [
    "inv_indx = defaultdict(list)\n",
    "for idx, content in enumerate(filtered_text):\n",
    "    for word in content:\n",
    "        inv_indx[word].append(idx)"
   ]
  },
  {
   "cell_type": "code",
   "execution_count": null,
   "metadata": {
    "ExecuteTime": {
     "end_time": "2019-06-04T11:09:29.305180Z",
     "start_time": "2019-06-04T11:09:29.126407Z"
    },
    "hidden": true
   },
   "outputs": [],
   "source": [
    "my_stop_words = text.ENGLISH_STOP_WORDS\n",
    "vectorizer = TfidfVectorizer(max_df=0.85,lowercase=True,stop_words= my_stop_words)\n",
    "X = vectorizer.fit_transform(df.Data)"
   ]
  },
  {
   "cell_type": "code",
   "execution_count": null,
   "metadata": {
    "ExecuteTime": {
     "end_time": "2019-06-04T11:09:30.012174Z",
     "start_time": "2019-06-04T11:09:30.002645Z"
    },
    "hidden": true
   },
   "outputs": [],
   "source": [
    "print(vectorizer.get_feature_names())"
   ]
  }
 ],
 "metadata": {
  "kernelspec": {
   "display_name": "Python 3",
   "language": "python",
   "name": "python3"
  },
  "language_info": {
   "codemirror_mode": {
    "name": "ipython",
    "version": 3
   },
   "file_extension": ".py",
   "mimetype": "text/x-python",
   "name": "python",
   "nbconvert_exporter": "python",
   "pygments_lexer": "ipython3",
   "version": "3.7.3"
  },
  "toc": {
   "base_numbering": 1,
   "nav_menu": {},
   "number_sections": true,
   "sideBar": true,
   "skip_h1_title": false,
   "title_cell": "Table of Contents",
   "title_sidebar": "Contents",
   "toc_cell": false,
   "toc_position": {},
   "toc_section_display": true,
   "toc_window_display": false
  },
  "varInspector": {
   "cols": {
    "lenName": 16,
    "lenType": 16,
    "lenVar": 40
   },
   "kernels_config": {
    "python": {
     "delete_cmd_postfix": "",
     "delete_cmd_prefix": "del ",
     "library": "var_list.py",
     "varRefreshCmd": "print(var_dic_list())"
    },
    "r": {
     "delete_cmd_postfix": ") ",
     "delete_cmd_prefix": "rm(",
     "library": "var_list.r",
     "varRefreshCmd": "cat(var_dic_list()) "
    }
   },
   "types_to_exclude": [
    "module",
    "function",
    "builtin_function_or_method",
    "instance",
    "_Feature"
   ],
   "window_display": false
  }
 },
 "nbformat": 4,
 "nbformat_minor": 2
}
