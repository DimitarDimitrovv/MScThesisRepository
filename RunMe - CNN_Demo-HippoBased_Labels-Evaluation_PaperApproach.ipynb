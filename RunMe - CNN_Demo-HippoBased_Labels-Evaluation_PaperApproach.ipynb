{
 "cells": [
  {
   "cell_type": "markdown",
   "metadata": {},
   "source": [
    "# StackOverflowData"
   ]
  },
  {
   "cell_type": "code",
   "execution_count": 27,
   "metadata": {
    "ExecuteTime": {
     "end_time": "2019-06-27T22:20:38.861924Z",
     "start_time": "2019-06-27T22:20:38.845516Z"
    },
    "code_folding": [
     6
    ]
   },
   "outputs": [],
   "source": [
    "import numpy as np\n",
    "from collections import Counter\n",
    "from operator import itemgetter\n",
    "from sklearn import metrics\n",
    "\n",
    "\n",
    "\n",
    "# if you have labels\n",
    "\n",
    "\n",
    "'''\n",
    "    The idea of the function below (map_label) is a simplified approach to what they did in the initial paper. \n",
    "    They used the so called Hungarian method in order to optimize the labeling. The optimization is based on the\n",
    "    ground truth and the labels from the k clustering. Using the example dataset:\n",
    "    We have 20 000 items split in 20 categories, which means that a certain category has multiple items. \n",
    "    The idea of best mapping is to take all tuples from ground truth and prediction per item and count their \n",
    "    occurancies. For example (6, 18), 88), 6 being the ground truth and 18 the prediction truth. This \n",
    "    combination has occured 88 times but ((6, 3), 116) has occured 116 times, so at the end the function \n",
    "    will return 6,3 as best map.\n",
    "'''\n",
    "\n",
    "# Mapping Option 1\n",
    "\n",
    "from munkres import Munkres\n",
    "def best_map(L1,L2):\n",
    "    #L1 should be the groundtruth labels and L2 should be the clustering labels we got\n",
    "    Label1 = np.unique(L1)\n",
    "    nClass1 = len(Label1)\n",
    "    Label2 = np.unique(L2)\n",
    "    nClass2 = len(Label2)\n",
    "    nClass = np.maximum(nClass1,nClass2)\n",
    "    G = np.zeros((nClass,nClass))\n",
    "    for i in range(nClass1):\n",
    "        ind_cla1 = L1 == Label1[i]\n",
    "        ind_cla1 = ind_cla1.astype(float)\n",
    "        for j in range(nClass2):\n",
    "            ind_cla2 = L2 == Label2[j]\n",
    "            ind_cla2 = ind_cla2.astype(float)\n",
    "            G[i,j] = np.sum(ind_cla2 * ind_cla1)\n",
    "    m = Munkres()\n",
    "    index = m.compute(-G.T)\n",
    "    index = np.array(index)\n",
    "    c = index[:,1]\n",
    "    newL2 = np.zeros(L2.shape)\n",
    "    for i in range(nClass2):\n",
    "        newL2[L2 == Label2[i]] = Label1[c[i]]\n",
    "    return newL2 \n",
    "\n",
    "\n",
    "# Mapping Option 2\n",
    "\n",
    "import munkres\n",
    "from sklearn.metrics.cluster import contingency_matrix\n",
    "def translateLabels(masterList, listToConvert):    \n",
    "    contMatrix = contingency_matrix(masterList, listToConvert)\n",
    "    labelMatcher = munkres.Munkres()\n",
    "    labelTranlater = labelMatcher.compute(contMatrix.max() - contMatrix)\n",
    "\n",
    "    uniqueLabels1 = list(set(masterList))\n",
    "    uniqueLabels2 = list(set(listToConvert))\n",
    "\n",
    "    tranlatorDict = {}\n",
    "    for thisPair in labelTranlater:\n",
    "        tranlatorDict[uniqueLabels2[thisPair[1]]] = uniqueLabels1[thisPair[0]]\n",
    "\n",
    "    return [tranlatorDict[label] for label in listToConvert]\n",
    "\n",
    "\n",
    "\n",
    "# Mapping Option 3\n",
    "\n",
    "def map_label(true_labels, pred_labels):\n",
    "    label_pair = list(zip(pred_labels, true_labels))\n",
    "    count = tuple(Counter(label_pair).items())  #count the appearance of each pair dict principle\n",
    "    mapping = dict()\n",
    "    n_label = len(np.unique(true_labels))\n",
    "\n",
    "    # map most likely labels from prediction to ground truth\n",
    "\n",
    "    for label in range(n_label):\n",
    "        tuples = [tup for tup in count if tup[0][0] == label]\n",
    "        likely_tuple = max(tuples, key=itemgetter(1))[0] # tuple as input and take the one which appears the most from the list\n",
    "        mapping[likely_tuple[0]] = likely_tuple[1]\n",
    "\n",
    "    pred_labels_mapped = [mapping[x] for x in pred_labels]\n",
    "    return pred_labels_mapped\n",
    "\n",
    "\n",
    "# Evaluate cluster quality - if you have labels\n",
    "\n",
    "def cluster_quality(true_labels, pred_labels, show=True):\n",
    "    h, c, v = metrics.homogeneity_completeness_v_measure(true_labels, pred_labels)\n",
    "    nmi = metrics.normalized_mutual_info_score(true_labels, pred_labels)\n",
    "    rand = metrics.adjusted_rand_score(true_labels, pred_labels)\n",
    "    #pred_labels_mapped = best_map(true_labels,pred_labels) # First variation of Hungarian Method\n",
    "    #pred_labels_mapped = translateLabels(true_labels,pred_labels) # Second variation with Hungarian Method\n",
    "    pred_labels_mapped = map_label(true_labels, pred_labels) # basic func\n",
    "    # all mappings have similar results\n",
    "    acc = metrics.accuracy_score(true_labels, pred_labels_mapped)\n",
    "    '''\n",
    "    if show:\n",
    "        print(\"Homogeneity: %0.3f\" % h)\n",
    "        print(\"Completeness: %0.3f\" % c)\n",
    "        print(\"V-measure: %0.3f\" % v)\n",
    "        print(\"NMI: %0.3f\" % nmi)\n",
    "        print(\"Rand score: %0.3f\" % rand)\n",
    "        print(\"Accuracy: %0.3f\" % acc)\n",
    "        '''\n",
    "    return dict(\n",
    "        homogeneity=round(h,3),\n",
    "        completeness=round(c,3),\n",
    "        vmeasure=round(v,3),\n",
    "        nmi=round(nmi,3),\n",
    "        rand=round(rand,3),\n",
    "        accuracy=round(acc,3),\n",
    "    )\n"
   ]
  },
  {
   "cell_type": "code",
   "execution_count": 28,
   "metadata": {
    "ExecuteTime": {
     "end_time": "2019-06-27T22:20:39.653252Z",
     "start_time": "2019-06-27T22:20:39.627119Z"
    }
   },
   "outputs": [
    {
     "name": "stdout",
     "output_type": "stream",
     "text": [
      "Total: 20,000 short texts\n"
     ]
    }
   ],
   "source": [
    "import os\n",
    "\n",
    "from gensim.models.keyedvectors import KeyedVectors\n",
    "from keras.callbacks import ModelCheckpoint\n",
    "from keras.optimizers import Adam\n",
    "\n",
    "############################\n",
    "# Loading Data\n",
    "############################\n",
    "\n",
    "EMBEDDING_FILE = 'data/GoogleNews-vectors-negative300.bin' # word vectors\n",
    "text_path = 'data/StackOverflow.txt'# data without labels\n",
    "#text_path = 'data/blq.txt'# data without labels - Own Data\n",
    "label_path = 'data/StackOverflow_gnd.txt' # labels per row in the data file\n",
    "\n",
    "with open(text_path) as f:\n",
    "    data = [text.strip() for text in f]\n",
    "\n",
    "with open(label_path) as f:\n",
    "    target = f.readlines()\n",
    "    \n",
    "target = [int(label.rstrip('\\n')) for label in target] # the data has /n at the end of each row\n",
    "\n",
    "print(\"Total: %s short texts\" % format(len(data), \",\"))"
   ]
  },
  {
   "cell_type": "code",
   "execution_count": 29,
   "metadata": {
    "ExecuteTime": {
     "end_time": "2019-06-27T22:20:40.908287Z",
     "start_time": "2019-06-27T22:20:40.267110Z"
    }
   },
   "outputs": [
    {
     "name": "stdout",
     "output_type": "stream",
     "text": [
      "Found 11365 unique tokens.\n",
      "Minumum length: 1\n",
      "Average length: 8\n",
      "Max length: 34\n"
     ]
    },
    {
     "data": {
      "text/plain": [
       "'\\n    pad_sequences is used to ensure that all sequences in a list have the same length. By default this \\n    is done by padding 0 in the beginning of each sequence until each sequence has the same \\n    length as the longest sequence.\\n'"
      ]
     },
     "execution_count": 29,
     "metadata": {},
     "output_type": "execute_result"
    }
   ],
   "source": [
    "############################\n",
    "# Preprocessing\n",
    "############################\n",
    "\n",
    "from keras.preprocessing.text import Tokenizer\n",
    "from keras.preprocessing.sequence import pad_sequences\n",
    "import numpy as np\n",
    "\n",
    "tokenizer = Tokenizer(char_level=False)\n",
    "tokenizer.fit_on_texts(data)\n",
    "sequences_full = tokenizer.texts_to_sequences(data) # replace words/tokens with numbers\n",
    "\n",
    "word_index = tokenizer.word_index # get the coresponing word:number dict format\n",
    "print('Found %s unique tokens.' % len(word_index))\n",
    "MAX_NB_WORDS = len(word_index) # all words - len\n",
    "\n",
    "seq_lens = [len(s) for s in sequences_full] # get the count of words/symbols in the sequence from above\n",
    "print(\"Minumum length: %d\" % min(seq_lens))\n",
    "print(\"Average length: %d\" % np.mean(seq_lens))\n",
    "print(\"Max length: %d\" % max(seq_lens))\n",
    "MAX_SEQUENCE_LENGTH = max(seq_lens)\n",
    "\n",
    "X = pad_sequences(sequences_full, maxlen=MAX_SEQUENCE_LENGTH) # uses the len of the list and max len\n",
    "y = target # we take the target values\n",
    "\n",
    "'''\n",
    "    pad_sequences is used to ensure that all sequences in a list have the same length. By default this \n",
    "    is done by padding 0 in the beginning of each sequence until each sequence has the same \n",
    "    length as the longest sequence.\n",
    "'''"
   ]
  },
  {
   "cell_type": "code",
   "execution_count": 30,
   "metadata": {
    "ExecuteTime": {
     "end_time": "2019-06-27T22:21:27.914884Z",
     "start_time": "2019-06-27T22:20:41.430307Z"
    }
   },
   "outputs": [
    {
     "name": "stdout",
     "output_type": "stream",
     "text": [
      "Preparing embedding matrix\n",
      "Null word embeddings: 4269\n"
     ]
    }
   ],
   "source": [
    "############################\n",
    "# Preparing embedding matrix\n",
    "############################\n",
    "\n",
    "\n",
    "print('Preparing embedding matrix')\n",
    "word2vec = KeyedVectors.load_word2vec_format(EMBEDDING_FILE, binary=True)\n",
    "\n",
    "EMBEDDING_DIM = 300\n",
    "nb_words = min(MAX_NB_WORDS, len(word_index)) + 1\n",
    "embedding_matrix = np.zeros((nb_words, EMBEDDING_DIM)) # Init as 0's and updated if in word2vec\n",
    "for word, i in word_index.items():\n",
    "    if word in word2vec.vocab:\n",
    "        embedding_matrix[i] = word2vec.word_vec(word)\n",
    "    #else:\n",
    "        #print(word)\n",
    "print('Null word embeddings: %d' % np.sum(np.sum(embedding_matrix, axis=1) == 0))"
   ]
  },
  {
   "cell_type": "code",
   "execution_count": 31,
   "metadata": {
    "ExecuteTime": {
     "end_time": "2019-06-27T22:21:33.657144Z",
     "start_time": "2019-06-27T22:21:28.417036Z"
    }
   },
   "outputs": [
    {
     "name": "stdout",
     "output_type": "stream",
     "text": [
      "Shape of average embedding:  (20000, 300)\n",
      "(20000, 300)\n",
      "[1. 1. 1. 1. 0. 1. 1. 0. 1. 0. 0. 0. 0. 0. 0. 1. 1. 1. 1. 0. 1. 1. 1. 1.\n",
      " 1. 1. 0. 1. 1. 0. 0. 1. 0. 1. 0. 1. 1. 1. 1. 1. 1. 1. 1. 1. 1. 0. 1. 0.\n",
      " 1. 0. 1. 0. 0. 0. 1. 1. 0. 0. 1. 1. 1. 0. 0. 0. 0. 0. 0. 1. 0. 1. 1. 1.\n",
      " 1. 0. 0. 0. 1. 1. 1. 1. 1. 0. 1. 0. 1. 0. 0. 1. 0. 1. 1. 1. 0. 0. 0. 0.\n",
      " 1. 0. 1. 1. 0. 0. 0. 1. 0. 0. 0. 1. 1. 0. 0. 0. 0. 0. 1. 1. 0. 0. 1. 1.\n",
      " 0. 0. 0. 1. 1. 1. 0. 1. 0. 0. 0. 0. 0. 1. 1. 0. 0. 0. 1. 0. 1. 0. 0. 0.\n",
      " 1. 0. 0. 0. 0. 1. 1. 1. 0. 1. 1. 0. 0. 0. 0. 1. 1. 1. 0. 1. 1. 0. 1. 0.\n",
      " 0. 1. 0. 1. 0. 0. 0. 1. 1. 0. 0. 0. 0. 1. 1. 0. 0. 1. 0. 1. 1. 1. 1. 0.\n",
      " 0. 0. 0. 0. 0. 0. 0. 0. 0. 1. 0. 1. 1. 1. 0. 0. 0. 1. 0. 1. 0. 1. 0. 1.\n",
      " 1. 1. 0. 1. 0. 1. 0. 0. 1. 0. 1. 0. 0. 0. 1. 0. 0. 0. 0. 0. 1. 1. 1. 0.\n",
      " 0. 0. 1. 0. 0. 0. 1. 1. 0. 1. 1. 1. 1. 1. 1. 0. 1. 0. 0. 0. 1. 0. 0. 0.\n",
      " 0. 1. 1. 1. 0. 1. 1. 1. 1. 1. 1. 0. 1. 0. 0. 1. 0. 1. 1. 1. 1. 0. 0. 0.\n",
      " 1. 1. 0. 1. 0. 1. 0. 0. 1. 0. 0. 0.]\n"
     ]
    }
   ],
   "source": [
    "#################################################\n",
    "# Preparing target using Average embeddings (AE)\n",
    "#################################################\n",
    "Y = {}\n",
    "tfidf_seq = tokenizer.sequences_to_matrix(sequences_full, mode='tfidf') # converting List of sequences (a sequence is a list of integer word indices).\n",
    "# TF-IDF Acc: 0,329\n",
    "binary_seq = tokenizer.sequences_to_matrix(sequences_full, mode='binary') # Acc: 0,458\n",
    "count_seq = tokenizer.sequences_to_matrix(sequences_full, mode='count') # Acc: 0,467\n",
    "frequency_seq = tokenizer.sequences_to_matrix(sequences_full, mode='freq') # Acc: 0452\n",
    "from sklearn.preprocessing import Normalizer\n",
    "normed_value = Normalizer().fit_transform(binary_seq)\n",
    "average_embeddings = np.dot(normed_value, embedding_matrix)\n",
    "Y[\"ae\"] = average_embeddings\n",
    "print(\"Shape of average embedding: \", Y['ae'].shape)\n",
    "\n",
    "\n",
    "# binary Y\n",
    "from sklearn import preprocessing\n",
    "reduction_name = \"ae\"\n",
    "B = preprocessing.Binarizer().fit_transform(Y[reduction_name]) # binarizing the whole value list for ae key (which is the only key)\n",
    "\n",
    "# Shape of last dimension in the CNN\n",
    "TARGET_DIM = B.shape[1]\n",
    "\n",
    "# Example of binarized target vector\n",
    "print(B.shape)\n",
    "print(B[1])"
   ]
  },
  {
   "cell_type": "code",
   "execution_count": 32,
   "metadata": {
    "ExecuteTime": {
     "end_time": "2019-06-27T22:21:34.170954Z",
     "start_time": "2019-06-27T22:21:34.160282Z"
    },
    "code_folding": []
   },
   "outputs": [],
   "source": [
    "###############PLAYING-GridSearch#################################\n",
    "# Playing train model\n",
    "################################################\n",
    "\n",
    "# Best accuracy for now\n",
    "\n",
    "import keras\n",
    "from keras.datasets import imdb\n",
    "from keras.preprocessing.sequence import pad_sequences\n",
    "from keras.models import Sequential, Model\n",
    "from keras.layers import Dense, Flatten, Dropout, Activation, concatenate, Input\n",
    "from keras.layers import Embedding, Conv1D, SpatialDropout1D, GlobalMaxPooling1D\n",
    "from keras.callbacks import ModelCheckpoint\n",
    "\n",
    "#https://stats.stackexchange.com/questions/240305/where-should-i-place-dropout-layers-in-a-neural-network\n",
    "# the above link has to do with dropout positioning\n",
    "\n",
    "# https://github.com/keras-team/keras/issues/7290\n",
    "# has to do with spatial dropout after embedding layer\n",
    "\n",
    "# https://towardsdatascience.com/review-tompson-cvpr15-spatial-dropout-human-pose-estimation-c7d6a5cecd8c\n",
    "# SpatialDropout again\n",
    "\n",
    "def get_model():\n",
    "    embedding_matrix_copy = embedding_matrix.copy()\n",
    "    trainable_embedding = False\n",
    "    #filters = [2,3,4]\n",
    "    filters = [3,4,5]\n",
    "    # Embedding layer\n",
    "    pretrained_embedding_layer = Embedding(\n",
    "        input_dim=nb_words,\n",
    "        output_dim=EMBEDDING_DIM,\n",
    "        weights=[embedding_matrix],\n",
    "        input_length=MAX_SEQUENCE_LENGTH,\n",
    "    )\n",
    "\n",
    "    # Input\n",
    "    sequence_input = Input(shape=(MAX_SEQUENCE_LENGTH,), dtype='int32')\n",
    "    embedded_sequences = pretrained_embedding_layer(sequence_input)\n",
    "    \n",
    "    # DropOut\n",
    "    #x = Dropout(0.2)(embedded_sequences)\n",
    "    spatial_x = SpatialDropout1D(0.2)(embedded_sequences)\n",
    "    #spatial_x = SpatialDropout1D(0.1)(embedded_sequences) # initial but then changed to the one above\n",
    "    # 1st Layer\n",
    "    conv_layers = []\n",
    "    for i in filters:\n",
    "        x = Conv1D(125, i, activation='tanh', padding='same')(spatial_x)\n",
    "        x = GlobalMaxPooling1D()(x)\n",
    "        #x = Dropout(0.2)(x)\n",
    "        conv_layers.append(x)\n",
    "    merged = concatenate(conv_layers)\n",
    "    # Dense\n",
    "    x = Dense(256,activation = 'tanh')(merged)\n",
    "    \n",
    "    # DropOut\n",
    "    x = Dropout(0.2)(x)\n",
    "    #x = Dropout(0.1)(x)# initial but then changed to the one above\n",
    "    # Output\n",
    "    predictions = Dense(TARGET_DIM, activation='sigmoid')(x) \n",
    "    # sigmoid because we want 0,1 for one of the categories\n",
    "    \n",
    "    model = Model(sequence_input, predictions)\n",
    "\n",
    "    model.layers[1].trainable=trainable_embedding #embedding layer\n",
    "\n",
    "    #adam = Adam(lr=1e-3, beta_1=0.9, beta_2=0.999, epsilon=1e-08)\n",
    "    adam = Adam(lr=0.001, beta_1=0.9, beta_2=0.999, epsilon=1e-08, decay=0.0) #standard for keras\n",
    "    #optimizer = Adam(lr=learn_rate)\n",
    "    \n",
    "    # Loss and Optimizer\n",
    "    model.compile(loss='binary_crossentropy',\n",
    "                  optimizer=adam,\n",
    "                  metrics=['accuracy','mae'])\n",
    "    \n",
    "    # Fine-tune embeddings or not\n",
    "    model.summary()\n",
    "    \n",
    "    return model"
   ]
  },
  {
   "cell_type": "code",
   "execution_count": null,
   "metadata": {
    "ExecuteTime": {
     "end_time": "2019-06-25T20:50:12.262087Z",
     "start_time": "2019-06-25T20:50:09.697Z"
    },
    "code_folding": [
     0
    ]
   },
   "outputs": [],
   "source": [
    "# Grid Search with best model\n",
    "# Use scikit-learn to grid search the number of neurons\n",
    "import numpy\n",
    "from sklearn.model_selection import GridSearchCV\n",
    "from keras.models import Sequential\n",
    "from keras.layers import Dense\n",
    "from keras.layers import Dropout\n",
    "from keras.wrappers.scikit_learn import KerasClassifier\n",
    "from keras.constraints import maxnorm\n",
    "# fix random seed for reproducibility\n",
    "seed = 7\n",
    "numpy.random.seed(seed)\n",
    "# create model\n",
    "model = KerasClassifier(build_fn=get_model, epochs=50, batch_size=100,verbose=0)\n",
    "\n",
    "# define the grid search parameters\n",
    "\n",
    "#activ = ['relu', 'tanh', 'sigmoid']\n",
    "#optimizers = ['Nadam','Adam']\n",
    "droupou = [0.1,0.2,0.3]\n",
    "#init_mode = ['uniform', 'lecun_uniform']\n",
    "#filters =[100,120]\n",
    "#size = [100,120,125]\n",
    "#filterme = [[3,4,5], [2,3,4]]\n",
    "#batch_size = [200]\n",
    "#epochs = [120]\n",
    "#learn_rate = [0.001, 0.01, 0.02, 0.1]\n",
    "#momentum = [0.0, 0.2, 0.4, 0.6, 0.8, 0.9]\n",
    "\n",
    "param_grid = dict(droupout = droupou)\n",
    "grid = GridSearchCV(estimator=model, param_grid=param_grid, n_jobs= -1)\n",
    "grid_result = grid.fit(X, B)\n",
    "\n",
    "# summarize results\n",
    "print(\"Best: %f using %s\" % (grid_result.best_score_, grid_result.best_params_))\n",
    "means = grid_result.cv_results_['mean_test_score']\n",
    "stds = grid_result.cv_results_['std_test_score']\n",
    "params = grid_result.cv_results_['params']\n",
    "for mean, stdev, param in zip(means, stds, params):\n",
    "    print(\"%f (%f) with: %r\" % (mean, stdev, param))"
   ]
  },
  {
   "cell_type": "code",
   "execution_count": 33,
   "metadata": {
    "ExecuteTime": {
     "end_time": "2019-06-27T22:36:45.613800Z",
     "start_time": "2019-06-27T22:21:34.721070Z"
    }
   },
   "outputs": [
    {
     "name": "stdout",
     "output_type": "stream",
     "text": [
      "__________________________________________________________________________________________________\n",
      "Layer (type)                    Output Shape         Param #     Connected to                     \n",
      "==================================================================================================\n",
      "input_3 (InputLayer)            (None, 34)           0                                            \n",
      "__________________________________________________________________________________________________\n",
      "embedding_3 (Embedding)         (None, 34, 300)      3409800     input_3[0][0]                    \n",
      "__________________________________________________________________________________________________\n",
      "spatial_dropout1d_3 (SpatialDro (None, 34, 300)      0           embedding_3[0][0]                \n",
      "__________________________________________________________________________________________________\n",
      "conv1d_7 (Conv1D)               (None, 34, 125)      112625      spatial_dropout1d_3[0][0]        \n",
      "__________________________________________________________________________________________________\n",
      "conv1d_8 (Conv1D)               (None, 34, 125)      150125      spatial_dropout1d_3[0][0]        \n",
      "__________________________________________________________________________________________________\n",
      "conv1d_9 (Conv1D)               (None, 34, 125)      187625      spatial_dropout1d_3[0][0]        \n",
      "__________________________________________________________________________________________________\n",
      "global_max_pooling1d_7 (GlobalM (None, 125)          0           conv1d_7[0][0]                   \n",
      "__________________________________________________________________________________________________\n",
      "global_max_pooling1d_8 (GlobalM (None, 125)          0           conv1d_8[0][0]                   \n",
      "__________________________________________________________________________________________________\n",
      "global_max_pooling1d_9 (GlobalM (None, 125)          0           conv1d_9[0][0]                   \n",
      "__________________________________________________________________________________________________\n",
      "concatenate_3 (Concatenate)     (None, 375)          0           global_max_pooling1d_7[0][0]     \n",
      "                                                                 global_max_pooling1d_8[0][0]     \n",
      "                                                                 global_max_pooling1d_9[0][0]     \n",
      "__________________________________________________________________________________________________\n",
      "dense_5 (Dense)                 (None, 256)          96256       concatenate_3[0][0]              \n",
      "__________________________________________________________________________________________________\n",
      "dropout_3 (Dropout)             (None, 256)          0           dense_5[0][0]                    \n",
      "__________________________________________________________________________________________________\n",
      "dense_6 (Dense)                 (None, 300)          77100       dropout_3[0][0]                  \n",
      "==================================================================================================\n",
      "Total params: 4,033,531\n",
      "Trainable params: 623,731\n",
      "Non-trainable params: 3,409,800\n",
      "__________________________________________________________________________________________________\n",
      "Train on 16000 samples, validate on 4000 samples\n",
      "Epoch 1/50\n",
      "16000/16000 [==============================] - 13s 844us/step - loss: 0.4983 - acc: 0.7530 - mean_absolute_error: 0.3375 - val_loss: 0.4494 - val_acc: 0.7866 - val_mean_absolute_error: 0.3072\n",
      "Epoch 2/50\n",
      "16000/16000 [==============================] - 13s 842us/step - loss: 0.4229 - acc: 0.8016 - mean_absolute_error: 0.2848 - val_loss: 0.4082 - val_acc: 0.8111 - val_mean_absolute_error: 0.2770\n",
      "Epoch 3/50\n",
      "16000/16000 [==============================] - 14s 898us/step - loss: 0.3915 - acc: 0.8193 - mean_absolute_error: 0.2623 - val_loss: 0.3838 - val_acc: 0.8241 - val_mean_absolute_error: 0.2593\n",
      "Epoch 4/50\n",
      "16000/16000 [==============================] - 14s 881us/step - loss: 0.3725 - acc: 0.8293 - mean_absolute_error: 0.2482 - val_loss: 0.3680 - val_acc: 0.8329 - val_mean_absolute_error: 0.2499\n",
      "Epoch 5/50\n",
      "16000/16000 [==============================] - 14s 904us/step - loss: 0.3597 - acc: 0.8358 - mean_absolute_error: 0.2384 - val_loss: 0.3567 - val_acc: 0.8381 - val_mean_absolute_error: 0.2396\n",
      "Epoch 6/50\n",
      "16000/16000 [==============================] - 14s 873us/step - loss: 0.3502 - acc: 0.8408 - mean_absolute_error: 0.2310 - val_loss: 0.3475 - val_acc: 0.8430 - val_mean_absolute_error: 0.2323\n",
      "Epoch 7/50\n",
      "16000/16000 [==============================] - 16s 972us/step - loss: 0.3430 - acc: 0.8445 - mean_absolute_error: 0.2253 - val_loss: 0.3411 - val_acc: 0.8459 - val_mean_absolute_error: 0.2271\n",
      "Epoch 8/50\n",
      "16000/16000 [==============================] - 15s 914us/step - loss: 0.3369 - acc: 0.8475 - mean_absolute_error: 0.2205 - val_loss: 0.3359 - val_acc: 0.8489 - val_mean_absolute_error: 0.2251\n",
      "Epoch 9/50\n",
      "16000/16000 [==============================] - 17s 1ms/step - loss: 0.3323 - acc: 0.8499 - mean_absolute_error: 0.2169 - val_loss: 0.3315 - val_acc: 0.8509 - val_mean_absolute_error: 0.2204\n",
      "Epoch 10/50\n",
      "16000/16000 [==============================] - 22s 1ms/step - loss: 0.3285 - acc: 0.8518 - mean_absolute_error: 0.2137 - val_loss: 0.3274 - val_acc: 0.8532 - val_mean_absolute_error: 0.2187\n",
      "Epoch 11/50\n",
      "16000/16000 [==============================] - 23s 1ms/step - loss: 0.3251 - acc: 0.8536 - mean_absolute_error: 0.2111 - val_loss: 0.3242 - val_acc: 0.8545 - val_mean_absolute_error: 0.2149\n",
      "Epoch 12/50\n",
      "16000/16000 [==============================] - 21s 1ms/step - loss: 0.3219 - acc: 0.8551 - mean_absolute_error: 0.2085 - val_loss: 0.3214 - val_acc: 0.8563 - val_mean_absolute_error: 0.2143\n",
      "Epoch 13/50\n",
      "16000/16000 [==============================] - 21s 1ms/step - loss: 0.3196 - acc: 0.8563 - mean_absolute_error: 0.2065 - val_loss: 0.3188 - val_acc: 0.8571 - val_mean_absolute_error: 0.2109\n",
      "Epoch 14/50\n",
      "16000/16000 [==============================] - 20s 1ms/step - loss: 0.3169 - acc: 0.8577 - mean_absolute_error: 0.2045 - val_loss: 0.3163 - val_acc: 0.8582 - val_mean_absolute_error: 0.2078\n",
      "Epoch 15/50\n",
      "16000/16000 [==============================] - 18s 1ms/step - loss: 0.3153 - acc: 0.8583 - mean_absolute_error: 0.2030 - val_loss: 0.3147 - val_acc: 0.8589 - val_mean_absolute_error: 0.2072\n",
      "Epoch 16/50\n",
      "16000/16000 [==============================] - 19s 1ms/step - loss: 0.3132 - acc: 0.8593 - mean_absolute_error: 0.2015 - val_loss: 0.3131 - val_acc: 0.8597 - val_mean_absolute_error: 0.2049\n",
      "Epoch 17/50\n",
      "16000/16000 [==============================] - 19s 1ms/step - loss: 0.3117 - acc: 0.8603 - mean_absolute_error: 0.2001 - val_loss: 0.3112 - val_acc: 0.8612 - val_mean_absolute_error: 0.2060\n",
      "Epoch 18/50\n",
      "16000/16000 [==============================] - 19s 1ms/step - loss: 0.3100 - acc: 0.8609 - mean_absolute_error: 0.1987 - val_loss: 0.3099 - val_acc: 0.8615 - val_mean_absolute_error: 0.2026\n",
      "Epoch 19/50\n",
      "16000/16000 [==============================] - 18s 1ms/step - loss: 0.3087 - acc: 0.8615 - mean_absolute_error: 0.1977 - val_loss: 0.3083 - val_acc: 0.8622 - val_mean_absolute_error: 0.2021\n",
      "Epoch 20/50\n",
      "16000/16000 [==============================] - 17s 1ms/step - loss: 0.3071 - acc: 0.8625 - mean_absolute_error: 0.1965 - val_loss: 0.3076 - val_acc: 0.8625 - val_mean_absolute_error: 0.1997\n",
      "Epoch 21/50\n",
      "16000/16000 [==============================] - 18s 1ms/step - loss: 0.3058 - acc: 0.8631 - mean_absolute_error: 0.1955 - val_loss: 0.3059 - val_acc: 0.8636 - val_mean_absolute_error: 0.2010\n",
      "Epoch 22/50\n",
      "16000/16000 [==============================] - 20s 1ms/step - loss: 0.3049 - acc: 0.8635 - mean_absolute_error: 0.1947 - val_loss: 0.3047 - val_acc: 0.8642 - val_mean_absolute_error: 0.2002\n",
      "Epoch 23/50\n",
      "16000/16000 [==============================] - 20s 1ms/step - loss: 0.3036 - acc: 0.8641 - mean_absolute_error: 0.1938 - val_loss: 0.3037 - val_acc: 0.8645 - val_mean_absolute_error: 0.1982\n",
      "Epoch 24/50\n",
      "16000/16000 [==============================] - 19s 1ms/step - loss: 0.3028 - acc: 0.8646 - mean_absolute_error: 0.1931 - val_loss: 0.3027 - val_acc: 0.8651 - val_mean_absolute_error: 0.1978\n",
      "Epoch 25/50\n"
     ]
    },
    {
     "name": "stdout",
     "output_type": "stream",
     "text": [
      "16000/16000 [==============================] - 21s 1ms/step - loss: 0.3019 - acc: 0.8649 - mean_absolute_error: 0.1923 - val_loss: 0.3020 - val_acc: 0.8654 - val_mean_absolute_error: 0.1973\n",
      "Epoch 26/50\n",
      "16000/16000 [==============================] - 24s 1ms/step - loss: 0.3009 - acc: 0.8655 - mean_absolute_error: 0.1916 - val_loss: 0.3009 - val_acc: 0.8660 - val_mean_absolute_error: 0.1964\n",
      "Epoch 27/50\n",
      "16000/16000 [==============================] - 19s 1ms/step - loss: 0.2998 - acc: 0.8661 - mean_absolute_error: 0.1908 - val_loss: 0.3001 - val_acc: 0.8663 - val_mean_absolute_error: 0.1958\n",
      "Epoch 28/50\n",
      "16000/16000 [==============================] - 23s 1ms/step - loss: 0.2994 - acc: 0.8662 - mean_absolute_error: 0.1904 - val_loss: 0.2992 - val_acc: 0.8666 - val_mean_absolute_error: 0.1953\n",
      "Epoch 29/50\n",
      "16000/16000 [==============================] - 18s 1ms/step - loss: 0.2987 - acc: 0.8667 - mean_absolute_error: 0.1898 - val_loss: 0.2986 - val_acc: 0.8670 - val_mean_absolute_error: 0.1945\n",
      "Epoch 30/50\n",
      "16000/16000 [==============================] - 18s 1ms/step - loss: 0.2977 - acc: 0.8671 - mean_absolute_error: 0.1891 - val_loss: 0.2979 - val_acc: 0.8674 - val_mean_absolute_error: 0.1950\n",
      "Epoch 31/50\n",
      "16000/16000 [==============================] - 18s 1ms/step - loss: 0.2969 - acc: 0.8674 - mean_absolute_error: 0.1885 - val_loss: 0.2972 - val_acc: 0.8677 - val_mean_absolute_error: 0.1936\n",
      "Epoch 32/50\n",
      "16000/16000 [==============================] - 18s 1ms/step - loss: 0.2959 - acc: 0.8681 - mean_absolute_error: 0.1879 - val_loss: 0.2969 - val_acc: 0.8678 - val_mean_absolute_error: 0.1933\n",
      "Epoch 33/50\n",
      "16000/16000 [==============================] - 18s 1ms/step - loss: 0.2956 - acc: 0.8682 - mean_absolute_error: 0.1875 - val_loss: 0.2959 - val_acc: 0.8682 - val_mean_absolute_error: 0.1923\n",
      "Epoch 34/50\n",
      "16000/16000 [==============================] - 18s 1ms/step - loss: 0.2950 - acc: 0.8684 - mean_absolute_error: 0.1870 - val_loss: 0.2954 - val_acc: 0.8685 - val_mean_absolute_error: 0.1925\n",
      "Epoch 35/50\n",
      "16000/16000 [==============================] - 17s 1ms/step - loss: 0.2946 - acc: 0.8686 - mean_absolute_error: 0.1867 - val_loss: 0.2949 - val_acc: 0.8687 - val_mean_absolute_error: 0.1914\n",
      "Epoch 36/50\n",
      "16000/16000 [==============================] - 18s 1ms/step - loss: 0.2938 - acc: 0.8691 - mean_absolute_error: 0.1861 - val_loss: 0.2945 - val_acc: 0.8689 - val_mean_absolute_error: 0.1917\n",
      "Epoch 37/50\n",
      "16000/16000 [==============================] - 18s 1ms/step - loss: 0.2935 - acc: 0.8691 - mean_absolute_error: 0.1858 - val_loss: 0.2939 - val_acc: 0.8691 - val_mean_absolute_error: 0.1907\n",
      "Epoch 38/50\n",
      "16000/16000 [==============================] - 19s 1ms/step - loss: 0.2930 - acc: 0.8694 - mean_absolute_error: 0.1855 - val_loss: 0.2937 - val_acc: 0.8694 - val_mean_absolute_error: 0.1918\n",
      "Epoch 39/50\n",
      "16000/16000 [==============================] - 21s 1ms/step - loss: 0.2926 - acc: 0.8696 - mean_absolute_error: 0.1852 - val_loss: 0.2928 - val_acc: 0.8695 - val_mean_absolute_error: 0.1901\n",
      "Epoch 40/50\n",
      "16000/16000 [==============================] - 18s 1ms/step - loss: 0.2916 - acc: 0.8701 - mean_absolute_error: 0.1845 - val_loss: 0.2926 - val_acc: 0.8697 - val_mean_absolute_error: 0.1912\n",
      "Epoch 41/50\n",
      "16000/16000 [==============================] - 18s 1ms/step - loss: 0.2909 - acc: 0.8703 - mean_absolute_error: 0.1841 - val_loss: 0.2917 - val_acc: 0.8703 - val_mean_absolute_error: 0.1901\n",
      "Epoch 42/50\n",
      "16000/16000 [==============================] - 17s 1ms/step - loss: 0.2905 - acc: 0.8705 - mean_absolute_error: 0.1838 - val_loss: 0.2914 - val_acc: 0.8702 - val_mean_absolute_error: 0.1893\n",
      "Epoch 43/50\n",
      "16000/16000 [==============================] - 17s 1ms/step - loss: 0.2903 - acc: 0.8708 - mean_absolute_error: 0.1835 - val_loss: 0.2912 - val_acc: 0.8704 - val_mean_absolute_error: 0.1897\n",
      "Epoch 44/50\n",
      "16000/16000 [==============================] - 18s 1ms/step - loss: 0.2898 - acc: 0.8712 - mean_absolute_error: 0.1831 - val_loss: 0.2903 - val_acc: 0.8709 - val_mean_absolute_error: 0.1888\n",
      "Epoch 45/50\n",
      "16000/16000 [==============================] - 18s 1ms/step - loss: 0.2895 - acc: 0.8710 - mean_absolute_error: 0.1829 - val_loss: 0.2902 - val_acc: 0.8708 - val_mean_absolute_error: 0.1879\n",
      "Epoch 46/50\n",
      "16000/16000 [==============================] - 18s 1ms/step - loss: 0.2890 - acc: 0.8713 - mean_absolute_error: 0.1826 - val_loss: 0.2900 - val_acc: 0.8707 - val_mean_absolute_error: 0.1878\n",
      "Epoch 47/50\n",
      "16000/16000 [==============================] - 18s 1ms/step - loss: 0.2889 - acc: 0.8713 - mean_absolute_error: 0.1824 - val_loss: 0.2894 - val_acc: 0.8711 - val_mean_absolute_error: 0.1877\n",
      "Epoch 48/50\n",
      "16000/16000 [==============================] - 17s 1ms/step - loss: 0.2884 - acc: 0.8717 - mean_absolute_error: 0.1820 - val_loss: 0.2891 - val_acc: 0.8710 - val_mean_absolute_error: 0.1868\n",
      "Epoch 49/50\n",
      "16000/16000 [==============================] - 17s 1ms/step - loss: 0.2880 - acc: 0.8719 - mean_absolute_error: 0.1818 - val_loss: 0.2886 - val_acc: 0.8715 - val_mean_absolute_error: 0.1878\n",
      "Epoch 50/50\n",
      "16000/16000 [==============================] - 18s 1ms/step - loss: 0.2876 - acc: 0.8721 - mean_absolute_error: 0.1815 - val_loss: 0.2884 - val_acc: 0.8716 - val_mean_absolute_error: 0.1873\n",
      "Sample shape: (20000, 256)\n"
     ]
    }
   ],
   "source": [
    "# 25 epoch and 80 batch = 50.3 accuracy\n",
    "nb_epoch = 50\n",
    "checkpoint = ModelCheckpoint('models/weights.{epoch:03d}-{val_acc:.4f}.hdf5', monitor='val_acc', verbose=1, save_best_only=True, mode='auto')\n",
    "model = get_model()\n",
    "history = model.fit(X, B, validation_split=0.2,\n",
    "              epochs=nb_epoch, batch_size=100, verbose=1, shuffle=True)\n",
    "\n",
    "# create model that gives penultimate layer (предпоследно)\n",
    "input1 = model.layers[0].input\n",
    "output = model.layers[-2].output\n",
    "\n",
    "model_penultimate = Model(input1, output)\n",
    "\n",
    "# inference of penultimate layer\n",
    "H = model_penultimate.predict(X)\n",
    "#H = model.predict(X)\n",
    "print(\"Sample shape: {}\".format(H.shape))"
   ]
  },
  {
   "cell_type": "code",
   "execution_count": 34,
   "metadata": {
    "ExecuteTime": {
     "end_time": "2019-06-27T22:36:46.620228Z",
     "start_time": "2019-06-27T22:36:46.435323Z"
    }
   },
   "outputs": [
    {
     "data": {
      "image/png": "[encoded data removed]",
      "text/plain": [
       "<Figure size 432x288 with 1 Axes>"
      ]
     },
     "metadata": {
      "needs_background": "light"
     },
     "output_type": "display_data"
    }
   ],
   "source": [
    "import matplotlib.pyplot as plt\n",
    "plt.title('Loss')\n",
    "plt.plot(history.history['loss'], label='train')\n",
    "plt.plot(history.history['val_loss'], label='test')\n",
    "plt.legend()\n",
    "plt.show();"
   ]
  },
  {
   "cell_type": "code",
   "execution_count": 35,
   "metadata": {
    "ExecuteTime": {
     "end_time": "2019-06-27T22:36:47.553909Z",
     "start_time": "2019-06-27T22:36:47.371594Z"
    }
   },
   "outputs": [
    {
     "data": {
      "image/png": "[encoded data removed]",
      "text/plain": [
       "<Figure size 432x288 with 1 Axes>"
      ]
     },
     "metadata": {
      "needs_background": "light"
     },
     "output_type": "display_data"
    }
   ],
   "source": [
    "# summarize history for accuracy\n",
    "plt.plot(history.history['acc'])\n",
    "plt.plot(history.history['val_acc'])\n",
    "plt.title('model accuracy')\n",
    "plt.ylabel('accuracy')\n",
    "plt.xlabel('epoch')\n",
    "plt.legend(['train', 'test'], loc='upper left')\n",
    "plt.show()"
   ]
  },
  {
   "cell_type": "code",
   "execution_count": 36,
   "metadata": {
    "ExecuteTime": {
     "end_time": "2019-06-27T22:36:54.872442Z",
     "start_time": "2019-06-27T22:36:48.294228Z"
    }
   },
   "outputs": [
    {
     "name": "stdout",
     "output_type": "stream",
     "text": [
      "Number of classes: 20\n",
      "[12 12  6 ...  0  0 16]\n"
     ]
    }
   ],
   "source": [
    "from sklearn.preprocessing import normalize\n",
    "from sklearn.cluster import KMeans\n",
    "\n",
    "true_labels = y\n",
    "n_clusters = len(np.unique(y))\n",
    "print(\"Number of classes: %d\" % n_clusters)\n",
    "km = KMeans(n_clusters=n_clusters, n_jobs=10)\n",
    "result = dict()\n",
    "V = normalize(H, norm='l2')\n",
    "km.fit(V)\n",
    "pred = km.labels_\n",
    "pred1 = km.cluster_centers_\n",
    "print(pred)\n",
    "a = cluster_quality(true_labels, pred)\n",
    "#np.save(\"pred.npy\", pred)\n"
   ]
  },
  {
   "cell_type": "code",
   "execution_count": 37,
   "metadata": {
    "ExecuteTime": {
     "end_time": "2019-06-27T22:36:55.610265Z",
     "start_time": "2019-06-27T22:36:55.606734Z"
    }
   },
   "outputs": [
    {
     "name": "stdout",
     "output_type": "stream",
     "text": [
      "{'homogeneity': 0.455, 'completeness': 0.481, 'vmeasure': 0.468, 'nmi': 0.468, 'rand': 0.282, 'accuracy': 0.508}\n"
     ]
    }
   ],
   "source": [
    "print(a)"
   ]
  },
  {
   "cell_type": "markdown",
   "metadata": {},
   "source": [
    "# Running clusterS"
   ]
  },
  {
   "cell_type": "code",
   "execution_count": 38,
   "metadata": {
    "ExecuteTime": {
     "end_time": "2019-06-27T22:44:29.506267Z",
     "start_time": "2019-06-27T22:36:56.306456Z"
    },
    "scrolled": true
   },
   "outputs": [
    {
     "name": "stdout",
     "output_type": "stream",
     "text": [
      "Run 0 was completed!\n",
      "Run 1 was completed!\n",
      "Run 2 was completed!\n",
      "Run 3 was completed!\n",
      "Run 4 was completed!\n",
      "Run 5 was completed!\n",
      "Run 6 was completed!\n",
      "Run 7 was completed!\n",
      "Run 8 was completed!\n",
      "Run 9 was completed!\n",
      "Run 10 was completed!\n",
      "Run 11 was completed!\n",
      "Run 12 was completed!\n",
      "Run 13 was completed!\n",
      "Run 14 was completed!\n",
      "Run 15 was completed!\n",
      "Run 16 was completed!\n",
      "Run 17 was completed!\n",
      "Run 18 was completed!\n",
      "Run 19 was completed!\n",
      "Run 20 was completed!\n",
      "Run 21 was completed!\n",
      "Run 22 was completed!\n",
      "Run 23 was completed!\n",
      "Run 24 was completed!\n",
      "Run 25 was completed!\n",
      "Run 26 was completed!\n",
      "Run 27 was completed!\n",
      "Run 28 was completed!\n",
      "Run 29 was completed!\n",
      "Run 30 was completed!\n",
      "Run 31 was completed!\n",
      "Run 32 was completed!\n",
      "Run 33 was completed!\n",
      "Run 34 was completed!\n",
      "Run 35 was completed!\n",
      "Run 36 was completed!\n",
      "Run 37 was completed!\n",
      "Run 38 was completed!\n",
      "Run 39 was completed!\n",
      "Run 40 was completed!\n",
      "Run 41 was completed!\n",
      "Run 42 was completed!\n",
      "Run 43 was completed!\n",
      "Run 44 was completed!\n",
      "Run 45 was completed!\n",
      "Run 46 was completed!\n",
      "Run 47 was completed!\n",
      "Run 48 was completed!\n",
      "Run 49 was completed!\n",
      "Run 50 was completed!\n",
      "Run 51 was completed!\n",
      "Run 52 was completed!\n",
      "Run 53 was completed!\n",
      "Run 54 was completed!\n",
      "Run 55 was completed!\n",
      "Run 56 was completed!\n",
      "Run 57 was completed!\n",
      "Run 58 was completed!\n",
      "Run 59 was completed!\n",
      "Run 60 was completed!\n",
      "Run 61 was completed!\n",
      "Run 62 was completed!\n",
      "Run 63 was completed!\n",
      "Run 64 was completed!\n",
      "Run 65 was completed!\n",
      "Run 66 was completed!\n",
      "Run 67 was completed!\n",
      "Run 68 was completed!\n",
      "Run 69 was completed!\n",
      "Run 70 was completed!\n",
      "Run 71 was completed!\n",
      "Run 72 was completed!\n",
      "Run 73 was completed!\n",
      "Run 74 was completed!\n",
      "Run 75 was completed!\n",
      "Run 76 was completed!\n",
      "Run 77 was completed!\n",
      "Run 78 was completed!\n",
      "Run 79 was completed!\n",
      "Run 80 was completed!\n",
      "Run 81 was completed!\n",
      "Run 82 was completed!\n",
      "Run 83 was completed!\n",
      "Run 84 was completed!\n",
      "Run 85 was completed!\n",
      "Run 86 was completed!\n",
      "Run 87 was completed!\n",
      "Run 88 was completed!\n",
      "Run 89 was completed!\n",
      "Run 90 was completed!\n",
      "Run 91 was completed!\n",
      "Run 92 was completed!\n",
      "Run 93 was completed!\n",
      "Run 94 was completed!\n",
      "Run 95 was completed!\n",
      "Run 96 was completed!\n",
      "Run 97 was completed!\n",
      "Run 98 was completed!\n",
      "Run 99 was completed!\n"
     ]
    }
   ],
   "source": [
    "import warnings\n",
    "import pandas as pd\n",
    "warnings.filterwarnings(\"ignore\")\n",
    "\n",
    "# clustering loop\n",
    "true_labels = y\n",
    "n_clusters = len(np.unique(y))\n",
    "#print(\"Number of classes: %d\" % n_clusters)\n",
    "km = KMeans(n_clusters=n_clusters, n_jobs=10)\n",
    "result = dict()\n",
    "V = normalize(H, norm='l2')\n",
    "df = pd.DataFrame()\n",
    "for i in range(100):\n",
    "    km.fit(V)\n",
    "    pred = km.labels_\n",
    "    pred1 = km.cluster_centers_\n",
    "    #print(pred)\n",
    "    a = cluster_quality(true_labels, pred)\n",
    "    df = df.append([a],ignore_index=True)\n",
    "    print('Run {} was completed!'.format(i))   "
   ]
  },
  {
   "cell_type": "code",
   "execution_count": null,
   "metadata": {
    "ExecuteTime": {
     "end_time": "2019-06-26T09:14:37.188975Z",
     "start_time": "2019-06-26T09:14:34.619Z"
    },
    "code_folding": [
     0
    ]
   },
   "outputs": [],
   "source": [
    "## OLD\n",
    "'''\n",
    "import statistics \n",
    "# round up this and the ones below in function to end up with a table for the paper\n",
    "dfToList_NMI = df['nmi'].tolist()\n",
    "dfToList_Acc = df['accuracy'].tolist()\n",
    "lenListACC = len(dfToList_Acc)\n",
    "lenListACC = len(dfToList_NMI)\n",
    "sumACC = 0\n",
    "sumNMI = 0\n",
    "for i in dfToList_Acc:\n",
    "    sumACC += i\n",
    "df['average_acc'] = round(sumACC/lenListACC,3)\n",
    "df['diff_acc'] = df.apply(lambda x: (x['accuracy'] - x['average_acc']), axis=1)\n",
    "df['standard_dev'] = df.apply(lambda x: (x['accuracy'] - x['average_acc']), axis=1)\n",
    "\n",
    "for a in dfToList_NMI:\n",
    "    sumNMI +=a\n",
    "    df['average_nmi'] = round(sumNMI/lenListACC,3)\n",
    "'''"
   ]
  },
  {
   "cell_type": "code",
   "execution_count": null,
   "metadata": {
    "ExecuteTime": {
     "end_time": "2019-06-21T14:17:50.456286Z",
     "start_time": "2019-06-21T14:17:50.430540Z"
    },
    "code_folding": [
     0
    ]
   },
   "outputs": [],
   "source": [
    "# using tfidf\n",
    "df_tfidf = df\n",
    "max_acc = df_tfidf['accuracy'].max() # 0,581\n",
    "print('Max accuracy is: {}'.format(max_acc))\n",
    "min_acc = df_tfidf['accuracy'].min() # 0.463\n",
    "print('Min accuracy is: {}'.format(min_acc))\n",
    "average_acc = df_tfidf['average_acc'].max() # 0.514\n",
    "print('Average accuracy is: {}'.format(average_acc))\n",
    "standard_dev_acc = statistics.stdev(dfToList_Acc)\n",
    "print('Standar deviation (Accuracy) is: {}'.format(standard_dev_acc))\n",
    "standard_dev_nmi = statistics.stdev(dfToList_NMI)\n",
    "print('Standar deviation (NMI) is: {}'.format(standard_dev_nmi))\n",
    "df_tfidf.to_csv('100cluster_TF-IDFBased.csv')\n",
    "df_tfidf.head(5)"
   ]
  },
  {
   "cell_type": "code",
   "execution_count": null,
   "metadata": {
    "ExecuteTime": {
     "end_time": "2019-06-26T07:37:09.312613Z",
     "start_time": "2019-06-26T07:37:09.284451Z"
    },
    "code_folding": [
     0
    ]
   },
   "outputs": [],
   "source": [
    "# using count\n",
    "import statistics \n",
    "df_count = df\n",
    "max_acc = df_count['accuracy'].max() # 0,581\n",
    "print('Max accuracy is: {}'.format(max_acc))\n",
    "min_acc = df_count['accuracy'].min() # 0.463\n",
    "print('Min accuracy is: {}'.format(min_acc))\n",
    "average_acc = df_count['accuracy'].mean() # 0.514\n",
    "print('Average Accuracy is: {}'.format(average_acc))\n",
    "average_nmi = df_count['nmi'].mean() # 0.514\n",
    "print('Average NMI is: {}'.format(average_nmi))\n",
    "standard_dev_acc = statistics.stdev(df_count['accuracy'])\n",
    "print('Standar deviation (Accuracy) is: {}'.format(standard_dev_acc))\n",
    "standard_dev_nmi = statistics.stdev(df_count['nmi'])\n",
    "print('Standar deviation (NMI) is: {}'.format(standard_dev_nmi))\n",
    "df_count.to_csv('100cluster_countBased.csv')\n",
    "df_count.head(5)"
   ]
  },
  {
   "cell_type": "code",
   "execution_count": 39,
   "metadata": {
    "ExecuteTime": {
     "end_time": "2019-06-27T22:44:30.363100Z",
     "start_time": "2019-06-27T22:44:30.323879Z"
    }
   },
   "outputs": [
    {
     "name": "stdout",
     "output_type": "stream",
     "text": [
      "Max accuracy is: 63.7\n",
      "Min accuracy is: 47.3\n",
      "Average Accuracy is: 53.412\n",
      "Average NMI is: 49.56000000000002\n",
      "Standar deviation (Accuracy) is: 2.6352421160305193\n",
      "Standar deviation (NMI) is: 2.2714744021441144\n"
     ]
    },
    {
     "data": {
      "text/html": [
       "<div>\n",
       "<style scoped>\n",
       "    .dataframe tbody tr th:only-of-type {\n",
       "        vertical-align: middle;\n",
       "    }\n",
       "\n",
       "    .dataframe tbody tr th {\n",
       "        vertical-align: top;\n",
       "    }\n",
       "\n",
       "    .dataframe thead th {\n",
       "        text-align: right;\n",
       "    }\n",
       "</style>\n",
       "<table border=\"1\" class=\"dataframe\">\n",
       "  <thead>\n",
       "    <tr style=\"text-align: right;\">\n",
       "      <th></th>\n",
       "      <th>accuracy</th>\n",
       "      <th>completeness</th>\n",
       "      <th>homogeneity</th>\n",
       "      <th>nmi</th>\n",
       "      <th>rand</th>\n",
       "      <th>vmeasure</th>\n",
       "      <th>Normal_ACC</th>\n",
       "      <th>Normal_NMI</th>\n",
       "    </tr>\n",
       "  </thead>\n",
       "  <tbody>\n",
       "    <tr>\n",
       "      <th>0</th>\n",
       "      <td>0.552</td>\n",
       "      <td>0.523</td>\n",
       "      <td>0.496</td>\n",
       "      <td>0.509</td>\n",
       "      <td>0.319</td>\n",
       "      <td>0.509</td>\n",
       "      <td>55.2</td>\n",
       "      <td>50.9</td>\n",
       "    </tr>\n",
       "    <tr>\n",
       "      <th>1</th>\n",
       "      <td>0.536</td>\n",
       "      <td>0.505</td>\n",
       "      <td>0.480</td>\n",
       "      <td>0.492</td>\n",
       "      <td>0.301</td>\n",
       "      <td>0.492</td>\n",
       "      <td>53.6</td>\n",
       "      <td>49.2</td>\n",
       "    </tr>\n",
       "    <tr>\n",
       "      <th>2</th>\n",
       "      <td>0.517</td>\n",
       "      <td>0.503</td>\n",
       "      <td>0.473</td>\n",
       "      <td>0.488</td>\n",
       "      <td>0.295</td>\n",
       "      <td>0.488</td>\n",
       "      <td>51.7</td>\n",
       "      <td>48.8</td>\n",
       "    </tr>\n",
       "    <tr>\n",
       "      <th>3</th>\n",
       "      <td>0.492</td>\n",
       "      <td>0.480</td>\n",
       "      <td>0.451</td>\n",
       "      <td>0.465</td>\n",
       "      <td>0.271</td>\n",
       "      <td>0.465</td>\n",
       "      <td>49.2</td>\n",
       "      <td>46.5</td>\n",
       "    </tr>\n",
       "    <tr>\n",
       "      <th>4</th>\n",
       "      <td>0.550</td>\n",
       "      <td>0.523</td>\n",
       "      <td>0.495</td>\n",
       "      <td>0.509</td>\n",
       "      <td>0.311</td>\n",
       "      <td>0.509</td>\n",
       "      <td>55.0</td>\n",
       "      <td>50.9</td>\n",
       "    </tr>\n",
       "  </tbody>\n",
       "</table>\n",
       "</div>"
      ],
      "text/plain": [
       "   accuracy  completeness  homogeneity    nmi   rand  vmeasure  Normal_ACC  \\\n",
       "0     0.552         0.523        0.496  0.509  0.319     0.509        55.2   \n",
       "1     0.536         0.505        0.480  0.492  0.301     0.492        53.6   \n",
       "2     0.517         0.503        0.473  0.488  0.295     0.488        51.7   \n",
       "3     0.492         0.480        0.451  0.465  0.271     0.465        49.2   \n",
       "4     0.550         0.523        0.495  0.509  0.311     0.509        55.0   \n",
       "\n",
       "   Normal_NMI  \n",
       "0        50.9  \n",
       "1        49.2  \n",
       "2        48.8  \n",
       "3        46.5  \n",
       "4        50.9  "
      ]
     },
     "execution_count": 39,
     "metadata": {},
     "output_type": "execute_result"
    }
   ],
   "source": [
    "# using binary - new like count\n",
    "\n",
    "import statistics \n",
    "df_binary = df\n",
    "df_binary['Normal_ACC'] = df_binary['accuracy'].map(lambda a: a * 100)\n",
    "df_binary['Normal_NMI'] = df_binary['nmi'].map(lambda a: a * 100)\n",
    "\n",
    "max_acc = df_binary['Normal_ACC'].max() # 0,581\n",
    "print('Max accuracy is: {}'.format(max_acc))\n",
    "\n",
    "min_acc = df_binary['Normal_ACC'].min() # 0.463\n",
    "print('Min accuracy is: {}'.format(min_acc))\n",
    "\n",
    "average_acc = df_binary['Normal_ACC'].mean() # 0.514\n",
    "print('Average Accuracy is: {}'.format(average_acc))\n",
    "\n",
    "average_nmi = df_binary['Normal_NMI'].mean() # 0.514\n",
    "print('Average NMI is: {}'.format(average_nmi))\n",
    "\n",
    "standard_dev_acc = statistics.stdev(df_binary['Normal_ACC'])\n",
    "print('Standar deviation (Accuracy) is: {}'.format(standard_dev_acc))\n",
    "\n",
    "standard_dev_nmi = statistics.stdev(df_binary['Normal_NMI'])\n",
    "print('Standar deviation (NMI) is: {}'.format(standard_dev_nmi))\n",
    "\n",
    "df_binary.to_csv('100cluster_BinaryBased.csv')\n",
    "df_binary.head(5)"
   ]
  },
  {
   "cell_type": "code",
   "execution_count": null,
   "metadata": {
    "ExecuteTime": {
     "end_time": "2019-06-21T12:43:19.230196Z",
     "start_time": "2019-06-21T12:43:19.186013Z"
    },
    "code_folding": [
     0
    ]
   },
   "outputs": [],
   "source": [
    "# using frequency\n",
    "df_freq = df\n",
    "max_acc = df_freq['accuracy'].max() # 0,581\n",
    "print('Max accuracy is: {}'.format(max_acc))\n",
    "min_acc = df_freq['accuracy'].min() # 0.463\n",
    "print('Min accuracy is: {}'.format(min_acc))\n",
    "average_acc = df_freq['average_acc'].max() # 0.514\n",
    "print('Average accuracy is: {}'.format(average_acc))\n",
    "standard_dev_acc = statistics.stdev(dfToList_Acc)\n",
    "print('Standar deviation (Accuracy) is: {}'.format(standard_dev_acc))\n",
    "standard_dev_nmi = statistics.stdev(dfToList_NMI)\n",
    "print('Standar deviation (NMI) is: {}'.format(standard_dev_nmi))\n",
    "df_freq.to_csv('100cluster_FreqBased.csv')\n",
    "df_freq.head(5)"
   ]
  },
  {
   "cell_type": "code",
   "execution_count": null,
   "metadata": {
    "ExecuteTime": {
     "end_time": "2019-06-24T11:52:42.091702Z",
     "start_time": "2019-06-24T11:52:42.056122Z"
    },
    "code_folding": [
     0
    ]
   },
   "outputs": [],
   "source": [
    "# using binary\n",
    "df_binary = df\n",
    "max_acc = df_binary['accuracy'].max() # 0,581\n",
    "print('Max accuracy is: {}'.format(max_acc))\n",
    "min_acc = df_binary['accuracy'].min() # 0.463\n",
    "print('Min accuracy is: {}'.format(min_acc))\n",
    "average_acc = df_binary['average_acc'].max() # 0.514\n",
    "print('Average accuracy is: {}'.format(average_acc))\n",
    "standard_dev_acc = statistics.stdev(dfToList_Acc)\n",
    "print('Standar deviation (Accuracy) is: {}'.format(standard_dev_acc))\n",
    "standard_dev_nmi = statistics.stdev(dfToList_NMI)\n",
    "print('Standar deviation (NMI) is: {}'.format(standard_dev_nmi))\n",
    "df_binary.to_csv('100cluster_BinaryBased.csv')\n",
    "df_binary.head(5)"
   ]
  },
  {
   "cell_type": "markdown",
   "metadata": {
    "heading_collapsed": true
   },
   "source": [
    "# Save/Load Model "
   ]
  },
  {
   "cell_type": "code",
   "execution_count": null,
   "metadata": {
    "ExecuteTime": {
     "end_time": "2019-06-21T07:30:36.749761Z",
     "start_time": "2019-06-21T07:30:36.392013Z"
    },
    "hidden": true
   },
   "outputs": [],
   "source": [
    "from keras.models import model_from_json\n",
    "# Saving Model and weiths\n",
    "# serialize model to JSON\n",
    "'''\n",
    "model_json = model.to_json()\n",
    "with open(\"model_55%.json\", \"w\") as json_file:\n",
    "    json_file.write(model_json)\n",
    "# serialize weights to HDF5\n",
    "model.save_weights(\"model_55%.h5\")\n",
    "print(\"Saved model to disk\")\n",
    "'''\n",
    "\n",
    "# load json and create model\n",
    "json_file = open('model_55%_StackData.json', 'r')\n",
    "loaded_model_json = json_file.read()\n",
    "json_file.close()\n",
    "loaded_model = model_from_json(loaded_model_json)\n",
    "# load weights into new model\n",
    "loaded_model.load_weights(\"model_55%_StackData.h5\")\n",
    "print(\"Loaded model from disk\")\n",
    "\n",
    "# Evaluate\n",
    "\n",
    "loaded_model.compile(loss='binary_crossentropy', optimizer='rmsprop', metrics=['accuracy'])\n",
    "score = loaded_model.evaluate(X, Y, verbose=0)\n",
    "print(\"%s: %.2f%%\" % (loaded_model.metrics_names[1], score[1]*100))\n",
    "\n"
   ]
  }
 ],
 "metadata": {
  "kernelspec": {
   "display_name": "Python 3",
   "language": "python",
   "name": "python3"
  },
  "language_info": {
   "codemirror_mode": {
    "name": "ipython",
    "version": 3
   },
   "file_extension": ".py",
   "mimetype": "text/x-python",
   "name": "python",
   "nbconvert_exporter": "python",
   "pygments_lexer": "ipython3",
   "version": "3.7.3"
  },
  "toc": {
   "base_numbering": 1,
   "nav_menu": {},
   "number_sections": true,
   "sideBar": true,
   "skip_h1_title": false,
   "title_cell": "Table of Contents",
   "title_sidebar": "Contents",
   "toc_cell": false,
   "toc_position": {},
   "toc_section_display": true,
   "toc_window_display": false
  },
  "varInspector": {
   "cols": {
    "lenName": 16,
    "lenType": 16,
    "lenVar": 40
   },
   "kernels_config": {
    "python": {
     "delete_cmd_postfix": "",
     "delete_cmd_prefix": "del ",
     "library": "var_list.py",
     "varRefreshCmd": "print(var_dic_list())"
    },
    "r": {
     "delete_cmd_postfix": ") ",
     "delete_cmd_prefix": "rm(",
     "library": "var_list.r",
     "varRefreshCmd": "cat(var_dic_list()) "
    }
   },
   "position": {
    "height": "144px",
    "left": "1069px",
    "right": "20px",
    "top": "120px",
    "width": "350px"
   },
   "types_to_exclude": [
    "module",
    "function",
    "builtin_function_or_method",
    "instance",
    "_Feature"
   ],
   "window_display": false
  }
 },
 "nbformat": 4,
 "nbformat_minor": 2
}
