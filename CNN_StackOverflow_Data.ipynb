{
 "cells": [
  {
   "cell_type": "markdown",
   "metadata": {},
   "source": [
    "# Importing Packages"
   ]
  },
  {
   "cell_type": "code",
   "execution_count": 1,
   "metadata": {
    "ExecuteTime": {
     "end_time": "2019-07-07T21:51:19.371276Z",
     "start_time": "2019-07-07T21:51:16.629446Z"
    }
   },
   "outputs": [
    {
     "name": "stderr",
     "output_type": "stream",
     "text": [
      "Using TensorFlow backend.\n"
     ]
    }
   ],
   "source": [
    "# General\n",
    "import os\n",
    "from gensim.models.keyedvectors import KeyedVectors\n",
    "import numpy as np\n",
    "import pandas as pd\n",
    "from collections import defaultdict\n",
    "import numpy as np\n",
    "from collections import Counter\n",
    "from operator import itemgetter\n",
    "from sklearn import metrics\n",
    "\n",
    "# Pre-processing\n",
    "from keras.preprocessing.text import Tokenizer\n",
    "from keras.preprocessing.sequence import pad_sequences\n",
    "from sklearn import preprocessing\n",
    "from sklearn.preprocessing import normalize\n",
    "from sklearn.preprocessing import Normalizer\n",
    "\n",
    "# Neural Network\n",
    "import keras\n",
    "from keras.datasets import imdb\n",
    "from keras.preprocessing.sequence import pad_sequences\n",
    "from keras.models import Sequential, Model\n",
    "from keras.layers import Dense, Flatten, Dropout, Activation, concatenate, Input\n",
    "from keras.layers import Embedding, Conv1D, SpatialDropout1D, GlobalMaxPooling1D\n",
    "from keras.callbacks import ModelCheckpoint\n",
    "from keras.utils.vis_utils import plot_model\n",
    "from keras.optimizers import Adam\n",
    "from keras.models import model_from_json\n",
    "\n",
    "# Grid Search\n",
    "from sklearn.model_selection import GridSearchCV\n",
    "from keras.models import Sequential\n",
    "from keras.wrappers.scikit_learn import KerasClassifier\n",
    "from keras.constraints import maxnorm\n",
    "\n",
    "#DBSCAN\n",
    "from sklearn.cluster import DBSCAN\n",
    "from sklearn import metrics\n",
    "from sklearn.datasets.samples_generator import make_blobs\n",
    "from sklearn.preprocessing import StandardScaler\n",
    "\n",
    "# Evaluation\n",
    "from sklearn.metrics import pairwise_distances\n",
    "from sklearn.cluster import KMeans\n",
    "from sklearn.metrics import silhouette_samples, silhouette_score\n",
    "import matplotlib.cm as cm\n",
    "import matplotlib.pyplot as plt"
   ]
  },
  {
   "cell_type": "markdown",
   "metadata": {},
   "source": [
    "# Mapping Functions"
   ]
  },
  {
   "cell_type": "code",
   "execution_count": 2,
   "metadata": {
    "ExecuteTime": {
     "end_time": "2019-07-07T21:51:20.992206Z",
     "start_time": "2019-07-07T21:51:20.973237Z"
    },
    "code_folding": [
     6
    ]
   },
   "outputs": [],
   "source": [
    "\n",
    "'''\n",
    "    The idea of the function below (map_label) is a simplified approach to what they did in the initial paper. \n",
    "    They used the so called Hungarian method in order to optimize the labeling. The optimization is based on the\n",
    "    ground truth and the labels from the k clustering. Using the example dataset:\n",
    "    We have 20 000 items split in 20 categories, which means that a certain category has multiple items. \n",
    "    The idea of best mapping is to take all tuples from ground truth and prediction per item and count their \n",
    "    occurancies. For example (6, 18), 88), 6 being the ground truth and 18 the prediction truth. This \n",
    "    combination has occured 88 times but ((6, 3), 116) has occured 116 times, so at the end the function \n",
    "    will return 6,3 as best map.\n",
    "'''\n",
    "\n",
    "# Mapping Option 1\n",
    "\n",
    "from munkres import Munkres\n",
    "def best_map(L1,L2):\n",
    "    #L1 should be the groundtruth labels and L2 should be the clustering labels we got\n",
    "    Label1 = np.unique(L1)\n",
    "    nClass1 = len(Label1)\n",
    "    Label2 = np.unique(L2)\n",
    "    nClass2 = len(Label2)\n",
    "    nClass = np.maximum(nClass1,nClass2)\n",
    "    G = np.zeros((nClass,nClass))\n",
    "    for i in range(nClass1):\n",
    "        ind_cla1 = L1 == Label1[i]\n",
    "        ind_cla1 = ind_cla1.astype(float)\n",
    "        for j in range(nClass2):\n",
    "            ind_cla2 = L2 == Label2[j]\n",
    "            ind_cla2 = ind_cla2.astype(float)\n",
    "            G[i,j] = np.sum(ind_cla2 * ind_cla1)\n",
    "    m = Munkres()\n",
    "    index = m.compute(-G.T)\n",
    "    index = np.array(index)\n",
    "    c = index[:,1]\n",
    "    newL2 = np.zeros(L2.shape)\n",
    "    for i in range(nClass2):\n",
    "        newL2[L2 == Label2[i]] = Label1[c[i]]\n",
    "    return newL2 \n",
    "\n",
    "\n",
    "# Mapping Option 2\n",
    "\n",
    "import munkres\n",
    "from sklearn.metrics.cluster import contingency_matrix\n",
    "def translateLabels(masterList, listToConvert):    \n",
    "    contMatrix = contingency_matrix(masterList, listToConvert)\n",
    "    labelMatcher = munkres.Munkres()\n",
    "    labelTranlater = labelMatcher.compute(contMatrix.max() - contMatrix)\n",
    "\n",
    "    uniqueLabels1 = list(set(masterList))\n",
    "    uniqueLabels2 = list(set(listToConvert))\n",
    "\n",
    "    tranlatorDict = {}\n",
    "    for thisPair in labelTranlater:\n",
    "        tranlatorDict[uniqueLabels2[thisPair[1]]] = uniqueLabels1[thisPair[0]]\n",
    "\n",
    "    return [tranlatorDict[label] for label in listToConvert]\n",
    "\n",
    "\n",
    "\n",
    "# Mapping Option 3\n",
    "\n",
    "def map_label(true_labels, pred_labels):\n",
    "    label_pair = list(zip(pred_labels, true_labels))\n",
    "    count = tuple(Counter(label_pair).items())  #count the appearance of each pair dict principle\n",
    "    mapping = dict()\n",
    "    n_label = len(np.unique(true_labels))\n",
    "\n",
    "    # map most likely labels from prediction to ground truth\n",
    "\n",
    "    for label in range(n_label):\n",
    "        tuples = [tup for tup in count if tup[0][0] == label]\n",
    "        likely_tuple = max(tuples, key=itemgetter(1))[0] # tuple as input and take the one which appears the most from the list\n",
    "        mapping[likely_tuple[0]] = likely_tuple[1]\n",
    "\n",
    "    pred_labels_mapped = [mapping[x] for x in pred_labels]\n",
    "    return pred_labels_mapped\n",
    "\n",
    "\n",
    "# Evaluate cluster quality - if you have labels\n",
    "\n",
    "def cluster_quality(true_labels, pred_labels, show=True):\n",
    "    h, c, v = metrics.homogeneity_completeness_v_measure(true_labels, pred_labels)\n",
    "    nmi = metrics.normalized_mutual_info_score(true_labels, pred_labels)\n",
    "    rand = metrics.adjusted_rand_score(true_labels, pred_labels)\n",
    "    #pred_labels_mapped = best_map(true_labels,pred_labels) # First variation of Hungarian Method\n",
    "    #pred_labels_mapped = translateLabels(true_labels,pred_labels) # Second variation with Hungarian Method\n",
    "    pred_labels_mapped = map_label(true_labels, pred_labels) # basic func\n",
    "    # all mappings have similar results\n",
    "    acc = metrics.accuracy_score(true_labels, pred_labels_mapped)\n",
    "\n",
    "    return dict(\n",
    "        homogeneity=round(h,3),\n",
    "        completeness=round(c,3),\n",
    "        vmeasure=round(v,3),\n",
    "        nmi=round(nmi,3),\n",
    "        rand=round(rand,3),\n",
    "        accuracy=round(acc,3),\n",
    "    )\n"
   ]
  },
  {
   "cell_type": "markdown",
   "metadata": {},
   "source": [
    "# Loading Data"
   ]
  },
  {
   "cell_type": "code",
   "execution_count": 3,
   "metadata": {
    "ExecuteTime": {
     "end_time": "2019-07-07T21:51:24.723951Z",
     "start_time": "2019-07-07T21:51:24.700796Z"
    }
   },
   "outputs": [
    {
     "name": "stdout",
     "output_type": "stream",
     "text": [
      "Total: 20,000 short texts\n"
     ]
    }
   ],
   "source": [
    "EMBEDDING_FILE = 'data/GoogleNews-vectors-negative300.bin' # word vectors\n",
    "text_path = 'data/StackOverflow.txt'# data without labels\n",
    "label_path = 'data/StackOverflow_gnd.txt' # labels per row in the data file\n",
    "\n",
    "with open(text_path) as f:\n",
    "    data = [text.strip() for text in f]\n",
    "\n",
    "with open(label_path) as f:\n",
    "    target = f.readlines()\n",
    "    \n",
    "target = [int(label.rstrip('\\n')) for label in target] # the data has /n at the end of each row\n",
    "\n",
    "print(\"Total: %s short texts\" % format(len(data), \",\"))"
   ]
  },
  {
   "cell_type": "markdown",
   "metadata": {},
   "source": [
    "# Second Level Pre-processing"
   ]
  },
  {
   "cell_type": "code",
   "execution_count": 4,
   "metadata": {
    "ExecuteTime": {
     "end_time": "2019-07-07T21:51:27.144939Z",
     "start_time": "2019-07-07T21:51:26.540191Z"
    }
   },
   "outputs": [
    {
     "name": "stdout",
     "output_type": "stream",
     "text": [
      "Found 11365 unique tokens.\n",
      "Minumum length: 1\n",
      "Average length: 8\n",
      "Max length: 34\n"
     ]
    }
   ],
   "source": [
    "tokenizer = Tokenizer(char_level=False)\n",
    "tokenizer.fit_on_texts(data)\n",
    "sequences_full = tokenizer.texts_to_sequences(data) # replace words/tokens with numbers\n",
    "\n",
    "word_index = tokenizer.word_index # get the coresponing word:number dict format\n",
    "print('Found %s unique tokens.' % len(word_index))\n",
    "MAX_NB_WORDS = len(word_index) # all words - len\n",
    "\n",
    "seq_lens = [len(s) for s in sequences_full] # get the count of words/symbols in the sequence from above\n",
    "print(\"Minumum length: %d\" % min(seq_lens))\n",
    "print(\"Average length: %d\" % np.mean(seq_lens))\n",
    "print(\"Max length: %d\" % max(seq_lens))\n",
    "MAX_SEQUENCE_LENGTH = max(seq_lens)\n",
    "\n",
    "X = pad_sequences(sequences_full, maxlen=MAX_SEQUENCE_LENGTH) # uses the len of the list and max len\n",
    "y = target # we take the target values"
   ]
  },
  {
   "cell_type": "code",
   "execution_count": 5,
   "metadata": {
    "ExecuteTime": {
     "end_time": "2019-07-07T21:52:17.753169Z",
     "start_time": "2019-07-07T21:51:27.717523Z"
    }
   },
   "outputs": [
    {
     "name": "stdout",
     "output_type": "stream",
     "text": [
      "Preparing embedding matrix\n",
      "Null word embeddings: 4269\n"
     ]
    }
   ],
   "source": [
    "######################################\n",
    "# Loading word2vec & embedding matrix#\n",
    "######################################\n",
    "\n",
    "\n",
    "print('Preparing embedding matrix')\n",
    "word2vec = KeyedVectors.load_word2vec_format(EMBEDDING_FILE, binary=True)\n",
    "\n",
    "EMBEDDING_DIM = 300\n",
    "nb_words = min(MAX_NB_WORDS, len(word_index)) + 1\n",
    "embedding_matrix = np.zeros((nb_words, EMBEDDING_DIM)) # Init as 0's and updated if in word2vec\n",
    "for word, i in word_index.items():\n",
    "    if word in word2vec.vocab:\n",
    "        embedding_matrix[i] = word2vec.word_vec(word)\n",
    "    #else:\n",
    "        #print(word)\n",
    "print('Null word embeddings: %d' % np.sum(np.sum(embedding_matrix, axis=1) == 0))"
   ]
  },
  {
   "cell_type": "code",
   "execution_count": 6,
   "metadata": {
    "ExecuteTime": {
     "end_time": "2019-07-07T21:52:24.921661Z",
     "start_time": "2019-07-07T21:52:17.959410Z"
    }
   },
   "outputs": [
    {
     "name": "stdout",
     "output_type": "stream",
     "text": [
      "Shape of average embedding:  (20000, 300)\n",
      "(20000, 300)\n",
      "[1. 1. 1. 1. 0. 1. 1. 0. 1. 0. 0. 0. 0. 0. 0. 1. 1. 1. 1. 0. 1. 1. 1. 1.\n",
      " 1. 1. 0. 1. 1. 0. 0. 1. 0. 1. 0. 1. 1. 1. 1. 1. 1. 1. 1. 1. 1. 0. 1. 0.\n",
      " 1. 0. 1. 0. 0. 0. 1. 1. 0. 0. 1. 1. 1. 0. 0. 0. 0. 0. 0. 1. 0. 1. 1. 1.\n",
      " 1. 0. 0. 0. 1. 1. 1. 1. 1. 0. 1. 0. 1. 0. 0. 1. 0. 1. 1. 1. 0. 0. 0. 0.\n",
      " 1. 0. 1. 1. 0. 0. 0. 1. 0. 0. 0. 1. 1. 0. 0. 0. 0. 0. 1. 1. 0. 0. 1. 1.\n",
      " 0. 0. 0. 1. 1. 1. 0. 1. 0. 0. 0. 0. 0. 1. 1. 0. 0. 0. 1. 0. 1. 0. 0. 0.\n",
      " 1. 0. 0. 0. 0. 1. 1. 1. 0. 1. 1. 0. 0. 0. 0. 1. 1. 1. 0. 1. 1. 0. 1. 0.\n",
      " 0. 1. 0. 1. 0. 0. 0. 1. 1. 0. 0. 0. 0. 1. 1. 0. 0. 1. 0. 1. 1. 1. 1. 0.\n",
      " 0. 0. 0. 0. 0. 0. 0. 0. 0. 1. 0. 1. 1. 1. 0. 0. 0. 1. 0. 1. 0. 1. 0. 1.\n",
      " 1. 1. 0. 1. 0. 1. 0. 0. 1. 0. 1. 0. 0. 0. 1. 0. 0. 0. 0. 0. 1. 1. 1. 0.\n",
      " 0. 0. 1. 0. 0. 0. 1. 1. 0. 1. 1. 1. 1. 1. 1. 0. 1. 0. 0. 0. 1. 0. 0. 0.\n",
      " 0. 1. 1. 1. 0. 1. 1. 1. 1. 1. 1. 0. 1. 0. 0. 1. 0. 1. 1. 1. 1. 0. 0. 0.\n",
      " 1. 1. 0. 1. 0. 1. 0. 0. 1. 0. 0. 0.]\n"
     ]
    }
   ],
   "source": [
    "###################################################\n",
    "#Preparing training labels with Average Embeddings#\n",
    "###################################################\n",
    "dimen_vect = {}\n",
    "#binary_seq = tokenizer.sequences_to_matrix(sequences_full, mode='binary') similar results as count\n",
    "count_seq = tokenizer.sequences_to_matrix(sequences_full, mode='count')\n",
    "normed_value = Normalizer().fit_transform(count_seq)\n",
    "average_embeddings = np.dot(normed_value, embedding_matrix)\n",
    "dimen_vect[\"ae\"] = average_embeddings\n",
    "print(\"Shape of average embedding: \", dimen_vect['ae'].shape)\n",
    "reduction_name = \"ae\" # average embedding\n",
    "B = preprocessing.Binarizer().fit_transform(dimen_vect[reduction_name]) \n",
    "\n",
    "# Shape of last dimension in the CNN\n",
    "TARGET_DIM = B.shape[1]\n",
    "\n",
    "print(B.shape)\n",
    "print(B[1])"
   ]
  },
  {
   "cell_type": "markdown",
   "metadata": {},
   "source": [
    "# Neural Network Design "
   ]
  },
  {
   "cell_type": "code",
   "execution_count": 7,
   "metadata": {
    "ExecuteTime": {
     "end_time": "2019-07-07T21:52:25.200329Z",
     "start_time": "2019-07-07T21:52:25.190572Z"
    }
   },
   "outputs": [],
   "source": [
    "def NN():\n",
    "    embedding_matrix_copy = embedding_matrix.copy()\n",
    "    trainable_embedding = False\n",
    "    filters = [3,4,5]\n",
    "    \n",
    "    # Embedding layer\n",
    "    pretrained_embedding_layer = Embedding(\n",
    "        input_dim=nb_words,\n",
    "        output_dim=EMBEDDING_DIM,\n",
    "        weights=[embedding_matrix],\n",
    "        input_length=MAX_SEQUENCE_LENGTH,\n",
    "    )\n",
    "\n",
    "    # Input\n",
    "    sequence_input = Input(shape=(MAX_SEQUENCE_LENGTH,), dtype='int32')\n",
    "    embedded_sequences = pretrained_embedding_layer(sequence_input)\n",
    "    \n",
    "    # DropOut\n",
    "    spatial_x = SpatialDropout1D(0.2)(embedded_sequences)\n",
    "    \n",
    "    # Layers\n",
    "    conv_layers = []\n",
    "    for i in filters:\n",
    "        x = Conv1D(125, i, activation='tanh', padding='same')(spatial_x)\n",
    "        x = GlobalMaxPooling1D()(x)\n",
    "        conv_layers.append(x)\n",
    "    merged = concatenate(conv_layers)\n",
    "    \n",
    "    # Dense\n",
    "    x = Dense(256,activation = 'tanh')(merged) # best performing\n",
    "    \n",
    "    # DropOut\n",
    "    x = Dropout(0.2)(x)\n",
    "    \n",
    "    # Output\n",
    "    predictions = Dense(TARGET_DIM, activation='sigmoid')(x) \n",
    "    \n",
    "    # sigmoid because we want 0,1 for one of the categories\n",
    "    \n",
    "    model = Model(sequence_input, predictions)\n",
    "    model.layers[1].trainable=trainable_embedding #embedding layer\n",
    "    \n",
    "    adam = Adam(lr=0.001, beta_1=0.9, beta_2=0.999, epsilon=1e-08, decay=0.0) #standard for keras\n",
    "    \n",
    "    # Loss and Optimizer\n",
    "    model.compile(loss='binary_crossentropy',\n",
    "                  optimizer=adam,\n",
    "                  metrics=['accuracy','mae'])\n",
    "    \n",
    "\n",
    "    model.summary()\n",
    "    plot_model(model, to_file='model_plot_no_shapes.png', show_shapes=False, show_layer_names=True) # saving model\n",
    "    return model"
   ]
  },
  {
   "cell_type": "markdown",
   "metadata": {
    "heading_collapsed": true
   },
   "source": [
    "# Grid - Search"
   ]
  },
  {
   "cell_type": "code",
   "execution_count": null,
   "metadata": {
    "ExecuteTime": {
     "end_time": "2019-06-25T20:50:12.262087Z",
     "start_time": "2019-06-25T20:50:09.697Z"
    },
    "code_folding": [],
    "hidden": true
   },
   "outputs": [],
   "source": [
    "# Grid Search with best model\n",
    "# Use scikit-learn to grid search the number of neurons\n",
    "# fix random seed for reproducibility\n",
    "seed = 7\n",
    "numpy.random.seed(seed)\n",
    "# create model\n",
    "model = KerasClassifier(build_fn=NN, epochs=50, batch_size=100,verbose=0)\n",
    "\n",
    "# define the grid search parameters\n",
    "\n",
    "#activ = ['relu', 'tanh', 'sigmoid']\n",
    "#optimizers = ['Nadam','Adam']\n",
    "droupou = [0.1,0.2,0.3]\n",
    "#init_mode = ['uniform', 'lecun_uniform']\n",
    "#filters =[100,120]\n",
    "#size = [100,120,125]\n",
    "#filterme = [[3,4,5], [2,3,4]]\n",
    "#batch_size = [200]\n",
    "#epochs = [120]\n",
    "#learn_rate = [0.001, 0.01, 0.02, 0.1]\n",
    "#momentum = [0.0, 0.2, 0.4, 0.6, 0.8, 0.9]\n",
    "\n",
    "param_grid = dict(droupout = droupou)\n",
    "grid = GridSearchCV(estimator=model, param_grid=param_grid, n_jobs= -1)\n",
    "grid_result = grid.fit(X, B)\n",
    "\n",
    "# summarize results\n",
    "print(\"Best: %f using %s\" % (grid_result.best_score_, grid_result.best_params_))\n",
    "means = grid_result.cv_results_['mean_test_score']\n",
    "stds = grid_result.cv_results_['std_test_score']\n",
    "params = grid_result.cv_results_['params']\n",
    "for mean, stdev, param in zip(means, stds, params):\n",
    "    print(\"%f (%f) with: %r\" % (mean, stdev, param))"
   ]
  },
  {
   "cell_type": "markdown",
   "metadata": {},
   "source": [
    "# Training"
   ]
  },
  {
   "cell_type": "code",
   "execution_count": 9,
   "metadata": {
    "ExecuteTime": {
     "end_time": "2019-07-07T22:01:01.522200Z",
     "start_time": "2019-07-07T21:58:25.153107Z"
    }
   },
   "outputs": [
    {
     "name": "stdout",
     "output_type": "stream",
     "text": [
      "__________________________________________________________________________________________________\n",
      "Layer (type)                    Output Shape         Param #     Connected to                     \n",
      "==================================================================================================\n",
      "input_2 (InputLayer)            (None, 34)           0                                            \n",
      "__________________________________________________________________________________________________\n",
      "embedding_2 (Embedding)         (None, 34, 300)      3409800     input_2[0][0]                    \n",
      "__________________________________________________________________________________________________\n",
      "spatial_dropout1d_2 (SpatialDro (None, 34, 300)      0           embedding_2[0][0]                \n",
      "__________________________________________________________________________________________________\n",
      "conv1d_4 (Conv1D)               (None, 34, 125)      112625      spatial_dropout1d_2[0][0]        \n",
      "__________________________________________________________________________________________________\n",
      "conv1d_5 (Conv1D)               (None, 34, 125)      150125      spatial_dropout1d_2[0][0]        \n",
      "__________________________________________________________________________________________________\n",
      "conv1d_6 (Conv1D)               (None, 34, 125)      187625      spatial_dropout1d_2[0][0]        \n",
      "__________________________________________________________________________________________________\n",
      "global_max_pooling1d_4 (GlobalM (None, 125)          0           conv1d_4[0][0]                   \n",
      "__________________________________________________________________________________________________\n",
      "global_max_pooling1d_5 (GlobalM (None, 125)          0           conv1d_5[0][0]                   \n",
      "__________________________________________________________________________________________________\n",
      "global_max_pooling1d_6 (GlobalM (None, 125)          0           conv1d_6[0][0]                   \n",
      "__________________________________________________________________________________________________\n",
      "concatenate_2 (Concatenate)     (None, 375)          0           global_max_pooling1d_4[0][0]     \n",
      "                                                                 global_max_pooling1d_5[0][0]     \n",
      "                                                                 global_max_pooling1d_6[0][0]     \n",
      "__________________________________________________________________________________________________\n",
      "dense_3 (Dense)                 (None, 256)          96256       concatenate_2[0][0]              \n",
      "__________________________________________________________________________________________________\n",
      "dropout_2 (Dropout)             (None, 256)          0           dense_3[0][0]                    \n",
      "__________________________________________________________________________________________________\n",
      "dense_4 (Dense)                 (None, 300)          77100       dropout_2[0][0]                  \n",
      "==================================================================================================\n",
      "Total params: 4,033,531\n",
      "Trainable params: 623,731\n",
      "Non-trainable params: 3,409,800\n",
      "__________________________________________________________________________________________________\n",
      "Train on 16000 samples, validate on 4000 samples\n",
      "Epoch 1/10\n",
      "16000/16000 [==============================] - 16s 1000us/step - loss: 0.4993 - acc: 0.7521 - mean_absolute_error: 0.3382 - val_loss: 0.4500 - val_acc: 0.7871 - val_mean_absolute_error: 0.3103\n",
      "Epoch 2/10\n",
      "16000/16000 [==============================] - 15s 924us/step - loss: 0.4226 - acc: 0.8018 - mean_absolute_error: 0.2846 - val_loss: 0.4073 - val_acc: 0.8117 - val_mean_absolute_error: 0.2774\n",
      "Epoch 3/10\n",
      "16000/16000 [==============================] - 15s 955us/step - loss: 0.3915 - acc: 0.8190 - mean_absolute_error: 0.2622 - val_loss: 0.3831 - val_acc: 0.8246 - val_mean_absolute_error: 0.2591\n",
      "Epoch 4/10\n",
      "16000/16000 [==============================] - 17s 1ms/step - loss: 0.3728 - acc: 0.8290 - mean_absolute_error: 0.2482 - val_loss: 0.3677 - val_acc: 0.8334 - val_mean_absolute_error: 0.2497\n",
      "Epoch 5/10\n",
      "16000/16000 [==============================] - 15s 908us/step - loss: 0.3602 - acc: 0.8358 - mean_absolute_error: 0.2385 - val_loss: 0.3571 - val_acc: 0.8382 - val_mean_absolute_error: 0.2404\n",
      "Epoch 6/10\n",
      "16000/16000 [==============================] - 16s 974us/step - loss: 0.3505 - acc: 0.8406 - mean_absolute_error: 0.2312 - val_loss: 0.3481 - val_acc: 0.8426 - val_mean_absolute_error: 0.2321\n",
      "Epoch 7/10\n",
      "16000/16000 [==============================] - 16s 1ms/step - loss: 0.3435 - acc: 0.8442 - mean_absolute_error: 0.2256 - val_loss: 0.3412 - val_acc: 0.8462 - val_mean_absolute_error: 0.2267\n",
      "Epoch 8/10\n",
      "16000/16000 [==============================] - 15s 937us/step - loss: 0.3375 - acc: 0.8473 - mean_absolute_error: 0.2210 - val_loss: 0.3369 - val_acc: 0.8487 - val_mean_absolute_error: 0.2272\n",
      "Epoch 9/10\n",
      "16000/16000 [==============================] - 16s 1ms/step - loss: 0.3327 - acc: 0.8498 - mean_absolute_error: 0.2171 - val_loss: 0.3311 - val_acc: 0.8511 - val_mean_absolute_error: 0.2196\n",
      "Epoch 10/10\n",
      "16000/16000 [==============================] - 15s 912us/step - loss: 0.3288 - acc: 0.8516 - mean_absolute_error: 0.2139 - val_loss: 0.3275 - val_acc: 0.8530 - val_mean_absolute_error: 0.2174\n"
     ]
    }
   ],
   "source": [
    "nb_epoch = 10\n",
    "checkpoint = ModelCheckpoint('models/weights.{epoch:03d}-{val_acc:.4f}.hdf5', monitor='val_acc', verbose=1, save_best_only=True, mode='auto')\n",
    "model = NN()\n",
    "history = model.fit(X, B, validation_split=0.2,\n",
    "              epochs=nb_epoch, batch_size=100, verbose=1, shuffle=True)"
   ]
  },
  {
   "cell_type": "code",
   "execution_count": 10,
   "metadata": {
    "ExecuteTime": {
     "end_time": "2019-07-07T22:01:01.975532Z",
     "start_time": "2019-07-07T22:01:01.785967Z"
    }
   },
   "outputs": [
    {
     "data": {
      "image/png": "[encoded data removed]",
      "text/plain": [
       "<Figure size 432x288 with 1 Axes>"
      ]
     },
     "metadata": {
      "needs_background": "light"
     },
     "output_type": "display_data"
    }
   ],
   "source": [
    "import matplotlib.pyplot as plt\n",
    "plt.title('Loss')\n",
    "plt.plot(history.history['loss'], label='train')\n",
    "plt.plot(history.history['val_loss'], label='test')\n",
    "plt.legend()\n",
    "plt.show();"
   ]
  },
  {
   "cell_type": "code",
   "execution_count": 11,
   "metadata": {
    "ExecuteTime": {
     "end_time": "2019-07-07T22:01:02.367793Z",
     "start_time": "2019-07-07T22:01:02.218933Z"
    }
   },
   "outputs": [
    {
     "data": {
      "image/png": "[encoded data removed]",
      "text/plain": [
       "<Figure size 432x288 with 1 Axes>"
      ]
     },
     "metadata": {
      "needs_background": "light"
     },
     "output_type": "display_data"
    }
   ],
   "source": [
    "# summarize history for accuracy\n",
    "plt.plot(history.history['acc'])\n",
    "plt.plot(history.history['val_acc'])\n",
    "plt.title('model accuracy')\n",
    "plt.ylabel('accuracy')\n",
    "plt.xlabel('epoch')\n",
    "plt.legend(['train', 'test'], loc='upper left')\n",
    "plt.show()"
   ]
  },
  {
   "cell_type": "code",
   "execution_count": 12,
   "metadata": {
    "ExecuteTime": {
     "end_time": "2019-07-07T22:01:08.476112Z",
     "start_time": "2019-07-07T22:01:02.600328Z"
    }
   },
   "outputs": [
    {
     "name": "stdout",
     "output_type": "stream",
     "text": [
      "Sample shape: (20000, 256)\n"
     ]
    }
   ],
   "source": [
    "# Preping results\n",
    "# create model that gives penultimate layer - the layer before the last\n",
    "input1 = model.layers[0].input\n",
    "output = model.layers[-2].output\n",
    "model_penultimate = Model(input1, output)\n",
    "\n",
    "# Generating Deep-feature representation\n",
    "H_penul = model_penultimate.predict(X)\n",
    "print(\"Sample shape: {}\".format(H_penul.shape))\n",
    "\n",
    "# Applying L2 Normalization\n",
    "V_penul = normalize(H_penul, norm='l2') # norm"
   ]
  },
  {
   "cell_type": "markdown",
   "metadata": {},
   "source": [
    "# Evaluating"
   ]
  },
  {
   "cell_type": "code",
   "execution_count": 13,
   "metadata": {
    "ExecuteTime": {
     "end_time": "2019-07-07T22:01:15.205285Z",
     "start_time": "2019-07-07T22:01:08.754699Z"
    }
   },
   "outputs": [
    {
     "name": "stdout",
     "output_type": "stream",
     "text": [
      "Number of classes: 20\n",
      "[12 12  9 ...  0  0  2]\n",
      "{'homogeneity': 0.453, 'completeness': 0.479, 'vmeasure': 0.466, 'nmi': 0.466, 'rand': 0.272, 'accuracy': 0.503}\n"
     ]
    },
    {
     "name": "stderr",
     "output_type": "stream",
     "text": [
      "/Users/Dimitar/anaconda3/lib/python3.7/site-packages/sklearn/metrics/cluster/supervised.py:844: FutureWarning: The behavior of NMI will change in version 0.22. To match the behavior of 'v_measure_score', NMI will use average_method='arithmetic' by default.\n",
      "  FutureWarning)\n"
     ]
    }
   ],
   "source": [
    "true_labels = y # ground truth\n",
    "n_clusters = len(np.unique(y)) # unique classes - ground truth\n",
    "print(\"Number of classes: %d\" % n_clusters)\n",
    "km = KMeans(n_clusters=n_clusters, n_jobs=10)\n",
    "km.fit(V_penul)\n",
    "pred = km.labels_\n",
    "print(pred)\n",
    "results = cluster_quality(true_labels, pred)\n",
    "print(results)"
   ]
  },
  {
   "cell_type": "markdown",
   "metadata": {
    "heading_collapsed": true
   },
   "source": [
    "# Running clusterS (100 runs and storing results)"
   ]
  },
  {
   "cell_type": "code",
   "execution_count": null,
   "metadata": {
    "ExecuteTime": {
     "end_time": "2019-06-27T22:44:29.506267Z",
     "start_time": "2019-06-27T22:36:56.306456Z"
    },
    "hidden": true,
    "scrolled": true
   },
   "outputs": [],
   "source": [
    "import warnings\n",
    "import pandas as pd\n",
    "warnings.filterwarnings(\"ignore\")\n",
    "\n",
    "# clustering loop\n",
    "true_labels = y\n",
    "n_clusters = len(np.unique(y))\n",
    "kMeans = KMeans(n_clusters=n_clusters, n_jobs=10)\n",
    "result = dict()\n",
    "df = pd.DataFrame()\n",
    "for i in range(100):\n",
    "    kkMeansm.fit(V)\n",
    "    pred = kMeans.labels_\n",
    "    pred1 = kMeans.cluster_centers_\n",
    "\n",
    "    a = cluster_quality(true_labels, pred)\n",
    "    df = df.append([a],ignore_index=True)\n",
    "    print('Run {} was completed!'.format(i))   "
   ]
  },
  {
   "cell_type": "code",
   "execution_count": null,
   "metadata": {
    "ExecuteTime": {
     "end_time": "2019-06-27T22:44:30.363100Z",
     "start_time": "2019-06-27T22:44:30.323879Z"
    },
    "hidden": true
   },
   "outputs": [],
   "source": [
    "# using binary - new like count\n",
    "\n",
    "import statistics \n",
    "df_binary = df\n",
    "df_binary['Normal_ACC'] = df_binary['accuracy'].map(lambda a: a * 100)\n",
    "df_binary['Normal_NMI'] = df_binary['nmi'].map(lambda a: a * 100)\n",
    "\n",
    "max_acc = df_binary['Normal_ACC'].max() # 0,581\n",
    "print('Max accuracy is: {}'.format(max_acc))\n",
    "\n",
    "min_acc = df_binary['Normal_ACC'].min() # 0.463\n",
    "print('Min accuracy is: {}'.format(min_acc))\n",
    "\n",
    "average_acc = df_binary['Normal_ACC'].mean() # 0.514\n",
    "print('Average Accuracy is: {}'.format(average_acc))\n",
    "\n",
    "average_nmi = df_binary['Normal_NMI'].mean() # 0.514\n",
    "print('Average NMI is: {}'.format(average_nmi))\n",
    "\n",
    "standard_dev_acc = statistics.stdev(df_binary['Normal_ACC'])\n",
    "print('Standar deviation (Accuracy) is: {}'.format(standard_dev_acc))\n",
    "\n",
    "standard_dev_nmi = statistics.stdev(df_binary['Normal_NMI'])\n",
    "print('Standar deviation (NMI) is: {}'.format(standard_dev_nmi))\n",
    "\n",
    "df_binary.to_csv('100cluster_BinaryBased.csv')\n",
    "df_binary.head(5)"
   ]
  },
  {
   "cell_type": "markdown",
   "metadata": {
    "heading_collapsed": true
   },
   "source": [
    "# Save/Load Model "
   ]
  },
  {
   "cell_type": "code",
   "execution_count": null,
   "metadata": {
    "ExecuteTime": {
     "end_time": "2019-06-21T07:30:36.749761Z",
     "start_time": "2019-06-21T07:30:36.392013Z"
    },
    "hidden": true
   },
   "outputs": [],
   "source": [
    "from keras.models import model_from_json\n",
    "# Saving Model and weiths\n",
    "# serialize model to JSON\n",
    "'''\n",
    "model_json = model.to_json()\n",
    "with open(\"model_55%.json\", \"w\") as json_file:\n",
    "    json_file.write(model_json)\n",
    "# serialize weights to HDF5\n",
    "model.save_weights(\"model_55%.h5\")\n",
    "print(\"Saved model to disk\")\n",
    "'''\n",
    "\n",
    "# load json and create model\n",
    "json_file = open('model_55%_StackData.json', 'r')\n",
    "loaded_model_json = json_file.read()\n",
    "json_file.close()\n",
    "loaded_model = model_from_json(loaded_model_json)\n",
    "# load weights into new model\n",
    "loaded_model.load_weights(\"model_55%_StackData.h5\")\n",
    "print(\"Loaded model from disk\")\n",
    "\n",
    "# Evaluate\n",
    "\n",
    "loaded_model.compile(loss='binary_crossentropy', optimizer='rmsprop', metrics=['accuracy'])\n",
    "score = loaded_model.evaluate(X, Y, verbose=0)\n",
    "print(\"%s: %.2f%%\" % (loaded_model.metrics_names[1], score[1]*100))\n",
    "\n"
   ]
  }
 ],
 "metadata": {
  "kernelspec": {
   "display_name": "Python 3",
   "language": "python",
   "name": "python3"
  },
  "language_info": {
   "codemirror_mode": {
    "name": "ipython",
    "version": 3
   },
   "file_extension": ".py",
   "mimetype": "text/x-python",
   "name": "python",
   "nbconvert_exporter": "python",
   "pygments_lexer": "ipython3",
   "version": "3.7.3"
  },
  "toc": {
   "base_numbering": 1,
   "nav_menu": {},
   "number_sections": true,
   "sideBar": true,
   "skip_h1_title": false,
   "title_cell": "Table of Contents",
   "title_sidebar": "Contents",
   "toc_cell": false,
   "toc_position": {},
   "toc_section_display": true,
   "toc_window_display": false
  },
  "varInspector": {
   "cols": {
    "lenName": 16,
    "lenType": 16,
    "lenVar": 40
   },
   "kernels_config": {
    "python": {
     "delete_cmd_postfix": "",
     "delete_cmd_prefix": "del ",
     "library": "var_list.py",
     "varRefreshCmd": "print(var_dic_list())"
    },
    "r": {
     "delete_cmd_postfix": ") ",
     "delete_cmd_prefix": "rm(",
     "library": "var_list.r",
     "varRefreshCmd": "cat(var_dic_list()) "
    }
   },
   "position": {
    "height": "144px",
    "left": "1069px",
    "right": "20px",
    "top": "120px",
    "width": "350px"
   },
   "types_to_exclude": [
    "module",
    "function",
    "builtin_function_or_method",
    "instance",
    "_Feature"
   ],
   "window_display": false
  }
 },
 "nbformat": 4,
 "nbformat_minor": 2
}
