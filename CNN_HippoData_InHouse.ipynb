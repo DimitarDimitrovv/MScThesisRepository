{
 "cells": [
  {
   "cell_type": "markdown",
   "metadata": {},
   "source": [
    "# Importing Packages"
   ]
  },
  {
   "cell_type": "code",
   "execution_count": 6,
   "metadata": {
    "ExecuteTime": {
     "end_time": "2019-07-07T21:40:28.933571Z",
     "start_time": "2019-07-07T21:40:28.926436Z"
    }
   },
   "outputs": [],
   "source": [
    "# General\n",
    "import os\n",
    "from gensim.models.keyedvectors import KeyedVectors\n",
    "import numpy as np\n",
    "import pandas as pd\n",
    "from collections import defaultdict\n",
    "\n",
    "# Pre-processing\n",
    "from keras.preprocessing.text import Tokenizer\n",
    "from keras.preprocessing.sequence import pad_sequences\n",
    "from sklearn import preprocessing\n",
    "from sklearn.preprocessing import normalize\n",
    "from sklearn.preprocessing import Normalizer\n",
    "\n",
    "# Neural Network\n",
    "import keras\n",
    "from keras.datasets import imdb\n",
    "from keras.preprocessing.sequence import pad_sequences\n",
    "from keras.models import Sequential, Model\n",
    "from keras.layers import Dense, Flatten, Dropout, Activation, concatenate, Input\n",
    "from keras.layers import Embedding, Conv1D, SpatialDropout1D, GlobalMaxPooling1D\n",
    "from keras.callbacks import ModelCheckpoint\n",
    "from keras.utils.vis_utils import plot_model\n",
    "from keras.optimizers import Adam\n",
    "from keras.models import model_from_json\n",
    "\n",
    "#DBSCAN\n",
    "from sklearn.cluster import DBSCAN\n",
    "from sklearn import metrics\n",
    "from sklearn.datasets.samples_generator import make_blobs\n",
    "from sklearn.preprocessing import StandardScaler\n",
    "\n",
    "# Evaluation\n",
    "from sklearn.metrics import pairwise_distances\n",
    "from sklearn.cluster import KMeans\n",
    "from sklearn.metrics import silhouette_samples, silhouette_score\n",
    "import matplotlib.cm as cm\n",
    "import matplotlib.pyplot as plt"
   ]
  },
  {
   "cell_type": "markdown",
   "metadata": {
    "heading_collapsed": true
   },
   "source": [
    "# Save/Load Model "
   ]
  },
  {
   "cell_type": "code",
   "execution_count": null,
   "metadata": {
    "ExecuteTime": {
     "end_time": "2019-06-24T14:16:54.820112Z",
     "start_time": "2019-06-24T14:16:31.168Z"
    },
    "hidden": true
   },
   "outputs": [],
   "source": [
    "# Saving Model and weiths\n",
    "# serialize model to JSON\n",
    "model_json = model.to_json()\n",
    "with open(\"hippo_model_24thJune_NoisleesScrapped_DefaultDBSCAN.json\", \"w\") as json_file:\n",
    "    json_file.write(model_json)\n",
    "# serialize weights to HDF5\n",
    "model.save_weights(\"hippo_model_24thJune_NoisleesScrapped_DefaultDBSCAN.h5\")\n",
    "print(\"Saved model to disk\")\n",
    " \n",
    "'''\n",
    "# load json and create model\n",
    "json_file = open('hippo_model_20thJune_NoisleesURL_DefaultDBSCAN_SmallEPS.json', 'r')\n",
    "loaded_model_json = json_file.read()\n",
    "json_file.close()\n",
    "loaded_model = model_from_json(loaded_model_json)\n",
    "# load weights into new model\n",
    "loaded_model.load_weights(\"hippo_model_20thJune_NoisleesURL_DefaultDBSCAN_SmallEPS.h5\")\n",
    "print(\"Loaded model from disk\")\n",
    "'''"
   ]
  },
  {
   "cell_type": "markdown",
   "metadata": {},
   "source": [
    "# Loading Data"
   ]
  },
  {
   "cell_type": "code",
   "execution_count": 2,
   "metadata": {
    "ExecuteTime": {
     "end_time": "2019-07-07T21:38:24.990913Z",
     "start_time": "2019-07-07T21:38:24.982603Z"
    }
   },
   "outputs": [
    {
     "name": "stdout",
     "output_type": "stream",
     "text": [
      "Total: 3,537 short texts\n"
     ]
    }
   ],
   "source": [
    "EMBEDDING_FILE = 'data/GoogleNews-vectors-negative300.bin' # word vectors\n",
    "text_path = 'data/data_NN_no_noise_Scrapped - Noisless url_keywords.txt'# scrapped data, no noise based on dbscan\n",
    "with open(text_path) as f:\n",
    "    data = [text.strip() for text in f]\n",
    "print(\"Total: %s short texts\" % format(len(data), \",\"))"
   ]
  },
  {
   "cell_type": "markdown",
   "metadata": {},
   "source": [
    "# Second Level Pre-processing "
   ]
  },
  {
   "cell_type": "code",
   "execution_count": 3,
   "metadata": {
    "ExecuteTime": {
     "end_time": "2019-07-07T21:38:26.169009Z",
     "start_time": "2019-07-07T21:38:26.078089Z"
    }
   },
   "outputs": [
    {
     "name": "stdout",
     "output_type": "stream",
     "text": [
      "Found 283 unique tokens.\n",
      "Minumum length: 1\n",
      "Average length: 3\n",
      "Max length: 27\n"
     ]
    }
   ],
   "source": [
    "tokenizer = Tokenizer(char_level=False)\n",
    "tokenizer.fit_on_texts(data)\n",
    "sequences_full = tokenizer.texts_to_sequences(data) # replace words/tokens with numbers\n",
    "\n",
    "word_index = tokenizer.word_index # get the coresponing word:number dict format\n",
    "print('Found %s unique tokens.' % len(word_index))\n",
    "MAX_NB_WORDS = len(word_index) # all words - len\n",
    "\n",
    "seq_lens = [len(s) for s in sequences_full] # get the count of words/symbols in the sequence from above\n",
    "print(\"Minumum length: %d\" % min(seq_lens))\n",
    "print(\"Average length: %d\" % np.mean(seq_lens))\n",
    "print(\"Max length: %d\" % max(seq_lens))\n",
    "MAX_SEQUENCE_LENGTH = max(seq_lens)\n",
    "\n",
    "X = pad_sequences(sequences_full, maxlen=MAX_SEQUENCE_LENGTH) # uses the len of the list and max len"
   ]
  },
  {
   "cell_type": "code",
   "execution_count": 4,
   "metadata": {
    "ExecuteTime": {
     "end_time": "2019-07-07T21:39:15.000904Z",
     "start_time": "2019-07-07T21:38:26.933431Z"
    }
   },
   "outputs": [
    {
     "name": "stdout",
     "output_type": "stream",
     "text": [
      "Preparing embedding matrix\n",
      "Null word embeddings: 81\n"
     ]
    }
   ],
   "source": [
    "######################################\n",
    "# Loading word2vec & embedding matrix#\n",
    "######################################\n",
    "print('Preparing embedding matrix')\n",
    "word2vec = KeyedVectors.load_word2vec_format(EMBEDDING_FILE, binary=True)\n",
    "\n",
    "EMBEDDING_DIM = 300\n",
    "nb_words = min(MAX_NB_WORDS, len(word_index)) + 1\n",
    "embedding_matrix = np.zeros((nb_words, EMBEDDING_DIM)) # Init as 0's and updated if in word2vec\n",
    "for word, i in word_index.items():\n",
    "    if word in word2vec.vocab:\n",
    "        embedding_matrix[i] = word2vec.word_vec(word)\n",
    "    #else:\n",
    "        #print(word)\n",
    "print('Null word embeddings: %d' % np.sum(np.sum(embedding_matrix, axis=1) == 0))"
   ]
  },
  {
   "cell_type": "code",
   "execution_count": 7,
   "metadata": {
    "ExecuteTime": {
     "end_time": "2019-07-07T21:40:32.292742Z",
     "start_time": "2019-07-07T21:40:32.213442Z"
    }
   },
   "outputs": [
    {
     "name": "stdout",
     "output_type": "stream",
     "text": [
      "Shape of average embedding:  (3537, 300)\n",
      "(3537, 300)\n",
      "[0. 1. 1. 1. 0. 0. 1. 0. 1. 0. 0. 0. 0. 1. 0. 1. 0. 1. 0. 0. 0. 1. 1. 1.\n",
      " 1. 1. 0. 1. 0. 0. 0. 0. 0. 0. 0. 1. 1. 1. 1. 1. 1. 0. 1. 1. 0. 0. 1. 0.\n",
      " 0. 1. 1. 1. 0. 1. 1. 1. 0. 0. 1. 0. 0. 1. 0. 0. 0. 0. 1. 0. 0. 1. 0. 1.\n",
      " 1. 0. 0. 0. 0. 1. 1. 1. 0. 1. 0. 1. 0. 0. 0. 1. 0. 1. 1. 1. 0. 0. 1. 1.\n",
      " 0. 0. 1. 1. 1. 1. 1. 1. 1. 0. 0. 0. 1. 0. 0. 0. 0. 0. 1. 1. 1. 0. 1. 1.\n",
      " 0. 1. 0. 1. 1. 1. 0. 0. 1. 0. 0. 0. 0. 1. 0. 0. 1. 1. 1. 1. 1. 0. 1. 0.\n",
      " 1. 0. 1. 0. 0. 0. 1. 0. 0. 0. 0. 0. 0. 1. 0. 1. 1. 1. 1. 1. 1. 0. 1. 0.\n",
      " 0. 0. 0. 1. 1. 0. 1. 0. 1. 0. 1. 0. 0. 0. 1. 0. 1. 0. 0. 1. 1. 1. 1. 1.\n",
      " 1. 1. 1. 0. 0. 1. 0. 0. 0. 1. 0. 1. 0. 0. 1. 0. 1. 1. 1. 1. 0. 0. 0. 0.\n",
      " 1. 0. 0. 1. 0. 0. 0. 0. 0. 0. 1. 0. 0. 0. 1. 0. 1. 0. 1. 1. 1. 0. 1. 0.\n",
      " 1. 1. 1. 0. 0. 1. 0. 1. 0. 0. 1. 1. 1. 1. 1. 0. 0. 1. 0. 0. 1. 0. 1. 1.\n",
      " 0. 1. 0. 0. 0. 0. 0. 1. 1. 1. 0. 0. 1. 0. 0. 1. 0. 1. 1. 1. 1. 0. 0. 1.\n",
      " 1. 0. 0. 1. 0. 1. 0. 0. 0. 0. 0. 1.]\n"
     ]
    }
   ],
   "source": [
    "###################################################\n",
    "#Preparing training labels with Average Embeddings#\n",
    "###################################################\n",
    "dimen_vect = {}\n",
    "#binary_seq = tokenizer.sequences_to_matrix(sequences_full, mode='binary') similar results as count\n",
    "count_seq = tokenizer.sequences_to_matrix(sequences_full, mode='count')\n",
    "normed_value = Normalizer().fit_transform(count_seq)\n",
    "average_embeddings = np.dot(normed_value, embedding_matrix)\n",
    "dimen_vect[\"ae\"] = average_embeddings\n",
    "print(\"Shape of average embedding: \", dimen_vect['ae'].shape)\n",
    "reduction_name = \"ae\" # average embedding\n",
    "B = preprocessing.Binarizer().fit_transform(dimen_vect[reduction_name]) \n",
    "\n",
    "# Shape of last dimension in the CNN\n",
    "TARGET_DIM = B.shape[1]\n",
    "\n",
    "print(B.shape)\n",
    "print(B[1])"
   ]
  },
  {
   "cell_type": "markdown",
   "metadata": {},
   "source": [
    "# Neural Network Design "
   ]
  },
  {
   "cell_type": "code",
   "execution_count": 8,
   "metadata": {
    "ExecuteTime": {
     "end_time": "2019-07-07T21:40:34.252163Z",
     "start_time": "2019-07-07T21:40:34.243304Z"
    }
   },
   "outputs": [],
   "source": [
    "def NN():\n",
    "    embedding_matrix_copy = embedding_matrix.copy()\n",
    "    trainable_embedding = False\n",
    "    filters = [3,4,5]\n",
    "    \n",
    "    # Embedding layer\n",
    "    pretrained_embedding_layer = Embedding(\n",
    "        input_dim=nb_words,\n",
    "        output_dim=EMBEDDING_DIM,\n",
    "        weights=[embedding_matrix],\n",
    "        input_length=MAX_SEQUENCE_LENGTH,\n",
    "    )\n",
    "\n",
    "    # Input\n",
    "    sequence_input = Input(shape=(MAX_SEQUENCE_LENGTH,), dtype='int32')\n",
    "    embedded_sequences = pretrained_embedding_layer(sequence_input)\n",
    "    \n",
    "    # DropOut\n",
    "    spatial_x = SpatialDropout1D(0.1)(embedded_sequences)\n",
    "    \n",
    "    # Layers\n",
    "    conv_layers = []\n",
    "    for i in filters:\n",
    "        x = Conv1D(125, i, activation='tanh', padding='same')(spatial_x)\n",
    "        x = GlobalMaxPooling1D()(x)\n",
    "        #x = Dropout(0.2)(x)\n",
    "        conv_layers.append(x)\n",
    "    merged = concatenate(conv_layers)\n",
    "    \n",
    "    # Dense\n",
    "    x = Dense(256,activation = 'tanh')(merged) # best performing\n",
    "    \n",
    "    # DropOut\n",
    "    x = Dropout(0.1)(x)\n",
    "    \n",
    "    # Output\n",
    "    predictions = Dense(TARGET_DIM, activation='sigmoid')(x) \n",
    "    \n",
    "    # sigmoid because we want 0,1 for one of the categories\n",
    "    \n",
    "    model = Model(sequence_input, predictions)\n",
    "    model.layers[1].trainable=trainable_embedding #embedding layer\n",
    "    \n",
    "    adam = Adam(lr=0.001, beta_1=0.9, beta_2=0.999, epsilon=1e-08, decay=0.0) #standard for keras\n",
    "    \n",
    "    # Loss and Optimizer\n",
    "    model.compile(loss='binary_crossentropy',\n",
    "                  optimizer=adam,\n",
    "                  metrics=['accuracy','mae'])\n",
    "    \n",
    "\n",
    "    model.summary()\n",
    "    plot_model(model, to_file='model_plot_no_shapes.png', show_shapes=False, show_layer_names=True) # saving model\n",
    "    return model"
   ]
  },
  {
   "cell_type": "markdown",
   "metadata": {},
   "source": [
    "# Training"
   ]
  },
  {
   "cell_type": "code",
   "execution_count": 9,
   "metadata": {
    "ExecuteTime": {
     "end_time": "2019-07-07T21:40:59.117969Z",
     "start_time": "2019-07-07T21:40:35.372429Z"
    },
    "scrolled": false
   },
   "outputs": [
    {
     "name": "stdout",
     "output_type": "stream",
     "text": [
      "WARNING:tensorflow:From /Users/Dimitar/anaconda3/lib/python3.7/site-packages/tensorflow/python/framework/op_def_library.py:263: colocate_with (from tensorflow.python.framework.ops) is deprecated and will be removed in a future version.\n",
      "Instructions for updating:\n",
      "Colocations handled automatically by placer.\n",
      "WARNING:tensorflow:From /Users/Dimitar/anaconda3/lib/python3.7/site-packages/keras/backend/tensorflow_backend.py:3445: calling dropout (from tensorflow.python.ops.nn_ops) with keep_prob is deprecated and will be removed in a future version.\n",
      "Instructions for updating:\n",
      "Please use `rate` instead of `keep_prob`. Rate should be set to `rate = 1 - keep_prob`.\n",
      "__________________________________________________________________________________________________\n",
      "Layer (type)                    Output Shape         Param #     Connected to                     \n",
      "==================================================================================================\n",
      "input_1 (InputLayer)            (None, 27)           0                                            \n",
      "__________________________________________________________________________________________________\n",
      "embedding_1 (Embedding)         (None, 27, 300)      85200       input_1[0][0]                    \n",
      "__________________________________________________________________________________________________\n",
      "spatial_dropout1d_1 (SpatialDro (None, 27, 300)      0           embedding_1[0][0]                \n",
      "__________________________________________________________________________________________________\n",
      "conv1d_1 (Conv1D)               (None, 27, 125)      112625      spatial_dropout1d_1[0][0]        \n",
      "__________________________________________________________________________________________________\n",
      "conv1d_2 (Conv1D)               (None, 27, 125)      150125      spatial_dropout1d_1[0][0]        \n",
      "__________________________________________________________________________________________________\n",
      "conv1d_3 (Conv1D)               (None, 27, 125)      187625      spatial_dropout1d_1[0][0]        \n",
      "__________________________________________________________________________________________________\n",
      "global_max_pooling1d_1 (GlobalM (None, 125)          0           conv1d_1[0][0]                   \n",
      "__________________________________________________________________________________________________\n",
      "global_max_pooling1d_2 (GlobalM (None, 125)          0           conv1d_2[0][0]                   \n",
      "__________________________________________________________________________________________________\n",
      "global_max_pooling1d_3 (GlobalM (None, 125)          0           conv1d_3[0][0]                   \n",
      "__________________________________________________________________________________________________\n",
      "concatenate_1 (Concatenate)     (None, 375)          0           global_max_pooling1d_1[0][0]     \n",
      "                                                                 global_max_pooling1d_2[0][0]     \n",
      "                                                                 global_max_pooling1d_3[0][0]     \n",
      "__________________________________________________________________________________________________\n",
      "dense_1 (Dense)                 (None, 256)          96256       concatenate_1[0][0]              \n",
      "__________________________________________________________________________________________________\n",
      "dropout_1 (Dropout)             (None, 256)          0           dense_1[0][0]                    \n",
      "__________________________________________________________________________________________________\n",
      "dense_2 (Dense)                 (None, 300)          77100       dropout_1[0][0]                  \n",
      "==================================================================================================\n",
      "Total params: 708,931\n",
      "Trainable params: 623,731\n",
      "Non-trainable params: 85,200\n",
      "__________________________________________________________________________________________________\n",
      "WARNING:tensorflow:From /Users/Dimitar/anaconda3/lib/python3.7/site-packages/tensorflow/python/ops/math_ops.py:3066: to_int32 (from tensorflow.python.ops.math_ops) is deprecated and will be removed in a future version.\n",
      "Instructions for updating:\n",
      "Use tf.cast instead.\n",
      "WARNING:tensorflow:From /Users/Dimitar/anaconda3/lib/python3.7/site-packages/tensorflow/python/ops/math_grad.py:102: div (from tensorflow.python.ops.math_ops) is deprecated and will be removed in a future version.\n",
      "Instructions for updating:\n",
      "Deprecated in favor of operator or tf.math.divide.\n",
      "Train on 2829 samples, validate on 708 samples\n",
      "Epoch 1/12\n",
      "2829/2829 [==============================] - 2s 845us/step - loss: 0.5507 - acc: 0.7210 - mean_absolute_error: 0.3940 - val_loss: 0.4296 - val_acc: 0.8232 - val_mean_absolute_error: 0.3166\n",
      "Epoch 2/12\n",
      "2829/2829 [==============================] - 2s 604us/step - loss: 0.3779 - acc: 0.8471 - mean_absolute_error: 0.2779 - val_loss: 0.3039 - val_acc: 0.8877 - val_mean_absolute_error: 0.2280\n",
      "Epoch 3/12\n",
      "2829/2829 [==============================] - 2s 601us/step - loss: 0.2790 - acc: 0.9004 - mean_absolute_error: 0.2098 - val_loss: 0.2334 - val_acc: 0.9223 - val_mean_absolute_error: 0.1777\n",
      "Epoch 4/12\n",
      "2829/2829 [==============================] - 2s 645us/step - loss: 0.2187 - acc: 0.9289 - mean_absolute_error: 0.1668 - val_loss: 0.1870 - val_acc: 0.9430 - val_mean_absolute_error: 0.1441\n",
      "Epoch 5/12\n",
      "2829/2829 [==============================] - 2s 632us/step - loss: 0.1771 - acc: 0.9466 - mean_absolute_error: 0.1371 - val_loss: 0.1542 - val_acc: 0.9554 - val_mean_absolute_error: 0.1207\n",
      "Epoch 6/12\n",
      "2829/2829 [==============================] - 2s 631us/step - loss: 0.1462 - acc: 0.9592 - mean_absolute_error: 0.1149 - val_loss: 0.1280 - val_acc: 0.9666 - val_mean_absolute_error: 0.1017\n",
      "Epoch 7/12\n",
      "2829/2829 [==============================] - 2s 661us/step - loss: 0.1210 - acc: 0.9700 - mean_absolute_error: 0.0968 - val_loss: 0.1064 - val_acc: 0.9751 - val_mean_absolute_error: 0.0862\n",
      "Epoch 8/12\n",
      "2829/2829 [==============================] - 2s 710us/step - loss: 0.1006 - acc: 0.9771 - mean_absolute_error: 0.0819 - val_loss: 0.0892 - val_acc: 0.9810 - val_mean_absolute_error: 0.0733\n",
      "Epoch 9/12\n",
      "2829/2829 [==============================] - 2s 633us/step - loss: 0.0853 - acc: 0.9821 - mean_absolute_error: 0.0703 - val_loss: 0.0760 - val_acc: 0.9854 - val_mean_absolute_error: 0.0634\n",
      "Epoch 10/12\n",
      "2829/2829 [==============================] - 2s 627us/step - loss: 0.0734 - acc: 0.9861 - mean_absolute_error: 0.0614 - val_loss: 0.0658 - val_acc: 0.9890 - val_mean_absolute_error: 0.0557\n",
      "Epoch 11/12\n",
      "2829/2829 [==============================] - 2s 621us/step - loss: 0.0639 - acc: 0.9890 - mean_absolute_error: 0.0542 - val_loss: 0.0574 - val_acc: 0.9916 - val_mean_absolute_error: 0.0492\n",
      "Epoch 12/12\n",
      "2829/2829 [==============================] - 2s 746us/step - loss: 0.0562 - acc: 0.9913 - mean_absolute_error: 0.0482 - val_loss: 0.0503 - val_acc: 0.9943 - val_mean_absolute_error: 0.0437\n"
     ]
    }
   ],
   "source": [
    "nb_epoch = 12 #changed from 50 cause of time limitations\n",
    "checkpoint = ModelCheckpoint('models/weights.{epoch:03d}-{val_acc:.4f}.hdf5', monitor='val_acc', verbose=1, save_best_only=True, mode='auto')\n",
    "model = NN()\n",
    "history = model.fit(X, B, validation_split=0.2,\n",
    "              epochs=nb_epoch, batch_size=100, verbose=1, shuffle=True)\n"
   ]
  },
  {
   "cell_type": "code",
   "execution_count": 10,
   "metadata": {
    "ExecuteTime": {
     "end_time": "2019-07-07T21:40:59.356234Z",
     "start_time": "2019-07-07T21:40:59.177741Z"
    }
   },
   "outputs": [
    {
     "data": {
      "image/png": "[encoded data removed]",
      "text/plain": [
       "<Figure size 432x288 with 1 Axes>"
      ]
     },
     "metadata": {
      "needs_background": "light"
     },
     "output_type": "display_data"
    }
   ],
   "source": [
    "plt.title('Loss')\n",
    "plt.plot(history.history['loss'], label='train')\n",
    "plt.plot(history.history['val_loss'], label='test')\n",
    "plt.legend()\n",
    "plt.show();"
   ]
  },
  {
   "cell_type": "code",
   "execution_count": 11,
   "metadata": {
    "ExecuteTime": {
     "end_time": "2019-07-07T21:40:59.559215Z",
     "start_time": "2019-07-07T21:40:59.416164Z"
    },
    "scrolled": true
   },
   "outputs": [
    {
     "data": {
      "image/png": "[encoded data removed]",
      "text/plain": [
       "<Figure size 432x288 with 1 Axes>"
      ]
     },
     "metadata": {
      "needs_background": "light"
     },
     "output_type": "display_data"
    }
   ],
   "source": [
    "# summarize history for accuracy\n",
    "plt.plot(history.history['acc'])\n",
    "plt.plot(history.history['val_acc'])\n",
    "plt.title('Model accuracy')\n",
    "plt.ylabel('accuracy')\n",
    "plt.xlabel('epoch')\n",
    "plt.legend(['train', 'test'], loc='upper left')\n",
    "plt.show()"
   ]
  },
  {
   "cell_type": "code",
   "execution_count": 12,
   "metadata": {
    "ExecuteTime": {
     "end_time": "2019-07-07T21:41:00.486503Z",
     "start_time": "2019-07-07T21:40:59.615170Z"
    }
   },
   "outputs": [
    {
     "name": "stdout",
     "output_type": "stream",
     "text": [
      "Sample shape: (3537, 256)\n"
     ]
    }
   ],
   "source": [
    "# Preping results\n",
    "# create model that gives penultimate layer - the layer before the last\n",
    "input1 = model.layers[0].input\n",
    "output = model.layers[-2].output\n",
    "model_penultimate = Model(input1, output)\n",
    "\n",
    "# Generating Deep-feature representation\n",
    "H_penul = model_penultimate.predict(X)\n",
    "print(\"Sample shape: {}\".format(H_penul.shape))\n",
    "\n",
    "# Applying L2 Normalization\n",
    "V_penul = normalize(H_penul, norm='l2') # norm"
   ]
  },
  {
   "cell_type": "code",
   "execution_count": 14,
   "metadata": {
    "ExecuteTime": {
     "end_time": "2019-07-07T21:42:25.337145Z",
     "start_time": "2019-07-07T21:42:16.953591Z"
    }
   },
   "outputs": [
    {
     "data": {
      "image/png": "[encoded data removed]",
      "text/plain": [
       "<Figure size 432x288 with 1 Axes>"
      ]
     },
     "metadata": {
      "needs_background": "light"
     },
     "output_type": "display_data"
    }
   ],
   "source": [
    "# Amount of Clusters based on Penul data\n",
    "# Wherever it makes the curve switch - around 6-7 for this data\n",
    "# Used for Elbow Method\n",
    "\n",
    "import numpy as np\n",
    "from scipy import cluster\n",
    "from matplotlib import pyplot\n",
    "\n",
    "\n",
    "#plot variance for each value for 'k' between 1,10\n",
    "initial = [cluster.vq.kmeans(H_penul,i) for i in range(1,40)]\n",
    "pyplot.plot([var for (cent,var) in initial])\n",
    "pyplot.show()"
   ]
  },
  {
   "cell_type": "markdown",
   "metadata": {},
   "source": [
    "# DBSCAN - Removing noise"
   ]
  },
  {
   "cell_type": "code",
   "execution_count": 15,
   "metadata": {
    "ExecuteTime": {
     "end_time": "2019-07-07T21:42:26.658548Z",
     "start_time": "2019-07-07T21:42:25.488525Z"
    }
   },
   "outputs": [
    {
     "name": "stdout",
     "output_type": "stream",
     "text": [
      "Estimated number of clusters: 101\n",
      "Estimated number of noise points: 45\n",
      "Silhouette Coefficient: 0.978\n"
     ]
    },
    {
     "data": {
      "image/png": "[encoded data removed]",
      "text/plain": [
       "<Figure size 432x288 with 1 Axes>"
      ]
     },
     "metadata": {
      "needs_background": "light"
     },
     "output_type": "display_data"
    }
   ],
   "source": [
    "X_DBSCAN = StandardScaler().fit_transform(H_penul)\n",
    "\n",
    "# Compute DBSCAN\n",
    "db = DBSCAN(eps=0.3, min_samples= 10).fit(H_penul)\n",
    "\n",
    "core_samples_mask = np.zeros_like(db.labels_, dtype=bool)\n",
    "core_samples_mask[db.core_sample_indices_] = True\n",
    "labels = db.labels_\n",
    "\n",
    "# Number of clusters in labels, ignoring noise if present.\n",
    "n_clusters_ = len(set(labels)) - (1 if -1 in labels else 0)\n",
    "n_noise_ = list(labels).count(-1)\n",
    "\n",
    "print('Estimated number of clusters: %d' % n_clusters_)\n",
    "print('Estimated number of noise points: %d' % n_noise_)\n",
    "print(\"Silhouette Coefficient: %0.3f\"\n",
    "      % metrics.silhouette_score(X_DBSCAN, labels))\n",
    "\n",
    "# Plot result - DBSCAN\n",
    "import matplotlib.pyplot as plt\n",
    "\n",
    "# Black removed and is used for noise instead.\n",
    "unique_labels = set(labels)\n",
    "colors = [plt.cm.Spectral(each)\n",
    "          for each in np.linspace(0, 1, len(unique_labels))]\n",
    "for k, col in zip(unique_labels, colors):\n",
    "    if k == -1:\n",
    "        # Black used for noise.\n",
    "        col = [0, 0, 0, 1]\n",
    "\n",
    "    class_member_mask = (labels == k)\n",
    "\n",
    "    xy = X_DBSCAN[class_member_mask & core_samples_mask]\n",
    "    plt.plot(xy[:, 0], xy[:, 1], 'o',\n",
    "             markeredgecolor='k', markersize=14)\n",
    "\n",
    "plt.title('Estimated number of clusters: %d' % n_clusters_)\n",
    "plt.show()"
   ]
  },
  {
   "cell_type": "markdown",
   "metadata": {
    "heading_collapsed": true
   },
   "source": [
    "# Storing Locally"
   ]
  },
  {
   "cell_type": "code",
   "execution_count": null,
   "metadata": {
    "ExecuteTime": {
     "end_time": "2019-07-02T15:41:22.805303Z",
     "start_time": "2019-07-02T15:41:22.767032Z"
    },
    "hidden": true
   },
   "outputs": [],
   "source": [
    "# labels is from DBSCAN\n",
    "Output_D = []\n",
    "for i in range(len(data)):\n",
    "    d.append({'Keywords_CNN': data[i], 'Sequence_Full': sequences_full[i], 'Prediction':labels[i]})\n",
    "Output_D= pd.DataFrame(Output_D)\n",
    "Output_D.head(1)\n",
    "#Output_D.to_csv('CNN_Demo-HippoBased_Test.csv')"
   ]
  },
  {
   "cell_type": "code",
   "execution_count": null,
   "metadata": {
    "ExecuteTime": {
     "end_time": "2019-06-18T21:17:14.157830Z",
     "start_time": "2019-06-18T21:17:14.127791Z"
    },
    "hidden": true,
    "scrolled": true
   },
   "outputs": [],
   "source": [
    "Output_D.sort_values('Prediction')"
   ]
  },
  {
   "cell_type": "code",
   "execution_count": null,
   "metadata": {
    "ExecuteTime": {
     "end_time": "2019-07-02T15:41:29.005042Z",
     "start_time": "2019-07-02T15:41:28.998593Z"
    },
    "hidden": true
   },
   "outputs": [],
   "source": [
    "# - 1 for outliers based on DBSCAN\n",
    "Output_D = Output_D[Output_D.Prediction != -1]"
   ]
  },
  {
   "cell_type": "markdown",
   "metadata": {
    "heading_collapsed": true
   },
   "source": [
    "# Creating Training Data without Noise"
   ]
  },
  {
   "cell_type": "code",
   "execution_count": null,
   "metadata": {
    "ExecuteTime": {
     "end_time": "2019-06-17T13:54:14.209291Z",
     "start_time": "2019-06-17T13:54:14.080536Z"
    },
    "hidden": true
   },
   "outputs": [],
   "source": [
    "importName = 'CNN_Demo-HippoBased_Labels.xls'\n",
    "cluster_labels = pd.read_excel(importName)"
   ]
  },
  {
   "cell_type": "code",
   "execution_count": null,
   "metadata": {
    "ExecuteTime": {
     "end_time": "2019-07-02T15:41:42.702189Z",
     "start_time": "2019-07-02T15:41:42.695829Z"
    },
    "hidden": true
   },
   "outputs": [],
   "source": [
    "\n",
    "keywords_list = Output_D[\"Keywords_CNN\"].tolist()\n",
    "data_NN_no_noise = []\n",
    "for i in keywords_list:\n",
    "    data_NN_no_noise.append(i)\n",
    "with open('data_NN_URL_No_Noise_Testing.txt', 'w') as f:\n",
    "    for item in data_NN_no_noise:\n",
    "        f.write(\"%s\\n\" % item)"
   ]
  },
  {
   "cell_type": "markdown",
   "metadata": {
    "heading_collapsed": true
   },
   "source": [
    "# Silhouette value - plot"
   ]
  },
  {
   "cell_type": "code",
   "execution_count": null,
   "metadata": {
    "ExecuteTime": {
     "end_time": "2019-06-27T08:07:11.611163Z",
     "start_time": "2019-06-27T08:07:10.660837Z"
    },
    "hidden": true,
    "scrolled": false
   },
   "outputs": [],
   "source": [
    "init_variable = H_penul\n",
    "pair_dist = pairwise_distances(init_variable,metric='euclidean', n_jobs=-1)\n",
    "range_n_clusters = range(27, 28)\n",
    "\n",
    "for n_clusters in range_n_clusters:\n",
    "\n",
    "    fig, (ax1) = plt.subplots(1, 1)\n",
    "    fig.set_size_inches(22, 14)\n",
    "\n",
    "    ax1.set_xlim([-0.1, 1])\n",
    "    ax1.set_ylim([0, len(init_variable) + (n_clusters + 1) * 10])\n",
    "    kmeans = KMeans(n_clusters=n_clusters, verbose=0)\n",
    "    kmeans.fit_predict(init_variable)\n",
    "\n",
    "\n",
    "    kmeans_labels = kmeans.labels_\n",
    "    silhouette_avg = silhouette_score(pair_dist, kmeans_labels, metric='precomputed')\n",
    "\n",
    "    print(\"For n_clusters =\", n_clusters,\n",
    "          \"The average silhouette_score is :\", silhouette_avg)\n",
    "\n",
    "    sample_silhouette_values = silhouette_samples(pair_dist, kmeans_labels, metric='precomputed')\n",
    "\n",
    "    y_lower = 10\n",
    "    for i in range(n_clusters):\n",
    "        # Aggregate the silhouette scores for samples belonging to\n",
    "        # cluster i, and sort them\n",
    "        ith_cluster_silhouette_values = \\\n",
    "            sample_silhouette_values[kmeans_labels == i]\n",
    "\n",
    "        ith_cluster_silhouette_values.sort()\n",
    "\n",
    "        size_cluster_i = ith_cluster_silhouette_values.shape[0]\n",
    "        y_upper = y_lower + size_cluster_i\n",
    "\n",
    "        color = cm.Spectral(float(i) / n_clusters)\n",
    "        ax1.fill_betweenx(np.arange(y_lower, y_upper),\n",
    "                          0, ith_cluster_silhouette_values,\n",
    "                          facecolor=color, edgecolor=color, alpha=0.7)\n",
    "\n",
    "        # Label the silhouette plots with their cluster numbers at the middle\n",
    "        ax1.text(-0.05, y_lower + 0.5 * size_cluster_i, str(i))\n",
    "\n",
    "        # Compute the new y_lower for next plot\n",
    "        y_lower = y_upper + 10  # 10 for the 0 samples\n",
    "\n",
    "    ax1.set_title((\"Silhouette analysis for KModes clustering \"\n",
    "                  \"with clusters = %d\" % n_clusters))\n",
    "    ax1.set_xlabel(\"The silhouette coefficient values\")\n",
    "    ax1.set_ylabel(\"Cluster label\")\n",
    "\n",
    "    # The vertical line for average silhouette score of all the values\n",
    "    ax1.axvline(x=silhouette_avg, color=\"red\", linestyle=\"--\")\n",
    "\n",
    "    ax1.set_yticks([])  # Clear the yaxis labels / ticks\n",
    "    ax1.set_xticks([-0.1, 0, 0.2, 0.4, 0.6, 0.8, 1])\n",
    "    \n",
    "    for item in ([ax1.title, ax1.xaxis.label, ax1.yaxis.label] +\n",
    "             ax1.get_xticklabels() + ax1.get_yticklabels()):\n",
    "        item.set_fontsize(22)\n",
    "    \n",
    "    \n",
    "    #plt.savefig('silhouette_score_bars.png', format='png', dpi=400)\n",
    "    plt.show()"
   ]
  },
  {
   "cell_type": "markdown",
   "metadata": {
    "heading_collapsed": true
   },
   "source": [
    "# Merge Final Output - Clusters + Keywords"
   ]
  },
  {
   "cell_type": "code",
   "execution_count": null,
   "metadata": {
    "ExecuteTime": {
     "end_time": "2019-06-20T12:19:37.382091Z",
     "start_time": "2019-06-20T12:19:37.379453Z"
    },
    "hidden": true
   },
   "outputs": [],
   "source": [
    "# Merge the visitor data with clusters\n",
    "'''\n",
    "    Here we merge the predictions with the user data based on the keywords\n",
    "'''"
   ]
  },
  {
   "cell_type": "code",
   "execution_count": null,
   "metadata": {
    "ExecuteTime": {
     "end_time": "2019-06-20T13:42:39.139418Z",
     "start_time": "2019-06-20T13:42:39.112208Z"
    },
    "hidden": true
   },
   "outputs": [],
   "source": [
    "# Import from First Level Pre-processing with user data\n",
    "importName = 'data/ForEvaluation.csv'\n",
    "user_data_import = pd.read_csv(importName, sep=',')"
   ]
  },
  {
   "cell_type": "code",
   "execution_count": null,
   "metadata": {
    "ExecuteTime": {
     "end_time": "2019-06-20T13:42:40.064719Z",
     "start_time": "2019-06-20T13:42:40.055650Z"
    },
    "hidden": true
   },
   "outputs": [],
   "source": [
    "user_data_import = user_data_import.drop('Unnamed: 0', 1)\n",
    "user_data_import.head(1)"
   ]
  },
  {
   "cell_type": "code",
   "execution_count": null,
   "metadata": {
    "ExecuteTime": {
     "end_time": "2019-06-20T13:53:27.095462Z",
     "start_time": "2019-06-20T13:53:27.091944Z"
    },
    "hidden": true
   },
   "outputs": [],
   "source": [
    "# clean dict from cnn\n",
    "new_d = dict(zip(Output_D.Prediction,Output_D.keywords))"
   ]
  },
  {
   "cell_type": "code",
   "execution_count": null,
   "metadata": {
    "ExecuteTime": {
     "end_time": "2019-06-20T13:53:27.927457Z",
     "start_time": "2019-06-20T13:53:27.923089Z"
    },
    "hidden": true
   },
   "outputs": [],
   "source": [
    "# clean dict with visitor\n",
    "new_user_data_import = dict(zip(user_data_import.transactionPath,user_data_import.keywords))"
   ]
  },
  {
   "cell_type": "code",
   "execution_count": null,
   "metadata": {
    "ExecuteTime": {
     "end_time": "2019-06-20T13:53:40.896868Z",
     "start_time": "2019-06-20T13:53:40.851039Z"
    },
    "hidden": true
   },
   "outputs": [],
   "source": [
    "new_user = {}\n",
    "for key,value in new_user_data_import.items():\n",
    "    dataOutput = eval(value) # How to convert list lookalike into a list?\n",
    "    new_user[key] = dataOutput"
   ]
  },
  {
   "cell_type": "code",
   "execution_count": null,
   "metadata": {
    "ExecuteTime": {
     "end_time": "2019-06-20T13:54:33.068888Z",
     "start_time": "2019-06-20T13:54:33.052121Z"
    },
    "hidden": true
   },
   "outputs": [],
   "source": [
    "# merging\n",
    "merged_data = user_data_import.sort_values('keywords', ascending=False)\n",
    "merged_data[\"Numeric_Label\"] = merged_data['visitorId']\n",
    "d.reset_index(drop=True)\n",
    "merged_data.reset_index(drop=True)\n",
    "merged_data.head(1)"
   ]
  },
  {
   "cell_type": "code",
   "execution_count": null,
   "metadata": {
    "ExecuteTime": {
     "end_time": "2019-06-20T13:50:45.734960Z",
     "start_time": "2019-06-20T13:50:45.730365Z"
    },
    "hidden": true
   },
   "outputs": [],
   "source": [
    "# cluster_labels_dict\n",
    "cluster_labels_dict = defaultdict(list)\n",
    "list1 = d['Prediction'].tolist()\n",
    "list2 = d['keywords'].tolist()\n",
    "for key, value in zip(list1, list2):\n",
    "    cluster_labels_dict[key].append(value)"
   ]
  },
  {
   "cell_type": "code",
   "execution_count": null,
   "metadata": {
    "ExecuteTime": {
     "end_time": "2019-06-20T13:54:23.126532Z",
     "start_time": "2019-06-20T13:54:15.067788Z"
    },
    "hidden": true
   },
   "outputs": [],
   "source": [
    "result_dict = {}\n",
    "for key, value in cluster_labels_dict.items():\n",
    "    for i in value:\n",
    "        for key_clean, value_clean in new_user.items():\n",
    "            if sorted(value_clean) == sorted(i):\n",
    "                result_dict[key_clean] = key"
   ]
  },
  {
   "cell_type": "code",
   "execution_count": null,
   "metadata": {
    "ExecuteTime": {
     "end_time": "2019-06-20T13:56:30.603376Z",
     "start_time": "2019-06-20T13:56:30.546817Z"
    },
    "hidden": true
   },
   "outputs": [],
   "source": [
    "merged_data['Numeric_Label'] = merged_data['transactionPath'].map(result_dict)\n",
    "merged_data['Numeric_Label'].fillna('missing', inplace=True)\n",
    "merged_data = merged_data.reset_index(drop=True)\n",
    "merged_data.to_csv('CNN_Merge_Test.csv')"
   ]
  }
 ],
 "metadata": {
  "kernelspec": {
   "display_name": "Python 3",
   "language": "python",
   "name": "python3"
  },
  "language_info": {
   "codemirror_mode": {
    "name": "ipython",
    "version": 3
   },
   "file_extension": ".py",
   "mimetype": "text/x-python",
   "name": "python",
   "nbconvert_exporter": "python",
   "pygments_lexer": "ipython3",
   "version": "3.7.3"
  },
  "toc": {
   "base_numbering": 1,
   "nav_menu": {},
   "number_sections": true,
   "sideBar": true,
   "skip_h1_title": false,
   "title_cell": "Table of Contents",
   "title_sidebar": "Contents",
   "toc_cell": false,
   "toc_position": {},
   "toc_section_display": true,
   "toc_window_display": false
  },
  "varInspector": {
   "cols": {
    "lenName": 16,
    "lenType": 16,
    "lenVar": 40
   },
   "kernels_config": {
    "python": {
     "delete_cmd_postfix": "",
     "delete_cmd_prefix": "del ",
     "library": "var_list.py",
     "varRefreshCmd": "print(var_dic_list())"
    },
    "r": {
     "delete_cmd_postfix": ") ",
     "delete_cmd_prefix": "rm(",
     "library": "var_list.r",
     "varRefreshCmd": "cat(var_dic_list()) "
    }
   },
   "position": {
    "height": "144px",
    "left": "1069px",
    "right": "20px",
    "top": "120px",
    "width": "350px"
   },
   "types_to_exclude": [
    "module",
    "function",
    "builtin_function_or_method",
    "instance",
    "_Feature"
   ],
   "window_display": false
  }
 },
 "nbformat": 4,
 "nbformat_minor": 2
}
