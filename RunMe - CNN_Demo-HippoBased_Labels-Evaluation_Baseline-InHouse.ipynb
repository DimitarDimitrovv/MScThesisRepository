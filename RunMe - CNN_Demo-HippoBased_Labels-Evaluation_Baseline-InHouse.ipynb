{
 "cells": [
  {
   "cell_type": "markdown",
   "metadata": {
    "heading_collapsed": true
   },
   "source": [
    "# Save/Load Model "
   ]
  },
  {
   "cell_type": "code",
   "execution_count": null,
   "metadata": {
    "ExecuteTime": {
     "end_time": "2019-06-24T14:16:54.820112Z",
     "start_time": "2019-06-24T14:16:31.168Z"
    },
    "hidden": true
   },
   "outputs": [],
   "source": [
    "from keras.models import model_from_json\n",
    "# Saving Model and weiths\n",
    "# serialize model to JSON\n",
    "model_json = model.to_json()\n",
    "with open(\"hippo_model_24thJune_NoisleesScrapped_DefaultDBSCAN.json\", \"w\") as json_file:\n",
    "    json_file.write(model_json)\n",
    "# serialize weights to HDF5\n",
    "model.save_weights(\"hippo_model_24thJune_NoisleesScrapped_DefaultDBSCAN.h5\")\n",
    "print(\"Saved model to disk\")\n",
    " \n",
    "'''\n",
    "# load json and create model\n",
    "json_file = open('hippo_model_20thJune_NoisleesURL_DefaultDBSCAN_SmallEPS.json', 'r')\n",
    "loaded_model_json = json_file.read()\n",
    "json_file.close()\n",
    "loaded_model = model_from_json(loaded_model_json)\n",
    "# load weights into new model\n",
    "loaded_model.load_weights(\"hippo_model_20thJune_NoisleesURL_DefaultDBSCAN_SmallEPS.h5\")\n",
    "print(\"Loaded model from disk\")\n",
    "'''\n",
    "'''\n",
    "# Evaluate\n",
    "\n",
    "loaded_model.compile(loss='binary_crossentropy', optimizer='rmsprop', metrics=['accuracy'])\n",
    "score = loaded_model.evaluate(X, Y, verbose=0)\n",
    "print(\"%s: %.2f%%\" % (loaded_model.metrics_names[1], score[1]*100))\n",
    "'''\n"
   ]
  },
  {
   "cell_type": "markdown",
   "metadata": {},
   "source": [
    "# HippoData"
   ]
  },
  {
   "cell_type": "code",
   "execution_count": 1,
   "metadata": {
    "ExecuteTime": {
     "end_time": "2019-07-04T08:22:32.302953Z",
     "start_time": "2019-07-04T08:22:31.521973Z"
    }
   },
   "outputs": [],
   "source": [
    "import numpy as np\n",
    "from collections import Counter\n",
    "from operator import itemgetter\n",
    "from sklearn import metrics\n",
    "\n",
    "\n",
    "\n",
    "# if you have labels\n",
    "\n",
    "\n",
    "'''\n",
    "    The idea of the function below (map_label) is a simplified approach to what they did in the initial paper. \n",
    "    They used the so called Hungarian method in order to optimize the labeling. The optimization is based on the\n",
    "    ground truth and the labels from the k clustering. Using the example dataset:\n",
    "    We have 20 000 items split in 20 categories, which means that a certain category has multiple items. \n",
    "    The idea of best mapping is to take all tuples from ground truth and prediction per item and count their \n",
    "    occurancies. For example (6, 18), 88), 6 being the ground truth and 18 the prediction truth. This \n",
    "    combination has occured 88 times but ((6, 3), 116) has occured 116 times, so at the end the function \n",
    "    will return 6,3 as best map.\n",
    "'''\n",
    "\n",
    "def map_label(true_labels, pred_labels):\n",
    "    label_pair = list(zip(pred_labels, true_labels))\n",
    "    count = tuple(Counter(label_pair).items())  #count the appearance of each pair dict principle\n",
    "    mapping = dict()\n",
    "    n_label = len(np.unique(true_labels))\n",
    "\n",
    "    # map most likely labels from prediction to ground truth\n",
    "\n",
    "    for label in range(n_label):\n",
    "        tuples = [tup for tup in count if tup[0][0] == label]\n",
    "        likely_tuple = max(tuples, key=itemgetter(1))[0] # tuple as input and take the one which appears the most from the list\n",
    "        mapping[likely_tuple[0]] = likely_tuple[1]\n",
    "\n",
    "    pred_labels_mapped = [mapping[x] for x in pred_labels]\n",
    "    return pred_labels_mapped\n",
    "\n",
    "# if you have labels\n",
    "def cluster_quality(true_labels, pred_labels, show=True):\n",
    "    h, c, v = metrics.homogeneity_completeness_v_measure(true_labels, pred_labels)\n",
    "    nmi = metrics.normalized_mutual_info_score(true_labels, pred_labels)\n",
    "    rand = metrics.adjusted_rand_score(true_labels, pred_labels)\n",
    "    pred_labels_mapped = map_label(true_labels, pred_labels)\n",
    "    acc = metrics.accuracy_score(true_labels, pred_labels_mapped)\n",
    "    '''\n",
    "    # Prints the scores\n",
    "    if show:\n",
    "        print(\"Homogeneity: %0.3f\" % h)\n",
    "        print(\"Completeness: %0.3f\" % c)\n",
    "        print(\"V-measure: %0.3f\" % v)\n",
    "        print(\"NMI: %0.3f\" % nmi)\n",
    "        print(\"Rand score: %0.3f\" % rand)\n",
    "        print(\"Accuracy: %0.3f\" % acc)\n",
    "        '''\n",
    "    return dict(\n",
    "        homogeneity=round(h,3),\n",
    "        completeness=round(c,3),\n",
    "        vmeasure=round(v,3),\n",
    "        nmi=round(nmi,3),\n",
    "        rand=round(rand,3),\n",
    "        accuracy=round(acc,3),\n",
    "    )\n"
   ]
  },
  {
   "cell_type": "code",
   "execution_count": 2,
   "metadata": {
    "ExecuteTime": {
     "end_time": "2019-07-04T08:22:35.254750Z",
     "start_time": "2019-07-04T08:22:33.141690Z"
    }
   },
   "outputs": [
    {
     "name": "stderr",
     "output_type": "stream",
     "text": [
      "Using TensorFlow backend.\n"
     ]
    },
    {
     "name": "stdout",
     "output_type": "stream",
     "text": [
      "Total: 3,537 short texts\n"
     ]
    }
   ],
   "source": [
    "import os\n",
    "\n",
    "from gensim.models.keyedvectors import KeyedVectors\n",
    "from keras.callbacks import ModelCheckpoint\n",
    "from keras.optimizers import Adam\n",
    "\n",
    "############################\n",
    "# Loading Data\n",
    "############################\n",
    "\n",
    "EMBEDDING_FILE = 'data/GoogleNews-vectors-negative300.bin' # word vectors\n",
    "#text_path = 'data/StackOverflow.txt'# data without labels\n",
    "#text_path = 'data/data_NN_URL_No_Noise_Testing.txt' # url keywords no noise\n",
    "#text_path = 'data/data_NN.txt'# data without labels - Own Data\n",
    "#text_path = 'data/data_NN_Scrapped.txt'# data without labels - Own Data based on scrapping\n",
    "#text_path = 'data/data_NN_no_noise_Scrapped - Noisless scrapped.txt'# scrapped data, no noise based on dbscan\n",
    "text_path = 'data/data_NN_no_noise_Scrapped - Noisless url_keywords.txt'# scrapped data, no noise based on dbscan\n",
    "#label_path = 'data/StackOverflow_gnd.txt' # labels per row in the data file\n",
    "\n",
    "with open(text_path) as f:\n",
    "    data = [text.strip() for text in f]\n",
    "'''\n",
    "with open(label_path) as f:\n",
    "    target = f.readlines()\n",
    "    \n",
    "target = [int(label.rstrip('\\n')) for label in target] # the data has /n at the end of each row\n",
    "'''\n",
    "print(\"Total: %s short texts\" % format(len(data), \",\"))"
   ]
  },
  {
   "cell_type": "code",
   "execution_count": 6,
   "metadata": {
    "ExecuteTime": {
     "end_time": "2019-07-04T08:22:37.047205Z",
     "start_time": "2019-07-04T08:22:36.956770Z"
    }
   },
   "outputs": [
    {
     "name": "stdout",
     "output_type": "stream",
     "text": [
      "Found 283 unique tokens.\n",
      "Minumum length: 1\n",
      "Average length: 3\n",
      "Max length: 27\n"
     ]
    },
    {
     "data": {
      "text/plain": [
       "'\\n    pad_sequences is used to ensure that all sequences in a list have the same length. By default this \\n    is done by padding 0 in the beginning of each sequence until each sequence has the same \\n    length as the longest sequence.\\n'"
      ]
     },
     "execution_count": 6,
     "metadata": {},
     "output_type": "execute_result"
    }
   ],
   "source": [
    "############################\n",
    "# Preprocessing\n",
    "############################\n",
    "\n",
    "from keras.preprocessing.text import Tokenizer\n",
    "from keras.preprocessing.sequence import pad_sequences\n",
    "import numpy as np\n",
    "\n",
    "tokenizer = Tokenizer(char_level=False)\n",
    "tokenizer.fit_on_texts(data)\n",
    "sequences_full = tokenizer.texts_to_sequences(data) # replace words/tokens with numbers\n",
    "\n",
    "word_index = tokenizer.word_index # get the coresponing word:number dict format\n",
    "print('Found %s unique tokens.' % len(word_index))\n",
    "MAX_NB_WORDS = len(word_index) # all words - len\n",
    "\n",
    "seq_lens = [len(s) for s in sequences_full] # get the count of words/symbols in the sequence from above\n",
    "print(\"Minumum length: %d\" % min(seq_lens))\n",
    "print(\"Average length: %d\" % np.mean(seq_lens))\n",
    "print(\"Max length: %d\" % max(seq_lens))\n",
    "MAX_SEQUENCE_LENGTH = max(seq_lens)\n",
    "\n",
    "X = pad_sequences(sequences_full, maxlen=MAX_SEQUENCE_LENGTH) # uses the len of the list and max len\n",
    "#y = target # we take the target values\n",
    "\n",
    "'''\n",
    "    pad_sequences is used to ensure that all sequences in a list have the same length. By default this \n",
    "    is done by padding 0 in the beginning of each sequence until each sequence has the same \n",
    "    length as the longest sequence.\n",
    "'''"
   ]
  },
  {
   "cell_type": "code",
   "execution_count": 7,
   "metadata": {
    "ExecuteTime": {
     "end_time": "2019-07-04T08:23:25.678700Z",
     "start_time": "2019-07-04T08:22:37.643481Z"
    }
   },
   "outputs": [
    {
     "name": "stdout",
     "output_type": "stream",
     "text": [
      "Preparing embedding matrix\n",
      "Null word embeddings: 81\n"
     ]
    }
   ],
   "source": [
    "############################\n",
    "# Preparing embedding matrix\n",
    "############################\n",
    "\n",
    "\n",
    "print('Preparing embedding matrix')\n",
    "word2vec = KeyedVectors.load_word2vec_format(EMBEDDING_FILE, binary=True)\n",
    "\n",
    "EMBEDDING_DIM = 300\n",
    "nb_words = min(MAX_NB_WORDS, len(word_index)) + 1\n",
    "embedding_matrix = np.zeros((nb_words, EMBEDDING_DIM)) # Init as 0's and updated if in word2vec\n",
    "for word, i in word_index.items():\n",
    "    if word in word2vec.vocab:\n",
    "        embedding_matrix[i] = word2vec.word_vec(word)\n",
    "    #else:\n",
    "        #print(word)\n",
    "print('Null word embeddings: %d' % np.sum(np.sum(embedding_matrix, axis=1) == 0))"
   ]
  },
  {
   "cell_type": "code",
   "execution_count": 9,
   "metadata": {
    "ExecuteTime": {
     "end_time": "2019-07-04T08:23:34.826500Z",
     "start_time": "2019-07-04T08:23:34.646737Z"
    }
   },
   "outputs": [
    {
     "name": "stdout",
     "output_type": "stream",
     "text": [
      "Shape of average embedding:  (3537, 300)\n",
      "(3537, 300)\n",
      "[0. 1. 1. 1. 0. 0. 1. 0. 1. 0. 0. 0. 0. 1. 0. 1. 0. 1. 0. 0. 0. 1. 1. 1.\n",
      " 1. 1. 0. 1. 0. 0. 0. 0. 0. 0. 0. 1. 1. 1. 1. 1. 1. 0. 1. 1. 0. 0. 1. 0.\n",
      " 0. 1. 1. 1. 0. 1. 1. 1. 0. 0. 1. 0. 0. 1. 0. 0. 0. 0. 1. 0. 0. 1. 0. 1.\n",
      " 1. 0. 0. 0. 0. 1. 1. 1. 0. 1. 0. 1. 0. 0. 0. 1. 0. 1. 1. 1. 0. 0. 1. 1.\n",
      " 0. 0. 1. 1. 1. 1. 1. 1. 1. 0. 0. 0. 1. 0. 0. 0. 0. 0. 1. 1. 1. 0. 1. 1.\n",
      " 0. 1. 0. 1. 1. 1. 0. 0. 1. 0. 0. 0. 0. 1. 0. 0. 1. 1. 1. 1. 1. 0. 1. 0.\n",
      " 1. 0. 1. 0. 0. 0. 1. 0. 0. 0. 0. 0. 0. 1. 0. 1. 1. 1. 1. 1. 1. 0. 1. 0.\n",
      " 0. 0. 0. 1. 1. 0. 1. 0. 1. 0. 1. 0. 0. 0. 1. 0. 1. 0. 0. 1. 1. 1. 1. 1.\n",
      " 1. 1. 1. 0. 0. 1. 0. 0. 0. 1. 0. 1. 0. 0. 1. 0. 1. 1. 1. 1. 0. 0. 0. 0.\n",
      " 1. 0. 0. 1. 0. 0. 0. 0. 0. 0. 1. 0. 0. 0. 1. 0. 1. 0. 1. 1. 1. 0. 1. 0.\n",
      " 1. 1. 1. 0. 0. 1. 0. 1. 0. 0. 1. 1. 1. 1. 1. 0. 0. 1. 0. 0. 1. 0. 1. 1.\n",
      " 0. 1. 0. 0. 0. 0. 0. 1. 1. 1. 0. 0. 1. 0. 0. 1. 0. 1. 1. 1. 1. 0. 0. 1.\n",
      " 1. 0. 0. 1. 0. 1. 0. 0. 0. 0. 0. 1.]\n"
     ]
    }
   ],
   "source": [
    "#################################################\n",
    "# Preparing target using Average embeddings (AE)\n",
    "#################################################\n",
    "Y = {}\n",
    "tfidf_seq = tokenizer.sequences_to_matrix(sequences_full, mode='tfidf') # converting List of sequences (a sequence is a list of integer word indices).\n",
    "# TF-IDF Acc: 0,329\n",
    "binary_seq = tokenizer.sequences_to_matrix(sequences_full, mode='binary') # Acc: 0,458\n",
    "count_seq = tokenizer.sequences_to_matrix(sequences_full, mode='count') # Acc: 0,467\n",
    "frequency_seq = tokenizer.sequences_to_matrix(sequences_full, mode='freq') # Acc: 0452\n",
    "from sklearn.preprocessing import Normalizer\n",
    "normed_value = Normalizer().fit_transform(count_seq)\n",
    "average_embeddings = np.dot(normed_value, embedding_matrix)\n",
    "Y[\"ae\"] = average_embeddings\n",
    "print(\"Shape of average embedding: \", Y['ae'].shape)\n",
    "\n",
    "\n",
    "# binary Y\n",
    "from sklearn import preprocessing\n",
    "reduction_name = \"ae\"\n",
    "B = preprocessing.Binarizer().fit_transform(Y[reduction_name]) # binarizing the whole value list for ae key (which is the only key)\n",
    "\n",
    "# Shape of last dimension in the CNN\n",
    "TARGET_DIM = B.shape[1]\n",
    "\n",
    "# Example of binarized target vector\n",
    "print(B.shape)\n",
    "print(B[1])"
   ]
  },
  {
   "cell_type": "code",
   "execution_count": 10,
   "metadata": {
    "ExecuteTime": {
     "end_time": "2019-07-04T08:23:36.321646Z",
     "start_time": "2019-07-04T08:23:36.309887Z"
    }
   },
   "outputs": [],
   "source": [
    "###############PLAYING-GridSearch#################################\n",
    "# Playing train model\n",
    "################################################\n",
    "\n",
    "# Best accuracy for now\n",
    "\n",
    "import keras\n",
    "from keras.datasets import imdb\n",
    "from keras.preprocessing.sequence import pad_sequences\n",
    "from keras.models import Sequential, Model\n",
    "from keras.layers import Dense, Flatten, Dropout, Activation, concatenate, Input\n",
    "from keras.layers import Embedding, Conv1D, SpatialDropout1D, GlobalMaxPooling1D\n",
    "from keras.callbacks import ModelCheckpoint\n",
    "from keras.utils.vis_utils import plot_model\n",
    "\n",
    "#https://stats.stackexchange.com/questions/240305/where-should-i-place-dropout-layers-in-a-neural-network\n",
    "# the above link has to do with dropout positioning\n",
    "\n",
    "# https://github.com/keras-team/keras/issues/7290\n",
    "# has to do with spatial dropout after embedding layer\n",
    "\n",
    "# https://towardsdatascience.com/review-tompson-cvpr15-spatial-dropout-human-pose-estimation-c7d6a5cecd8c\n",
    "# SpatialDropout again\n",
    "\n",
    "def get_model():\n",
    "    embedding_matrix_copy = embedding_matrix.copy()\n",
    "    trainable_embedding = False\n",
    "    #filters = [2,3,4]\n",
    "    filters = [3,4,5]\n",
    "    \n",
    "    # Embedding layer\n",
    "    pretrained_embedding_layer = Embedding(\n",
    "        input_dim=nb_words,\n",
    "        output_dim=EMBEDDING_DIM,\n",
    "        weights=[embedding_matrix],\n",
    "        input_length=MAX_SEQUENCE_LENGTH,\n",
    "    )\n",
    "\n",
    "    # Input\n",
    "    sequence_input = Input(shape=(MAX_SEQUENCE_LENGTH,), dtype='int32')\n",
    "    embedded_sequences = pretrained_embedding_layer(sequence_input)\n",
    "    \n",
    "    # DropOut\n",
    "    #x = Dropout(0.2)(embedded_sequences)\n",
    "    spatial_x = SpatialDropout1D(0.1)(embedded_sequences)\n",
    "    \n",
    "    # 1st Layer\n",
    "    conv_layers = []\n",
    "    for i in filters:\n",
    "        x = Conv1D(125, i, activation='tanh', padding='same')(spatial_x)\n",
    "        x = GlobalMaxPooling1D()(x)\n",
    "        #x = Dropout(0.2)(x)\n",
    "        conv_layers.append(x)\n",
    "    merged = concatenate(conv_layers)\n",
    "    \n",
    "    # Dense\n",
    "    #x = Dense(TARGET_DIM,activation = 'tanh')(merged)\n",
    "    x = Dense(256,activation = 'tanh')(merged) # best performing\n",
    "    \n",
    "    # DropOut\n",
    "    x = Dropout(0.1)(x)\n",
    "    #x = Dropout(0.1)(merged) # best performing\n",
    "    \n",
    "    # Output\n",
    "    predictions = Dense(TARGET_DIM, activation='sigmoid')(x) \n",
    "    # sigmoid because we want 0,1 for one of the categories\n",
    "    \n",
    "    model = Model(sequence_input, predictions)\n",
    "\n",
    "    model.layers[1].trainable=trainable_embedding #embedding layer\n",
    "\n",
    "    #adam = Adam(lr=1e-3, beta_1=0.9, beta_2=0.999, epsilon=1e-08)\n",
    "    adam = Adam(lr=0.001, beta_1=0.9, beta_2=0.999, epsilon=1e-08, decay=0.0) #standard for keras\n",
    "    #optimizer = Adam(lr=learn_rate)\n",
    "    \n",
    "    # Loss and Optimizer\n",
    "    model.compile(loss='binary_crossentropy',\n",
    "                  optimizer=adam,\n",
    "                  metrics=['accuracy','mae'])\n",
    "    \n",
    "    # Fine-tune embeddings or not\n",
    "    model.summary()\n",
    "    plot_model(model, to_file='model_plot_no_shapes.png', show_shapes=False, show_layer_names=True)\n",
    "    plot_model(model, to_file='model_plot_no_shapes.pdf', show_shapes=False, show_layer_names=True)\n",
    "\n",
    "    \n",
    "    return model"
   ]
  },
  {
   "cell_type": "code",
   "execution_count": 11,
   "metadata": {
    "ExecuteTime": {
     "end_time": "2019-07-04T08:24:04.867533Z",
     "start_time": "2019-07-04T08:23:37.415337Z"
    },
    "scrolled": false
   },
   "outputs": [
    {
     "name": "stdout",
     "output_type": "stream",
     "text": [
      "WARNING:tensorflow:From /Users/Dimitar/anaconda3/lib/python3.7/site-packages/tensorflow/python/framework/op_def_library.py:263: colocate_with (from tensorflow.python.framework.ops) is deprecated and will be removed in a future version.\n",
      "Instructions for updating:\n",
      "Colocations handled automatically by placer.\n",
      "WARNING:tensorflow:From /Users/Dimitar/anaconda3/lib/python3.7/site-packages/keras/backend/tensorflow_backend.py:3445: calling dropout (from tensorflow.python.ops.nn_ops) with keep_prob is deprecated and will be removed in a future version.\n",
      "Instructions for updating:\n",
      "Please use `rate` instead of `keep_prob`. Rate should be set to `rate = 1 - keep_prob`.\n",
      "__________________________________________________________________________________________________\n",
      "Layer (type)                    Output Shape         Param #     Connected to                     \n",
      "==================================================================================================\n",
      "input_1 (InputLayer)            (None, 27)           0                                            \n",
      "__________________________________________________________________________________________________\n",
      "embedding_1 (Embedding)         (None, 27, 300)      85200       input_1[0][0]                    \n",
      "__________________________________________________________________________________________________\n",
      "spatial_dropout1d_1 (SpatialDro (None, 27, 300)      0           embedding_1[0][0]                \n",
      "__________________________________________________________________________________________________\n",
      "conv1d_1 (Conv1D)               (None, 27, 125)      112625      spatial_dropout1d_1[0][0]        \n",
      "__________________________________________________________________________________________________\n",
      "conv1d_2 (Conv1D)               (None, 27, 125)      150125      spatial_dropout1d_1[0][0]        \n",
      "__________________________________________________________________________________________________\n",
      "conv1d_3 (Conv1D)               (None, 27, 125)      187625      spatial_dropout1d_1[0][0]        \n",
      "__________________________________________________________________________________________________\n",
      "global_max_pooling1d_1 (GlobalM (None, 125)          0           conv1d_1[0][0]                   \n",
      "__________________________________________________________________________________________________\n",
      "global_max_pooling1d_2 (GlobalM (None, 125)          0           conv1d_2[0][0]                   \n",
      "__________________________________________________________________________________________________\n",
      "global_max_pooling1d_3 (GlobalM (None, 125)          0           conv1d_3[0][0]                   \n",
      "__________________________________________________________________________________________________\n",
      "concatenate_1 (Concatenate)     (None, 375)          0           global_max_pooling1d_1[0][0]     \n",
      "                                                                 global_max_pooling1d_2[0][0]     \n",
      "                                                                 global_max_pooling1d_3[0][0]     \n",
      "__________________________________________________________________________________________________\n",
      "dense_1 (Dense)                 (None, 256)          96256       concatenate_1[0][0]              \n",
      "__________________________________________________________________________________________________\n",
      "dropout_1 (Dropout)             (None, 256)          0           dense_1[0][0]                    \n",
      "__________________________________________________________________________________________________\n",
      "dense_2 (Dense)                 (None, 300)          77100       dropout_1[0][0]                  \n",
      "==================================================================================================\n",
      "Total params: 708,931\n",
      "Trainable params: 623,731\n",
      "Non-trainable params: 85,200\n",
      "__________________________________________________________________________________________________\n",
      "WARNING:tensorflow:From /Users/Dimitar/anaconda3/lib/python3.7/site-packages/tensorflow/python/ops/math_ops.py:3066: to_int32 (from tensorflow.python.ops.math_ops) is deprecated and will be removed in a future version.\n",
      "Instructions for updating:\n",
      "Use tf.cast instead.\n",
      "WARNING:tensorflow:From /Users/Dimitar/anaconda3/lib/python3.7/site-packages/tensorflow/python/ops/math_grad.py:102: div (from tensorflow.python.ops.math_ops) is deprecated and will be removed in a future version.\n",
      "Instructions for updating:\n",
      "Deprecated in favor of operator or tf.math.divide.\n",
      "Train on 2829 samples, validate on 708 samples\n",
      "Epoch 1/12\n",
      "2829/2829 [==============================] - 2s 853us/step - loss: 0.5475 - acc: 0.7237 - mean_absolute_error: 0.3912 - val_loss: 0.4273 - val_acc: 0.8255 - val_mean_absolute_error: 0.3143\n",
      "Epoch 2/12\n",
      "2829/2829 [==============================] - 2s 686us/step - loss: 0.3748 - acc: 0.8492 - mean_absolute_error: 0.2754 - val_loss: 0.3019 - val_acc: 0.8884 - val_mean_absolute_error: 0.2263\n",
      "Epoch 3/12\n",
      "2829/2829 [==============================] - 2s 678us/step - loss: 0.2766 - acc: 0.9013 - mean_absolute_error: 0.2074 - val_loss: 0.2313 - val_acc: 0.9239 - val_mean_absolute_error: 0.1759\n",
      "Epoch 4/12\n",
      "2829/2829 [==============================] - 2s 705us/step - loss: 0.2161 - acc: 0.9300 - mean_absolute_error: 0.1647 - val_loss: 0.1862 - val_acc: 0.9415 - val_mean_absolute_error: 0.1432\n",
      "Epoch 5/12\n",
      "2829/2829 [==============================] - 2s 759us/step - loss: 0.1753 - acc: 0.9472 - mean_absolute_error: 0.1356 - val_loss: 0.1530 - val_acc: 0.9566 - val_mean_absolute_error: 0.1195\n",
      "Epoch 6/12\n",
      "2829/2829 [==============================] - 2s 770us/step - loss: 0.1442 - acc: 0.9608 - mean_absolute_error: 0.1135 - val_loss: 0.1262 - val_acc: 0.9684 - val_mean_absolute_error: 0.1005\n",
      "Epoch 7/12\n",
      "2829/2829 [==============================] - 2s 786us/step - loss: 0.1187 - acc: 0.9715 - mean_absolute_error: 0.0954 - val_loss: 0.1041 - val_acc: 0.9764 - val_mean_absolute_error: 0.0845\n",
      "Epoch 8/12\n",
      "2829/2829 [==============================] - 2s 774us/step - loss: 0.0984 - acc: 0.9782 - mean_absolute_error: 0.0803 - val_loss: 0.0877 - val_acc: 0.9815 - val_mean_absolute_error: 0.0722\n",
      "Epoch 9/12\n",
      "2829/2829 [==============================] - 2s 771us/step - loss: 0.0835 - acc: 0.9831 - mean_absolute_error: 0.0691 - val_loss: 0.0749 - val_acc: 0.9858 - val_mean_absolute_error: 0.0625\n",
      "Epoch 10/12\n",
      "2829/2829 [==============================] - 2s 770us/step - loss: 0.0719 - acc: 0.9867 - mean_absolute_error: 0.0604 - val_loss: 0.0649 - val_acc: 0.9895 - val_mean_absolute_error: 0.0550\n",
      "Epoch 11/12\n",
      "2829/2829 [==============================] - 2s 768us/step - loss: 0.0628 - acc: 0.9897 - mean_absolute_error: 0.0533 - val_loss: 0.0564 - val_acc: 0.9923 - val_mean_absolute_error: 0.0485\n",
      "Epoch 12/12\n",
      "2829/2829 [==============================] - 2s 774us/step - loss: 0.0552 - acc: 0.9919 - mean_absolute_error: 0.0474 - val_loss: 0.0494 - val_acc: 0.9940 - val_mean_absolute_error: 0.0430\n"
     ]
    }
   ],
   "source": [
    "from sklearn.preprocessing import normalize\n",
    "# 25 epoch and 80 batch = 50.3 accuracy\n",
    "nb_epoch = 12 #changed from 50 cause of time limitations\n",
    "#nb_epoch = 1\n",
    "# 5 epochs take 1 hour and 14 mins to load\n",
    "\n",
    "checkpoint = ModelCheckpoint('models/weights.{epoch:03d}-{val_acc:.4f}.hdf5', monitor='val_acc', verbose=1, save_best_only=True, mode='auto')\n",
    "model = get_model()\n",
    "history = model.fit(X, B, validation_split=0.2,\n",
    "              epochs=nb_epoch, batch_size=100, verbose=1, shuffle=True)\n"
   ]
  },
  {
   "cell_type": "code",
   "execution_count": 8,
   "metadata": {
    "ExecuteTime": {
     "end_time": "2019-07-02T15:47:53.933422Z",
     "start_time": "2019-07-02T15:47:53.735087Z"
    }
   },
   "outputs": [
    {
     "data": {
      "text/plain": [
       "<Figure size 640x480 with 1 Axes>"
      ]
     },
     "metadata": {},
     "output_type": "display_data"
    }
   ],
   "source": [
    "import matplotlib.pyplot as plt\n",
    "plt.title('Loss')\n",
    "plt.plot(history.history['loss'], label='train')\n",
    "plt.plot(history.history['val_loss'], label='test')\n",
    "plt.legend()\n",
    "plt.show();"
   ]
  },
  {
   "cell_type": "code",
   "execution_count": 9,
   "metadata": {
    "ExecuteTime": {
     "end_time": "2019-07-02T15:47:54.136576Z",
     "start_time": "2019-07-02T15:47:54.004939Z"
    },
    "scrolled": true
   },
   "outputs": [
    {
     "data": {
      "image/png": "[encoded data removed]",
      "text/plain": [
       "<Figure size 432x288 with 1 Axes>"
      ]
     },
     "metadata": {
      "needs_background": "light"
     },
     "output_type": "display_data"
    }
   ],
   "source": [
    "# summarize history for accuracy\n",
    "plt.plot(history.history['acc'])\n",
    "plt.plot(history.history['val_acc'])\n",
    "plt.title('Model accuracy')\n",
    "plt.ylabel('accuracy')\n",
    "plt.xlabel('epoch')\n",
    "plt.legend(['train', 'test'], loc='upper left')\n",
    "plt.show()"
   ]
  },
  {
   "cell_type": "code",
   "execution_count": 12,
   "metadata": {
    "ExecuteTime": {
     "end_time": "2019-07-04T08:24:05.314058Z",
     "start_time": "2019-07-04T08:24:04.903430Z"
    }
   },
   "outputs": [
    {
     "name": "stdout",
     "output_type": "stream",
     "text": [
      "Loaded model from disk\n"
     ]
    },
    {
     "ename": "ValueError",
     "evalue": "Error when checking input: expected input_1 to have shape (576,) but got array with shape (27,)",
     "output_type": "error",
     "traceback": [
      "\u001b[0;31m---------------------------------------------------------------------------\u001b[0m",
      "\u001b[0;31mValueError\u001b[0m                                Traceback (most recent call last)",
      "\u001b[0;32m<ipython-input-12-83d0c77e32bd>\u001b[0m in \u001b[0;36m<module>\u001b[0;34m\u001b[0m\n\u001b[1;32m     22\u001b[0m \u001b[0;34m\u001b[0m\u001b[0m\n\u001b[1;32m     23\u001b[0m \u001b[0;31m# inference of penultimate layer\u001b[0m\u001b[0;34m\u001b[0m\u001b[0;34m\u001b[0m\u001b[0;34m\u001b[0m\u001b[0m\n\u001b[0;32m---> 24\u001b[0;31m \u001b[0mH_penul\u001b[0m \u001b[0;34m=\u001b[0m \u001b[0mmodel_penultimate\u001b[0m\u001b[0;34m.\u001b[0m\u001b[0mpredict\u001b[0m\u001b[0;34m(\u001b[0m\u001b[0mX\u001b[0m\u001b[0;34m)\u001b[0m\u001b[0;34m\u001b[0m\u001b[0;34m\u001b[0m\u001b[0m\n\u001b[0m\u001b[1;32m     25\u001b[0m \u001b[0mprint\u001b[0m\u001b[0;34m(\u001b[0m\u001b[0;34m\"Sample shape: {}\"\u001b[0m\u001b[0;34m.\u001b[0m\u001b[0mformat\u001b[0m\u001b[0;34m(\u001b[0m\u001b[0mH_penul\u001b[0m\u001b[0;34m.\u001b[0m\u001b[0mshape\u001b[0m\u001b[0;34m)\u001b[0m\u001b[0;34m)\u001b[0m\u001b[0;34m\u001b[0m\u001b[0;34m\u001b[0m\u001b[0m\n\u001b[1;32m     26\u001b[0m \u001b[0;34m\u001b[0m\u001b[0m\n",
      "\u001b[0;32m~/anaconda3/lib/python3.7/site-packages/keras/engine/training.py\u001b[0m in \u001b[0;36mpredict\u001b[0;34m(self, x, batch_size, verbose, steps)\u001b[0m\n\u001b[1;32m   1147\u001b[0m                              'argument.')\n\u001b[1;32m   1148\u001b[0m         \u001b[0;31m# Validate user data.\u001b[0m\u001b[0;34m\u001b[0m\u001b[0;34m\u001b[0m\u001b[0;34m\u001b[0m\u001b[0m\n\u001b[0;32m-> 1149\u001b[0;31m         \u001b[0mx\u001b[0m\u001b[0;34m,\u001b[0m \u001b[0m_\u001b[0m\u001b[0;34m,\u001b[0m \u001b[0m_\u001b[0m \u001b[0;34m=\u001b[0m \u001b[0mself\u001b[0m\u001b[0;34m.\u001b[0m\u001b[0m_standardize_user_data\u001b[0m\u001b[0;34m(\u001b[0m\u001b[0mx\u001b[0m\u001b[0;34m)\u001b[0m\u001b[0;34m\u001b[0m\u001b[0;34m\u001b[0m\u001b[0m\n\u001b[0m\u001b[1;32m   1150\u001b[0m         \u001b[0;32mif\u001b[0m \u001b[0mself\u001b[0m\u001b[0;34m.\u001b[0m\u001b[0mstateful\u001b[0m\u001b[0;34m:\u001b[0m\u001b[0;34m\u001b[0m\u001b[0;34m\u001b[0m\u001b[0m\n\u001b[1;32m   1151\u001b[0m             \u001b[0;32mif\u001b[0m \u001b[0mx\u001b[0m\u001b[0;34m[\u001b[0m\u001b[0;36m0\u001b[0m\u001b[0;34m]\u001b[0m\u001b[0;34m.\u001b[0m\u001b[0mshape\u001b[0m\u001b[0;34m[\u001b[0m\u001b[0;36m0\u001b[0m\u001b[0;34m]\u001b[0m \u001b[0;34m>\u001b[0m \u001b[0mbatch_size\u001b[0m \u001b[0;32mand\u001b[0m \u001b[0mx\u001b[0m\u001b[0;34m[\u001b[0m\u001b[0;36m0\u001b[0m\u001b[0;34m]\u001b[0m\u001b[0;34m.\u001b[0m\u001b[0mshape\u001b[0m\u001b[0;34m[\u001b[0m\u001b[0;36m0\u001b[0m\u001b[0;34m]\u001b[0m \u001b[0;34m%\u001b[0m \u001b[0mbatch_size\u001b[0m \u001b[0;34m!=\u001b[0m \u001b[0;36m0\u001b[0m\u001b[0;34m:\u001b[0m\u001b[0;34m\u001b[0m\u001b[0;34m\u001b[0m\u001b[0m\n",
      "\u001b[0;32m~/anaconda3/lib/python3.7/site-packages/keras/engine/training.py\u001b[0m in \u001b[0;36m_standardize_user_data\u001b[0;34m(self, x, y, sample_weight, class_weight, check_array_lengths, batch_size)\u001b[0m\n\u001b[1;32m    749\u001b[0m             \u001b[0mfeed_input_shapes\u001b[0m\u001b[0;34m,\u001b[0m\u001b[0;34m\u001b[0m\u001b[0;34m\u001b[0m\u001b[0m\n\u001b[1;32m    750\u001b[0m             \u001b[0mcheck_batch_axis\u001b[0m\u001b[0;34m=\u001b[0m\u001b[0;32mFalse\u001b[0m\u001b[0;34m,\u001b[0m  \u001b[0;31m# Don't enforce the batch size.\u001b[0m\u001b[0;34m\u001b[0m\u001b[0;34m\u001b[0m\u001b[0m\n\u001b[0;32m--> 751\u001b[0;31m             exception_prefix='input')\n\u001b[0m\u001b[1;32m    752\u001b[0m \u001b[0;34m\u001b[0m\u001b[0m\n\u001b[1;32m    753\u001b[0m         \u001b[0;32mif\u001b[0m \u001b[0my\u001b[0m \u001b[0;32mis\u001b[0m \u001b[0;32mnot\u001b[0m \u001b[0;32mNone\u001b[0m\u001b[0;34m:\u001b[0m\u001b[0;34m\u001b[0m\u001b[0;34m\u001b[0m\u001b[0m\n",
      "\u001b[0;32m~/anaconda3/lib/python3.7/site-packages/keras/engine/training_utils.py\u001b[0m in \u001b[0;36mstandardize_input_data\u001b[0;34m(data, names, shapes, check_batch_axis, exception_prefix)\u001b[0m\n\u001b[1;32m    136\u001b[0m                             \u001b[0;34m': expected '\u001b[0m \u001b[0;34m+\u001b[0m \u001b[0mnames\u001b[0m\u001b[0;34m[\u001b[0m\u001b[0mi\u001b[0m\u001b[0;34m]\u001b[0m \u001b[0;34m+\u001b[0m \u001b[0;34m' to have shape '\u001b[0m \u001b[0;34m+\u001b[0m\u001b[0;34m\u001b[0m\u001b[0;34m\u001b[0m\u001b[0m\n\u001b[1;32m    137\u001b[0m                             \u001b[0mstr\u001b[0m\u001b[0;34m(\u001b[0m\u001b[0mshape\u001b[0m\u001b[0;34m)\u001b[0m \u001b[0;34m+\u001b[0m \u001b[0;34m' but got array with shape '\u001b[0m \u001b[0;34m+\u001b[0m\u001b[0;34m\u001b[0m\u001b[0;34m\u001b[0m\u001b[0m\n\u001b[0;32m--> 138\u001b[0;31m                             str(data_shape))\n\u001b[0m\u001b[1;32m    139\u001b[0m     \u001b[0;32mreturn\u001b[0m \u001b[0mdata\u001b[0m\u001b[0;34m\u001b[0m\u001b[0;34m\u001b[0m\u001b[0m\n\u001b[1;32m    140\u001b[0m \u001b[0;34m\u001b[0m\u001b[0m\n",
      "\u001b[0;31mValueError\u001b[0m: Error when checking input: expected input_1 to have shape (576,) but got array with shape (27,)"
     ]
    }
   ],
   "source": [
    "\n",
    "from keras.models import Sequential, Model\n",
    "# Loaded model\n",
    "from keras.models import model_from_json\n",
    "# load json and create model\n",
    "json_file = open('hippo_model_18thJune_OwnData.json', 'r')\n",
    "loaded_model_json = json_file.read()\n",
    "json_file.close()\n",
    "loaded_model = model_from_json(loaded_model_json)\n",
    "# load weights into new model\n",
    "loaded_model.load_weights(\"hippo_model_18thJune_OwnData.h5\")\n",
    "print(\"Loaded model from disk\")\n",
    "\n",
    "# Preping results\n",
    "\n",
    "# create model that gives penultimate layer (предпоследно)\n",
    "input1 = loaded_model.layers[0].input\n",
    "output = loaded_model.layers[-2].output\n",
    "\n",
    "model_penultimate = Model(input1, output)\n",
    "\n",
    "\n",
    "# inference of penultimate layer\n",
    "H_penul = model_penultimate.predict(X)\n",
    "print(\"Sample shape: {}\".format(H_penul.shape))\n",
    "\n",
    "# standard model prediction\n",
    "H_standard = loaded_model.predict(X)\n",
    "print(\"Sample shape for standard: {}\".format(H_standard.shape))\n",
    "\n"
   ]
  },
  {
   "cell_type": "code",
   "execution_count": 13,
   "metadata": {
    "ExecuteTime": {
     "end_time": "2019-07-04T08:25:46.177744Z",
     "start_time": "2019-07-04T08:25:44.692459Z"
    }
   },
   "outputs": [
    {
     "name": "stdout",
     "output_type": "stream",
     "text": [
      "Sample shape: (3537, 256)\n",
      "Sample shape for standard: (3537, 300)\n"
     ]
    }
   ],
   "source": [
    "# Preping results\n",
    "\n",
    "# create model that gives penultimate layer (предпоследно)\n",
    "input1 = model.layers[0].input\n",
    "output = model.layers[-2].output\n",
    "\n",
    "model_penultimate = Model(input1, output)\n",
    "\n",
    "\n",
    "# inference of penultimate layer\n",
    "H_penul = model_penultimate.predict(X)\n",
    "print(\"Sample shape: {}\".format(H_penul.shape))\n",
    "\n",
    "# standard model prediction\n",
    "H_standard = model.predict(X)\n",
    "print(\"Sample shape for standard: {}\".format(H_standard.shape))"
   ]
  },
  {
   "cell_type": "code",
   "execution_count": 11,
   "metadata": {
    "ExecuteTime": {
     "end_time": "2019-07-02T15:47:59.264246Z",
     "start_time": "2019-07-02T15:47:56.064589Z"
    }
   },
   "outputs": [],
   "source": [
    "# Testing with max 50 clusters\n",
    "from sklearn.preprocessing import normalize\n",
    "#############################\n",
    "# Applying L2 Normalization #\n",
    "#############################\n",
    "\n",
    "# Penul Layer\n",
    "V_penul = normalize(H_penul, norm='l2') # norm\n",
    "# With the 10 000 examples, No. Clusters: 49, Silhouette Score: 0.5350000262260437\n",
    "# Standard Predict\n",
    "# With the 10 000 examples, No. Clusters: 50, Silhouette Score: 0.5669999718666077\n",
    "V_standard = normalize(H_standard, norm='l2') # norm\n",
    "\n",
    "#############################\n",
    "# gower function equivalent #\n",
    "#############################\n",
    "from scipy.spatial.distance import pdist\n",
    "\n",
    "# Penul Layer\n",
    "# With the 10 000 examples,\n",
    "Pdist_penul = pdist(H_penul, metric='euclidean')\n",
    "# Standard Predict\n",
    "# With the 10 000 examples,\n",
    "Pdist_standard = pdist(H_standard, metric='euclidean')\n",
    "\n",
    "#############################\n",
    "###### Applying PCA #########\n",
    "#############################\n",
    "from sklearn.decomposition import PCA\n",
    "# Penul Layer\n",
    "# Make an instance of the Model\n",
    "# With the 10 000 examples, No. Clusters: 50, Silhouette Score: 0.5690000057220459\n",
    "pca = PCA(.95)\n",
    "pca.fit(H_penul)\n",
    "PCA_penul = pca.transform(H_penul)\n",
    "# Standard Predict\n",
    "# Make an instance of the Model\n",
    "# With the 10 000 examples No. Clusters: 7, Silhouette Score: 0.6079999804496765\n",
    "pca = PCA(.95)\n",
    "pca.fit(H_standard)\n",
    "PCA_standard = pca.transform(H_standard)"
   ]
  },
  {
   "cell_type": "code",
   "execution_count": null,
   "metadata": {
    "ExecuteTime": {
     "end_time": "2019-06-22T13:26:01.497284Z",
     "start_time": "2019-06-22T13:25:51.380834Z"
    }
   },
   "outputs": [],
   "source": [
    "# Amount of Clusters based on Penul data\n",
    "# Wherever it makes the curve switch - around 6-7 for this data\n",
    "\n",
    "import numpy as np\n",
    "from scipy import cluster\n",
    "from matplotlib import pyplot\n",
    "\n",
    "#V = normalize(H, norm='l2') # https://machinelearningmastery.com/vector-norms-machine-learning/\n",
    "#plot variance for each value for 'k' between 1,10\n",
    "initial = [cluster.vq.kmeans(H_standard,i) for i in range(1,40)]\n",
    "pyplot.plot([var for (cent,var) in initial])\n",
    "pyplot.show()"
   ]
  },
  {
   "cell_type": "code",
   "execution_count": null,
   "metadata": {
    "ExecuteTime": {
     "end_time": "2019-06-22T13:25:23.138534Z",
     "start_time": "2019-06-22T13:25:13.193101Z"
    },
    "scrolled": false
   },
   "outputs": [],
   "source": [
    "# Amount of Clusters based on standard prediction\n",
    "# Wherever it makes the curve switch - around 6-7 for this data\n",
    "\n",
    "import numpy as np\n",
    "from scipy import cluster\n",
    "from matplotlib import pyplot\n",
    "\n",
    "#V = normalize(H, norm='l2') # https://machinelearningmastery.com/vector-norms-machine-learning/\n",
    "#plot variance for each value for 'k' between 1,10\n",
    "initial = [cluster.vq.kmeans(V_standard,i) for i in range(1,40)]\n",
    "pyplot.plot([var for (cent,var) in initial])\n",
    "pyplot.show()"
   ]
  },
  {
   "cell_type": "code",
   "execution_count": null,
   "metadata": {
    "ExecuteTime": {
     "end_time": "2019-06-18T15:58:03.451693Z",
     "start_time": "2019-06-18T15:58:00.818272Z"
    }
   },
   "outputs": [],
   "source": [
    "# Penul Layer\n",
    "\n",
    "from sklearn.preprocessing import normalize\n",
    "from sklearn.cluster import KMeans\n",
    "\n",
    "#№true_labels = y\n",
    "#n_clusters = len(np.unique(y))\n",
    "n_clusters = 19 # for own data\n",
    "print(\"Number of classes: %d\" % n_clusters)\n",
    "km = KMeans(n_clusters=n_clusters, n_jobs=10)\n",
    "result_penul = dict()\n",
    "#V_penul = normalize(H_penul, norm='l2') # https://machinelearningmastery.com/vector-norms-machine-learning/\n",
    "km.fit(V_penul)\n",
    "pred_penul = km.labels_\n",
    "pred1_penul = km.cluster_centers_\n",
    "print(pred_penul)\n",
    "#a = cluster_quality(true_labels, pred_penul) #needs labels\n",
    "#np.save(\"pred.npy\", pred)\n",
    "#print(a)"
   ]
  },
  {
   "cell_type": "code",
   "execution_count": null,
   "metadata": {
    "ExecuteTime": {
     "end_time": "2019-06-18T15:58:50.958451Z",
     "start_time": "2019-06-18T15:58:50.611101Z"
    }
   },
   "outputs": [],
   "source": [
    "# Standard Layer\n",
    "\n",
    "from sklearn.preprocessing import normalize\n",
    "from sklearn.cluster import KMeans\n",
    "\n",
    "#№true_labels = y\n",
    "#n_clusters = len(np.unique(y))\n",
    "n_clusters = 9 # for own data\n",
    "print(\"Number of classes: %d\" % n_clusters)\n",
    "km = KMeans(n_clusters=n_clusters, n_jobs=10)\n",
    "result_penul = dict()\n",
    "#V_penul = normalize(H_penul, norm='l2') # https://machinelearningmastery.com/vector-norms-machine-learning/\n",
    "km.fit(V_standard)\n",
    "pred_standard = km.labels_\n",
    "pred1_standard = km.cluster_centers_\n",
    "print(pred_standard)\n",
    "#a = cluster_quality(true_labels, pred_penul) #needs labels\n",
    "#np.save(\"pred.npy\", pred)\n",
    "#print(a)"
   ]
  },
  {
   "cell_type": "markdown",
   "metadata": {},
   "source": [
    "# DBSCAN - Penul and Standard Layer"
   ]
  },
  {
   "cell_type": "code",
   "execution_count": null,
   "metadata": {},
   "outputs": [],
   "source": [
    "#################################################\n",
    "################Visualization####################\n",
    "#################################################"
   ]
  },
  {
   "cell_type": "code",
   "execution_count": 12,
   "metadata": {
    "ExecuteTime": {
     "end_time": "2019-07-02T15:48:00.682868Z",
     "start_time": "2019-07-02T15:47:59.373121Z"
    }
   },
   "outputs": [
    {
     "name": "stdout",
     "output_type": "stream",
     "text": [
      "Estimated number of clusters: 101\n",
      "Estimated number of noise points: 45\n",
      "Silhouette Coefficient: 0.977\n"
     ]
    },
    {
     "data": {
      "image/png": "[encoded data removed]",
      "text/plain": [
       "<Figure size 432x288 with 1 Axes>"
      ]
     },
     "metadata": {
      "needs_background": "light"
     },
     "output_type": "display_data"
    }
   ],
   "source": [
    "\n",
    "# DBSCAN for penul layer based on scrapped keywords\n",
    "\n",
    "import numpy as np\n",
    "from sklearn.cluster import DBSCAN\n",
    "from sklearn import metrics\n",
    "from sklearn.datasets.samples_generator import make_blobs\n",
    "from sklearn.preprocessing import StandardScaler\n",
    "\n",
    "\n",
    "# #############################################################################\n",
    "\n",
    "\n",
    "X_DBSCAN = StandardScaler().fit_transform(H_penul)\n",
    "\n",
    "# #############################################################################\n",
    "# Compute DBSCAN\n",
    "db = DBSCAN(eps=0.3, min_samples= 10).fit(H_penul)\n",
    "\n",
    "core_samples_mask = np.zeros_like(db.labels_, dtype=bool)\n",
    "core_samples_mask[db.core_sample_indices_] = True\n",
    "labels = db.labels_\n",
    "\n",
    "# Number of clusters in labels, ignoring noise if present.\n",
    "n_clusters_ = len(set(labels)) - (1 if -1 in labels else 0)\n",
    "n_noise_ = list(labels).count(-1)\n",
    "\n",
    "print('Estimated number of clusters: %d' % n_clusters_)\n",
    "print('Estimated number of noise points: %d' % n_noise_)\n",
    "'''\n",
    "print(\"Homogeneity: %0.3f\" % metrics.homogeneity_score(pred_penul, labels))\n",
    "print(\"Completeness: %0.3f\" % metrics.completeness_score(pred_penul, labels))\n",
    "print(\"V-measure: %0.3f\" % metrics.v_measure_score(pred_penul, labels))\n",
    "print(\"Adjusted Rand Index: %0.3f\"\n",
    "      % metrics.adjusted_rand_score(pred_penul, labels))\n",
    "print(\"Adjusted Mutual Information: %0.3f\"\n",
    "      % metrics.adjusted_mutual_info_score(pred_penul, labels,\n",
    "                                           average_method='arithmetic'))\n",
    "                                           '''\n",
    "print(\"Silhouette Coefficient: %0.3f\"\n",
    "      % metrics.silhouette_score(X_DBSCAN, labels))\n",
    "\n",
    "# #############################################################################\n",
    "# Plot result - DBSCAN\n",
    "import matplotlib.pyplot as plt\n",
    "\n",
    "# Black removed and is used for noise instead.\n",
    "unique_labels = set(labels)\n",
    "colors = [plt.cm.Spectral(each)\n",
    "          for each in np.linspace(0, 1, len(unique_labels))]\n",
    "for k, col in zip(unique_labels, colors):\n",
    "    if k == -1:\n",
    "        # Black used for noise.\n",
    "        col = [0, 0, 0, 1]\n",
    "\n",
    "    class_member_mask = (labels == k)\n",
    "\n",
    "    xy = X_DBSCAN[class_member_mask & core_samples_mask]\n",
    "    plt.plot(xy[:, 0], xy[:, 1], 'o',\n",
    "             markeredgecolor='k', markersize=14)\n",
    "\n",
    "    #xy = X_DBSCAN[class_member_mask & ~core_samples_mask]\n",
    "    #plt.plot(xy[:, 0], xy[:, 1], 'o',\n",
    "     #        markeredgecolor='k', markersize=6)\n",
    "\n",
    "plt.title('Estimated number of clusters: %d' % n_clusters_)\n",
    "plt.show()"
   ]
  },
  {
   "cell_type": "code",
   "execution_count": 13,
   "metadata": {
    "ExecuteTime": {
     "end_time": "2019-07-02T15:48:01.591856Z",
     "start_time": "2019-07-02T15:48:00.790500Z"
    }
   },
   "outputs": [
    {
     "name": "stdout",
     "output_type": "stream",
     "text": [
      "Estimated number of clusters: 101\n",
      "Estimated number of noise points: 0\n",
      "Silhouette Coefficient: 1.000\n"
     ]
    },
    {
     "data": {
      "image/png": "[encoded data removed]",
      "text/plain": [
       "<Figure size 432x288 with 1 Axes>"
      ]
     },
     "metadata": {
      "needs_background": "light"
     },
     "output_type": "display_data"
    }
   ],
   "source": [
    "\n",
    "# DBSCAN for standard prediction based on scrapped keywords\n",
    "\n",
    "import numpy as np\n",
    "\n",
    "from sklearn.cluster import DBSCAN\n",
    "from sklearn import metrics\n",
    "from sklearn.datasets.samples_generator import make_blobs\n",
    "from sklearn.preprocessing import StandardScaler\n",
    "\n",
    "\n",
    "# #############################################################################\n",
    "\n",
    "\n",
    "X_DBSCAN = StandardScaler().fit_transform(H_standard)\n",
    "\n",
    "# #############################################################################\n",
    "# Compute DBSCAN\n",
    "#db = DBSCAN(eps=0.5, min_samples= 4).fit(H_standard)\n",
    "#db = DBSCAN(algorithm='auto', eps=3, leaf_size=30, metric='euclidean',metric_params=None, min_samples=2, n_jobs=-1).fit(H_standard) #sklearn defaut example 1\n",
    "#db = DBSCAN(algorithm='auto', eps=0.5, leaf_size=30, metric='euclidean',metric_params=None, min_samples=5, n_jobs=-1).fit(H_standard) #sklearn defaut example 2\n",
    "db = DBSCAN(algorithm='auto', eps=0.5, leaf_size=30, metric='euclidean',metric_params=None, min_samples=10, n_jobs=-1).fit(H_standard) #sklearn defaut example 2\n",
    "#3rd option is not that good\n",
    "core_samples_mask = np.zeros_like(db.labels_, dtype=bool)\n",
    "core_samples_mask[db.core_sample_indices_] = True\n",
    "labels = db.labels_\n",
    "\n",
    "# Number of clusters in labels, ignoring noise if present.\n",
    "n_clusters_ = len(set(labels)) - (1 if -1 in labels else 0)\n",
    "n_noise_ = list(labels).count(-1)\n",
    "\n",
    "print('Estimated number of clusters: %d' % n_clusters_)\n",
    "print('Estimated number of noise points: %d' % n_noise_)\n",
    "'''\n",
    "print(\"Homogeneity: %0.3f\" % metrics.homogeneity_score(pred_standard, labels))\n",
    "print(\"Completeness: %0.3f\" % metrics.completeness_score(pred_standard, labels))\n",
    "print(\"V-measure: %0.3f\" % metrics.v_measure_score(pred_standard, labels))\n",
    "print(\"Adjusted Rand Index: %0.3f\"\n",
    "      % metrics.adjusted_rand_score(pred_standard, labels))\n",
    "print(\"Adjusted Mutual Information: %0.3f\"\n",
    "      % metrics.adjusted_mutual_info_score(pred_standard, labels,\n",
    "                                           average_method='arithmetic'))\n",
    "                                            '''\n",
    "print(\"Silhouette Coefficient: %0.3f\"\n",
    "      % metrics.silhouette_score(X_DBSCAN, labels))\n",
    "\n",
    "# #############################################################################\n",
    "# Plot result\n",
    "import matplotlib.pyplot as plt\n",
    "\n",
    "# Black removed and is used for noise instead.\n",
    "unique_labels = set(labels)\n",
    "colors = [plt.cm.Spectral(each)\n",
    "          for each in np.linspace(0, 1, len(unique_labels))]\n",
    "for k, col in zip(unique_labels, colors):\n",
    "    if k == -1:\n",
    "        # Black used for noise.\n",
    "        col = [0, 0, 0, 1]\n",
    "\n",
    "    class_member_mask = (labels == k)\n",
    "\n",
    "    xy = X_DBSCAN[class_member_mask & core_samples_mask]\n",
    "    plt.plot(xy[:, 0], xy[:, 1], 'o',\n",
    "             markeredgecolor='k', markersize=14)\n",
    "\n",
    "    #xy = X_DBSCAN[class_member_mask & ~core_samples_mask]\n",
    "    #plt.plot(xy[:, 0], xy[:, 1], 'o',\n",
    "     #        markeredgecolor='k', markersize=6)\n",
    "\n",
    "plt.title('Estimated number of clusters: %d' % n_clusters_)\n",
    "plt.show()"
   ]
  },
  {
   "cell_type": "markdown",
   "metadata": {
    "heading_collapsed": true
   },
   "source": [
    "# Silhoette - Penul and Standard With Noise"
   ]
  },
  {
   "cell_type": "code",
   "execution_count": null,
   "metadata": {
    "hidden": true
   },
   "outputs": [],
   "source": [
    "#################################################\n",
    "################Evaluation####################\n",
    "#################################################"
   ]
  },
  {
   "cell_type": "code",
   "execution_count": null,
   "metadata": {
    "ExecuteTime": {
     "end_time": "2019-06-18T20:18:58.807731Z",
     "start_time": "2019-06-18T20:06:36.630606Z"
    },
    "hidden": true
   },
   "outputs": [],
   "source": [
    "\n",
    "# Running the results from standard prediction based on Scrapped Keywords\n",
    "\n",
    "from sklearn.datasets import make_blobs\n",
    "from sklearn.cluster import KMeans\n",
    "from sklearn.metrics import silhouette_samples, silhouette_score\n",
    "\n",
    "import matplotlib.pyplot as plt\n",
    "import matplotlib.cm as cm\n",
    "import numpy as np\n",
    "\n",
    "#print(__doc__)\n",
    "from matplotlib.backends.backend_pdf import PdfPages\n",
    "# Generating the sample data from make_blobs\n",
    "# This particular setting has one distinct cluster and 3 clusters placed close\n",
    "# together.\n",
    "\n",
    "pp = PdfPages('ScrappedKeywords_StandardPrediction100_WorkingOnEval.pdf')\n",
    "\n",
    "\n",
    "range_n_clusters = []\n",
    "for i in range(2,101): # make a list from 1 till 31\n",
    "    range_n_clusters.append(i)\n",
    "\n",
    "for n_clusters in range_n_clusters:\n",
    "    # Create a subplot with 1 row and 2 columns\n",
    "    fig, (ax1, ax2) = plt.subplots(1, 2)\n",
    "    fig.set_size_inches(18, 7)\n",
    "\n",
    "    # The 1st subplot is the silhouette plot\n",
    "    # The silhouette coefficient can range from -1, 1 but in this example all\n",
    "    # lie within [-0.1, 1]\n",
    "    ax1.set_xlim([-1, 1])\n",
    "    # The (n_clusters+1)*10 is for inserting blank space between silhouette\n",
    "    # plots of individual clusters, to demarcate them clearly.\n",
    "    ax1.set_ylim([0, len(V_standard) + (n_clusters + 1) * 10])\n",
    "\n",
    "    # Initialize the clusterer with n_clusters value and a random generator\n",
    "    # seed of 10 for reproducibility.\n",
    "    clusterer = KMeans(n_clusters=n_clusters, random_state=10)\n",
    "    cluster_labels = clusterer.fit_predict(V_standard)\n",
    "\n",
    "    # The silhouette_score gives the average value for all the samples.\n",
    "    # This gives a perspective into the density and separation of the formed\n",
    "    # clusters\n",
    "    silhouette_avg = silhouette_score(V_standard, cluster_labels)\n",
    "    print(\"For n_clusters =\", n_clusters,\n",
    "          \"The average silhouette_score is :\", silhouette_avg)\n",
    "\n",
    "    # Compute the silhouette scores for each sample\n",
    "    sample_silhouette_values = silhouette_samples(V_standard, cluster_labels)\n",
    "\n",
    "    y_lower = 10\n",
    "    for i in range(n_clusters):\n",
    "        # Aggregate the silhouette scores for samples belonging to\n",
    "        # cluster i, and sort them\n",
    "        ith_cluster_silhouette_values = \\\n",
    "            sample_silhouette_values[cluster_labels == i]\n",
    "\n",
    "        ith_cluster_silhouette_values.sort()\n",
    "\n",
    "        size_cluster_i = ith_cluster_silhouette_values.shape[0]\n",
    "        y_upper = y_lower + size_cluster_i\n",
    "\n",
    "        color = cm.nipy_spectral(float(i) / n_clusters)\n",
    "        ax1.fill_betweenx(np.arange(y_lower, y_upper),\n",
    "                          0, ith_cluster_silhouette_values,\n",
    "                          facecolor=color, edgecolor=color, alpha=0.7)\n",
    "\n",
    "        # Label the silhouette plots with their cluster numbers at the middle\n",
    "        ax1.text(-0.05, y_lower + 0.5 * size_cluster_i, str(i))\n",
    "\n",
    "        # Compute the new y_lower for next plot\n",
    "        y_lower = y_upper + 10  # 10 for the 0 samples\n",
    "\n",
    "    ax1.set_title(\"The silhouette plot for the various clusters.\")\n",
    "    ax1.set_xlabel(\"The silhouette coefficient values\")\n",
    "    ax1.set_ylabel(\"Cluster label\")\n",
    "\n",
    "    # The vertical line for average silhouette score of all the values\n",
    "    ax1.axvline(x=silhouette_avg, color=\"red\", linestyle=\"--\")\n",
    "\n",
    "    ax1.set_yticks([])  # Clear the yaxis labels / ticks\n",
    "    ax1.set_xticks([-0.1, 0, 0.2, 0.4, 0.6, 0.8, 1])\n",
    "\n",
    "    # 2nd Plot showing the actual clusters formed\n",
    "    colors = cm.nipy_spectral(cluster_labels.astype(float) / n_clusters)\n",
    "    ax2.scatter(V_standard[:, 0], V_standard[:, 1], marker='.', s=30, lw=0, alpha=0.7,\n",
    "                c=colors, edgecolor='k')\n",
    "\n",
    "    # Labeling the clusters\n",
    "    centers = clusterer.cluster_centers_\n",
    "    # Draw white circles at cluster centers\n",
    "    ax2.scatter(centers[:, 0], centers[:, 1], marker='o',\n",
    "                c=\"white\", alpha=1, s=200, edgecolor='k')\n",
    "\n",
    "    for i, c in enumerate(centers):\n",
    "        ax2.scatter(c[0], c[1], marker='$%d$' % i, alpha=1,\n",
    "                    s=50, edgecolor='k')\n",
    "\n",
    "    ax2.set_title(\"The visualization of the clustered data.\")\n",
    "    ax2.set_xlabel(\"Feature space for the 1st feature\")\n",
    "    ax2.set_ylabel(\"Feature space for the 2nd feature\")\n",
    "\n",
    "    plt.suptitle((\"Silhouette analysis for KMeans clustering on sample data \"\n",
    "                  \"with n_clusters = {} with Average Silhouette of: {}\".format(n_clusters,silhouette_avg)),\n",
    "                 fontsize=14, fontweight='bold')\n",
    "    pp.savefig(fig)\n",
    "\n",
    "plt.show()\n",
    "pp.close()"
   ]
  },
  {
   "cell_type": "code",
   "execution_count": null,
   "metadata": {
    "ExecuteTime": {
     "end_time": "2019-06-18T20:32:06.232170Z",
     "start_time": "2019-06-18T20:20:14.311800Z"
    },
    "hidden": true
   },
   "outputs": [],
   "source": [
    "\n",
    "# Running the results from penul layer from Scrappe Keywords\n",
    "\n",
    "from sklearn.datasets import make_blobs\n",
    "from sklearn.cluster import KMeans\n",
    "from sklearn.metrics import silhouette_samples, silhouette_score\n",
    "\n",
    "import matplotlib.pyplot as plt\n",
    "import matplotlib.cm as cm\n",
    "import numpy as np\n",
    "\n",
    "#print(__doc__)\n",
    "from matplotlib.backends.backend_pdf import PdfPages\n",
    "# Generating the sample data from make_blobs\n",
    "# This particular setting has one distinct cluster and 3 clusters placed close\n",
    "# together.\n",
    "\n",
    "pp = PdfPages('ScrappedKeywords_PenulLayer100_WorkingOnEval.pdf')\n",
    "\n",
    "\n",
    "range_n_clusters = []\n",
    "for i in range(2,101): # make a list from 1 till 31\n",
    "    range_n_clusters.append(i)\n",
    "\n",
    "for n_clusters in range_n_clusters:\n",
    "    # Create a subplot with 1 row and 2 columns\n",
    "    fig, (ax1, ax2) = plt.subplots(1, 2)\n",
    "    fig.set_size_inches(18, 7)\n",
    "\n",
    "    # The 1st subplot is the silhouette plot\n",
    "    # The silhouette coefficient can range from -1, 1 but in this example all\n",
    "    # lie within [-0.1, 1]\n",
    "    ax1.set_xlim([-1, 1])\n",
    "    # The (n_clusters+1)*10 is for inserting blank space between silhouette\n",
    "    # plots of individual clusters, to demarcate them clearly.\n",
    "    ax1.set_ylim([0, len(V_penul) + (n_clusters + 1) * 10])\n",
    "\n",
    "    # Initialize the clusterer with n_clusters value and a random generator\n",
    "    # seed of 10 for reproducibility.\n",
    "    clusterer = KMeans(n_clusters=n_clusters, random_state=10)\n",
    "    cluster_labels = clusterer.fit_predict(V_penul)\n",
    "\n",
    "    # The silhouette_score gives the average value for all the samples.\n",
    "    # This gives a perspective into the density and separation of the formed\n",
    "    # clusters\n",
    "    silhouette_avg = silhouette_score(V_penul, cluster_labels)\n",
    "    print(\"For n_clusters =\", n_clusters,\n",
    "          \"The average silhouette_score is :\", silhouette_avg)\n",
    "\n",
    "    # Compute the silhouette scores for each sample\n",
    "    sample_silhouette_values = silhouette_samples(V_penul, cluster_labels)\n",
    "\n",
    "    y_lower = 10\n",
    "    for i in range(n_clusters):\n",
    "        # Aggregate the silhouette scores for samples belonging to\n",
    "        # cluster i, and sort them\n",
    "        ith_cluster_silhouette_values = \\\n",
    "            sample_silhouette_values[cluster_labels == i]\n",
    "\n",
    "        ith_cluster_silhouette_values.sort()\n",
    "\n",
    "        size_cluster_i = ith_cluster_silhouette_values.shape[0]\n",
    "        y_upper = y_lower + size_cluster_i\n",
    "\n",
    "        color = cm.nipy_spectral(float(i) / n_clusters)\n",
    "        ax1.fill_betweenx(np.arange(y_lower, y_upper),\n",
    "                          0, ith_cluster_silhouette_values,\n",
    "                          facecolor=color, edgecolor=color, alpha=0.7)\n",
    "\n",
    "        # Label the silhouette plots with their cluster numbers at the middle\n",
    "        ax1.text(-0.05, y_lower + 0.5 * size_cluster_i, str(i))\n",
    "\n",
    "        # Compute the new y_lower for next plot\n",
    "        y_lower = y_upper + 10  # 10 for the 0 samples\n",
    "\n",
    "    ax1.set_title(\"The silhouette plot for the various clusters.\")\n",
    "    ax1.set_xlabel(\"The silhouette coefficient values\")\n",
    "    ax1.set_ylabel(\"Cluster label\")\n",
    "\n",
    "    # The vertical line for average silhouette score of all the values\n",
    "    ax1.axvline(x=silhouette_avg, color=\"red\", linestyle=\"--\")\n",
    "\n",
    "    ax1.set_yticks([])  # Clear the yaxis labels / ticks\n",
    "    ax1.set_xticks([-0.1, 0, 0.2, 0.4, 0.6, 0.8, 1])\n",
    "\n",
    "    # 2nd Plot showing the actual clusters formed\n",
    "    colors = cm.nipy_spectral(cluster_labels.astype(float) / n_clusters)\n",
    "    ax2.scatter(V_penul[:, 0], V_penul[:, 1], marker='.', s=30, lw=0, alpha=0.7,\n",
    "                c=colors, edgecolor='k')\n",
    "\n",
    "    # Labeling the clusters\n",
    "    centers = clusterer.cluster_centers_\n",
    "    # Draw white circles at cluster centers\n",
    "    ax2.scatter(centers[:, 0], centers[:, 1], marker='o',\n",
    "                c=\"white\", alpha=1, s=200, edgecolor='k')\n",
    "\n",
    "    for i, c in enumerate(centers):\n",
    "        ax2.scatter(c[0], c[1], marker='$%d$' % i, alpha=1,\n",
    "                    s=50, edgecolor='k')\n",
    "\n",
    "    ax2.set_title(\"The visualization of the clustered data.\")\n",
    "    ax2.set_xlabel(\"Feature space for the 1st feature\")\n",
    "    ax2.set_ylabel(\"Feature space for the 2nd feature\")\n",
    "\n",
    "    plt.suptitle((\"Silhouette analysis for KMeans clustering on sample data \"\n",
    "                  \"with n_clusters = {} with Average Silhouette of: {}\".format(n_clusters,silhouette_avg)),\n",
    "                 fontsize=14, fontweight='bold')\n",
    "    pp.savefig(fig)\n",
    "\n",
    "plt.show()\n",
    "pp.close()"
   ]
  },
  {
   "cell_type": "markdown",
   "metadata": {},
   "source": [
    "# GLS - Standard and Penul Layers - with noise (Also just sil score no plots)"
   ]
  },
  {
   "cell_type": "code",
   "execution_count": null,
   "metadata": {},
   "outputs": [],
   "source": [
    "# The GLS tells the best amount of clusters"
   ]
  },
  {
   "cell_type": "code",
   "execution_count": null,
   "metadata": {
    "ExecuteTime": {
     "end_time": "2019-06-17T14:39:57.789750Z",
     "start_time": "2019-06-17T14:32:08.761858Z"
    }
   },
   "outputs": [],
   "source": [
    "# Standard Layer\n",
    "from gls import gaussian_likelihood_score, find_best_cluster\n",
    "from sklearn.cluster import AgglomerativeClustering\n",
    "\n",
    "# get score for each possible k\n",
    "gls_scores = []\n",
    "#gls_scores_dict = {}\n",
    "for i in range(2, 50):\n",
    "    clusterer = AgglomerativeClustering(n_clusters=i).fit(V_standard)\n",
    "    labels = clusterer.labels_\n",
    "    # append score for the hypothesis `i`\n",
    "    gls_scores.append(gaussian_likelihood_score(V_standard, labels))\n",
    "    #gls_scores_dict[i] = gaussian_likelihood_score(V_standard, labels)\n",
    "    \n",
    "# find best cluster. `+ 2` because we start with i == 2\n",
    "guess = find_best_cluster(gls_scores) + 2\n",
    "print(f\"GLS guess: {guess}\")\n",
    "#print(\"GLS score: {}\".format(gls_scores_dict[guess]))\n"
   ]
  },
  {
   "cell_type": "code",
   "execution_count": null,
   "metadata": {
    "ExecuteTime": {
     "end_time": "2019-06-28T05:05:49.505972Z",
     "start_time": "2019-06-28T05:05:45.907358Z"
    }
   },
   "outputs": [],
   "source": [
    "# Penul Layer\n",
    "from gls import gaussian_likelihood_score, find_best_cluster\n",
    "from sklearn.cluster import AgglomerativeClustering\n",
    "\n",
    "# get score for each possible k\n",
    "gls_scores = []\n",
    "for i in range(2, 50):\n",
    "    clusterer = AgglomerativeClustering(n_clusters=i).fit(V_penul)\n",
    "    labels = clusterer.labels_\n",
    "    # append score for the hypothesis `i`\n",
    "    gls_scores.append(gaussian_likelihood_score(V_penul, labels))\n",
    "\n",
    "# find best cluster. `+ 2` because we start with i == 2\n",
    "guess = find_best_cluster(gls_scores) + 2\n",
    "print(f\"GLS guess: {guess}\")"
   ]
  },
  {
   "cell_type": "code",
   "execution_count": null,
   "metadata": {
    "ExecuteTime": {
     "end_time": "2019-07-02T15:44:39.154639Z",
     "start_time": "2019-07-02T15:44:39.028743Z"
    }
   },
   "outputs": [],
   "source": [
    "import seaborn as sns\n",
    "from sklearn.cluster import KMeans\n",
    "from sklearn.metrics import silhouette_samples, silhouette_score\n",
    "def optimal_kmeans(dataset, start=2, end=121):\n",
    "    '''\n",
    "    Calculate the optimal number of kmeans\n",
    "    \n",
    "    INPUT:\n",
    "        dataset : dataframe. Dataset for k-means to fit\n",
    "        start : int. Starting range of kmeans to test\n",
    "        end : int. Ending range of kmeans to test\n",
    "    OUTPUT:\n",
    "        Values and line plot of Silhouette Score.\n",
    "    '''\n",
    "    \n",
    "    # Create empty lists to store values for plotting graphs\n",
    "    n_clu = []\n",
    "    km_ss = []\n",
    "\n",
    "    # Create a for loop to find optimal n_clusters\n",
    "    for n_clusters in range(start, end):\n",
    "\n",
    "        # Create cluster labels\n",
    "        kmeans = KMeans(n_clusters=n_clusters)\n",
    "        labels = kmeans.fit_predict(dataset)\n",
    "\n",
    "        # Calcualte model performance\n",
    "        silhouette_avg = round(silhouette_score(dataset, labels, random_state=1), 3)\n",
    "\n",
    "        # Append score to lists\n",
    "        km_ss.append(silhouette_avg)\n",
    "        n_clu.append(n_clusters)\n",
    "\n",
    "        print(\"No. Clusters: {}, Silhouette Score: {}, Change from Previous Cluster: {}\".format(\n",
    "            n_clusters, \n",
    "            silhouette_avg, \n",
    "            (km_ss[n_clusters - start] - km_ss[n_clusters - start - 1]).round(3)))\n",
    "\n",
    "        # Plot graph at the end of loop\n",
    "        if n_clusters == end - 1:\n",
    "            plt.figure(figsize=(150,70)) # 22 20 120 50 220 90\n",
    "            #plt.tick_params(labelsize=24) # was 12\n",
    "            #plt.title('Silhouette Score for different cluster values', fontsize = 40)\n",
    "            #sns.pointplot(x=n_clu, y=km_ss)\n",
    "            b = sns.pointplot(x=n_clu, y=km_ss)\n",
    "            ''''\n",
    "            used for thesis\n",
    "            # skipping even labels\n",
    "            labels = b.get_xticklabels() # get x labels\n",
    "            for i,l in enumerate(labels):\n",
    "                if(i%2 == 0): labels[i] = '' # skip even labels\n",
    "            b.set_xticklabels(labels,rotation=40) # set new labels\n",
    "            # till here\n",
    "            \n",
    "            # Plot charac\n",
    "            b.axes.set_title(\"Silhouette Score for different cluster values\",fontsize=120)\n",
    "            b.set_xlabel(\"Number of Clusters\",fontsize=100)\n",
    "            b.set_ylabel(\"Silhouette Score\",fontsize=100)\n",
    "            b.tick_params(labelsize=70)\n",
    "            \n",
    "            #plt.savefig('silhouette_score.png', format='png', dpi=400)\n",
    "            #plt.tight_layout()\n",
    "            #plt.savefig('silhouette_score.png', format='png')\n",
    "            plt.show()\n",
    "            '''\n",
    "            #new\n",
    "            # skipping even labels\n",
    "\n",
    "            labels = b.get_xticklabels() # get x labels\n",
    "            for i,l in enumerate(labels):\n",
    "                if(i%10 != 0): labels[i] = '' # skip even labels\n",
    "            b.set_xticklabels(labels,rotation=40) # set new labels\n",
    "            # till here\n",
    "            \n",
    "            # Plot charac\n",
    "            b.axes.set_title(\"Silhouette Score for different cluster values, starting from 2 until 120\",fontsize=120)\n",
    "            b.set_xlabel(\"Number of Clusters\",fontsize=100)\n",
    "            b.set_ylabel(\"Silhouette Score\",fontsize=100)\n",
    "            b.tick_params(labelsize=90)\n",
    "            \n",
    "            #plt.savefig('silhouette_score.png', format='png', dpi=400)\n",
    "            #plt.tight_layout()\n",
    "            #plt.savefig('silhouette_score.png', format='png')\n",
    "            plt.show()"
   ]
  },
  {
   "cell_type": "code",
   "execution_count": null,
   "metadata": {
    "ExecuteTime": {
     "end_time": "2019-07-02T15:45:26.161767Z",
     "start_time": "2019-07-02T15:44:56.876499Z"
    },
    "scrolled": false
   },
   "outputs": [],
   "source": [
    "optimal_kmeans(H_penul)"
   ]
  },
  {
   "cell_type": "code",
   "execution_count": null,
   "metadata": {
    "ExecuteTime": {
     "end_time": "2019-06-17T13:28:01.852462Z",
     "start_time": "2019-06-17T13:28:01.846345Z"
    }
   },
   "outputs": [],
   "source": [
    "from sklearn.manifold import TSNE\n",
    "def kmeans(df, clusters_number):\n",
    "    '''\n",
    "    Implement k-means clustering on dataset\n",
    "    \n",
    "    INPUT:\n",
    "        dataset : dataframe. Dataset for k-means to fit.\n",
    "        clusters_number : int. Number of clusters to form.\n",
    "        end : int. Ending range of kmeans to test.\n",
    "    OUTPUT:\n",
    "        Cluster results and t-SNE visualisation of clusters.\n",
    "    '''\n",
    "    \n",
    "    kmeans = KMeans(n_clusters = clusters_number, random_state = 1)\n",
    "    kmeans.fit(df)\n",
    "\n",
    "    # Extract cluster labels\n",
    "    cluster_labels = kmeans.labels_\n",
    "        \n",
    "    # Create a cluster label column in original dataset\n",
    "    df_new = df.assign(Cluster = cluster_labels)\n",
    "    '''\n",
    "    # Initialise TSNE\n",
    "    model = TSNE(random_state=1)\n",
    "    transformed = model.fit_transform(df)\n",
    "    \n",
    "    # Plot t-SNE\n",
    "    plt.title('Flattened Graph of {} Clusters'.format(clusters_number))\n",
    "    sns.scatterplot(x=transformed[:,0], y=transformed[:,1], hue=cluster_labels, style=cluster_labels, palette=\"Set1\")\n",
    "    '''\n",
    "    return df_new, cluster_labels"
   ]
  },
  {
   "cell_type": "code",
   "execution_count": null,
   "metadata": {
    "ExecuteTime": {
     "end_time": "2019-06-17T13:28:02.808892Z",
     "start_time": "2019-06-17T13:28:02.805175Z"
    }
   },
   "outputs": [],
   "source": [
    "type(V_standard)"
   ]
  },
  {
   "cell_type": "code",
   "execution_count": null,
   "metadata": {
    "ExecuteTime": {
     "end_time": "2019-06-17T13:30:49.695052Z",
     "start_time": "2019-06-17T13:30:49.691264Z"
    }
   },
   "outputs": [],
   "source": [
    "import pandas as pd\n",
    "df = pd.DataFrame(data=V_standard)\n",
    "\n",
    "#print(df)"
   ]
  },
  {
   "cell_type": "code",
   "execution_count": null,
   "metadata": {
    "ExecuteTime": {
     "end_time": "2019-06-17T13:30:53.008009Z",
     "start_time": "2019-06-17T13:30:51.888893Z"
    }
   },
   "outputs": [],
   "source": [
    "dfne,s= kmeans(df,9)"
   ]
  },
  {
   "cell_type": "code",
   "execution_count": null,
   "metadata": {
    "ExecuteTime": {
     "end_time": "2019-06-17T13:30:54.081494Z",
     "start_time": "2019-06-17T13:30:54.033854Z"
    }
   },
   "outputs": [],
   "source": [
    "dfne"
   ]
  },
  {
   "cell_type": "code",
   "execution_count": null,
   "metadata": {
    "ExecuteTime": {
     "end_time": "2019-06-17T13:32:27.381567Z",
     "start_time": "2019-06-17T13:32:27.378318Z"
    }
   },
   "outputs": [],
   "source": [
    "s"
   ]
  },
  {
   "cell_type": "markdown",
   "metadata": {
    "heading_collapsed": true
   },
   "source": [
    "# Storing Locally"
   ]
  },
  {
   "cell_type": "code",
   "execution_count": null,
   "metadata": {
    "ExecuteTime": {
     "end_time": "2019-06-07T11:00:06.168681Z",
     "start_time": "2019-06-07T11:00:06.161494Z"
    },
    "hidden": true
   },
   "outputs": [],
   "source": [
    "data[1]"
   ]
  },
  {
   "cell_type": "code",
   "execution_count": null,
   "metadata": {
    "ExecuteTime": {
     "end_time": "2019-06-07T11:00:07.451572Z",
     "start_time": "2019-06-07T11:00:07.447371Z"
    },
    "hidden": true
   },
   "outputs": [],
   "source": [
    "sequences_full[1]"
   ]
  },
  {
   "cell_type": "code",
   "execution_count": null,
   "metadata": {
    "ExecuteTime": {
     "end_time": "2019-06-07T11:00:08.070094Z",
     "start_time": "2019-06-07T11:00:08.063456Z"
    },
    "hidden": true
   },
   "outputs": [],
   "source": [
    "X[1]"
   ]
  },
  {
   "cell_type": "code",
   "execution_count": null,
   "metadata": {
    "ExecuteTime": {
     "end_time": "2019-06-07T11:00:15.711873Z",
     "start_time": "2019-06-07T11:00:15.705478Z"
    },
    "hidden": true
   },
   "outputs": [],
   "source": [
    "H_standard[1]"
   ]
  },
  {
   "cell_type": "code",
   "execution_count": null,
   "metadata": {
    "ExecuteTime": {
     "end_time": "2019-06-07T11:00:21.029903Z",
     "start_time": "2019-06-07T11:00:21.023322Z"
    },
    "hidden": true
   },
   "outputs": [],
   "source": [
    "V_standard[1]"
   ]
  },
  {
   "cell_type": "code",
   "execution_count": null,
   "metadata": {
    "ExecuteTime": {
     "end_time": "2019-06-07T11:01:44.126090Z",
     "start_time": "2019-06-07T11:01:44.122233Z"
    },
    "hidden": true
   },
   "outputs": [],
   "source": [
    "pred_standard[1]"
   ]
  },
  {
   "cell_type": "code",
   "execution_count": null,
   "metadata": {
    "ExecuteTime": {
     "end_time": "2019-06-07T11:01:45.105544Z",
     "start_time": "2019-06-07T11:01:45.099237Z"
    },
    "hidden": true
   },
   "outputs": [],
   "source": [
    "pred1_standard[1]"
   ]
  },
  {
   "cell_type": "code",
   "execution_count": null,
   "metadata": {
    "ExecuteTime": {
     "end_time": "2019-06-20T12:24:39.710280Z",
     "start_time": "2019-06-20T12:24:39.707507Z"
    },
    "hidden": true
   },
   "outputs": [],
   "source": [
    "keywords_list = d[\"Keywords\"].tolist()"
   ]
  },
  {
   "cell_type": "code",
   "execution_count": null,
   "metadata": {
    "ExecuteTime": {
     "end_time": "2019-07-02T15:41:22.805303Z",
     "start_time": "2019-07-02T15:41:22.767032Z"
    },
    "hidden": true
   },
   "outputs": [],
   "source": [
    "import pandas as pd\n",
    "d = []\n",
    "for i in range(len(data)):\n",
    "    #d.append({'Keywords_CNN': data[i], 'Sequence_Full': sequences_full[i], 'Prediction':b[i]}) # for merged\n",
    "    d.append({'Keywords_CNN': data[i], 'Sequence_Full': sequences_full[i], 'Prediction':labels[i]})\n",
    "d = pd.DataFrame(d)\n",
    "#d['keywords'] = d.apply(lambda x: x['Keywords_CNN'].split(), axis = 1) # for merged\n",
    "#d.sort_values('Prediction')\n",
    "d.head(1)\n",
    "#d.to_csv('CNN_Demo-HippoBased_Test.csv')"
   ]
  },
  {
   "cell_type": "code",
   "execution_count": null,
   "metadata": {
    "ExecuteTime": {
     "end_time": "2019-06-18T21:17:09.527457Z",
     "start_time": "2019-06-18T21:17:09.283820Z"
    },
    "hidden": true
   },
   "outputs": [],
   "source": [
    "d.reset_index().plot.scatter(x='index', y='Prediction')"
   ]
  },
  {
   "cell_type": "code",
   "execution_count": null,
   "metadata": {
    "ExecuteTime": {
     "end_time": "2019-06-18T21:17:12.435289Z",
     "start_time": "2019-06-18T21:17:11.232364Z"
    },
    "hidden": true
   },
   "outputs": [],
   "source": [
    "d[\"Prediction\"].value_counts().plot.bar()"
   ]
  },
  {
   "cell_type": "code",
   "execution_count": null,
   "metadata": {
    "ExecuteTime": {
     "end_time": "2019-06-18T21:17:14.157830Z",
     "start_time": "2019-06-18T21:17:14.127791Z"
    },
    "hidden": true,
    "scrolled": true
   },
   "outputs": [],
   "source": [
    "d.sort_values('Prediction')"
   ]
  },
  {
   "cell_type": "code",
   "execution_count": null,
   "metadata": {
    "ExecuteTime": {
     "end_time": "2019-07-02T15:41:29.005042Z",
     "start_time": "2019-07-02T15:41:28.998593Z"
    },
    "hidden": true
   },
   "outputs": [],
   "source": [
    "# - 1 for outliers based on DBSCAN\n",
    "d = d[d.Prediction != -1]"
   ]
  },
  {
   "cell_type": "markdown",
   "metadata": {
    "heading_collapsed": true
   },
   "source": [
    "# NoNoise"
   ]
  },
  {
   "cell_type": "code",
   "execution_count": null,
   "metadata": {
    "ExecuteTime": {
     "end_time": "2019-06-17T13:54:14.209291Z",
     "start_time": "2019-06-17T13:54:14.080536Z"
    },
    "hidden": true
   },
   "outputs": [],
   "source": [
    "importName = 'CNN_Demo-HippoBased_Labels.xls'\n",
    "cluster_labels = pd.read_excel(importName)"
   ]
  },
  {
   "cell_type": "code",
   "execution_count": null,
   "metadata": {
    "ExecuteTime": {
     "end_time": "2019-07-02T15:41:42.702189Z",
     "start_time": "2019-07-02T15:41:42.695829Z"
    },
    "hidden": true
   },
   "outputs": [],
   "source": [
    "# Make for data Model using the scrapped keywords\n",
    "keywords_list = d[\"Keywords_CNN\"].tolist()\n",
    "data_NN_no_noise = []\n",
    "for i in keywords_list:\n",
    "    data_NN_no_noise.append(i)\n",
    "with open('data_NN_URL_No_Noise_Testing.txt', 'w') as f:\n",
    "    for item in data_NN_no_noise:\n",
    "        f.write(\"%s\\n\" % item)"
   ]
  },
  {
   "cell_type": "markdown",
   "metadata": {
    "heading_collapsed": true
   },
   "source": [
    "# Remove Noise"
   ]
  },
  {
   "cell_type": "code",
   "execution_count": null,
   "metadata": {
    "ExecuteTime": {
     "end_time": "2019-06-18T14:34:51.343344Z",
     "start_time": "2019-06-18T14:34:49.373395Z"
    },
    "hidden": true
   },
   "outputs": [],
   "source": [
    "from sklearn.preprocessing import normalize\n",
    "from sklearn.cluster import KMeans\n",
    "\n",
    "n_clusters = 7 # for own data\n",
    "print(\"Number of classes: %d\" % n_clusters)\n",
    "km = KMeans(n_clusters=n_clusters, n_jobs=10)\n",
    "result_penul = dict()\n",
    "km.fit(PCA_standard)\n",
    "pred_standard_PCA = km.labels_\n",
    "pred1_standard_PCA = km.cluster_centers_\n",
    "print(pred_standard_PCA)\n",
    "from collections import Counter, defaultdict\n",
    "a = Counter(km.labels_)"
   ]
  },
  {
   "cell_type": "code",
   "execution_count": null,
   "metadata": {
    "ExecuteTime": {
     "end_time": "2019-06-18T14:36:52.848058Z",
     "start_time": "2019-06-18T14:36:52.845054Z"
    },
    "hidden": true
   },
   "outputs": [],
   "source": [
    "size_dict = {}\n",
    "for i in a.keys():\n",
    "    size_dict[i] = a[i]"
   ]
  },
  {
   "cell_type": "code",
   "execution_count": null,
   "metadata": {
    "ExecuteTime": {
     "end_time": "2019-06-18T14:37:03.480690Z",
     "start_time": "2019-06-18T14:37:03.477052Z"
    },
    "hidden": true
   },
   "outputs": [],
   "source": [
    "size_dict"
   ]
  },
  {
   "cell_type": "markdown",
   "metadata": {
    "heading_collapsed": true
   },
   "source": [
    "# Test George"
   ]
  },
  {
   "cell_type": "code",
   "execution_count": null,
   "metadata": {
    "ExecuteTime": {
     "end_time": "2019-06-27T08:04:06.388177Z",
     "start_time": "2019-06-27T08:04:04.593248Z"
    },
    "hidden": true
   },
   "outputs": [],
   "source": [
    "from sklearn.metrics import pairwise_distances\n",
    "from sklearn.cluster import KMeans\n",
    "from sklearn.metrics import silhouette_samples, silhouette_score\n",
    "init_variable = H_standard\n",
    "pair_dist = pairwise_distances(init_variable,metric='euclidean', n_jobs=-1)"
   ]
  },
  {
   "cell_type": "code",
   "execution_count": null,
   "metadata": {
    "ExecuteTime": {
     "end_time": "2019-06-27T08:07:11.611163Z",
     "start_time": "2019-06-27T08:07:10.660837Z"
    },
    "hidden": true,
    "scrolled": false
   },
   "outputs": [],
   "source": [
    "import matplotlib.cm as cm\n",
    "range_n_clusters = range(27, 28)\n",
    "# a is the pre-computed matrix using the gower coefficient, using the daisy function in R.\n",
    "\n",
    "for n_clusters in range_n_clusters:\n",
    "\n",
    "    fig, (ax1) = plt.subplots(1, 1)\n",
    "    fig.set_size_inches(22, 14)\n",
    "\n",
    "    ax1.set_xlim([-0.1, 1])\n",
    "    ax1.set_ylim([0, len(init_variable) + (n_clusters + 1) * 10])\n",
    "    kmodes_cao = KMeans(n_clusters=n_clusters, verbose=0)\n",
    "    kmodes_cao.fit_predict(init_variable)\n",
    "\n",
    "\n",
    "    b = kmodes_cao.labels_\n",
    "    silhouette_avg = silhouette_score(pair_dist, b, metric='precomputed')\n",
    "\n",
    "    print(\"For n_clusters =\", n_clusters,\n",
    "          \"The average silhouette_score is :\", silhouette_avg)\n",
    "\n",
    "    sample_silhouette_values = silhouette_samples(pair_dist, b, metric='precomputed')\n",
    "\n",
    "    y_lower = 10\n",
    "    for i in range(n_clusters):\n",
    "        # Aggregate the silhouette scores for samples belonging to\n",
    "        # cluster i, and sort them\n",
    "        ith_cluster_silhouette_values = \\\n",
    "            sample_silhouette_values[b == i]\n",
    "\n",
    "        ith_cluster_silhouette_values.sort()\n",
    "\n",
    "        size_cluster_i = ith_cluster_silhouette_values.shape[0]\n",
    "        y_upper = y_lower + size_cluster_i\n",
    "\n",
    "        color = cm.Spectral(float(i) / n_clusters)\n",
    "        ax1.fill_betweenx(np.arange(y_lower, y_upper),\n",
    "                          0, ith_cluster_silhouette_values,\n",
    "                          facecolor=color, edgecolor=color, alpha=0.7)\n",
    "\n",
    "        # Label the silhouette plots with their cluster numbers at the middle\n",
    "        ax1.text(-0.05, y_lower + 0.5 * size_cluster_i, str(i))\n",
    "\n",
    "        # Compute the new y_lower for next plot\n",
    "        y_lower = y_upper + 10  # 10 for the 0 samples\n",
    "\n",
    "    ax1.set_title((\"Silhouette analysis for KModes clustering \"\n",
    "                  \"with clusters = %d\" % n_clusters))\n",
    "    ax1.set_xlabel(\"The silhouette coefficient values\")\n",
    "    ax1.set_ylabel(\"Cluster label\")\n",
    "\n",
    "    # The vertical line for average silhouette score of all the values\n",
    "    ax1.axvline(x=silhouette_avg, color=\"red\", linestyle=\"--\")\n",
    "\n",
    "    ax1.set_yticks([])  # Clear the yaxis labels / ticks\n",
    "    ax1.set_xticks([-0.1, 0, 0.2, 0.4, 0.6, 0.8, 1])\n",
    "    \n",
    "    for item in ([ax1.title, ax1.xaxis.label, ax1.yaxis.label] +\n",
    "             ax1.get_xticklabels() + ax1.get_yticklabels()):\n",
    "        item.set_fontsize(22)\n",
    "    \n",
    "    \n",
    "    # Draw white circles at cluster centers\n",
    "    #plt.savefig('silhouette_score_bars.png', format='png', dpi=400)\n",
    "    plt.show()"
   ]
  },
  {
   "cell_type": "code",
   "execution_count": null,
   "metadata": {
    "ExecuteTime": {
     "end_time": "2019-06-20T12:22:56.183222Z",
     "start_time": "2019-06-20T12:22:56.179849Z"
    },
    "hidden": true
   },
   "outputs": [],
   "source": [
    "b"
   ]
  },
  {
   "cell_type": "markdown",
   "metadata": {
    "heading_collapsed": true
   },
   "source": [
    "# Merge"
   ]
  },
  {
   "cell_type": "code",
   "execution_count": null,
   "metadata": {
    "ExecuteTime": {
     "end_time": "2019-06-20T12:19:37.382091Z",
     "start_time": "2019-06-20T12:19:37.379453Z"
    },
    "hidden": true
   },
   "outputs": [],
   "source": [
    "# Merge the visitor data with clusters"
   ]
  },
  {
   "cell_type": "code",
   "execution_count": null,
   "metadata": {
    "ExecuteTime": {
     "end_time": "2019-06-20T12:19:58.725896Z",
     "start_time": "2019-06-20T12:19:58.722666Z"
    },
    "hidden": true
   },
   "outputs": [],
   "source": [
    "import pandas as pd"
   ]
  },
  {
   "cell_type": "code",
   "execution_count": null,
   "metadata": {
    "ExecuteTime": {
     "end_time": "2019-06-20T13:42:39.139418Z",
     "start_time": "2019-06-20T13:42:39.112208Z"
    },
    "hidden": true
   },
   "outputs": [],
   "source": [
    "importName = 'data/ForEvaluation.csv'\n",
    "user_data_import = pd.read_csv(importName, sep=',')"
   ]
  },
  {
   "cell_type": "code",
   "execution_count": null,
   "metadata": {
    "ExecuteTime": {
     "end_time": "2019-06-20T13:42:40.064719Z",
     "start_time": "2019-06-20T13:42:40.055650Z"
    },
    "hidden": true
   },
   "outputs": [],
   "source": [
    "user_data_import = user_data_import.drop('Unnamed: 0', 1)\n",
    "user_data_import.head(1)"
   ]
  },
  {
   "cell_type": "code",
   "execution_count": null,
   "metadata": {
    "ExecuteTime": {
     "end_time": "2019-06-20T13:42:41.540844Z",
     "start_time": "2019-06-20T13:42:41.533353Z"
    },
    "hidden": true
   },
   "outputs": [],
   "source": [
    "d.head(1)"
   ]
  },
  {
   "cell_type": "code",
   "execution_count": null,
   "metadata": {
    "ExecuteTime": {
     "end_time": "2019-06-20T13:53:27.095462Z",
     "start_time": "2019-06-20T13:53:27.091944Z"
    },
    "hidden": true
   },
   "outputs": [],
   "source": [
    "# clean dict from cnn\n",
    "new_d = dict(zip(d.Prediction,d.keywords))"
   ]
  },
  {
   "cell_type": "code",
   "execution_count": null,
   "metadata": {
    "ExecuteTime": {
     "end_time": "2019-06-20T13:53:27.927457Z",
     "start_time": "2019-06-20T13:53:27.923089Z"
    },
    "hidden": true
   },
   "outputs": [],
   "source": [
    "# clean dict with visitor\n",
    "new_user_data_import = dict(zip(user_data_import.transactionPath,user_data_import.keywords))"
   ]
  },
  {
   "cell_type": "code",
   "execution_count": null,
   "metadata": {
    "ExecuteTime": {
     "end_time": "2019-06-20T13:53:40.896868Z",
     "start_time": "2019-06-20T13:53:40.851039Z"
    },
    "hidden": true
   },
   "outputs": [],
   "source": [
    "new_user = {}\n",
    "for key,value in new_user_data_import.items():\n",
    "    dataOutput = eval(value) # How to convert list lookalike into a list?\n",
    "    new_user[key] = dataOutput"
   ]
  },
  {
   "cell_type": "code",
   "execution_count": null,
   "metadata": {
    "hidden": true
   },
   "outputs": [],
   "source": [
    "# dummy"
   ]
  },
  {
   "cell_type": "code",
   "execution_count": null,
   "metadata": {
    "ExecuteTime": {
     "end_time": "2019-06-20T13:54:33.068888Z",
     "start_time": "2019-06-20T13:54:33.052121Z"
    },
    "hidden": true
   },
   "outputs": [],
   "source": [
    "# merging\n",
    "merged_data = user_data_import.sort_values('keywords', ascending=False)\n",
    "merged_data[\"Numeric_Label\"] = merged_data['visitorId']\n",
    "d.reset_index(drop=True)\n",
    "merged_data.reset_index(drop=True)\n",
    "merged_data.head(1)"
   ]
  },
  {
   "cell_type": "code",
   "execution_count": null,
   "metadata": {
    "ExecuteTime": {
     "end_time": "2019-06-20T13:50:45.734960Z",
     "start_time": "2019-06-20T13:50:45.730365Z"
    },
    "hidden": true
   },
   "outputs": [],
   "source": [
    "from collections import defaultdict\n",
    "# cluster_labels_dict\n",
    "cluster_labels_dict = defaultdict(list)\n",
    "list1 = d['Prediction'].tolist()\n",
    "list2 = d['keywords'].tolist()\n",
    "for key, value in zip(list1, list2):\n",
    "    cluster_labels_dict[key].append(value)"
   ]
  },
  {
   "cell_type": "code",
   "execution_count": null,
   "metadata": {
    "ExecuteTime": {
     "end_time": "2019-06-20T13:54:23.126532Z",
     "start_time": "2019-06-20T13:54:15.067788Z"
    },
    "hidden": true
   },
   "outputs": [],
   "source": [
    "result_dict = {}\n",
    "for key, value in cluster_labels_dict.items():\n",
    "    for i in value:\n",
    "        for key_clean, value_clean in new_user.items():\n",
    "            if sorted(value_clean) == sorted(i):\n",
    "                #print('I am first: {}'.format(i))\n",
    "                #print('I am second:{}'.format(value_clean))\n",
    "                result_dict[key_clean] = key"
   ]
  },
  {
   "cell_type": "code",
   "execution_count": null,
   "metadata": {
    "ExecuteTime": {
     "end_time": "2019-06-20T13:56:30.603376Z",
     "start_time": "2019-06-20T13:56:30.546817Z"
    },
    "hidden": true
   },
   "outputs": [],
   "source": [
    "#merged_data[\"Numeric_Label\"].replace(result_dict, inplace=True) # they do the same\n",
    "merged_data['Numeric_Label'] = merged_data['transactionPath'].map(result_dict)\n",
    "merged_data['Numeric_Label'].fillna('missing', inplace=True)\n",
    "merged_data = merged_data.reset_index(drop=True)\n",
    "merged_data.to_csv('CNN_Merge_Test.csv')"
   ]
  }
 ],
 "metadata": {
  "kernelspec": {
   "display_name": "Python 3",
   "language": "python",
   "name": "python3"
  },
  "language_info": {
   "codemirror_mode": {
    "name": "ipython",
    "version": 3
   },
   "file_extension": ".py",
   "mimetype": "text/x-python",
   "name": "python",
   "nbconvert_exporter": "python",
   "pygments_lexer": "ipython3",
   "version": "3.7.3"
  },
  "toc": {
   "base_numbering": 1,
   "nav_menu": {},
   "number_sections": true,
   "sideBar": true,
   "skip_h1_title": false,
   "title_cell": "Table of Contents",
   "title_sidebar": "Contents",
   "toc_cell": false,
   "toc_position": {},
   "toc_section_display": true,
   "toc_window_display": false
  },
  "varInspector": {
   "cols": {
    "lenName": 16,
    "lenType": 16,
    "lenVar": 40
   },
   "kernels_config": {
    "python": {
     "delete_cmd_postfix": "",
     "delete_cmd_prefix": "del ",
     "library": "var_list.py",
     "varRefreshCmd": "print(var_dic_list())"
    },
    "r": {
     "delete_cmd_postfix": ") ",
     "delete_cmd_prefix": "rm(",
     "library": "var_list.r",
     "varRefreshCmd": "cat(var_dic_list()) "
    }
   },
   "position": {
    "height": "144px",
    "left": "1069px",
    "right": "20px",
    "top": "120px",
    "width": "350px"
   },
   "types_to_exclude": [
    "module",
    "function",
    "builtin_function_or_method",
    "instance",
    "_Feature"
   ],
   "window_display": false
  }
 },
 "nbformat": 4,
 "nbformat_minor": 2
}
