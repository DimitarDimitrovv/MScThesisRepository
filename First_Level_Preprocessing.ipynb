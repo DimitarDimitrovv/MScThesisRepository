{
 "cells": [
  {
   "cell_type": "markdown",
   "metadata": {},
   "source": [
    "# Importing Packages"
   ]
  },
  {
   "cell_type": "code",
   "execution_count": 1,
   "metadata": {
    "ExecuteTime": {
     "end_time": "2019-07-07T21:07:35.445355Z",
     "start_time": "2019-07-07T21:07:32.784677Z"
    }
   },
   "outputs": [],
   "source": [
    "# Basic\n",
    "import pandas as pd\n",
    "import json\n",
    "import collections\n",
    "from collections import defaultdict\n",
    "import itertools\n",
    "from itertools import chain\n",
    "import urllib\n",
    "from urllib.parse import urlparse\n",
    "import re\n",
    "import numpy as np\n",
    "import datetime\n",
    "import mysql.connector\n",
    "\n",
    "# Advanced\n",
    "from pandas.io.json import json_normalize\n",
    "import operator\n",
    "from operator import itemgetter\n",
    "\n",
    "# Language processing\n",
    "import nltk\n",
    "#nltk.download('punkt')\n",
    "#nltk.download('stopwords')\n",
    "#nltk.download('wordnet')\n",
    "from nltk import word_tokenize\n",
    "from nltk.corpus import stopwords\n",
    "from nltk.stem import PorterStemmer\n",
    "from nltk.stem import WordNetLemmatizer \n",
    "lemmatizer = WordNetLemmatizer()\n",
    "from nltk.corpus import wordnet as wn\n",
    "from gensim.models import word2vec\n",
    "from gensim import corpora\n",
    "from gensim.models import CoherenceModel\n",
    "from gensim.models.keyedvectors import KeyedVectors\n",
    "from wordsegment import load, segment\n",
    "load() # for spell checking\n",
    "SpellCheck = segment\n",
    "\n",
    "# Visualizations\n",
    "from sklearn.manifold import TSNE\n",
    "import matplotlib.pyplot as plt\n",
    "%matplotlib inline"
   ]
  },
  {
   "cell_type": "markdown",
   "metadata": {},
   "source": [
    "# Establishing Connection"
   ]
  },
  {
   "cell_type": "code",
   "execution_count": 2,
   "metadata": {
    "ExecuteTime": {
     "end_time": "2019-07-07T21:07:36.866573Z",
     "start_time": "2019-07-07T21:07:36.855096Z"
    }
   },
   "outputs": [],
   "source": [
    "config_own = {\n",
    "        'user' : 'root', \n",
    "        'password' :'MacBookAir1231', \n",
    "        'host' : '127.0.0.1',\n",
    "        'database' : 'TargetDB',\n",
    "        'ssl_disabled' : 'True'\n",
    "    }\n",
    "con_own = mysql.connector.connect(**config_own)"
   ]
  },
  {
   "cell_type": "markdown",
   "metadata": {},
   "source": [
    "# Query Loader"
   ]
  },
  {
   "cell_type": "code",
   "execution_count": 3,
   "metadata": {
    "ExecuteTime": {
     "end_time": "2019-07-07T21:07:37.828148Z",
     "start_time": "2019-07-07T21:07:37.598555Z"
    }
   },
   "outputs": [],
   "source": [
    "query_loader = pd.read_sql_query('select entry from requestlog limit 10000', con_own)"
   ]
  },
  {
   "cell_type": "code",
   "execution_count": 4,
   "metadata": {
    "ExecuteTime": {
     "end_time": "2019-07-07T21:07:38.505709Z",
     "start_time": "2019-07-07T21:07:38.495004Z"
    }
   },
   "outputs": [
    {
     "data": {
      "text/html": [
       "<div>\n",
       "<style scoped>\n",
       "    .dataframe tbody tr th:only-of-type {\n",
       "        vertical-align: middle;\n",
       "    }\n",
       "\n",
       "    .dataframe tbody tr th {\n",
       "        vertical-align: top;\n",
       "    }\n",
       "\n",
       "    .dataframe thead th {\n",
       "        text-align: right;\n",
       "    }\n",
       "</style>\n",
       "<table border=\"1\" class=\"dataframe\">\n",
       "  <thead>\n",
       "    <tr style=\"text-align: right;\">\n",
       "      <th></th>\n",
       "      <th>entry</th>\n",
       "    </tr>\n",
       "  </thead>\n",
       "  <tbody>\n",
       "    <tr>\n",
       "      <th>0</th>\n",
       "      <td>{\"visitorId\":\"63077af1-c15d-40e8-9b2b-64c36d18...</td>\n",
       "    </tr>\n",
       "    <tr>\n",
       "      <th>1</th>\n",
       "      <td>{\"visitorId\":\"0f4c7121-f5ca-42ef-aad4-e6ed09af...</td>\n",
       "    </tr>\n",
       "    <tr>\n",
       "      <th>2</th>\n",
       "      <td>{\"visitorId\":\"7f0ac3e8-0a1e-4ae3-88c2-5daa045c...</td>\n",
       "    </tr>\n",
       "    <tr>\n",
       "      <th>3</th>\n",
       "      <td>{\"visitorId\":\"318666e5-b268-4bb7-87c3-04141445...</td>\n",
       "    </tr>\n",
       "    <tr>\n",
       "      <th>4</th>\n",
       "      <td>{\"visitorId\":\"a66172dc-85b7-4814-97c1-65ce52a0...</td>\n",
       "    </tr>\n",
       "  </tbody>\n",
       "</table>\n",
       "</div>"
      ],
      "text/plain": [
       "                                               entry\n",
       "0  {\"visitorId\":\"63077af1-c15d-40e8-9b2b-64c36d18...\n",
       "1  {\"visitorId\":\"0f4c7121-f5ca-42ef-aad4-e6ed09af...\n",
       "2  {\"visitorId\":\"7f0ac3e8-0a1e-4ae3-88c2-5daa045c...\n",
       "3  {\"visitorId\":\"318666e5-b268-4bb7-87c3-04141445...\n",
       "4  {\"visitorId\":\"a66172dc-85b7-4814-97c1-65ce52a0..."
      ]
     },
     "execution_count": 4,
     "metadata": {},
     "output_type": "execute_result"
    }
   ],
   "source": [
    "query_loader.head(5)"
   ]
  },
  {
   "cell_type": "markdown",
   "metadata": {},
   "source": [
    "# Making Data Dump"
   ]
  },
  {
   "cell_type": "code",
   "execution_count": 5,
   "metadata": {
    "ExecuteTime": {
     "end_time": "2019-07-07T21:07:39.961341Z",
     "start_time": "2019-07-07T21:07:39.958474Z"
    }
   },
   "outputs": [],
   "source": [
    "query = 'select entry from requestlog limit 1000'\n",
    "path = 'query_sample_paper'"
   ]
  },
  {
   "cell_type": "code",
   "execution_count": 6,
   "metadata": {
    "ExecuteTime": {
     "end_time": "2019-07-07T21:07:40.867338Z",
     "start_time": "2019-07-07T21:07:40.861821Z"
    }
   },
   "outputs": [],
   "source": [
    "def query_to_json_file(query, column, path_file):\n",
    "        index = 0\n",
    "        data_json = []\n",
    "\n",
    "        while (index < len(query)):\n",
    "            j = query.get_value(index, column)\n",
    "            #my_json = j.decode('utf8')\n",
    "            data = json.loads(j)\n",
    "            data_json.append(data)\n",
    "            index += 1\n",
    "\n",
    "        print(\"DONE 1\")\n",
    "\n",
    "        if path_file != \"\":\n",
    "            with open(path_file, 'w') as outfile:\n",
    "                json.dump(data_json, outfile, indent=0)\n",
    "\n",
    "            print(\"DONE 2\")\n",
    "\n",
    "        else:\n",
    "            return data_json"
   ]
  },
  {
   "cell_type": "code",
   "execution_count": 7,
   "metadata": {
    "ExecuteTime": {
     "end_time": "2019-07-07T21:07:42.889084Z",
     "start_time": "2019-07-07T21:07:41.724785Z"
    }
   },
   "outputs": [
    {
     "name": "stderr",
     "output_type": "stream",
     "text": [
      "/Users/Dimitar/anaconda3/lib/python3.7/site-packages/ipykernel_launcher.py:6: FutureWarning: get_value is deprecated and will be removed in a future release. Please use .at[] or .iat[] accessors instead\n",
      "  \n"
     ]
    },
    {
     "name": "stdout",
     "output_type": "stream",
     "text": [
      "DONE 1\n",
      "DONE 2\n"
     ]
    }
   ],
   "source": [
    "query_to_json_file(query_loader,'entry',path)"
   ]
  },
  {
   "cell_type": "markdown",
   "metadata": {},
   "source": [
    "# Testing Json Dump"
   ]
  },
  {
   "cell_type": "code",
   "execution_count": 8,
   "metadata": {
    "ExecuteTime": {
     "end_time": "2019-07-07T21:07:43.328233Z",
     "start_time": "2019-07-07T21:07:43.325208Z"
    }
   },
   "outputs": [],
   "source": [
    "def json_read(filepath, multiline=False):\n",
    "        file = pd.read_json(filepath, lines=multiline, convert_dates=False)\n",
    "        print(\"Step 1/7 - Reading, done...\")\n",
    "        return file"
   ]
  },
  {
   "cell_type": "code",
   "execution_count": 9,
   "metadata": {
    "ExecuteTime": {
     "end_time": "2019-07-07T21:07:44.129060Z",
     "start_time": "2019-07-07T21:07:43.822195Z"
    }
   },
   "outputs": [
    {
     "name": "stdout",
     "output_type": "stream",
     "text": [
      "Step 1/7 - Reading, done...\n"
     ]
    }
   ],
   "source": [
    "json_test = json_read(path)"
   ]
  },
  {
   "cell_type": "markdown",
   "metadata": {},
   "source": [
    "# Filtering"
   ]
  },
  {
   "cell_type": "code",
   "execution_count": 10,
   "metadata": {
    "ExecuteTime": {
     "end_time": "2019-07-07T21:07:44.705653Z",
     "start_time": "2019-07-07T21:07:44.701507Z"
    }
   },
   "outputs": [],
   "source": [
    "def filter_columns(data_frame):\n",
    "        collector_data = json_normalize(data_frame['collectorData'])\n",
    "        all_data = pd.concat([collector_data, data_frame], axis=1)\n",
    "        keep_list = ['visitorId', 'timestamp', 'pageUrl',\n",
    "                     'newVisit', 'pageId']\n",
    "        processed_data = all_data[keep_list]\n",
    "        print(\"Step 2/7 - Filtering, done...\")\n",
    "        return processed_data"
   ]
  },
  {
   "cell_type": "code",
   "execution_count": 11,
   "metadata": {
    "ExecuteTime": {
     "end_time": "2019-07-07T21:07:46.616364Z",
     "start_time": "2019-07-07T21:07:45.751567Z"
    }
   },
   "outputs": [
    {
     "name": "stdout",
     "output_type": "stream",
     "text": [
      "Step 2/7 - Filtering, done...\n"
     ]
    }
   ],
   "source": [
    "filter_test = filter_columns(json_test)"
   ]
  },
  {
   "cell_type": "code",
   "execution_count": 12,
   "metadata": {
    "ExecuteTime": {
     "end_time": "2019-07-07T21:07:47.048793Z",
     "start_time": "2019-07-07T21:07:47.045619Z"
    }
   },
   "outputs": [],
   "source": [
    "# fixing unix timestamp\n",
    "def formatTime(value):\n",
    "    timestamp, ms = divmod(value, 1000)\n",
    "    dt = datetime.datetime.fromtimestamp(timestamp) + datetime.timedelta(milliseconds=ms)\n",
    "    formatted_time = dt.strftime('%Y-%m-%d %H:%M:%S.%f')[:-3]\n",
    "    return formatted_time"
   ]
  },
  {
   "cell_type": "code",
   "execution_count": 13,
   "metadata": {
    "ExecuteTime": {
     "end_time": "2019-07-07T21:07:47.909572Z",
     "start_time": "2019-07-07T21:07:47.573045Z"
    }
   },
   "outputs": [],
   "source": [
    "filter_test['timestamp'] = filter_test.apply(lambda row: formatTime(row['timestamp']), axis=1)"
   ]
  },
  {
   "cell_type": "code",
   "execution_count": 14,
   "metadata": {
    "ExecuteTime": {
     "end_time": "2019-07-07T21:07:48.353297Z",
     "start_time": "2019-07-07T21:07:48.345444Z"
    }
   },
   "outputs": [
    {
     "data": {
      "text/html": [
       "<div>\n",
       "<style scoped>\n",
       "    .dataframe tbody tr th:only-of-type {\n",
       "        vertical-align: middle;\n",
       "    }\n",
       "\n",
       "    .dataframe tbody tr th {\n",
       "        vertical-align: top;\n",
       "    }\n",
       "\n",
       "    .dataframe thead th {\n",
       "        text-align: right;\n",
       "    }\n",
       "</style>\n",
       "<table border=\"1\" class=\"dataframe\">\n",
       "  <thead>\n",
       "    <tr style=\"text-align: right;\">\n",
       "      <th></th>\n",
       "      <th>visitorId</th>\n",
       "      <th>timestamp</th>\n",
       "      <th>pageUrl</th>\n",
       "      <th>newVisit</th>\n",
       "      <th>pageId</th>\n",
       "    </tr>\n",
       "  </thead>\n",
       "  <tbody>\n",
       "    <tr>\n",
       "      <th>0</th>\n",
       "      <td>63077af1-c15d-40e8-9b2b-64c36d188658</td>\n",
       "      <td>2016-08-29 18:46:05.809</td>\n",
       "      <td>https://www.onehippo.org/library/administratio...</td>\n",
       "      <td>True</td>\n",
       "      <td>hst:pages/documentation</td>\n",
       "    </tr>\n",
       "  </tbody>\n",
       "</table>\n",
       "</div>"
      ],
      "text/plain": [
       "                              visitorId                timestamp  \\\n",
       "0  63077af1-c15d-40e8-9b2b-64c36d188658  2016-08-29 18:46:05.809   \n",
       "\n",
       "                                             pageUrl  newVisit  \\\n",
       "0  https://www.onehippo.org/library/administratio...      True   \n",
       "\n",
       "                    pageId  \n",
       "0  hst:pages/documentation  "
      ]
     },
     "execution_count": 14,
     "metadata": {},
     "output_type": "execute_result"
    }
   ],
   "source": [
    "filter_test.head(1)"
   ]
  },
  {
   "cell_type": "markdown",
   "metadata": {},
   "source": [
    "# Sorting"
   ]
  },
  {
   "cell_type": "code",
   "execution_count": 15,
   "metadata": {
    "ExecuteTime": {
     "end_time": "2019-07-07T21:07:48.929575Z",
     "start_time": "2019-07-07T21:07:48.926276Z"
    }
   },
   "outputs": [],
   "source": [
    "def json_sort(file):\n",
    "        sort_by = [\"visitorId\", \"timestamp\"]\n",
    "        sorted_file = file.sort_values(by=sort_by)\n",
    "        print(\"Step 3/7 - Sorting, done...\")\n",
    "        return sorted_file"
   ]
  },
  {
   "cell_type": "code",
   "execution_count": 16,
   "metadata": {
    "ExecuteTime": {
     "end_time": "2019-07-07T21:07:49.865705Z",
     "start_time": "2019-07-07T21:07:49.839661Z"
    }
   },
   "outputs": [
    {
     "name": "stdout",
     "output_type": "stream",
     "text": [
      "Step 3/7 - Sorting, done...\n"
     ]
    }
   ],
   "source": [
    "sortedData=json_sort(filter_test)"
   ]
  },
  {
   "cell_type": "markdown",
   "metadata": {},
   "source": [
    "# Get Transaction"
   ]
  },
  {
   "cell_type": "code",
   "execution_count": 17,
   "metadata": {
    "ExecuteTime": {
     "end_time": "2019-07-07T21:07:50.665908Z",
     "start_time": "2019-07-07T21:07:50.654048Z"
    }
   },
   "outputs": [],
   "source": [
    "## Go over it\n",
    "class MFAlgorithm:\n",
    "\n",
    "    @staticmethod\n",
    "    def run_MF_algorithm(visitor, time, urls):\n",
    "        url_pairs = [('', urls[0], 0, 0)]\n",
    "        i = 0\n",
    "        number_of_urls = len(urls)\n",
    "        while (i + 1) < number_of_urls:\n",
    "            url_pairs.append((urls[i], urls[i + 1], i, i + 1))\n",
    "            i += 1\n",
    "\n",
    "        i = 0\n",
    "        end_transaction = False\n",
    "        all_transactions = []\n",
    "        current_transaction = []\n",
    "        timestamp = time[0]\n",
    "        number_of_pairs = len(url_pairs)\n",
    "\n",
    "        while i < number_of_pairs:\n",
    "            current_url, next_url, index_current, index_next = url_pairs[i]\n",
    "\n",
    "            # Initialize the transaction for the first URL\n",
    "            if current_url == '':\n",
    "                current_transaction.append(next_url)\n",
    "                timestamp = time[index_next]\n",
    "                i += 1\n",
    "                continue\n",
    "\n",
    "            # If the URL exists in the transaction, end transaction and add it to list.\n",
    "            # If not, we add the url to the transaction list and go on.\n",
    "            if next_url in current_transaction:\n",
    "                if not end_transaction:\n",
    "                    if current_transaction not in all_transactions:\n",
    "                        all_transactions.append((visitor, timestamp, current_transaction))\n",
    "                this_index = current_transaction.index(next_url)\n",
    "                current_transaction = current_transaction[0:this_index + 1]\n",
    "                end_transaction = True\n",
    "                i += 1\n",
    "                continue\n",
    "            else:\n",
    "                if end_transaction:\n",
    "                    end_transaction = False\n",
    "                    timestamp = time[index_current]\n",
    "                current_transaction.append(next_url)\n",
    "\n",
    "            i += 1\n",
    "\n",
    "        if current_transaction not in all_transactions:\n",
    "            all_transactions.append((visitor, timestamp, current_transaction))\n",
    "        return all_transactions\n",
    "\n",
    "    @staticmethod\n",
    "    def init_algorithm(sortedData):\n",
    "        result = []\n",
    "        grouped = sortedData.groupby('visitorId')\n",
    "        i = 0\n",
    "        visitor_length = len(grouped)\n",
    "        print(\"Initializing Transaction Extraction...\")\n",
    "        for visitorId, group in grouped:\n",
    "            time = grouped.get_group(visitorId).timestamp.tolist()\n",
    "            path = grouped.get_group(visitorId).pageUrl.tolist()\n",
    "            result_paths = MFAlgorithm.run_MF_algorithm(visitorId, time, path)\n",
    "            result.extend(result_paths)\n",
    "            i += 1\n",
    "            if i % 1000 == 0:\n",
    "                print(\"Progress:\", round((i / visitor_length) * 100, 2), \"%\")\n",
    "        return result"
   ]
  },
  {
   "cell_type": "code",
   "execution_count": 18,
   "metadata": {
    "ExecuteTime": {
     "end_time": "2019-07-07T21:07:51.594991Z",
     "start_time": "2019-07-07T21:07:51.590859Z"
    }
   },
   "outputs": [],
   "source": [
    "mfa = MFAlgorithm()\n",
    "def get_transactions(sorted_data):\n",
    "        transactions = mfa.init_algorithm(sorted_data)\n",
    "        data_frame = pd.DataFrame(transactions, columns=['visitorId', 'timestamp', 'transactionPath'])\n",
    "        data_frame = pd.merge(data_frame, sorted_data, on=['visitorId', 'timestamp'])\n",
    "        print(\"Step 4/7 - Extract transactions, done...\")\n",
    "        return data_frame.drop(['timestamp', 'pageUrl'], axis=1)"
   ]
  },
  {
   "cell_type": "code",
   "execution_count": 19,
   "metadata": {
    "ExecuteTime": {
     "end_time": "2019-07-07T21:07:55.882767Z",
     "start_time": "2019-07-07T21:07:52.125591Z"
    }
   },
   "outputs": [
    {
     "name": "stdout",
     "output_type": "stream",
     "text": [
      "Initializing Transaction Extraction...\n",
      "Progress: 24.58 %\n",
      "Progress: 49.15 %\n",
      "Progress: 73.73 %\n",
      "Progress: 98.3 %\n",
      "Step 4/7 - Extract transactions, done...\n"
     ]
    }
   ],
   "source": [
    "fixed_transaction = get_transactions(sortedData)"
   ]
  },
  {
   "cell_type": "code",
   "execution_count": 20,
   "metadata": {
    "ExecuteTime": {
     "end_time": "2019-07-07T21:07:56.391862Z",
     "start_time": "2019-07-07T21:07:56.384655Z"
    }
   },
   "outputs": [
    {
     "data": {
      "text/html": [
       "<div>\n",
       "<style scoped>\n",
       "    .dataframe tbody tr th:only-of-type {\n",
       "        vertical-align: middle;\n",
       "    }\n",
       "\n",
       "    .dataframe tbody tr th {\n",
       "        vertical-align: top;\n",
       "    }\n",
       "\n",
       "    .dataframe thead th {\n",
       "        text-align: right;\n",
       "    }\n",
       "</style>\n",
       "<table border=\"1\" class=\"dataframe\">\n",
       "  <thead>\n",
       "    <tr style=\"text-align: right;\">\n",
       "      <th></th>\n",
       "      <th>visitorId</th>\n",
       "      <th>transactionPath</th>\n",
       "      <th>newVisit</th>\n",
       "      <th>pageId</th>\n",
       "    </tr>\n",
       "  </thead>\n",
       "  <tbody>\n",
       "    <tr>\n",
       "      <th>0</th>\n",
       "      <td>000036b2-64a9-497b-9dc2-75f4dd5ee397</td>\n",
       "      <td>[https://www.onehippo.org/]</td>\n",
       "      <td>True</td>\n",
       "      <td>hst:pages/home</td>\n",
       "    </tr>\n",
       "  </tbody>\n",
       "</table>\n",
       "</div>"
      ],
      "text/plain": [
       "                              visitorId              transactionPath  \\\n",
       "0  000036b2-64a9-497b-9dc2-75f4dd5ee397  [https://www.onehippo.org/]   \n",
       "\n",
       "   newVisit          pageId  \n",
       "0      True  hst:pages/home  "
      ]
     },
     "execution_count": 20,
     "metadata": {},
     "output_type": "execute_result"
    }
   ],
   "source": [
    "fixed_transaction.head(1)"
   ]
  },
  {
   "cell_type": "markdown",
   "metadata": {},
   "source": [
    "# Get Keywords"
   ]
  },
  {
   "cell_type": "code",
   "execution_count": 21,
   "metadata": {
    "ExecuteTime": {
     "end_time": "2019-07-07T21:07:56.898869Z",
     "start_time": "2019-07-07T21:07:56.895696Z"
    }
   },
   "outputs": [],
   "source": [
    "def morphForms(word):\n",
    "    if word == 'cms':\n",
    "        return word\n",
    "    examined_word = wn.morphy(word)\n",
    "    if examined_word is None:\n",
    "        return word\n",
    "    else:\n",
    "        return examined_word\n",
    "    \n",
    "# Example: discouraged(word) discourage (returned function) or cats(word) returned cat"
   ]
  },
  {
   "cell_type": "code",
   "execution_count": 22,
   "metadata": {
    "ExecuteTime": {
     "end_time": "2019-07-07T21:07:57.401806Z",
     "start_time": "2019-07-07T21:07:57.388738Z"
    }
   },
   "outputs": [],
   "source": [
    "def get_keywords(d):\n",
    "    lemmatizer = WordNetLemmatizer()\n",
    "    sw = set(stopwords.words('english'))\n",
    "    badlinks=['search.yahoo','yandex', 'google']\n",
    "    dashed = []\n",
    "    dups = []\n",
    "    split_one = urlparse(d)\n",
    "    split_two = split_one._asdict()\n",
    "    for k,v in split_two.items():\n",
    "        if k == 'path':\n",
    "            # Basic:\n",
    "            value = v.replace(\".html\", \"\")\n",
    "            value = value.replace(\".xml\", \"\")\n",
    "            value = value.replace(\".php\", \"\")\n",
    "            # Advanced: \n",
    "            value = re.sub(\"[\\d+ % &]\", \" \", value) # removes numbers and replaces with empty space\n",
    "            value = re.sub(\"(?<=[' '])[.,-]|[.,-](?=[' '])\", \" \", value) # remove dashes when there is empty space infront or behind\n",
    "            value = re.sub('(?<=\\D)[.,_]|[.,_](?=\\D)', ' ', value) # removes dashes, dots, commas if there is a digit before/after\n",
    "            #value = re.sub('[^A-Za-z0-9]+', '', value) # removes all dots,dashed etc\n",
    "            value = value.replace(' ','-')\n",
    "            value = re.sub('\\s\\s+', ' ',value) # remove double empty spaces\n",
    "            #value = re.sub('\\s+', '',value) # remove empty spaces\n",
    "            value = value.split('/')\n",
    "            value = list(filter(None, value))\n",
    "            sw.add('en')\n",
    "            sw.add('nl')\n",
    "            sw.add('de')\n",
    "            sw.add('txt')\n",
    "            sw.add('oh')\n",
    "            sw.add('net')\n",
    "            sw.add('com')\n",
    "            sw.add('1')\n",
    "            sw.add('login')\n",
    "            sw.remove('about')\n",
    "            sw.remove('why')\n",
    "            sw.remove('in')\n",
    "            \n",
    "            # manually splitting words with _ and -\n",
    "            for a in value:\n",
    "                if '_' in a:\n",
    "                    b = a.replace('_','-')\n",
    "                    dashed.append(b.split('-'))\n",
    "                    dups.append(a)\n",
    "                if '-' in a:\n",
    "                    dashed.append(a.split('-'))\n",
    "                    dups.append(a)\n",
    "    \n",
    "            value = [x for x in value if x not in dups]\n",
    "            resultList=set(value)\n",
    "            value_dash = set(list(chain.from_iterable(dashed))) # merge and keep unique ones\n",
    "            resultList.update(value_dash)\n",
    "            resultList = [w for w in resultList if w not in sw]\n",
    "            resultList = [x.lower() for x in resultList]\n",
    "            resultList = [morphForms(word) for word in resultList]\n",
    "            resultList = list(filter(None, resultList)) # fastest\n",
    "            resultList = set(resultList)\n",
    "            '''\n",
    "            # new\n",
    "            final_list = []\n",
    "            for i in resultList:\n",
    "                word_tokens = nltk.word_tokenize(i) ###Tokenization\n",
    "                stemmed_words = [lemmatizer.lemmatize(w.lower()) for w in word_tokens if w.isalpha()] ###Stemming., removes some git, example line 7\n",
    "                final_list.append(stemmed_words)\n",
    "                \n",
    "            final_list =[item for sublist in final_list for item in sublist]\n",
    "            # new until here\n",
    "            '''\n",
    "            final_list = list(resultList)\n",
    "            #final_list =[item for sublist in resultList for item in sublist]\n",
    "            \n",
    "    return final_list\n",
    "    "
   ]
  },
  {
   "cell_type": "code",
   "execution_count": 23,
   "metadata": {
    "ExecuteTime": {
     "end_time": "2019-07-07T21:07:57.895047Z",
     "start_time": "2019-07-07T21:07:57.891294Z"
    }
   },
   "outputs": [],
   "source": [
    "def checkForList(listd):\n",
    "    tempList = []\n",
    "    if isinstance(listd,(list,)):\n",
    "        for i in listd:\n",
    "            tempList.append(get_keywords(i))\n",
    "    else:\n",
    "        return get_keywords(listd)\n",
    "    \n",
    "    flat_list = [item for sublist in tempList for item in sublist]\n",
    "    final_list = set(flat_list)\n",
    "    #final_list = list(final_list) # used the set for readability in the comparison\n",
    "    return final_list # we changed it for list for the comparison with Baseline approach\n"
   ]
  },
  {
   "cell_type": "code",
   "execution_count": 24,
   "metadata": {
    "ExecuteTime": {
     "end_time": "2019-07-07T21:07:58.415108Z",
     "start_time": "2019-07-07T21:07:58.412015Z"
    }
   },
   "outputs": [],
   "source": [
    "def get_content_page_and_keywords(data_frame):\n",
    "        data_frame['keywords'] = data_frame['transactionPath'].map(lambda x: checkForList(x))\n",
    "        data_frame['contentPage'] = data_frame.transactionPath.str[-1]\n",
    "        print(\"Step 5/7 - Keep content pages and get path keywords, done...\")\n",
    "        return data_frame"
   ]
  },
  {
   "cell_type": "code",
   "execution_count": 25,
   "metadata": {
    "ExecuteTime": {
     "end_time": "2019-07-07T21:08:01.679117Z",
     "start_time": "2019-07-07T21:07:58.929125Z"
    }
   },
   "outputs": [
    {
     "name": "stdout",
     "output_type": "stream",
     "text": [
      "Step 5/7 - Keep content pages and get path keywords, done...\n"
     ]
    }
   ],
   "source": [
    "keywords_df = get_content_page_and_keywords(fixed_transaction)"
   ]
  },
  {
   "cell_type": "code",
   "execution_count": 26,
   "metadata": {
    "ExecuteTime": {
     "end_time": "2019-07-07T21:08:02.293001Z",
     "start_time": "2019-07-07T21:08:02.284401Z"
    }
   },
   "outputs": [
    {
     "data": {
      "text/html": [
       "<div>\n",
       "<style scoped>\n",
       "    .dataframe tbody tr th:only-of-type {\n",
       "        vertical-align: middle;\n",
       "    }\n",
       "\n",
       "    .dataframe tbody tr th {\n",
       "        vertical-align: top;\n",
       "    }\n",
       "\n",
       "    .dataframe thead th {\n",
       "        text-align: right;\n",
       "    }\n",
       "</style>\n",
       "<table border=\"1\" class=\"dataframe\">\n",
       "  <thead>\n",
       "    <tr style=\"text-align: right;\">\n",
       "      <th></th>\n",
       "      <th>visitorId</th>\n",
       "      <th>transactionPath</th>\n",
       "      <th>newVisit</th>\n",
       "      <th>pageId</th>\n",
       "      <th>keywords</th>\n",
       "      <th>contentPage</th>\n",
       "    </tr>\n",
       "  </thead>\n",
       "  <tbody>\n",
       "    <tr>\n",
       "      <th>0</th>\n",
       "      <td>000036b2-64a9-497b-9dc2-75f4dd5ee397</td>\n",
       "      <td>[https://www.onehippo.org/]</td>\n",
       "      <td>True</td>\n",
       "      <td>hst:pages/home</td>\n",
       "      <td>{}</td>\n",
       "      <td>https://www.onehippo.org/</td>\n",
       "    </tr>\n",
       "  </tbody>\n",
       "</table>\n",
       "</div>"
      ],
      "text/plain": [
       "                              visitorId              transactionPath  \\\n",
       "0  000036b2-64a9-497b-9dc2-75f4dd5ee397  [https://www.onehippo.org/]   \n",
       "\n",
       "   newVisit          pageId keywords                contentPage  \n",
       "0      True  hst:pages/home       {}  https://www.onehippo.org/  "
      ]
     },
     "execution_count": 26,
     "metadata": {},
     "output_type": "execute_result"
    }
   ],
   "source": [
    "keywords_df.head(1)"
   ]
  },
  {
   "cell_type": "markdown",
   "metadata": {},
   "source": [
    "# Remove homepage"
   ]
  },
  {
   "cell_type": "code",
   "execution_count": 27,
   "metadata": {
    "ExecuteTime": {
     "end_time": "2019-07-07T21:08:02.894465Z",
     "start_time": "2019-07-07T21:08:02.890979Z"
    }
   },
   "outputs": [],
   "source": [
    "def remove_homepage(data_frame):\n",
    "        data_frame = data_frame.drop(\n",
    "            data_frame[(\n",
    "                        (data_frame.pageId == 'hst:pages/home') |\n",
    "                        (data_frame.pageId == 'hst:pages/pagenotfound')\n",
    "                       )\n",
    "                       &\n",
    "                       (data_frame.transactionPath.str.len() == 1)\n",
    "                       ].index).reset_index(drop=True)\n",
    "        print(\"Step 6/7 - Remove visitors that only visited the homepage, done...\")\n",
    "        return data_frame"
   ]
  },
  {
   "cell_type": "code",
   "execution_count": 28,
   "metadata": {
    "ExecuteTime": {
     "end_time": "2019-07-07T21:08:03.555363Z",
     "start_time": "2019-07-07T21:08:03.516481Z"
    }
   },
   "outputs": [
    {
     "name": "stdout",
     "output_type": "stream",
     "text": [
      "Step 6/7 - Remove visitors that only visited the homepage, done...\n"
     ]
    }
   ],
   "source": [
    "clean_homepage = remove_homepage(keywords_df)\n",
    "clean_homepage = clean_homepage[clean_homepage.astype(str)['keywords'] != '[]']"
   ]
  },
  {
   "cell_type": "code",
   "execution_count": 29,
   "metadata": {
    "ExecuteTime": {
     "end_time": "2019-07-07T21:08:04.259028Z",
     "start_time": "2019-07-07T21:08:04.250009Z"
    }
   },
   "outputs": [
    {
     "data": {
      "text/html": [
       "<div>\n",
       "<style scoped>\n",
       "    .dataframe tbody tr th:only-of-type {\n",
       "        vertical-align: middle;\n",
       "    }\n",
       "\n",
       "    .dataframe tbody tr th {\n",
       "        vertical-align: top;\n",
       "    }\n",
       "\n",
       "    .dataframe thead th {\n",
       "        text-align: right;\n",
       "    }\n",
       "</style>\n",
       "<table border=\"1\" class=\"dataframe\">\n",
       "  <thead>\n",
       "    <tr style=\"text-align: right;\">\n",
       "      <th></th>\n",
       "      <th>visitorId</th>\n",
       "      <th>transactionPath</th>\n",
       "      <th>newVisit</th>\n",
       "      <th>pageId</th>\n",
       "      <th>keywords</th>\n",
       "      <th>contentPage</th>\n",
       "    </tr>\n",
       "  </thead>\n",
       "  <tbody>\n",
       "    <tr>\n",
       "      <th>0</th>\n",
       "      <td>0017bf12-aece-4c5d-a0df-eb6e93e10030</td>\n",
       "      <td>[https://www.onehippo.com/de/warum-hippo-cms]</td>\n",
       "      <td>True</td>\n",
       "      <td>hst:pages/why-hippo-cms-default</td>\n",
       "      <td>{warum, hippo, cms}</td>\n",
       "      <td>https://www.onehippo.com/de/warum-hippo-cms</td>\n",
       "    </tr>\n",
       "  </tbody>\n",
       "</table>\n",
       "</div>"
      ],
      "text/plain": [
       "                              visitorId  \\\n",
       "0  0017bf12-aece-4c5d-a0df-eb6e93e10030   \n",
       "\n",
       "                                 transactionPath  newVisit  \\\n",
       "0  [https://www.onehippo.com/de/warum-hippo-cms]      True   \n",
       "\n",
       "                            pageId             keywords  \\\n",
       "0  hst:pages/why-hippo-cms-default  {warum, hippo, cms}   \n",
       "\n",
       "                                   contentPage  \n",
       "0  https://www.onehippo.com/de/warum-hippo-cms  "
      ]
     },
     "execution_count": 29,
     "metadata": {},
     "output_type": "execute_result"
    }
   ],
   "source": [
    "clean_homepage.head(1)"
   ]
  },
  {
   "cell_type": "markdown",
   "metadata": {
    "heading_collapsed": true
   },
   "source": [
    "# Making Data For NeuralNetwork and Scrapping"
   ]
  },
  {
   "cell_type": "code",
   "execution_count": null,
   "metadata": {
    "ExecuteTime": {
     "end_time": "2019-06-28T09:25:58.222312Z",
     "start_time": "2019-06-28T09:25:58.130717Z"
    },
    "hidden": true
   },
   "outputs": [],
   "source": [
    "# Saving the clean home page for Keywords evaluation\n",
    "clean_homepage.to_csv('Evaluation.csv')"
   ]
  },
  {
   "cell_type": "code",
   "execution_count": null,
   "metadata": {
    "ExecuteTime": {
     "end_time": "2019-06-20T09:16:33.317959Z",
     "start_time": "2019-06-20T09:16:33.307800Z"
    },
    "hidden": true
   },
   "outputs": [],
   "source": [
    "# Make for data Model\n",
    "keywords_list = clean_homepage[\"keywords\"].tolist()\n",
    "data_NN = []\n",
    "for i in keywords_list:\n",
    "    data_NN.append(' '.join(i))\n",
    "with open('data_NN.txt', 'w') as f:\n",
    "    for item in data_NN:\n",
    "        f.write(\"%s\\n\" % item)"
   ]
  },
  {
   "cell_type": "code",
   "execution_count": null,
   "metadata": {
    "ExecuteTime": {
     "end_time": "2019-06-20T09:08:50.750525Z",
     "start_time": "2019-06-20T09:08:50.743104Z"
    },
    "hidden": true
   },
   "outputs": [],
   "source": [
    "# Prepare links for Scrapping\n",
    "url_list = clean_homepage[\"contentPage\"].tolist()\n",
    "url_file = []\n",
    "\n",
    "for i in url_list:\n",
    "    url_file.append(i)\n",
    "    \n",
    "url_file = set(url_file) # Cleaning duplicates\n",
    "url_file = list(url_file)\n",
    "\n",
    "with open('url_file.txt', 'w') as f:\n",
    "    for item in url_file:\n",
    "        f.write(\"%s\\n\" % item)"
   ]
  }
 ],
 "metadata": {
  "kernelspec": {
   "display_name": "Python 3",
   "language": "python",
   "name": "python3"
  },
  "language_info": {
   "codemirror_mode": {
    "name": "ipython",
    "version": 3
   },
   "file_extension": ".py",
   "mimetype": "text/x-python",
   "name": "python",
   "nbconvert_exporter": "python",
   "pygments_lexer": "ipython3",
   "version": "3.7.3"
  },
  "toc": {
   "base_numbering": 1,
   "nav_menu": {},
   "number_sections": true,
   "sideBar": true,
   "skip_h1_title": false,
   "title_cell": "Table of Contents",
   "title_sidebar": "Contents",
   "toc_cell": false,
   "toc_position": {},
   "toc_section_display": true,
   "toc_window_display": false
  },
  "varInspector": {
   "cols": {
    "lenName": 16,
    "lenType": 16,
    "lenVar": 40
   },
   "kernels_config": {
    "python": {
     "delete_cmd_postfix": "",
     "delete_cmd_prefix": "del ",
     "library": "var_list.py",
     "varRefreshCmd": "print(var_dic_list())"
    },
    "r": {
     "delete_cmd_postfix": ") ",
     "delete_cmd_prefix": "rm(",
     "library": "var_list.r",
     "varRefreshCmd": "cat(var_dic_list()) "
    }
   },
   "types_to_exclude": [
    "module",
    "function",
    "builtin_function_or_method",
    "instance",
    "_Feature"
   ],
   "window_display": false
  }
 },
 "nbformat": 4,
 "nbformat_minor": 2
}
